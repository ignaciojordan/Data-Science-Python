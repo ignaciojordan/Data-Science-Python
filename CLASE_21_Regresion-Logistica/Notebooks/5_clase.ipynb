{
 "cells": [
  {
   "cell_type": "code",
   "execution_count": null,
   "metadata": {},
   "outputs": [],
   "source": [
    "# initial setup\n",
    "try:\n",
    "    # settings colab:\n",
    "    import google.colab\n",
    "    \n",
    "except ModuleNotFoundError:    \n",
    "    # settings local:\n",
    "    %run \"../../../common/0_notebooks_base_setup.py\""
   ]
  },
  {
   "cell_type": "markdown",
   "metadata": {},
   "source": [
    "<img src=\"../../../common/logo_DH.svg\" align='left' width=50%/>"
   ]
  },
  {
   "cell_type": "markdown",
   "metadata": {},
   "source": [
    "# Regresión Logística - Práctica Independiente\n",
    "## Tabla de Contenidos\n",
    "\n",
    "- [1. Introducción](#intro)\n",
    "- [2. Predicción de enfermedades cardíacas](#pred)\n",
    "    - [2.1. Descripción del dataset](#descripcion)\n",
    "    - [2.2. EDA - Exploratory data analysis](#eda)\n",
    "    - [2.3. Clasificación de pacientes](#clf)\n",
    "        - [2.3.1. Preparación de los datos](#prep)\n",
    "        - [2.3.2. Ajuste del modelo](#fit)\n",
    "        - [2.3.3. Evaluación del modelo](#eval)\n",
    "        - [2.3.4. Optimización del modelo](#opt)       \n"
   ]
  },
  {
   "cell_type": "markdown",
   "metadata": {},
   "source": [
    "<a id=\"intro\"></a>\n",
    "## Introducción\n",
    "En 1948 en Framingham, un pequeño pueblo en Massachusetts, Estados Unidos, comenzó uno de los estudios médicos más famosos de la historia y que aun continua vigente. El estudio, conocido también como Framingham Heart Study, consistió en la participación voluntaria de 3 generaciones de habitantes del pueblo, quienes fueron sometidos a estudios médicos regulares cada 3 a 5 años, generando un gran volumen de datos sobre la salud mental y física, especialmente de enfermedades cardiovasculares de todos los involucrados.<br>\n",
    "Los aportes de este estudio son numerosos, entre los cuales se destacan las relaciones entre el riesgo de tener una enfermedad cardíaca con varios aspectos de la vida cotidiana y del estado de salud general de las personas, tales como la presión sanguínea, los niveles de colesterol, el consumo de cigarrillos y factores psico-sociales. El término \"factor de riesgo\" fue acuñado como parte de los hallazgos de este estudio. \n",
    "Para más información sobre el estudio se puede ingresar a su sitio web https://framinghamheartstudy.org/.\n",
    "El dataset puede ser descargado de https://www.kaggle.com/amanajmera1/framingham-heart-study-dataset\n",
    "\n",
    "<a id=\"pred\"></a>\n",
    "## Predicción de enfermedades cardíacas\n",
    "En esta práctica trabajaremos con un extracto del dataset resultante del estudio, en el que se cuenta con información médica de varios participantes, entre la que se encuentra el riesgo de que esa persona tenga una enfermedad coronaria durante los próximos 10 años. Nos propondremos entrenar un regresor logístico que permita clasificar y identificar los pacientes en riesgo de tener este tipo de enfermedad basándonos en sus datos clínicos.\n",
    "\n",
    "<a id=\"descripcion\"></a>\n",
    "### Descripción del dataset\n",
    "El dataset cuenta con las siguientes variables:\n",
    "- age: Edad.\n",
    "- male: Género.\n",
    "- education: 1 = Some High School; 2 = High School or GED; 3 = Some College or Vocational School; 4 = college\n",
    "- currentSmoker: Si la persona fuma o no\n",
    "- cigsPerDay: la cantidad de cigarrillos que la persona fuma por día en promedio.\n",
    "- BPMeds: si la persona consume medicación para la presión sanguínea.\n",
    "- prevalentStroke: Si la persona tuvo un infarto anteriormente.\n",
    "- prevalentHyp: si la persona tiene hipertensión.\n",
    "- diabetes: si la persona tuvo diabetes.\n",
    "- totChol: nivel de colesterol total.\n",
    "- sysBP: presión sanguínea sistólica.\n",
    "- diaBP:: presión sanguínea diastólica.\n",
    "- BMI: índice de masa corporal.\n",
    "- heartRate: frecuencia cardíaca.\n",
    "- glucose: nivel de glucosa en sangre.\n",
    "- TenYearCHD: si la persona está en riesgo de tener una enfermedad coronaria dentro de los próximos 10 años.\n",
    "\n",
    "Para obtener más información sobre las variables, buscar en https://www.kaggle.com/amanajmera1/framingham-heart-study-dataset\n",
    "\n",
    "<a id=\"eda\"></a>\n",
    "### EDA - Exploratory data analysis\n",
    "Importar el dataset y realizar un análisis exploratorio del mismo. \n",
    "- ¿Cuántos registros hay?\n",
    "- ¿Qué tipo de variable es cada una?\n",
    "- ¿Hay valores faltantes?\n",
    "- ¿Hay valores fuera del rango esperado?\n",
    "- ¿En qué tipo de dato están almacenados?\n",
    "- ¿Todas las variables son médicas o hay otra información en el dataset?\n",
    "- ¿Hay correlación entre las variables?\n",
    "- ¿En qué rango está cada una?\n",
    "- Cómo son las proporciones de las variables categóricas?\n",
    "\n",
    "Realizar las visualizaciones adecuadas para responder estas preguntas"
   ]
  },
  {
   "cell_type": "code",
   "execution_count": null,
   "metadata": {},
   "outputs": [],
   "source": [
    "import pandas as pd\n",
    "import numpy as np"
   ]
  },
  {
   "cell_type": "code",
   "execution_count": null,
   "metadata": {},
   "outputs": [],
   "source": [
    "df = pd.read_csv('../Data/framingham.csv')\n",
    "df.head()"
   ]
  },
  {
   "cell_type": "code",
   "execution_count": null,
   "metadata": {},
   "outputs": [],
   "source": []
  },
  {
   "cell_type": "code",
   "execution_count": null,
   "metadata": {},
   "outputs": [],
   "source": []
  },
  {
   "cell_type": "markdown",
   "metadata": {},
   "source": [
    "<a id=\"clf\"></a>\n",
    "### Clasificación de pacientes\n",
    "Ahora utilizaremos una regresión logística como clasificador de personas y el objetivo será etiquetar a aquellas que tengan riesgo de padecer una enfermedad coronaria en los próximos 10 años.\n",
    "<a id=\"prep\"></a>\n",
    "#### Preparación de los datos\n",
    "¿Qué debemos hacer con el dataset antes de entrenar el modelo?"
   ]
  },
  {
   "cell_type": "code",
   "execution_count": null,
   "metadata": {},
   "outputs": [],
   "source": []
  },
  {
   "cell_type": "code",
   "execution_count": null,
   "metadata": {},
   "outputs": [],
   "source": []
  },
  {
   "cell_type": "markdown",
   "metadata": {},
   "source": [
    "<a id=\"fit\"></a>\n",
    "#### Ajuste del modelo"
   ]
  },
  {
   "cell_type": "code",
   "execution_count": null,
   "metadata": {},
   "outputs": [],
   "source": []
  },
  {
   "cell_type": "markdown",
   "metadata": {},
   "source": [
    "<a id=\"eval\"></a>\n",
    "#### Evaluación del modelo\n",
    "Con el modelo entrenado podemos comenzar a evaluar su performance y ver si podemos hacer algo para mejorarlo"
   ]
  },
  {
   "cell_type": "code",
   "execution_count": null,
   "metadata": {},
   "outputs": [],
   "source": []
  },
  {
   "cell_type": "code",
   "execution_count": null,
   "metadata": {},
   "outputs": [],
   "source": []
  },
  {
   "cell_type": "markdown",
   "metadata": {},
   "source": [
    "<a id=\"opt\"></a>\n",
    "#### Optimización del modelo"
   ]
  },
  {
   "cell_type": "code",
   "execution_count": null,
   "metadata": {},
   "outputs": [],
   "source": []
  },
  {
   "cell_type": "code",
   "execution_count": null,
   "metadata": {},
   "outputs": [],
   "source": []
  },
  {
   "cell_type": "code",
   "execution_count": null,
   "metadata": {},
   "outputs": [],
   "source": []
  }
 ],
 "metadata": {
  "kernelspec": {
   "display_name": "Python 3",
   "language": "python",
   "name": "python3"
  },
  "language_info": {
   "codemirror_mode": {
    "name": "ipython",
    "version": 3
   },
   "file_extension": ".py",
   "mimetype": "text/x-python",
   "name": "python",
   "nbconvert_exporter": "python",
   "pygments_lexer": "ipython3",
   "version": "3.6.10"
  }
 },
 "nbformat": 4,
 "nbformat_minor": 4
}

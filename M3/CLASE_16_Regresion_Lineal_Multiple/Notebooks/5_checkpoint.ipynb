{
 "cells": [
  {
   "cell_type": "code",
   "execution_count": null,
   "metadata": {},
   "outputs": [],
   "source": [
    "# initial setup\n",
    "try:\n",
    "    # settings colab:\n",
    "    import google.colab\n",
    "    \n",
    "    ! mkdir -p ../Data\n",
    "    # los que usan colab deben modificar el token de esta url:\n",
    "    ! wget -O ../Data/bikes.csv https://raw.githubusercontent.com/Digital-House-DATA/ds_blend_students_2020/master/M3/CLASE_16_Regresion_Lineal_Multiple/Data/bikes.csv?token=AA4GFHIG665I3BPVQCFY3US63APZM    \n",
    "    \n",
    "except ModuleNotFoundError:    \n",
    "    # settings local:\n",
    "    %run \"../../../common/0_notebooks_base_setup.py\""
   ]
  },
  {
   "cell_type": "markdown",
   "metadata": {},
   "source": [
    "[<img src=\"https://www.digitalhouse.com/ar/logo-DH.png\" width=\"400\" height=\"200\" align='right'>](http://digitalhouse.com.ar/)"
   ]
  },
  {
   "cell_type": "markdown",
   "metadata": {
    "colab_type": "text",
    "id": "HXCJlrSOyhgz"
   },
   "source": [
    "# CHEKPOINT - Regresión lineal"
   ]
  },
  {
   "cell_type": "markdown",
   "metadata": {
    "colab_type": "text",
    "id": "hMyNQNI6yhg3"
   },
   "source": [
    "Vamos a trabajar con un conjunto de datos sobre alquileres de bicicletas que fue utilizado en un concurso de Kaggle. Se proporcionan datos de alquiler por hora que abarcan dos años. \n",
    "\n",
    "**_Queremos predecir el número total de bicicletas alquiladas utilizando sólo la información disponible en el set de entrenamiento._**\n"
   ]
  },
  {
   "cell_type": "markdown",
   "metadata": {
    "colab_type": "text",
    "id": "YU2jeNdxyhg4"
   },
   "source": [
    "**CAMPOS DEL DATASET**\n",
    "\n",
    "- **datetime** - dia y hora - timestamp\n",
    "- **season** -  1 = primavera, 2 = verano, 3 = otoño, 4 = invierno\n",
    "- **holiday** - feriado\n",
    "- **workingday** - si es dia laborable (1) o fin de semana (0)\n",
    "- **weather** - \n",
    "      1: Clear, Few clouds\n",
    "      2: Mist + Cloudy, Mist + Broken clouds, Mist + Few clouds, Mist\n",
    "      3: Light Snow, Light Rain + Thunderstorm + Scattered clouds,Light Rain + Scattered clouds\n",
    "      4: Heavy Rain + Ice Pallets + Thunderstorm + Mist, Snow + Fog \n",
    "\n",
    "- **temp** - temperatura en Celsius\n",
    "- **atemp** - sensación térmica\n",
    "- **humidity** - humedad\n",
    "- **windspeed** - velocidad del viento\n",
    "- **casual** - ususarios no-registrados (number of non-registered user rentals initiated)\n",
    "- **registered** - ususarios registrados (number of registered user rentals initiated)\n",
    "- **count** - total de alquileres\n"
   ]
  },
  {
   "cell_type": "markdown",
   "metadata": {},
   "source": [
    "Notemos que este dataset contiene variables contínuas y categóricas, veremos más adelante como trabajar con ambos tipos. Así mismo, observamos que existen variables que por su composición no pueden utilizarse para predecir el resultado. Este es el caso de los datos bajo las columnas 'casual' y 'registered' que entre ambas suman el resultado a predecir. "
   ]
  },
  {
   "cell_type": "code",
   "execution_count": null,
   "metadata": {
    "colab": {
     "base_uri": "https://localhost:8080/",
     "height": 880
    },
    "colab_type": "code",
    "executionInfo": {
     "elapsed": 855,
     "status": "error",
     "timestamp": 1546527663689,
     "user": {
      "displayName": "Martín Ríos",
      "photoUrl": "",
      "userId": "02594387867327172413"
     },
     "user_tz": 180
    },
    "id": "3Ad7aOLNyhg6",
    "outputId": "b34ab32d-d009-40f8-f9d3-3ee439dd438a"
   },
   "outputs": [],
   "source": [
    "# Importar libreria de pandas \n",
    "# Leer los datos de bikes.csv y setear datetime como índice. \n",
    "\n"
   ]
  },
  {
   "cell_type": "code",
   "execution_count": null,
   "metadata": {},
   "outputs": [],
   "source": [
    "# Observar las dimensiones del dataframe\n"
   ]
  },
  {
   "cell_type": "code",
   "execution_count": null,
   "metadata": {
    "colab": {
     "base_uri": "https://localhost:8080/",
     "height": 388
    },
    "colab_type": "code",
    "executionInfo": {
     "elapsed": 673,
     "status": "ok",
     "timestamp": 1544741915197,
     "user": {
      "displayName": "Martín Ríos",
      "photoUrl": "",
      "userId": "02594387867327172413"
     },
     "user_tz": 180
    },
    "id": "9yi-zsSgyhhB",
    "outputId": "aa916a88-7c0a-4d24-f76a-698dfcd3e991"
   },
   "outputs": [],
   "source": [
    "# Tomar una muestra de 10 observaciones (usar el método sample)\n"
   ]
  },
  {
   "cell_type": "code",
   "execution_count": null,
   "metadata": {
    "colab": {},
    "colab_type": "code",
    "id": "RkJbTjDiyhhI"
   },
   "outputs": [],
   "source": [
    "# Dado que \"count\" es un método de pandas, cambiar el nombre de la columna \"count\" y renombrarla por \"total\":\n",
    "\n"
   ]
  },
  {
   "cell_type": "markdown",
   "metadata": {
    "colab_type": "text",
    "id": "YQz-jyoYeg6J"
   },
   "source": [
    "# Regresión Lineal"
   ]
  },
  {
   "cell_type": "markdown",
   "metadata": {
    "colab_type": "text",
    "id": "K16mwRdxyhhe"
   },
   "source": [
    "Construir un modelo en **[Scikit-Learn](https://scikit-learn.org/stable/)** lleva 5 pasos.\n",
    "\n",
    "1.   Preparar los datos en una **matriz de features y un array target**.\n",
    "\n",
    "2.   Elegir una clase de modelo importando la **clase de estimador** apropiado de Scikit-Learn.\n",
    "\n",
    "3.   Seleccionar los **hiperparámetros** del modelo **instanciando** la clase con los valores deseados\n",
    "\n",
    "4.   Ajustar el modelo a los datos invocando el método **fit()** de la instancia del modelo.\n",
    "\n",
    "5.   Aplicar el modelo a **nuevos datos**:\n",
    "\n",
    "\n",
    "Empezamos por una regresión lineal simple!"
   ]
  },
  {
   "cell_type": "markdown",
   "metadata": {},
   "source": [
    "## Regresión Lineal Simple"
   ]
  },
  {
   "cell_type": "markdown",
   "metadata": {},
   "source": [
    "La regresión Lineal Simple es cuando utilizamos una unica variable para predecir la variable target. En nuestro ejemplo vamos a elegir trabajar con la Temperatura como variable predictora."
   ]
  },
  {
   "cell_type": "code",
   "execution_count": null,
   "metadata": {
    "colab": {},
    "colab_type": "code",
    "id": "uhwbxhi_yhhO"
   },
   "outputs": [],
   "source": [
    "import seaborn as sns\n",
    "import matplotlib.pyplot as plt\n",
    "%matplotlib inline\n",
    "\n",
    "# Definimos parámetros globales para matplotlib.\n",
    "plt.rcParams['figure.figsize'] = (5, 5)\n",
    "plt.rcParams['font.size'] = 11"
   ]
  },
  {
   "cell_type": "code",
   "execution_count": null,
   "metadata": {
    "colab": {
     "base_uri": "https://localhost:8080/",
     "height": 388
    },
    "colab_type": "code",
    "executionInfo": {
     "elapsed": 1474,
     "status": "ok",
     "timestamp": 1544742130895,
     "user": {
      "displayName": "Martín Ríos",
      "photoUrl": "",
      "userId": "02594387867327172413"
     },
     "user_tz": 180
    },
    "id": "PsRqUatOyhhT",
    "outputId": "ee820482-0fc2-4a62-d59d-92fa52665616",
    "scrolled": true
   },
   "outputs": [],
   "source": [
    "# Realizar un scatterplot con 'temp' sobre el 'eje x' y 'total' sobre el 'eje y'\n"
   ]
  },
  {
   "cell_type": "code",
   "execution_count": null,
   "metadata": {
    "colab": {},
    "colab_type": "code",
    "id": "i_RyTquYyhhf"
   },
   "outputs": [],
   "source": [
    "# En adelante usaremos un Array 'features_cols' para almacenar los features que usaremos para entrenar el modelo.\n",
    "feature_cols = []"
   ]
  },
  {
   "cell_type": "code",
   "execution_count": null,
   "metadata": {},
   "outputs": [],
   "source": [
    "# instanciar a feature_cols con 'temp' como único argumento\n",
    "# A continuación crear el arrays de variables independientes X utilizando feature_cols como mascara de nuestro dataframe\n",
    "# y finalmente generar el array de la variable dependiente y utilizando la columna 'total'\n",
    "\n"
   ]
  },
  {
   "cell_type": "code",
   "execution_count": null,
   "metadata": {
    "colab": {},
    "colab_type": "code",
    "id": "6mAq_hhhyhhl"
   },
   "outputs": [],
   "source": [
    "# Importamos paquete, instanciamos el estimador \n",
    "from sklearn.linear_model import LinearRegression"
   ]
  },
  {
   "cell_type": "code",
   "execution_count": null,
   "metadata": {
    "colab": {},
    "colab_type": "code",
    "id": "7CRNqyPIlhYd"
   },
   "outputs": [],
   "source": [
    "# Instanciar el modelo\n"
   ]
  },
  {
   "cell_type": "code",
   "execution_count": null,
   "metadata": {
    "colab": {
     "base_uri": "https://localhost:8080/",
     "height": 51
    },
    "colab_type": "code",
    "executionInfo": {
     "elapsed": 871,
     "status": "ok",
     "timestamp": 1544742728605,
     "user": {
      "displayName": "Martín Ríos",
      "photoUrl": "",
      "userId": "02594387867327172413"
     },
     "user_tz": 180
    },
    "id": "K2lVeFnAlmtP",
    "outputId": "1a4e04a7-3e11-4f23-d293-bc1032700679"
   },
   "outputs": [],
   "source": [
    "# Entrenar el modelo con todo el dataset (no usaremos train-test-split en esta oportunidad)\n"
   ]
  },
  {
   "cell_type": "code",
   "execution_count": null,
   "metadata": {
    "colab": {
     "base_uri": "https://localhost:8080/",
     "height": 51
    },
    "colab_type": "code",
    "executionInfo": {
     "elapsed": 686,
     "status": "ok",
     "timestamp": 1544742777669,
     "user": {
      "displayName": "Martín Ríos",
      "photoUrl": "",
      "userId": "02594387867327172413"
     },
     "user_tz": 180
    },
    "id": "qtH3X0sGyhhs",
    "outputId": "60037d91-4299-4e60-bd82-f9258c7eed4d",
    "scrolled": true
   },
   "outputs": [],
   "source": [
    "# Imprimir los coeficientes y el intercept del modelo entrenado\n",
    "\n"
   ]
  },
  {
   "cell_type": "markdown",
   "metadata": {
    "colab_type": "text",
    "id": "iTNLPm2Myhhx"
   },
   "source": [
    "Interpretación del  **intercepto ** ($\\beta_0$):\n",
    "\n",
    "- Es el valor esperado de $ y $ cuando $ x $ = 0.\n",
    "\n",
    "Interpretación del coeficiente de ** \"temp\" ** ($\\beta_1$):\n",
    "\n",
    "- Es el cambio en $ y $ dividido por cambio en $ x $, o la \"pendiente\".\n",
    "- Así, un aumento de la temperatura de 1 grado Celsius está ** asociado con ** un aumento de alquiler de 9.17 bicicletas.\n",
    " $ \\beta_1 $ sería **negativo** si un aumento en la temperatura se asociara con una **disminución** en los alquileres."
   ]
  },
  {
   "cell_type": "markdown",
   "metadata": {
    "colab_type": "text",
    "id": "RwdT0Ncfyhhy"
   },
   "source": [
    "### Usando el modelo para predecir\n",
    "\n",
    "¿Cuántos alquileres de bicicletas podríamos predecir si la temperatura era de 25 grados Celsius?"
   ]
  },
  {
   "cell_type": "code",
   "execution_count": null,
   "metadata": {
    "colab": {
     "base_uri": "https://localhost:8080/",
     "height": 34
    },
    "colab_type": "code",
    "executionInfo": {
     "elapsed": 673,
     "status": "ok",
     "timestamp": 1544742837311,
     "user": {
      "displayName": "Martín Ríos",
      "photoUrl": "",
      "userId": "02594387867327172413"
     },
     "user_tz": 180
    },
    "id": "pMSKHt-tyhhz",
    "outputId": "73fdca7f-6318-4f39-f34a-5208bf1d9910"
   },
   "outputs": [],
   "source": [
    "# calcular total de bicis alquiladas utilizando la formula de la recta con los paramétros calculados anteriormente\n",
    "# y = b0 + b1*x \n"
   ]
  },
  {
   "cell_type": "code",
   "execution_count": null,
   "metadata": {
    "colab": {
     "base_uri": "https://localhost:8080/",
     "height": 34
    },
    "colab_type": "code",
    "executionInfo": {
     "elapsed": 699,
     "status": "ok",
     "timestamp": 1544742906820,
     "user": {
      "displayName": "Martín Ríos",
      "photoUrl": "",
      "userId": "02594387867327172413"
     },
     "user_tz": 180
    },
    "id": "9U_vpeIlyhh3",
    "outputId": "01bf5d9e-d298-478c-c717-33881dfdc08c"
   },
   "outputs": [],
   "source": [
    "# Realizar el mismo calculo pero realizando la prediccion con el modelo que entrenamos.\n",
    "# nota: deberán convertir la temperatura de entero a un np.array ya que el modelo trabaja con np.arrays \n",
    "#(importar numpy)\n",
    "\n"
   ]
  },
  {
   "cell_type": "markdown",
   "metadata": {
    "colab_type": "text",
    "id": "ypjlObSwyhiy"
   },
   "source": [
    "## Regresión Lineal Multiple"
   ]
  },
  {
   "cell_type": "code",
   "execution_count": null,
   "metadata": {
    "colab": {},
    "colab_type": "code",
    "id": "v3-9gatZyhiz"
   },
   "outputs": [],
   "source": [
    "# Exploramos más features\n",
    "feature_cols = ['temp', 'weather', 'humidity']"
   ]
  },
  {
   "cell_type": "code",
   "execution_count": null,
   "metadata": {
    "colab": {
     "base_uri": "https://localhost:8080/",
     "height": 439
    },
    "colab_type": "code",
    "executionInfo": {
     "elapsed": 667,
     "status": "ok",
     "timestamp": 1544744109792,
     "user": {
      "displayName": "Martín Ríos",
      "photoUrl": "",
      "userId": "02594387867327172413"
     },
     "user_tz": 180
    },
    "id": "JMVkM0O7yhjP",
    "outputId": "779e8264-0b45-4b7c-d7f6-55020f764ee8"
   },
   "outputs": [],
   "source": [
    "# matriz de correlación (rangos de 1 a -1)\n",
    "bikes[feature_cols].corr()"
   ]
  },
  {
   "cell_type": "code",
   "execution_count": null,
   "metadata": {
    "colab": {
     "base_uri": "https://localhost:8080/",
     "height": 431
    },
    "colab_type": "code",
    "executionInfo": {
     "elapsed": 1026,
     "status": "ok",
     "timestamp": 1544744155230,
     "user": {
      "displayName": "Martín Ríos",
      "photoUrl": "",
      "userId": "02594387867327172413"
     },
     "user_tz": 180
    },
    "id": "kpUVPnpfyhjU",
    "outputId": "4f617fa1-b672-4237-a6c2-e9a15c6269c7"
   },
   "outputs": [],
   "source": [
    "# visualizamos la matriz de correlación en Seaborn usando a heatmap\n",
    "sns.heatmap(bikes[feature_cols].corr(), vmin=-1, vmax=1, center=0, cmap=\"YlGnBu\");"
   ]
  },
  {
   "cell_type": "code",
   "execution_count": null,
   "metadata": {
    "colab": {
     "base_uri": "https://localhost:8080/",
     "height": 51
    },
    "colab_type": "code",
    "executionInfo": {
     "elapsed": 733,
     "status": "ok",
     "timestamp": 1544744629939,
     "user": {
      "displayName": "Martín Ríos",
      "photoUrl": "",
      "userId": "02594387867327172413"
     },
     "user_tz": 180
    },
    "id": "jwDet1i2yhjh",
    "outputId": "2302fd3c-763b-4663-8615-d8212311ccde"
   },
   "outputs": [],
   "source": [
    "# Al igual que lo hicimos para regresion lineal simple, crear nuevamente X (utilizando el nuevo feature_cols) e y \n",
    "# Luego instanciar el modelo y entrenarlo (nuevamente sin utlizar train-test-split).\n",
    "# nota: instanciar el modelo bajo el nombre: 'linreg'\n",
    "# Finalmente imprimir los coeficientes del nuevo modelo.\n",
    "\n",
    "\n",
    "\n",
    "#instanciamos y entrenamos el modelo\n",
    "\n",
    "\n",
    "# Imprimimos coeficientes\n"
   ]
  },
  {
   "cell_type": "code",
   "execution_count": null,
   "metadata": {
    "colab": {
     "base_uri": "https://localhost:8080/",
     "height": 34
    },
    "colab_type": "code",
    "executionInfo": {
     "elapsed": 726,
     "status": "ok",
     "timestamp": 1544744641286,
     "user": {
      "displayName": "Martín Ríos",
      "photoUrl": "",
      "userId": "02594387867327172413"
     },
     "user_tz": 180
    },
    "id": "QKsc7Jrgyhjm",
    "outputId": "1c719070-1e6d-463c-ffa4-a22cf4d4a985"
   },
   "outputs": [],
   "source": [
    "## Para observarlo mejor miramos el nombre con el coeficiente \n",
    "list(zip(feature_cols, linreg.coef_))"
   ]
  },
  {
   "cell_type": "markdown",
   "metadata": {
    "colab_type": "text",
    "id": "Q1az185vfeLs"
   },
   "source": [
    "## Eligiendo entre modelos"
   ]
  },
  {
   "cell_type": "markdown",
   "metadata": {
    "colab_type": "text",
    "id": "eYoPJM5jyhjw"
   },
   "source": [
    "### Métricas de evaluación para problemas de regresión\n",
    "\n",
    " Hay tres métricas de evaluación comunes para problemas de regresión:\n",
    "\n",
    "** El error absoluto medio ** (MAE) es la media del valor absoluto de los errores:\n",
    "\n",
    "$$ \\frac 1n\\sum_ {i = 1}^n |y_i-\\hat{y}_i| $$\n",
    "\n",
    "** Mean Squared Error ** (MSE) es la media de los errores al cuadrado:\n",
    "\n",
    "$$ \\frac 1n\\sum_ {i = 1}^n(y_i- \\hat{y}_i)^2 $$\n",
    "\n",
    "** Error cuadrático medio raíz ** (RMSE) es la raíz cuadrada de la media de los errores al cuadrado:\n",
    "\n",
    "$$ \\sqrt{\\frac 1n\\sum_{i = 1}^n(y_i- \\hat{y}_i)^2} $$\n",
    "\n",
    "todas estas son **funciones de pérdida**, porque queremos minimizarlas."
   ]
  },
  {
   "cell_type": "code",
   "execution_count": null,
   "metadata": {
    "colab": {},
    "colab_type": "code",
    "id": "Ia_7UTrpyhjy"
   },
   "outputs": [],
   "source": [
    "# Ejemplo de valores de respuesta verdaderos y predichos\n",
    "true = [10, 7, 5, 5, 10, 8, 8, 15, 12]\n",
    "pred = [12, 8, 3, 4, 12, 9, 8, 12, 13]"
   ]
  },
  {
   "cell_type": "code",
   "execution_count": null,
   "metadata": {
    "colab": {
     "base_uri": "https://localhost:8080/",
     "height": 86
    },
    "colab_type": "code",
    "executionInfo": {
     "elapsed": 453,
     "status": "ok",
     "timestamp": 1544745377226,
     "user": {
      "displayName": "Martín Ríos",
      "photoUrl": "",
      "userId": "02594387867327172413"
     },
     "user_tz": 180
    },
    "id": "xnrLEiYVyhj5",
    "outputId": "f9ff04c7-03fd-4f2f-a5f4-0da47e388bbd"
   },
   "outputs": [],
   "source": [
    "# ¿Calculamos métricas a mano? ¡Por supuesto que no!\n",
    "from sklearn import metrics\n",
    "import numpy as np\n",
    "print ('MAE:', metrics.mean_absolute_error(true, pred))\n",
    "print ('MSE:', metrics.mean_squared_error(true, pred))\n",
    "print ('RMSE:', np.sqrt(metrics.mean_squared_error(true, pred)))\n",
    "print ('R2:', metrics.r2_score(true, pred))"
   ]
  },
  {
   "cell_type": "markdown",
   "metadata": {
    "colab_type": "text",
    "id": "rZbldiYLyhkZ"
   },
   "source": [
    "## Comparando modelos usando sets de entrenamiento/test y RMSE"
   ]
  },
  {
   "cell_type": "code",
   "execution_count": null,
   "metadata": {},
   "outputs": [],
   "source": [
    "# Definir una función y llamarla 'train_test_error' que acepte como parámetro una lista de features (feature_cols), \n",
    "# que genere la matriz de variables independentes 'X' y el array de la variable target 'y' \n",
    "# que luego haga el split entre train y test reservando un 25% de las observaciones para testeo, \n",
    "# y finalmente imprima los errores MAE, MSE, RMSE y R2\n",
    "\n"
   ]
  },
  {
   "cell_type": "code",
   "execution_count": null,
   "metadata": {
    "colab": {
     "base_uri": "https://localhost:8080/",
     "height": 51
    },
    "colab_type": "code",
    "executionInfo": {
     "elapsed": 694,
     "status": "ok",
     "timestamp": 1544745383644,
     "user": {
      "displayName": "Martín Ríos",
      "photoUrl": "",
      "userId": "02594387867327172413"
     },
     "user_tz": 180
    },
    "id": "eVGwLXmRyhkd",
    "outputId": "85fc1cfa-0784-454f-fc30-d945dbdb859b"
   },
   "outputs": [],
   "source": [
    "# utilizando la función 'train_test_error' recien creada, comparamos diferentes ensambles de features.\n",
    "# probar primero con feature_cols = ['temp', 'humidity']\n",
    "# y luego con feature_cols = ['temp', 'humidity','windspeed']\n",
    "# Qué observaciones pueden hacer sobre los resultados?\n",
    "\n"
   ]
  },
  {
   "cell_type": "markdown",
   "metadata": {
    "colab_type": "text",
    "id": "jhRuwVbUfz8D"
   },
   "source": [
    "# Creando Features"
   ]
  },
  {
   "cell_type": "markdown",
   "metadata": {
    "colab_type": "text",
    "id": "x39GMh44yhk8"
   },
   "source": [
    "## Manejo de variables categóricas\n",
    "\n",
    "Scikit-learn espera que todos los features sean numéricos. Entonces, ¿cómo incluimos una característica categórica en nuestro modelo?\n",
    "\n",
    "- ** Categorías ordenadas: ** transformarlas en valores numéricos que representan ese orden \n",
    "- ** Categorías no ordenadas: ** utilizar codificación ficticia (0/1) (Variables-dummy)\n",
    "\n",
    "¿Cuáles son las características categóricas de nuestro conjunto de datos?\n",
    "\n",
    "- ** Categorías ordenadas: ** weather (ya codificado con valores numéricos que representan el orden)\n",
    "- ** Categorías no ordenadas: ** season (necesita variables dummy), holiday (Ya está codificada como dummy), workingday (ya está codificada como dummy)\n",
    "\n",
    "Para la estación, no podemos simplemente dejar la codificación como 1 = primavera, 2 = verano, 3 = otoño y 4 = invierno, porque eso implicaría una ** relación ordenada **. En cambio, creamos ** variables dummies: **"
   ]
  },
  {
   "cell_type": "code",
   "execution_count": null,
   "metadata": {
    "colab": {
     "base_uri": "https://localhost:8080/",
     "height": 234
    },
    "colab_type": "code",
    "executionInfo": {
     "elapsed": 925,
     "status": "ok",
     "timestamp": 1544745737322,
     "user": {
      "displayName": "Martín Ríos",
      "photoUrl": "",
      "userId": "02594387867327172413"
     },
     "user_tz": 180
    },
    "id": "aXv_YK4Dyhk_",
    "outputId": "917475b3-1ed6-45e0-e236-a376988f1d05"
   },
   "outputs": [],
   "source": [
    "# crear variables dummies\n",
    "season_dummies = pd.get_dummies(bikes.season, prefix='season')\n",
    "\n",
    "# imprimimos para ver 5 filas cualquieras\n",
    "season_dummies.sample(n=5, random_state=1)"
   ]
  },
  {
   "cell_type": "markdown",
   "metadata": {
    "colab_type": "text",
    "id": "RaFbAmyqO3V4"
   },
   "source": [
    "Nota: El método `get_dummies` puede recibir un dataframe entero, en ese caso no modifica las variables numéricas y genera dummies para todas las categóricas que encuentre. "
   ]
  },
  {
   "cell_type": "markdown",
   "metadata": {
    "colab_type": "text",
    "id": "bHclZn9FyhlE"
   },
   "source": [
    "Sin embargo, en realidad sólo necesitamos ** tres variables dummy (no cuatro) **, y por lo tanto vamos a dropear la primera variable dummy. \n",
    "¿Por qué?"
   ]
  },
  {
   "cell_type": "code",
   "execution_count": null,
   "metadata": {
    "colab": {
     "base_uri": "https://localhost:8080/",
     "height": 234
    },
    "colab_type": "code",
    "executionInfo": {
     "elapsed": 700,
     "status": "ok",
     "timestamp": 1544745740401,
     "user": {
      "displayName": "Martín Ríos",
      "photoUrl": "",
      "userId": "02594387867327172413"
     },
     "user_tz": 180
    },
    "id": "z5LzpOXmyhlF",
    "outputId": "825ecd2b-9141-4d75-a231-33ac6cee0e95"
   },
   "outputs": [],
   "source": [
    "# Eliminamos la primer columna ya que es redundante\n",
    "season_dummies.drop(season_dummies.columns[0], axis=1, inplace=True)\n",
    "\n",
    "# imprimimos 5 filas cualquieras\n",
    "season_dummies.sample(n=5, random_state=1)"
   ]
  },
  {
   "cell_type": "markdown",
   "metadata": {
    "colab_type": "text",
    "id": "XxiiIONGyhlI"
   },
   "source": [
    "En general, si se tiene una feature categórica con ** k valores posibles **, se tienen que crear ** k-1 variables dummies **."
   ]
  },
  {
   "cell_type": "code",
   "execution_count": null,
   "metadata": {
    "colab": {
     "base_uri": "https://localhost:8080/",
     "height": 425
    },
    "colab_type": "code",
    "executionInfo": {
     "elapsed": 707,
     "status": "ok",
     "timestamp": 1544745758799,
     "user": {
      "displayName": "Martín Ríos",
      "photoUrl": "",
      "userId": "02594387867327172413"
     },
     "user_tz": 180
    },
    "id": "jkw72v2WyhlJ",
    "outputId": "bfe61e32-16e8-4696-a6de-b395c0d670e7"
   },
   "outputs": [],
   "source": [
    "# Concatenar el DataFrame original y el dummy DataFrame (axis = 0 significa filas, axis = 1 significa columnas)\n",
    "bikes = pd.concat([bikes, season_dummies], axis=1)\n",
    "\n",
    "# imprimimos 5 filas cualquieras\n",
    "bikes.sample(n=5)"
   ]
  },
  {
   "cell_type": "code",
   "execution_count": null,
   "metadata": {
    "colab": {
     "base_uri": "https://localhost:8080/",
     "height": 103
    },
    "colab_type": "code",
    "executionInfo": {
     "elapsed": 610,
     "status": "ok",
     "timestamp": 1544745821391,
     "user": {
      "displayName": "Martín Ríos",
      "photoUrl": "",
      "userId": "02594387867327172413"
     },
     "user_tz": 180
    },
    "id": "YHLP4wyEyhlM",
    "outputId": "bb4b7ef8-c1e2-4990-df68-3ff27f98a4df"
   },
   "outputs": [],
   "source": [
    "# Incluímos variables dummies en nuestro array feature_cols=['temp','humidity','windspeed', 'season_2', 'season_3', 'season_4']\n",
    "# Entrenar al modelos con todo el dataset a los fines de analizar los coeficientes del nuevo modelo.\n",
    "# nota: realizar list(zip(feature_cols, linreg.coef_))\n",
    "\n"
   ]
  },
  {
   "cell_type": "code",
   "execution_count": null,
   "metadata": {
    "colab": {
     "base_uri": "https://localhost:8080/",
     "height": 34
    },
    "colab_type": "code",
    "executionInfo": {
     "elapsed": 678,
     "status": "ok",
     "timestamp": 1544745896914,
     "user": {
      "displayName": "Martín Ríos",
      "photoUrl": "",
      "userId": "02594387867327172413"
     },
     "user_tz": 180
    },
    "id": "CH9KXP9yyhlU",
    "outputId": "0420995d-632a-45fa-97f0-c1eb6686f936"
   },
   "outputs": [],
   "source": [
    "# utilizamos ahora la funcion train_test_error que definimos anteriormente con \n",
    "# los ultimos features seleccionados (feature_cols = ['temp','humidity','windspeed', 'season_2', 'season_3', 'season_4'])\n"
   ]
  },
  {
   "cell_type": "markdown",
   "metadata": {},
   "source": [
    "Se observa una leve mejora en el R2, pero no muy significativa.\n",
    "\n",
    "### Continuamos con feature engineering\n",
    "Crear las siguientes features:\n",
    "\n",
    "- **hora:** como una variable dummy (de 0 a 23), \n",
    "- **día:** como una feature categórica (día = 1 de 7am a 8pm y día = 0 de lo contrario)"
   ]
  },
  {
   "cell_type": "code",
   "execution_count": null,
   "metadata": {},
   "outputs": [],
   "source": [
    "# Generar variables dummy a partir de hora\n"
   ]
  },
  {
   "cell_type": "code",
   "execution_count": null,
   "metadata": {},
   "outputs": [],
   "source": [
    "# Concatenar las variables dummy al dataframe original\n"
   ]
  },
  {
   "cell_type": "code",
   "execution_count": null,
   "metadata": {},
   "outputs": [],
   "source": [
    "# Crear días como categórica\n"
   ]
  },
  {
   "cell_type": "code",
   "execution_count": null,
   "metadata": {},
   "outputs": [],
   "source": [
    "# Agregar la columna de dia al dataframe\n"
   ]
  },
  {
   "cell_type": "code",
   "execution_count": null,
   "metadata": {
    "scrolled": true
   },
   "outputs": [],
   "source": [
    "# Por ultimo corremos nuestra función train_test_error sobre el nuevo set de features:\n",
    "# ['temp','humidity','windspeed', 'season_2', 'season_3', 'season_4',1,2,3,4,5,6,7,8,9,10,11,12,13,14,15,16,17,18,19,20,21,22,23]\n",
    "\n"
   ]
  },
  {
   "cell_type": "code",
   "execution_count": null,
   "metadata": {},
   "outputs": [],
   "source": [
    "# Que observaciones pueden realizar ahora?"
   ]
  },
  {
   "cell_type": "markdown",
   "metadata": {
    "colab_type": "text",
    "id": "20HBBTxyyhm5"
   },
   "source": [
    "## Conclusiones: \n",
    "\n",
    "Ventajas de la regresión lineal:\n",
    "\n",
    "- Simple de explicar\n",
    "- Muy interpretable\n",
    "- El entrenamiento y predicción de modelos son rápidos\n",
    "- Es invariante a cambios en la escala de los features. \n",
    "\n",
    "\n",
    "Desventajas de la regresión lineal:\n",
    "\n",
    "- El rendimiento es (generalmente) no competitivo con los mejores métodos de aprendizaje supervisado debido a un alto sesgo"
   ]
  },
  {
   "cell_type": "code",
   "execution_count": null,
   "metadata": {},
   "outputs": [],
   "source": []
  }
 ],
 "metadata": {
  "colab": {
   "collapsed_sections": [],
   "name": "Workshop_FB_Regresion_Lineal.ipynb",
   "provenance": [
    {
     "file_id": "1tLnxwf-lAA3so9YuHSq1nl6xxmW9kElL",
     "timestamp": 1544685889886
    },
    {
     "file_id": "1kx27Zo-Ir1nMRVUs6Si_Lz9bKhlP8gy4",
     "timestamp": 1530850462629
    }
   ],
   "version": "0.3.2"
  },
  "kernelspec": {
   "display_name": "Python 3",
   "language": "python",
   "name": "python3"
  },
  "language_info": {
   "codemirror_mode": {
    "name": "ipython",
    "version": 3
   },
   "file_extension": ".py",
   "mimetype": "text/x-python",
   "name": "python",
   "nbconvert_exporter": "python",
   "pygments_lexer": "ipython3",
   "version": "3.6.10"
  }
 },
 "nbformat": 4,
 "nbformat_minor": 4
}

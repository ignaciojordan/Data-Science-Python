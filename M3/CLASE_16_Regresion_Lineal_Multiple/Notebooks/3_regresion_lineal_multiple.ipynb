{
 "cells": [
  {
   "cell_type": "code",
   "execution_count": null,
   "metadata": {},
   "outputs": [],
   "source": [
    "# initial setup\n",
    "try:\n",
    "    # settings colab:\n",
    "    import google.colab\n",
    "    \n",
    "    ! mkdir -p ../Data\n",
    "    # los que usan colab deben modificar el token de esta url:\n",
    "    ! wget -O ../Data/bikes.csv https://raw.githubusercontent.com/Digital-House-DATA/ds_blend_students_2020/master/M3/CLASE_16_Regresion_Lineal_Multiple/Data/bikes.csv?token=AA4GFHIG665I3BPVQCFY3US63APZM\n",
    "    \n",
    "    \n",
    "except ModuleNotFoundError:    \n",
    "    # settings local:\n",
    "    %run \"../../../common/0_notebooks_base_setup.py\""
   ]
  },
  {
   "cell_type": "markdown",
   "metadata": {},
   "source": [
    "[<img src=\"https://www.digitalhouse.com/ar/logo-DH.png\" width=\"400\" height=\"200\" align='right'>](http://digitalhouse.com.ar/)"
   ]
  },
  {
   "cell_type": "markdown",
   "metadata": {
    "colab_type": "text",
    "id": "HXCJlrSOyhgz"
   },
   "source": [
    "# PRACTICA GUIADA: Regresión lineal con predictores cualitativos"
   ]
  },
  {
   "cell_type": "markdown",
   "metadata": {
    "colab_type": "text",
    "id": "Wc6TPVCryhg1"
   },
   "source": [
    "# 1 **Introducción**\n",
    "1.Introduccón al dataset \"bikeshare\" \n",
    "* Leyendo los datos\n",
    "* Visualizando los datos\n",
    "\n",
    "2.Regresión lineal\n",
    "* Forma de regresión lineal\n",
    "* Construir un modelo de regresión lineal\n",
    "* Uso del modelo para la predicción\n",
    "* ¿Es importante la escala de las features?\n",
    "\n",
    "3.Trabajando con múltiples features\n",
    "* Visualizando los datos \n",
    "* Agregando más features al modelo\n",
    "\n",
    "4.Eligiendo entre modelos\n",
    "* Selección de features\n",
    "* Métricas de evaluación para problemas de regresión\n",
    "* Comparación de modelos con sets de entrenamiento/test y RMSE\n",
    "* Comparando RMSE de prueba con RMSE nulo (baseline)\n",
    "       \n",
    "5.Creando features\n",
    "* Manejo de feactures categóricas\n",
    "* Ingeniería de features\n",
    "\n"
   ]
  },
  {
   "cell_type": "markdown",
   "metadata": {
    "colab_type": "text",
    "id": "hMyNQNI6yhg3"
   },
   "source": [
    "**===========================================================================================**\n",
    "\n",
    "### 1.1 Importando datos\n",
    "\n",
    "Vamos a trabajar con un conjunto de datos sobre alquileres de bicicletas que fue utilizado en un concurso de Kaggle.\n",
    "\n",
    "\n",
    "Se proporcionan datos de alquiler por hora que abarcan dos años. El conjunto de entrenamiento se compone de los primeros 19 días de cada mes, mientras que el conjunto de test es del día 20 al final del mes.\n",
    "\n",
    "**_Queremos predecir el número total de bicicletas alquiladas durante cada hora cubierta por el conjunto de test, utilizando sólo la información disponible en el set de entrenamiento._**\n"
   ]
  },
  {
   "cell_type": "markdown",
   "metadata": {
    "colab_type": "text",
    "id": "YU2jeNdxyhg4"
   },
   "source": [
    "**CAMPOS DEL DATASET**\n",
    "\n",
    "**datetime** - dia y hora - timestamp\n",
    "\n",
    "**season** -  1 = primavera, 2 = verano, 3 = otoño, 4 = invierno\n",
    "\n",
    "**holiday** - feriado\n",
    "\n",
    "**workingday** - día de la semana\n",
    "\n",
    "**weather** - \n",
    "\n",
    "              1: Clear, Few clouds, Partly cloudy, Partly cloudy\n",
    "              2: Mist + Cloudy, Mist + Broken clouds, Mist + Few clouds, Mist\n",
    "              3: Light Snow, Light Rain + Thunderstorm + Scattered clouds,\n",
    "                 Light Rain + Scattered clouds\n",
    "              4: Heavy Rain + Ice Pallets + Thunderstorm + Mist, Snow + Fog \n",
    "\n",
    "**temp** - temperatura en Celsius\n",
    "\n",
    "**atemp** - sensación térmica\n",
    "\n",
    "**humidity** - humedad\n",
    "\n",
    "**windspeed** - velocidad del viento\n",
    "\n",
    "**casual** - ususarios no-registrados (number of non-registered user rentals initiated)\n",
    "\n",
    "**registered** - ususarios registrados (number of registered user rentals initiated)\n",
    "\n",
    "**count** - total de alquileres\n"
   ]
  },
  {
   "cell_type": "code",
   "execution_count": null,
   "metadata": {
    "colab": {
     "base_uri": "https://localhost:8080/",
     "height": 880
    },
    "colab_type": "code",
    "executionInfo": {
     "elapsed": 855,
     "status": "error",
     "timestamp": 1546527663689,
     "user": {
      "displayName": "Martín Ríos",
      "photoUrl": "",
      "userId": "02594387867327172413"
     },
     "user_tz": 180
    },
    "id": "3Ad7aOLNyhg6",
    "outputId": "b34ab32d-d009-40f8-f9d3-3ee439dd438a"
   },
   "outputs": [],
   "source": [
    "# Leemos los datos y seteamos el datetime como índice.\n",
    "import pandas as pd\n",
    "\n",
    "bikes = pd.read_csv('../Data/bikes.csv', index_col='datetime', parse_dates=True)"
   ]
  },
  {
   "cell_type": "code",
   "execution_count": null,
   "metadata": {},
   "outputs": [],
   "source": [
    "type(bikes)"
   ]
  },
  {
   "cell_type": "code",
   "execution_count": null,
   "metadata": {},
   "outputs": [],
   "source": [
    "bikes.shape"
   ]
  },
  {
   "cell_type": "code",
   "execution_count": null,
   "metadata": {
    "colab": {
     "base_uri": "https://localhost:8080/",
     "height": 388
    },
    "colab_type": "code",
    "executionInfo": {
     "elapsed": 673,
     "status": "ok",
     "timestamp": 1544741915197,
     "user": {
      "displayName": "Martín Ríos",
      "photoUrl": "",
      "userId": "02594387867327172413"
     },
     "user_tz": 180
    },
    "id": "9yi-zsSgyhhB",
    "outputId": "aa916a88-7c0a-4d24-f76a-698dfcd3e991"
   },
   "outputs": [],
   "source": [
    "bikes.sample(10)"
   ]
  },
  {
   "cell_type": "markdown",
   "metadata": {
    "colab_type": "text",
    "id": "73zsho6WyhhG"
   },
   "source": [
    "**Preguntas:**\n",
    "\n",
    "*     ¿Qué representa cada observación?\n",
    "*     ¿Cuál es la variable de respuesta?\n",
    "*     ¿Cuántas variables hay?"
   ]
  },
  {
   "cell_type": "code",
   "execution_count": null,
   "metadata": {
    "colab": {},
    "colab_type": "code",
    "id": "RkJbTjDiyhhI"
   },
   "outputs": [],
   "source": [
    "# Dado que \"count\" es un método de pandas, es conviente renombrar la columna:\n",
    "\n",
    "bikes.rename(columns={'count':'total'}, inplace=True)"
   ]
  },
  {
   "cell_type": "code",
   "execution_count": null,
   "metadata": {},
   "outputs": [],
   "source": [
    "bikes.sample(2)"
   ]
  },
  {
   "cell_type": "markdown",
   "metadata": {
    "colab_type": "text",
    "id": "YYpGhj9tyhhN"
   },
   "source": [
    "### 1.2 Visualización"
   ]
  },
  {
   "cell_type": "code",
   "execution_count": null,
   "metadata": {
    "colab": {},
    "colab_type": "code",
    "id": "uhwbxhi_yhhO"
   },
   "outputs": [],
   "source": [
    "import seaborn as sns\n",
    "import matplotlib.pyplot as plt\n",
    "%matplotlib inline\n",
    "\n",
    "# Definimos parámetros globales para matplotlib.\n",
    "plt.rcParams['figure.figsize'] = (8, 6)\n",
    "plt.rcParams['font.size'] = 16"
   ]
  },
  {
   "cell_type": "code",
   "execution_count": null,
   "metadata": {
    "colab": {
     "base_uri": "https://localhost:8080/",
     "height": 388
    },
    "colab_type": "code",
    "executionInfo": {
     "elapsed": 1474,
     "status": "ok",
     "timestamp": 1544742130895,
     "user": {
      "displayName": "Martín Ríos",
      "photoUrl": "",
      "userId": "02594387867327172413"
     },
     "user_tz": 180
    },
    "id": "PsRqUatOyhhT",
    "outputId": "ee820482-0fc2-4a62-d59d-92fa52665616"
   },
   "outputs": [],
   "source": [
    "# Ploteamos puntos con Pandas\n",
    "bikes.plot(kind='scatter', x='temp', y='total', alpha=0.2);"
   ]
  },
  {
   "cell_type": "code",
   "execution_count": null,
   "metadata": {
    "colab": {
     "base_uri": "https://localhost:8080/",
     "height": 356
    },
    "colab_type": "code",
    "executionInfo": {
     "elapsed": 2211,
     "status": "ok",
     "timestamp": 1544742175112,
     "user": {
      "displayName": "Martín Ríos",
      "photoUrl": "",
      "userId": "02594387867327172413"
     },
     "user_tz": 180
    },
    "id": "Q_q1e4wFyhhY",
    "outputId": "af10186f-da1a-4fa4-efb7-1cf8b184d70e"
   },
   "outputs": [],
   "source": [
    "# Ajuste con Seaborn (modelo lineal) \n",
    "sns.lmplot(x='temp', y='total', data=bikes, aspect=1.45,\\\n",
    "                                scatter_kws={'alpha':0.2});"
   ]
  },
  {
   "cell_type": "markdown",
   "metadata": {
    "colab_type": "text",
    "id": "YQz-jyoYeg6J"
   },
   "source": [
    "# 2 Regresión Lineal"
   ]
  },
  {
   "cell_type": "markdown",
   "metadata": {
    "colab_type": "text",
    "id": "hqHUFQuayhhc"
   },
   "source": [
    "## 2.1 Repaso: forma del modelo lineal\n",
    "\n",
    "![Ec. Recta](http://askingroom.com/blog/wp-content/uploads/2018/11/Ecuaci%C3%B3n-de-la-Recta-1-300x143.png)\n",
    "\n",
    "$y = \\beta_0 + \\beta_1x_1 + \\beta_2x_2 + ... + \\beta_nx_n$\n",
    "- $y$ es la variable dependiente (es la respuesta)\n",
    "- $\\beta_0$ es el intercepto\n",
    "- $\\beta_1$ es el coeficiente para $x_1$ \n",
    "- $\\beta_n$ es el coeficiente para $x_n$\n",
    "\n",
    "Los **$\\beta$** son los llamados **_Coeficientes del modelo_**\n",
    "\n",
    "- Estos valores son estimados (o \"aprendidos\") durante el proceso de adaptación del modelo usando el criterio ** mínimos cuadrados **.\n",
    "- Específicamente, encontramos la línea (matemáticamente) que minimiza la suma ** de cuadrados de residuos ** (o \"suma de errores cuadráticos\").\n",
    "- Y una vez que hemos aprendido estos coeficientes, podemos usar el modelo para predecir la respuesta.\n",
    "\n",
    "\n",
    "![Regresión Lineal](https://cdn-images-1.medium.com/max/720/1*yLeh6JjWHenfH4zFOA3HpQ.png)\n",
    "\n",
    "*https://medium.com/@337_73413/machine-learning-a-micro-primer-with-a-lawyers-perspective-cfe5a69c114d*"
   ]
  },
  {
   "cell_type": "markdown",
   "metadata": {
    "colab_type": "text",
    "id": "K16mwRdxyhhe"
   },
   "source": [
    "## 2.2 Construyendo el modelo de Regresión Lineal\n",
    "\n",
    "Construir un modelo en **[Scikit-Learn](https://scikit-learn.org/stable/)** lleva 5 pasos.\n",
    "\n",
    "1.   Preparar los datos en una **matriz de features y un array target**.\n",
    "\n",
    "2.   Elegir una clase de modelo importando la **clase de estimador** apropiado de Scikit-Learn.\n",
    "\n",
    "3.   Seleccionar los **hiperparámetros** del modelo **instanciando** la clase con los valores deseados\n",
    "\n",
    "4.   Ajustar el modelo a los datos invocando el método** fit()** de la instancia del modelo.\n",
    "\n",
    "5.   Aplicar el modelo a **nuevos datos**:\n",
    "\n",
    "\n",
    "Empezamos por una regresión lineal simple!"
   ]
  },
  {
   "cell_type": "code",
   "execution_count": null,
   "metadata": {
    "colab": {},
    "colab_type": "code",
    "id": "i_RyTquYyhhf"
   },
   "outputs": [],
   "source": [
    "# Creamos X e y\n",
    "\n",
    "feature_cols = ['temp']\n",
    "X = bikes[feature_cols]\n",
    "y = bikes.total"
   ]
  },
  {
   "cell_type": "code",
   "execution_count": null,
   "metadata": {},
   "outputs": [],
   "source": [
    "type(y)"
   ]
  },
  {
   "cell_type": "code",
   "execution_count": null,
   "metadata": {},
   "outputs": [],
   "source": [
    "X.shape"
   ]
  },
  {
   "cell_type": "code",
   "execution_count": null,
   "metadata": {
    "colab": {},
    "colab_type": "code",
    "id": "6mAq_hhhyhhl"
   },
   "outputs": [],
   "source": [
    "# Importamos paquete, instanciamos el estimador y fiteamos el modelo (\"classic\" sklearn!)\n",
    "\n",
    "from sklearn.linear_model import LinearRegression"
   ]
  },
  {
   "cell_type": "code",
   "execution_count": null,
   "metadata": {
    "colab": {},
    "colab_type": "code",
    "id": "7CRNqyPIlhYd"
   },
   "outputs": [],
   "source": [
    "# Instanciamos el modelo\n",
    "\n",
    "linreg = LinearRegression()"
   ]
  },
  {
   "cell_type": "code",
   "execution_count": null,
   "metadata": {
    "colab": {
     "base_uri": "https://localhost:8080/",
     "height": 51
    },
    "colab_type": "code",
    "executionInfo": {
     "elapsed": 871,
     "status": "ok",
     "timestamp": 1544742728605,
     "user": {
      "displayName": "Martín Ríos",
      "photoUrl": "",
      "userId": "02594387867327172413"
     },
     "user_tz": 180
    },
    "id": "K2lVeFnAlmtP",
    "outputId": "1a4e04a7-3e11-4f23-d293-bc1032700679"
   },
   "outputs": [],
   "source": [
    "# Entrenamos el modelo \n",
    "\n",
    "linreg.fit(X, y)"
   ]
  },
  {
   "cell_type": "code",
   "execution_count": null,
   "metadata": {
    "colab": {
     "base_uri": "https://localhost:8080/",
     "height": 51
    },
    "colab_type": "code",
    "executionInfo": {
     "elapsed": 686,
     "status": "ok",
     "timestamp": 1544742777669,
     "user": {
      "displayName": "Martín Ríos",
      "photoUrl": "",
      "userId": "02594387867327172413"
     },
     "user_tz": 180
    },
    "id": "qtH3X0sGyhhs",
    "outputId": "60037d91-4299-4e60-bd82-f9258c7eed4d"
   },
   "outputs": [],
   "source": [
    "# Imprimimos coeficientes\n",
    "\n",
    "print (linreg.intercept_)\n",
    "print (linreg.coef_)"
   ]
  },
  {
   "cell_type": "markdown",
   "metadata": {
    "colab_type": "text",
    "id": "iTNLPm2Myhhx"
   },
   "source": [
    "Interpretación del  **intercepto ** ($\\beta_0$):\n",
    "\n",
    "- Es el valor esperado de $ y $ cuando $ x $ = 0.\n",
    "- Por lo tanto, es el número esperado de alquileres cuando la temperatura es de 0 grados Celsius.\n",
    "- ** Nota: ** No siempre tiene sentido interpretar el intercepto. (¿Por qué?)\n",
    "\n",
    "Interpretación del coeficiente de ** \"temp\" ** ($\\beta_1$):\n",
    "\n",
    "- Es el cambio en $ y $ dividido por cambio en $ x $, o la \"pendiente\".\n",
    "- Así, un aumento de la temperatura de 1 grado Celsius está ** asociado con ** un aumento de alquiler de 9.17 bicicletas.\n",
    " $ \\beta_1 $ sería ** negativo ** si un aumento en la temperatura se asociara con una ** disminución ** en los alquileres."
   ]
  },
  {
   "cell_type": "markdown",
   "metadata": {
    "colab_type": "text",
    "id": "RwdT0Ncfyhhy"
   },
   "source": [
    "## 2.3 Usando el modelo para predecir\n",
    "\n",
    "¿Cuántos alquileres de bicicletas podríamos predecir si la temperatura era de 25 grados Celsius?"
   ]
  },
  {
   "cell_type": "code",
   "execution_count": null,
   "metadata": {
    "colab": {
     "base_uri": "https://localhost:8080/",
     "height": 34
    },
    "colab_type": "code",
    "executionInfo": {
     "elapsed": 673,
     "status": "ok",
     "timestamp": 1544742837311,
     "user": {
      "displayName": "Martín Ríos",
      "photoUrl": "",
      "userId": "02594387867327172413"
     },
     "user_tz": 180
    },
    "id": "pMSKHt-tyhhz",
    "outputId": "73fdca7f-6318-4f39-f34a-5208bf1d9910"
   },
   "outputs": [],
   "source": [
    "# Aplicando la fórmula manualmente\n",
    "\n",
    "test = 25\n",
    "\n",
    "linreg.intercept_ + linreg.coef_*test"
   ]
  },
  {
   "cell_type": "code",
   "execution_count": null,
   "metadata": {
    "colab": {
     "base_uri": "https://localhost:8080/",
     "height": 34
    },
    "colab_type": "code",
    "executionInfo": {
     "elapsed": 699,
     "status": "ok",
     "timestamp": 1544742906820,
     "user": {
      "displayName": "Martín Ríos",
      "photoUrl": "",
      "userId": "02594387867327172413"
     },
     "user_tz": 180
    },
    "id": "9U_vpeIlyhh3",
    "outputId": "01bf5d9e-d298-478c-c717-33881dfdc08c"
   },
   "outputs": [],
   "source": [
    "# usando el método del objeto\n",
    "import numpy as np\n",
    "\n",
    "test_sklearn = np.array(test).reshape(-1,1)\n",
    "\n",
    "linreg.predict(test_sklearn)"
   ]
  },
  {
   "cell_type": "markdown",
   "metadata": {
    "colab_type": "text",
    "id": "hbXfgdZwyhh7"
   },
   "source": [
    "## 2.4 ¿Es importante la escala de las features?\n",
    "\n",
    "Digamos que la temperatura se midió en grados Fahrenheit, en lugar de Celsius. ¿Cómo afecta esto al modelo?"
   ]
  },
  {
   "cell_type": "code",
   "execution_count": null,
   "metadata": {
    "colab": {
     "base_uri": "https://localhost:8080/",
     "height": 319
    },
    "colab_type": "code",
    "executionInfo": {
     "elapsed": 647,
     "status": "ok",
     "timestamp": 1544743142737,
     "user": {
      "displayName": "Martín Ríos",
      "photoUrl": "",
      "userId": "02594387867327172413"
     },
     "user_tz": 180
    },
    "id": "ljrKZbnEyhh8",
    "outputId": "6d4ffb51-9923-4f2d-d12b-d5d72d56a1a0"
   },
   "outputs": [],
   "source": [
    "# Creamos una nueva columna para la temperatura en Fahrenheit\n",
    "# ℃ = (℉ - 32)/1.8\n",
    "\n",
    "bikes['temp_F'] = bikes.temp * 1.8 + 32\n",
    "bikes.head()"
   ]
  },
  {
   "cell_type": "code",
   "execution_count": null,
   "metadata": {
    "colab": {
     "base_uri": "https://localhost:8080/",
     "height": 355
    },
    "colab_type": "code",
    "executionInfo": {
     "elapsed": 4453,
     "status": "ok",
     "timestamp": 1544690370521,
     "user": {
      "displayName": "Martín Ríos",
      "photoUrl": "",
      "userId": "02594387867327172413"
     },
     "user_tz": 180
    },
    "id": "xBkmvMFpyhia",
    "outputId": "5edf9ba5-f29f-4dd2-bbce-a94efb0e48b9"
   },
   "outputs": [],
   "source": [
    "# Nuevamente ajustamos con Seaborn \n",
    "sns.lmplot(x='temp_F', y='total', data=bikes, aspect=1.45, scatter_kws={'alpha':0.2});"
   ]
  },
  {
   "cell_type": "code",
   "execution_count": null,
   "metadata": {
    "colab": {
     "base_uri": "https://localhost:8080/",
     "height": 51
    },
    "colab_type": "code",
    "executionInfo": {
     "elapsed": 682,
     "status": "ok",
     "timestamp": 1544743147961,
     "user": {
      "displayName": "Martín Ríos",
      "photoUrl": "",
      "userId": "02594387867327172413"
     },
     "user_tz": 180
    },
    "id": "pHdT6UGgyhie",
    "outputId": "c6f21099-3801-405d-e5cb-1f67e52e7109"
   },
   "outputs": [],
   "source": [
    "# creamos nuevamente X e y\n",
    "\n",
    "feature_cols = ['temp_F']\n",
    "X = bikes[feature_cols]\n",
    "y = bikes.total\n",
    "\n",
    "# Instanciamos el modelo y fiteamos\n",
    "\n",
    "linreg = LinearRegression()\n",
    "linreg.fit(X, y)\n",
    "\n",
    "# Imprimimos coeficientes\n",
    "\n",
    "print (linreg.intercept_)\n",
    "print (linreg.coef_)"
   ]
  },
  {
   "cell_type": "code",
   "execution_count": null,
   "metadata": {
    "colab": {},
    "colab_type": "code",
    "id": "SlJ4tV4vyhii"
   },
   "outputs": [],
   "source": [
    "# Convertimos 25°c a °F\n",
    "\n",
    "test_en_f = 25 * 1.8 + 32"
   ]
  },
  {
   "cell_type": "code",
   "execution_count": null,
   "metadata": {
    "colab": {
     "base_uri": "https://localhost:8080/",
     "height": 34
    },
    "colab_type": "code",
    "executionInfo": {
     "elapsed": 677,
     "status": "ok",
     "timestamp": 1544743351928,
     "user": {
      "displayName": "Martín Ríos",
      "photoUrl": "",
      "userId": "02594387867327172413"
     },
     "user_tz": 180
    },
    "id": "Qha4zv7vyhin",
    "outputId": "9e79d13f-d63c-4c50-fba5-88604f9a8f51"
   },
   "outputs": [],
   "source": [
    "# Predicción de alquileres para 77°F\n",
    "\n",
    "test_sklearn_en_f = np.array(test_en_f).reshape(-1,1)\n",
    "\n",
    "linreg.predict(test_sklearn_en_f)"
   ]
  },
  {
   "cell_type": "markdown",
   "metadata": {
    "colab_type": "text",
    "id": "DG3iuvWeyhis"
   },
   "source": [
    "** Conclusión: ** La escala de las características es ** irrelevante ** para los modelos de regresión lineal. Al cambiar la escala, simplemente cambiamos nuestra ** interpretación ** de los coeficientes."
   ]
  },
  {
   "cell_type": "code",
   "execution_count": null,
   "metadata": {
    "colab": {},
    "colab_type": "code",
    "id": "ou3JAw1kyhit"
   },
   "outputs": [],
   "source": [
    "# borramos la columna temp_F \n",
    "\n",
    "bikes.drop('temp_F', axis=1, inplace=True)"
   ]
  },
  {
   "cell_type": "markdown",
   "metadata": {
    "colab_type": "text",
    "id": "ypjlObSwyhiy"
   },
   "source": [
    "## 2.5 Visualización de los datos 2"
   ]
  },
  {
   "cell_type": "code",
   "execution_count": null,
   "metadata": {
    "colab": {},
    "colab_type": "code",
    "id": "v3-9gatZyhiz"
   },
   "outputs": [],
   "source": [
    "# Exploramos más features\n",
    "\n",
    "feature_cols = ['temp', 'season', 'weather', 'humidity']"
   ]
  },
  {
   "cell_type": "code",
   "execution_count": null,
   "metadata": {
    "colab": {
     "base_uri": "https://localhost:8080/",
     "height": 172
    },
    "colab_type": "code",
    "executionInfo": {
     "elapsed": 5329,
     "status": "ok",
     "timestamp": 1544743463813,
     "user": {
      "displayName": "Martín Ríos",
      "photoUrl": "",
      "userId": "02594387867327172413"
     },
     "user_tz": 180
    },
    "id": "HEplp-nzyhi3",
    "outputId": "a21dc9cf-44de-4f45-b41a-07162059d3f8"
   },
   "outputs": [],
   "source": [
    "# plots múltiples en seaborn\n",
    "\n",
    "sns.pairplot(bikes, x_vars=feature_cols, y_vars='total', kind='reg',\\\n",
    "                                                height=5, aspect=1);"
   ]
  },
  {
   "cell_type": "code",
   "execution_count": null,
   "metadata": {
    "colab": {
     "base_uri": "https://localhost:8080/",
     "height": 439
    },
    "colab_type": "code",
    "executionInfo": {
     "elapsed": 667,
     "status": "ok",
     "timestamp": 1544744109792,
     "user": {
      "displayName": "Martín Ríos",
      "photoUrl": "",
      "userId": "02594387867327172413"
     },
     "user_tz": 180
    },
    "id": "JMVkM0O7yhjP",
    "outputId": "779e8264-0b45-4b7c-d7f6-55020f764ee8"
   },
   "outputs": [],
   "source": [
    "# matriz de correlación (rangos de 1 a -1)\n",
    "\n",
    "bikes.corr()"
   ]
  },
  {
   "cell_type": "code",
   "execution_count": null,
   "metadata": {
    "colab": {
     "base_uri": "https://localhost:8080/",
     "height": 431
    },
    "colab_type": "code",
    "executionInfo": {
     "elapsed": 1026,
     "status": "ok",
     "timestamp": 1544744155230,
     "user": {
      "displayName": "Martín Ríos",
      "photoUrl": "",
      "userId": "02594387867327172413"
     },
     "user_tz": 180
    },
    "id": "kpUVPnpfyhjU",
    "outputId": "4f617fa1-b672-4237-a6c2-e9a15c6269c7"
   },
   "outputs": [],
   "source": [
    "# visualizamos la matriz de correlación en Seaborn usando a heatmap\n",
    "\n",
    "sns.heatmap(bikes.corr(), vmin=-1, vmax=1, center=0, cmap=\"YlGnBu\");"
   ]
  },
  {
   "cell_type": "markdown",
   "metadata": {
    "colab_type": "text",
    "id": "8J0h1VpkyhjZ"
   },
   "source": [
    "<center>__¿Qué relaciones se observan?__"
   ]
  },
  {
   "cell_type": "markdown",
   "metadata": {
    "colab_type": "text",
    "id": "mQFQ66vlyhjb"
   },
   "source": [
    "## 2.6 Sumando más features"
   ]
  },
  {
   "cell_type": "code",
   "execution_count": null,
   "metadata": {
    "colab": {},
    "colab_type": "code",
    "id": "Mb-eB9G8yhjb"
   },
   "outputs": [],
   "source": [
    "# creamos lista de features\n",
    "\n",
    "feature_cols = ['temp', 'humidity']"
   ]
  },
  {
   "cell_type": "code",
   "execution_count": null,
   "metadata": {
    "colab": {
     "base_uri": "https://localhost:8080/",
     "height": 51
    },
    "colab_type": "code",
    "executionInfo": {
     "elapsed": 733,
     "status": "ok",
     "timestamp": 1544744629939,
     "user": {
      "displayName": "Martín Ríos",
      "photoUrl": "",
      "userId": "02594387867327172413"
     },
     "user_tz": 180
    },
    "id": "jwDet1i2yhjh",
    "outputId": "2302fd3c-763b-4663-8615-d8212311ccde"
   },
   "outputs": [],
   "source": [
    "# creamos nuevamente X and y\n",
    "X = bikes[feature_cols]\n",
    "y = bikes.total\n",
    "\n",
    "# creamos el modelo y fiteamos\n",
    "linreg = LinearRegression()\n",
    "linreg.fit(X, y)\n",
    "\n",
    "# Imprimimos coeficientes\n",
    "print (linreg.intercept_)\n",
    "print (linreg.coef_)"
   ]
  },
  {
   "cell_type": "code",
   "execution_count": null,
   "metadata": {
    "colab": {
     "base_uri": "https://localhost:8080/",
     "height": 34
    },
    "colab_type": "code",
    "executionInfo": {
     "elapsed": 726,
     "status": "ok",
     "timestamp": 1544744641286,
     "user": {
      "displayName": "Martín Ríos",
      "photoUrl": "",
      "userId": "02594387867327172413"
     },
     "user_tz": 180
    },
    "id": "QKsc7Jrgyhjm",
    "outputId": "1c719070-1e6d-463c-ffa4-a22cf4d4a985"
   },
   "outputs": [],
   "source": [
    "## para observarlo mejor miramos el nombre con el coeficiente\n",
    "list(zip(feature_cols, linreg.coef_))"
   ]
  },
  {
   "cell_type": "markdown",
   "metadata": {
    "colab_type": "text",
    "id": "Q1az185vfeLs"
   },
   "source": [
    "# 3 Eligiendo entre modelos"
   ]
  },
  {
   "cell_type": "markdown",
   "metadata": {
    "colab_type": "text",
    "id": "prz-CcdPyhju"
   },
   "source": [
    "## 3.1 Selección de features\n",
    "\n",
    "¿Cómo elegimos cuales features incluir en el modelo? Vamos a usar los sets de   **entrenamiento** y **test** (y eventualmente **validación cruzada**).\n"
   ]
  },
  {
   "cell_type": "markdown",
   "metadata": {
    "colab_type": "text",
    "id": "eYoPJM5jyhjw"
   },
   "source": [
    "## 3.2 Métricas de evaluación para problemas de regresión\n",
    "\n",
    " Hay tres métricas de evaluación comunes para problemas de regresión:\n",
    "\n",
    "** El error absoluto medio ** (MAE) es la media del valor absoluto de los errores:\n",
    "\n",
    "$$ \\frac 1n\\sum_ {i = 1}^n |y_i-\\hat{y}_i| $$\n",
    "\n",
    "** Mean Squared Error ** (MSE) es la media de los errores al cuadrado:\n",
    "\n",
    "$$ \\frac 1n\\sum_ {i = 1}^n(y_i- \\hat{y}_i)^2 $$\n",
    "\n",
    "** Error cuadrático medio raíz ** (RMSE) es la raíz cuadrada de la media de los errores al cuadrado:\n",
    "\n",
    "$$ \\sqrt{\\frac 1n\\sum_{i = 1}^n(y_i- \\hat{y}_i)^2} $$"
   ]
  },
  {
   "cell_type": "code",
   "execution_count": null,
   "metadata": {
    "colab": {},
    "colab_type": "code",
    "id": "Ia_7UTrpyhjy"
   },
   "outputs": [],
   "source": [
    "# Ejemplo de valores de respuesta verdaderos y predichos\n",
    "true = [10, 7, 5, 5, 10, 8, 8, 15, 12]\n",
    "pred = [12, 8, 3, 4, 12, 9, 8, 12, 13]"
   ]
  },
  {
   "cell_type": "code",
   "execution_count": null,
   "metadata": {
    "colab": {
     "base_uri": "https://localhost:8080/",
     "height": 86
    },
    "colab_type": "code",
    "executionInfo": {
     "elapsed": 453,
     "status": "ok",
     "timestamp": 1544745377226,
     "user": {
      "displayName": "Martín Ríos",
      "photoUrl": "",
      "userId": "02594387867327172413"
     },
     "user_tz": 180
    },
    "id": "xnrLEiYVyhj5",
    "outputId": "f9ff04c7-03fd-4f2f-a5f4-0da47e388bbd"
   },
   "outputs": [],
   "source": [
    "# ¿Calculamos métricas a mano? ¡Por supuesto que no!\n",
    "\n",
    "from sklearn import metrics\n",
    "import numpy as np\n",
    "print ('MAE:', metrics.mean_absolute_error(true, pred))\n",
    "print ('MSE:', metrics.mean_squared_error(true, pred))\n",
    "print ('RMSE:', np.sqrt(metrics.mean_squared_error(true, pred)))\n",
    "print ('R2:', metrics.r2_score(true, pred))"
   ]
  },
  {
   "cell_type": "markdown",
   "metadata": {
    "colab_type": "text",
    "id": "0Mc5wnIQyhkV"
   },
   "source": [
    "Comparando estas métricas:\n",
    "\n",
    "- ** MAE **  es el error promedio.\n",
    "- ** MSE **  \"penaliza\" errores grandes.\n",
    "- ** RMSE **  es interpretable, tiene las mismas unidades  que la \"y\".\n",
    "- ** $R^2$ ** es la proporción de la varianza total de $Y$ explicada por el modelo\n",
    "\n",
    "Con excepción de R2, todas estas son ** funciones de pérdida **, porque queremos minimizarlas.\n",
    "\n",
    "Ejemplo adicional, para ver cómo MSE / RMSE penalizan más a los errores más grandes:"
   ]
  },
  {
   "cell_type": "code",
   "execution_count": null,
   "metadata": {
    "colab": {
     "base_uri": "https://localhost:8080/",
     "height": 86
    },
    "colab_type": "code",
    "executionInfo": {
     "elapsed": 447,
     "status": "ok",
     "timestamp": 1544745378409,
     "user": {
      "displayName": "Martín Ríos",
      "photoUrl": "",
      "userId": "02594387867327172413"
     },
     "user_tz": 180
    },
    "id": "OyDtR7NryhkV",
    "outputId": "8a5c14a4-7e05-459f-93d0-bcce5098c0e4"
   },
   "outputs": [],
   "source": [
    "# con los mismos valores de antes para true\n",
    "true = [10, 7, 5, 5, 10, 8, 8, 15, 12]\n",
    "\n",
    "# nuevo set de valores para la predicción\n",
    "pred = [12, 8, 3, 4, 12, 9, 8, 22, 13]\n",
    "\n",
    "# MAE se incrementa levemente\n",
    "print ('MAE:', metrics.mean_absolute_error(true, pred))\n",
    "\n",
    "# MSE y RMSE son más grandes que antes. A su vez, R2 empeora su performance.\n",
    "print ('MSE:', metrics.mean_squared_error(true, pred))\n",
    "print ('RMSE:', np.sqrt(metrics.mean_squared_error(true, pred)))\n",
    "print ('R2:', metrics.r2_score(true, pred))"
   ]
  },
  {
   "cell_type": "markdown",
   "metadata": {
    "colab_type": "text",
    "id": "rZbldiYLyhkZ"
   },
   "source": [
    "## 3.3 Comparando modelos usando sets de entrenamiento/test y RMSE"
   ]
  },
  {
   "cell_type": "markdown",
   "metadata": {
    "colab_type": "text",
    "id": "NiNDtNL2vUGJ"
   },
   "source": [
    "### Train-Test Split\n",
    "\n",
    "![Train-Test Split](https://cdn-images-1.medium.com/max/720/1*3g5RtdlP85EUsF-peOA1-g.png)\n",
    "\n",
    "*https://medium.com/@hi.martinez/train-test-split-cross-validation-you-b87f662445e1*"
   ]
  },
  {
   "cell_type": "code",
   "execution_count": null,
   "metadata": {},
   "outputs": [],
   "source": [
    "# Definimos una función que acepta una lista de features, hace el split entre train y test,\n",
    "# reservando un 25% de las observaciones para testeo, y devuelve la prueba RMSE.\n",
    "\n",
    "from sklearn.model_selection import train_test_split\n",
    "\n",
    "def train_test_rmse(feature_cols):\n",
    "    X = bikes[feature_cols]\n",
    "    y = bikes.total\n",
    "    # Como estamos trabajando con observaciones ordenadas en el tiempo, ponemos\n",
    "    # shuffle=False para evitar data leakage\n",
    "    X_train, X_test, y_train, y_test = train_test_split(X, y, shuffle=False)\n",
    "    linreg = LinearRegression()\n",
    "    linreg.fit(X_train, y_train)\n",
    "    y_pred = linreg.predict(X_test)\n",
    "    return np.sqrt(metrics.mean_squared_error(y_test, y_pred))"
   ]
  },
  {
   "cell_type": "code",
   "execution_count": null,
   "metadata": {
    "colab": {
     "base_uri": "https://localhost:8080/",
     "height": 51
    },
    "colab_type": "code",
    "executionInfo": {
     "elapsed": 694,
     "status": "ok",
     "timestamp": 1544745383644,
     "user": {
      "displayName": "Martín Ríos",
      "photoUrl": "",
      "userId": "02594387867327172413"
     },
     "user_tz": 180
    },
    "id": "eVGwLXmRyhkd",
    "outputId": "85fc1cfa-0784-454f-fc30-d945dbdb859b"
   },
   "outputs": [],
   "source": [
    "# comparamos diferentes ensambles de features\n",
    "print (train_test_rmse(['temp', 'humidity']))\n",
    "print (train_test_rmse(['temp', 'humidity','windspeed']))"
   ]
  },
  {
   "cell_type": "code",
   "execution_count": null,
   "metadata": {
    "colab": {
     "base_uri": "https://localhost:8080/",
     "height": 34
    },
    "colab_type": "code",
    "executionInfo": {
     "elapsed": 678,
     "status": "ok",
     "timestamp": 1544745481132,
     "user": {
      "displayName": "Martín Ríos",
      "photoUrl": "",
      "userId": "02594387867327172413"
     },
     "user_tz": 180
    },
    "id": "A7lRf8Qtyhkh",
    "outputId": "47ec3972-af2c-421a-ff43-bc0cc80d3120"
   },
   "outputs": [],
   "source": [
    "# Usando features no permitidas!!!\n",
    "# Son las features que componen la variable de respuesta.\n",
    "# Por definición la cantidad total de bicis prestadas es la suma de bicis prestadas a usuarios casuales y registrados\n",
    "# No tiene ningún sentido hacer un modelo de esto\n",
    "# Pero como la relación es tan directa, las métricas de error son bajísimas.\n",
    "print (train_test_rmse(['casual', 'registered']))"
   ]
  },
  {
   "cell_type": "code",
   "execution_count": null,
   "metadata": {
    "colab": {
     "base_uri": "https://localhost:8080/",
     "height": 34
    },
    "colab_type": "code",
    "executionInfo": {
     "elapsed": 1040,
     "status": "ok",
     "timestamp": 1544745538073,
     "user": {
      "displayName": "Martín Ríos",
      "photoUrl": "",
      "userId": "02594387867327172413"
     },
     "user_tz": 180
    },
    "id": "6sAM3zlMyhkk",
    "outputId": "434c029b-15d8-43da-ea67-a47d5ef039c7"
   },
   "outputs": [],
   "source": [
    "# Chequeamos que las columnas son perfectamente dependientes.\n",
    "np.all(bikes.casual + bikes.registered == bikes.total)"
   ]
  },
  {
   "cell_type": "markdown",
   "metadata": {
    "colab_type": "text",
    "id": "jhRuwVbUfz8D"
   },
   "source": [
    "# 4 Creando Features"
   ]
  },
  {
   "cell_type": "markdown",
   "metadata": {
    "colab_type": "text",
    "id": "x39GMh44yhk8"
   },
   "source": [
    "## 4.1 Manejo de variables categóricas\n",
    "\n",
    "Scikit-learn espera que todos los features sean numéricos. Entonces, ¿cómo incluimos una característica categórica en nuestro modelo?\n",
    "\n",
    "- ** Categorías ordenadas: ** transformarlas en valores numéricos que representan ese orden \n",
    "- ** Categorías no ordenadas: ** utilizar codificación ficticia (0/1) (Variables-dummy)\n",
    "\n",
    "¿Cuáles son las características categóricas de nuestro conjunto de datos?\n",
    "\n",
    "- ** Categorías ordenadas: ** weather (ya codificado con valores numéricos que representan el orden)\n",
    "- ** Categorías no ordenadas: ** season (necesita variables dummy), holiday (Ya está codificada como dummy), workingday (ya está codificada como dummy)\n",
    "\n",
    "Para la estación, no podemos simplemente dejar la codificación como 1 = primavera, 2 = verano, 3 = otoño y 4 = invierno, porque eso implicaría una ** relación ordenada **. En cambio, creamos ** variables dummies: **"
   ]
  },
  {
   "cell_type": "code",
   "execution_count": null,
   "metadata": {
    "colab": {
     "base_uri": "https://localhost:8080/",
     "height": 234
    },
    "colab_type": "code",
    "executionInfo": {
     "elapsed": 925,
     "status": "ok",
     "timestamp": 1544745737322,
     "user": {
      "displayName": "Martín Ríos",
      "photoUrl": "",
      "userId": "02594387867327172413"
     },
     "user_tz": 180
    },
    "id": "aXv_YK4Dyhk_",
    "outputId": "917475b3-1ed6-45e0-e236-a376988f1d05"
   },
   "outputs": [],
   "source": [
    "# crear variables dummies\n",
    "season_dummies = pd.get_dummies(bikes.season, prefix='season')\n",
    "\n",
    "# imprimimos para ver 5 filas cualquieras\n",
    "season_dummies.sample(n=5, random_state=1)"
   ]
  },
  {
   "cell_type": "markdown",
   "metadata": {
    "colab_type": "text",
    "id": "RaFbAmyqO3V4"
   },
   "source": [
    "Nota: El método `get_dummies` puede recibir un dataframe entero, en ese caso no modifica las variables numéricas y genera dummies para todas las categóricas que encuentre. "
   ]
  },
  {
   "cell_type": "markdown",
   "metadata": {
    "colab_type": "text",
    "id": "bHclZn9FyhlE"
   },
   "source": [
    "Sin embargo, en realidad sólo necesitamos ** tres variables dummy (no cuatro) **, y por lo tanto vamos a dropear la primera variable dummy. \n",
    "¿Por qué?"
   ]
  },
  {
   "cell_type": "code",
   "execution_count": null,
   "metadata": {
    "colab": {
     "base_uri": "https://localhost:8080/",
     "height": 234
    },
    "colab_type": "code",
    "executionInfo": {
     "elapsed": 700,
     "status": "ok",
     "timestamp": 1544745740401,
     "user": {
      "displayName": "Martín Ríos",
      "photoUrl": "",
      "userId": "02594387867327172413"
     },
     "user_tz": 180
    },
    "id": "z5LzpOXmyhlF",
    "outputId": "825ecd2b-9141-4d75-a231-33ac6cee0e95"
   },
   "outputs": [],
   "source": [
    "# Salteamos la primer columna\n",
    "season_dummies.drop(season_dummies.columns[0], axis=1, inplace=True)\n",
    "\n",
    "# imprimimos 5 filas cualquieras\n",
    "season_dummies.sample(n=5, random_state=1)"
   ]
  },
  {
   "cell_type": "markdown",
   "metadata": {
    "colab_type": "text",
    "id": "XxiiIONGyhlI"
   },
   "source": [
    "En general, si se tiene una feature categórica con ** k valores posibles **, se tienen que crear ** k-1 variables dummies **."
   ]
  },
  {
   "cell_type": "code",
   "execution_count": null,
   "metadata": {
    "colab": {
     "base_uri": "https://localhost:8080/",
     "height": 425
    },
    "colab_type": "code",
    "executionInfo": {
     "elapsed": 707,
     "status": "ok",
     "timestamp": 1544745758799,
     "user": {
      "displayName": "Martín Ríos",
      "photoUrl": "",
      "userId": "02594387867327172413"
     },
     "user_tz": 180
    },
    "id": "jkw72v2WyhlJ",
    "outputId": "bfe61e32-16e8-4696-a6de-b395c0d670e7"
   },
   "outputs": [],
   "source": [
    "# Concatenar el DataFrame original y el dummy DataFrame (axis = 0 significa filas, axis = 1 significa columnas)\n",
    "bikes = pd.concat([bikes, season_dummies], axis=1)\n",
    "\n",
    "# imprimimos 5 filas cualquieras\n",
    "bikes.sample(n=5)"
   ]
  },
  {
   "cell_type": "code",
   "execution_count": null,
   "metadata": {
    "colab": {
     "base_uri": "https://localhost:8080/",
     "height": 103
    },
    "colab_type": "code",
    "executionInfo": {
     "elapsed": 610,
     "status": "ok",
     "timestamp": 1544745821391,
     "user": {
      "displayName": "Martín Ríos",
      "photoUrl": "",
      "userId": "02594387867327172413"
     },
     "user_tz": 180
    },
    "id": "YHLP4wyEyhlM",
    "outputId": "bb4b7ef8-c1e2-4990-df68-3ff27f98a4df"
   },
   "outputs": [],
   "source": [
    "# Incluímos variables dummies\n",
    "\n",
    "feature_cols = ['temp', 'season_2', 'season_3', 'season_4', 'humidity']\n",
    "X = bikes[feature_cols]\n",
    "y = bikes.total\n",
    "linreg = LinearRegression()\n",
    "linreg.fit(X, y)\n",
    "\n",
    "\n",
    "list(zip(feature_cols, linreg.coef_))"
   ]
  },
  {
   "cell_type": "markdown",
   "metadata": {
    "colab_type": "text",
    "id": "qAjghdqbyhlS"
   },
   "source": [
    "¿Cómo interpretamos los coeficientes de season? ** se miden con respecto a la línea de base (spring) **:\n",
    "\n",
    "- Manteniendo todas las demás características fijas, ** summer ** se asocia con una ** disminución de alquiler de 3.39 bicicletas ** en comparación con spring.\n",
    "- Manteniendo todas las demás características fijas, ** fall ** se asocia con una ** disminución de alquiler de 41,73 bicicletas ** en comparación con spring.\n",
    "- Manteniendo todas las demás características fijas, ** winter ** se asocia con un ** aumento de alquiler de 64,4 bicicletas ** en comparación con spring.\n",
    "\n",
    "¿Qué pasa si cambiamos la dummy que se definió como la línea de base? ¿Cambiarían los efectos?\n",
    "\n",
    "- No, simplemente cambiaría nuestra ** interpretación ** de los coeficientes.\n",
    "\n",
    "** Importante: ** La codificación por dummies es relevante para todos los modelos de aprendizaje automático, no sólo para los modelos de regresión lineal."
   ]
  },
  {
   "cell_type": "code",
   "execution_count": null,
   "metadata": {
    "colab": {
     "base_uri": "https://localhost:8080/",
     "height": 34
    },
    "colab_type": "code",
    "executionInfo": {
     "elapsed": 678,
     "status": "ok",
     "timestamp": 1544745896914,
     "user": {
      "displayName": "Martín Ríos",
      "photoUrl": "",
      "userId": "02594387867327172413"
     },
     "user_tz": 180
    },
    "id": "CH9KXP9yyhlU",
    "outputId": "0420995d-632a-45fa-97f0-c1eb6686f936"
   },
   "outputs": [],
   "source": [
    "print (train_test_rmse(['temp', 'season_2', 'season_3', 'season_4', 'humidity']))"
   ]
  },
  {
   "cell_type": "markdown",
   "metadata": {
    "colab_type": "text",
    "id": "20HBBTxyyhm5"
   },
   "source": [
    "## 4.2 Conclusiones: Comparación de la regresión lineal con otros modelos\n",
    "\n",
    "Ventajas de la regresión lineal:\n",
    "\n",
    "- Simple de explicar\n",
    "- Muy interpretable\n",
    "- El entrenamiento y predicción de modelos son rápidos\n",
    "- Es invariante a cambios en la escala de los features. \n",
    "- No se puede estimar por mínimos cuadrados si el número de features es mayor al número de observaciones. \n",
    "\n",
    "\n",
    "Desventajas de la regresión lineal:\n",
    "\n",
    "- El rendimiento es (generalmente) no competitivo con los mejores métodos de aprendizaje supervisado debido a un alto sesgo"
   ]
  },
  {
   "cell_type": "markdown",
   "metadata": {
    "colab_type": "text",
    "id": "ZvQ5ufbXuu6L"
   },
   "source": [
    "# BONUS\n",
    "\n",
    "## Cross-Validation\n",
    "\n",
    "![Flujo Cross-Validation](https://cdn-images-1.medium.com/max/720/1*pJ5jQHPfHDyuJa4-7LR11Q.png)\n",
    "\n",
    "*https://medium.com/@hi.martinez/train-test-split-cross-validation-you-b87f662445e1*"
   ]
  },
  {
   "cell_type": "code",
   "execution_count": null,
   "metadata": {},
   "outputs": [],
   "source": []
  }
 ],
 "metadata": {
  "colab": {
   "collapsed_sections": [],
   "name": "Workshop_FB_Regresion_Lineal.ipynb",
   "provenance": [
    {
     "file_id": "1tLnxwf-lAA3so9YuHSq1nl6xxmW9kElL",
     "timestamp": 1544685889886
    },
    {
     "file_id": "1kx27Zo-Ir1nMRVUs6Si_Lz9bKhlP8gy4",
     "timestamp": 1530850462629
    }
   ],
   "version": "0.3.2"
  },
  "kernelspec": {
   "display_name": "Python 3",
   "language": "python",
   "name": "python3"
  },
  "language_info": {
   "codemirror_mode": {
    "name": "ipython",
    "version": 3
   },
   "file_extension": ".py",
   "mimetype": "text/x-python",
   "name": "python",
   "nbconvert_exporter": "python",
   "pygments_lexer": "ipython3",
   "version": "3.6.10"
  }
 },
 "nbformat": 4,
 "nbformat_minor": 4
}

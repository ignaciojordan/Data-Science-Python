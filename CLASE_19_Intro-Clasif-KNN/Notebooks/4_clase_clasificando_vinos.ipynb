{
 "cells": [
  {
   "cell_type": "code",
   "execution_count": null,
   "metadata": {},
   "outputs": [],
   "source": [
    "# initial setup\n",
    "try:\n",
    "    # settings colab:\n",
    "    import google.colab\n",
    "    \n",
    "except ModuleNotFoundError:    \n",
    "    # settings local:\n",
    "    %run \"../../../common/0_notebooks_base_setup.py\""
   ]
  },
  {
   "cell_type": "markdown",
   "metadata": {},
   "source": [
    "<img src=\"../../../common/logo_DH.svg\" align='left' width=50%/>"
   ]
  },
  {
   "cell_type": "markdown",
   "metadata": {
    "colab_type": "text",
    "id": "84PdwHJxMxmA"
   },
   "source": [
    "# LAB: KNN\n",
    "\n",
    "## 1. Introducción\n",
    "\n",
    "El objetivo de este ejercicio es clasificar si un determinado tipo de vino es de alta o baja calidad. Para eso usaremos un dataset que contiene un set amplio de _features_ vinculados a diversas características del vino, tales como acidez, azúclar, densidad, ph, si es tinto, etc.\n",
    "\n",
    "Usaremos como target high_quality, una discretización de la variable quality.\n",
    "\n",
    "Comencemos leyendo los datos..."
   ]
  },
  {
   "cell_type": "code",
   "execution_count": null,
   "metadata": {
    "colab": {},
    "colab_type": "code",
    "id": "eSVfuqizMxmD",
    "outputId": "cc8f0310-896c-4680-e115-16094f2e97bc"
   },
   "outputs": [],
   "source": [
    "import pandas as pd\n",
    "import numpy as np"
   ]
  },
  {
   "cell_type": "code",
   "execution_count": null,
   "metadata": {
    "colab": {},
    "colab_type": "code",
    "id": "eSVfuqizMxmD",
    "outputId": "cc8f0310-896c-4680-e115-16094f2e97bc"
   },
   "outputs": [],
   "source": [
    "df = pd.read_csv('../Data/wine.csv')\n",
    "df.head()"
   ]
  },
  {
   "cell_type": "markdown",
   "metadata": {},
   "source": [
    "## 2. Análisis exploratorio\n",
    "\n",
    "- ¿Cuántas observaciones hay en la tabla? ¿Tenemos datos faltantes?\n",
    "- ¿Cómo se distribuye la variable target?\n",
    "- ¿Existen variables redundantes?\n",
    "- ¿Qué variables están más correlacionadas con el _target_?\n",
    "- ¿Cómo podemos visualizar las relaciones entre cada par de variables?"
   ]
  },
  {
   "cell_type": "code",
   "execution_count": null,
   "metadata": {},
   "outputs": [],
   "source": []
  },
  {
   "cell_type": "code",
   "execution_count": null,
   "metadata": {},
   "outputs": [],
   "source": []
  },
  {
   "cell_type": "markdown",
   "metadata": {
    "colab_type": "text",
    "id": "da8yHLByMxmh"
   },
   "source": [
    "## 3. Preprocesamiento y limpieza del dataset\n",
    "\n",
    "- Construir la matriz de _features_, prestando especial atención a no incluir las variables redundantes ni replicar información del _target_ en ninguna _feature_ (¡siempre hay que evitar el filtrado de información!)\n",
    "- Construir la variable _target_: high_quality\n",
    "- Separar los conjuntos de entrenamiento y testeo, estratificando por clase\n",
    "- ¿Necesitamos estandarizar las variables?"
   ]
  },
  {
   "cell_type": "code",
   "execution_count": null,
   "metadata": {},
   "outputs": [],
   "source": []
  },
  {
   "cell_type": "code",
   "execution_count": null,
   "metadata": {},
   "outputs": [],
   "source": []
  },
  {
   "cell_type": "markdown",
   "metadata": {
    "colab_type": "text",
    "id": "da8yHLByMxmh"
   },
   "source": [
    "## 4. Entrenando KNN\n",
    "\n",
    "- Experimentar con diferentes valores para el hiperparámetro _k_ y evaluar el accuracy promedio del modelo y su dispersión en validación cruzada sobre el _traininig set_\n",
    "- Visualizar los resultados\n",
    "\n",
    "**Pista:** pueden tratar de generar una función que encapsule la generación de la tabla de resultados vimos en la notebook 1."
   ]
  },
  {
   "cell_type": "code",
   "execution_count": null,
   "metadata": {
    "colab": {},
    "colab_type": "code",
    "id": "XbUAd-nSMxmj"
   },
   "outputs": [],
   "source": []
  },
  {
   "cell_type": "code",
   "execution_count": null,
   "metadata": {
    "colab": {},
    "colab_type": "code",
    "id": "KEQtM2HhMxmo"
   },
   "outputs": [],
   "source": []
  },
  {
   "cell_type": "markdown",
   "metadata": {},
   "source": [
    "## 5. Prediciendo sobre _test_\n",
    "\n",
    "- Habiendo identificado la mejor configuración del modelo en el paso anterior, reentrenar sobre todo el _training set_ y predecir sobre _test_\n",
    "- ¿Qué accuracy obtenemos sobre _test_? ¿Cómo podemos saber si estamos ante un caso de sub-ajuste o sobre-ajuste?\n",
    "- Graficar la matriz de confusión"
   ]
  },
  {
   "cell_type": "code",
   "execution_count": null,
   "metadata": {},
   "outputs": [],
   "source": []
  },
  {
   "cell_type": "code",
   "execution_count": null,
   "metadata": {},
   "outputs": [],
   "source": []
  }
 ],
 "metadata": {
  "colab": {
   "collapsed_sections": [],
   "name": "Starter_LAB_Intro_Clasificacion.ipynb",
   "provenance": [],
   "version": "0.3.2"
  },
  "kernelspec": {
   "display_name": "Python 3",
   "language": "python",
   "name": "python3"
  },
  "language_info": {
   "codemirror_mode": {
    "name": "ipython",
    "version": 3
   },
   "file_extension": ".py",
   "mimetype": "text/x-python",
   "name": "python",
   "nbconvert_exporter": "python",
   "pygments_lexer": "ipython3",
   "version": "3.6.10"
  }
 },
 "nbformat": 4,
 "nbformat_minor": 4
}

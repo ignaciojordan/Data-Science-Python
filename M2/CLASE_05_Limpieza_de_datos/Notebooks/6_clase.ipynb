{
 "cells": [
  {
   "cell_type": "code",
   "execution_count": null,
   "metadata": {},
   "outputs": [],
   "source": [
    "try:\n",
    "    # settings colab:\n",
    "    import google.colab\n",
    "    \n",
    "    ! mkdir -p ../Data\n",
    "    # los que usan colab deben modificar el token de esta url:\n",
    "    ! wget -O ../Data/MetObjects_sample.csv \"https://raw.githubusercontent.com/Digital-House-DATA/ds_blend_students_2020/master/M2/CLASE_05_Limpieza_de_datos/Data/MetObjects_sample.csv?token=AA4GFHMOLN4JKDHXLJOHNKK6UGTK4\"\n",
    "    \n",
    "except ModuleNotFoundError:    \n",
    "    # settings local:\n",
    "    %run \"../../../common/0_notebooks_base_setup.py\"\n"
   ]
  },
  {
   "cell_type": "markdown",
   "metadata": {},
   "source": [
    "---\n",
    "\n",
    "<img src='../../../common/logo_DH.png' align='left' width=35%/>\n"
   ]
  },
  {
   "cell_type": "markdown",
   "metadata": {},
   "source": [
    "# Limpieza de datos. Apply. Expresiones regulares."
   ]
  },
  {
   "cell_type": "markdown",
   "metadata": {},
   "source": [
    "La limpieza es un paso necesario en todo proyecto de datos. \n",
    "\n",
    "Podemos resumir el proceso de limpieza de datos en las siguientes cinco tareas:\n",
    "\n",
    "**1. Resolver problemas de formato y asignar tipos de datos correctos.**\n",
    "\n",
    "Por ejemplo, cuando al pasar de CSV a Pandas una fecha no se importa correctamente como puede ser el caso de un campo fecha donde se importa 20090609231247 en lugar de 2009-06-09 23:12:47.\n",
    "\n",
    "El formato en que se encuentran los datos determina qué operaciones pueden realizarse sobre ellos.\n",
    "\n",
    "**2. Estandarizar categorías.**\n",
    "\n",
    "Cuando los datos se recolectaron con un sisstema que no tiene valores tipificadaos, valores que representan la misma categoría pueden estar expresados de forma distinta. Por ejemplo: Arg, AR, Argentina\n",
    "\n",
    "**3. Corregir valores erróneos.**\n",
    "\n",
    "Por ejemplo: un valor numérico o inválido para describir el género; o una edad representada por un número negativo o mucho mayor que 100.\n",
    "\n",
    "**4. Completar datos faltantes.**\n",
    "\n",
    "Los datasets del mundo real suelen venir con datos faltantes que responden a información que se perdió o nunca se recolectó. Existen varias técnicas para completar datos faltantes. Al proceso de completar datos faltantes se lo llama \"imputación\".\n",
    "\n",
    "**5. Organizar el dataset.**\n",
    "\n",
    "Es importante estructurar las filas y columnas de la forma más conveniente. Para hacerlo se pueden aplicar las reglas del \"tidy data\".\n"
   ]
  },
  {
   "cell_type": "markdown",
   "metadata": {},
   "source": [
    "\n",
    "## Dataset\n",
    "\n",
    "El Met (Metropolitan Museum of Art) provee datasets de información de más de 420.000 piezas de arte en su colección.\n",
    "\n",
    "https://github.com/metmuseum/openaccess/\n",
    "\n",
    "Los problemas que presentan este dataset incluyen:\n",
    "* Valores faltantes\n",
    "* Posibles duplicaciones\n",
    "* Campos con mezcla de campos de tipo numérico con cadenas de caracteres\n",
    "\n",
    "En esta clase vamos a detectar algunos de los qué campos presentan problemas, y solucionarlos usando las herramientas que adquirimos en las prácticas guiadas.\n"
   ]
  },
  {
   "cell_type": "markdown",
   "metadata": {},
   "source": [
    "## Ejercicio 1:\n",
    "\n",
    "Vamos a leer en la variable `data` los datos del archivo /M2/CLASE_05_Limpieza_de_datos/Data/MetObjects_sample.csv en un `DataFrame` de pandas con el método `read_csv` \n",
    "\n",
    "Veamos cuántas filas y columnas tiene el DataFrame data"
   ]
  },
  {
   "cell_type": "code",
   "execution_count": null,
   "metadata": {},
   "outputs": [],
   "source": []
  },
  {
   "cell_type": "markdown",
   "metadata": {},
   "source": [
    "## Ejercicio 2: Formato y tipos de datos\n",
    "\n",
    "Vamos a ver de qué tipo de datos es cada columna del DataFrame, y vamos a convertir o dar formato **a alguna de las columnas** que tienen tipo de datos incorrecto.\n",
    "\n",
    "### 2.a Detectar las columnas que tienen tipo de datos incorrecto"
   ]
  },
  {
   "cell_type": "code",
   "execution_count": null,
   "metadata": {},
   "outputs": [],
   "source": []
  },
  {
   "cell_type": "markdown",
   "metadata": {},
   "source": [
    "### 2.b AccessionYear\n",
    "\n",
    "Analizar la columna AccessionYear que fue leída como object, y debería ser int.\n",
    "\n",
    "¿Qué valores toma ese campo? ¿Cómo se distribuyen esos valores? ¿Hay valores nulos?\n",
    "\n",
    "Queremos extraer el dato año de los valores no numéricos, y crear una nueva columna en el DataFrame de tipo int que se llame AccessionYearClean y tenga estos valores.\n",
    "\n",
    "Para eso vamos a usar expresiones regulares, apply y lambda.\n",
    "\n",
    "Observación: si la columna tiene valores NaN no vamos a poder convertirla al tipo int. Una opción es reemplazar los valores NaN por algún entero antes de convertir (`fillna`). La otra opción es dejar la columna como tipo float (el tipo de NaN es float).\n"
   ]
  },
  {
   "cell_type": "code",
   "execution_count": null,
   "metadata": {},
   "outputs": [],
   "source": []
  },
  {
   "cell_type": "markdown",
   "metadata": {},
   "source": [
    "## Ejercicio 3: Categorias - Valores erróneos\n",
    "\n",
    "Miremos ahora el campo \"Artist Gender\"\n",
    "\n",
    "¿Qué valores toma ese campo? ¿Cómo se distribuyen esos valores? ¿Hay valores nulos?\n",
    "\n",
    "Queremos definir como categorías válidas Male, Female y Unknown\n",
    "\n",
    "Y crear una nueva columna en el DataFrame que se llame ArtistGenderClean y tenga estos valores.\n",
    "\n",
    "Para eso vamos a usar expresiones regulares, apply y lambda.\n",
    "\n",
    "¿Podemos deducir cómo está representada la categoría Male en el dataset original?\n",
    "\n",
    "Nota: La propuesta que hacemos para limpiar este campo no es del todo correcta, y vamos a ver por qué más adelante. Pero sirve como ejercicio.\n"
   ]
  },
  {
   "cell_type": "code",
   "execution_count": null,
   "metadata": {},
   "outputs": [],
   "source": []
  },
  {
   "cell_type": "markdown",
   "metadata": {},
   "source": [
    "## Ejercicio 4: Imputación\n",
    "\n",
    "Vamos a analizar ahora los campos \"Object Date\", \"Object Begin Date\", \"Object End Date\"\n",
    "\n",
    "**4.a ¿Cuántos valores nulos hay en \"Object Date\"? ¿Cuántos en \"Object Begin Date\"? ¿Cuántos en \"Object End Date\"?**\n"
   ]
  },
  {
   "cell_type": "code",
   "execution_count": null,
   "metadata": {},
   "outputs": [],
   "source": []
  },
  {
   "cell_type": "markdown",
   "metadata": {},
   "source": [
    "**4.b Usaremos los valores de \"Object Begin Date\" o \"Object End Date\" para imputar los valores de \"Object Date\" con alguno de esos dos campos.**\n",
    "\n",
    "1) Vamos a crear una columna nueva (\"Object Date 4b\") donde copiamos todos los datos de Object Date (para no cambiar los valores originales y nos sirvan para el próximo ejercicio)\n",
    "\n",
    "2) Vamos a rellenar la columna \"Object Date 4b\" con la estrategia que planteamos."
   ]
  },
  {
   "cell_type": "code",
   "execution_count": null,
   "metadata": {},
   "outputs": [],
   "source": []
  },
  {
   "cell_type": "markdown",
   "metadata": {},
   "source": [
    "**4.c Usaremos aleatoriamente los valores de \"Object Begin Date\" o \"Object End Date\" para imputar los valores de \"Object Date\" con alguno de esos dos campos.**\n",
    "\n",
    "Para eso definimos una función get_fill_value que recibe como parámetro una fila da data, y si el valor del campo \"Object Date\" es nulo devuelve aleatoriamente el valor del campo \"Object Begin Date\" u \"Object End Date\" de ese registro.\n",
    "\n",
    "(En este ejercicio practicamos todo!)"
   ]
  },
  {
   "cell_type": "code",
   "execution_count": null,
   "metadata": {},
   "outputs": [],
   "source": []
  },
  {
   "cell_type": "markdown",
   "metadata": {},
   "source": [
    "Vamos a contar ahora cuántos registros rellenó con los valores de Object Begin Date y cuántos con Object End Date"
   ]
  },
  {
   "cell_type": "code",
   "execution_count": null,
   "metadata": {},
   "outputs": [],
   "source": []
  },
  {
   "cell_type": "markdown",
   "metadata": {},
   "source": [
    "## Nota: Organizar el dataset\n",
    "\n",
    "Para llevar a cabo esta tarea necesitamos algunas herramientas que veremos en la segunda parte de Pandas.\n",
    "\n",
    "En esa clase vamos a volver a este ejercicio y resolver este punto.\n",
    "\n",
    "Los campos que vamos a analizar son \"Artist Nationality\" y \"Artist Display Name\""
   ]
  },
  {
   "cell_type": "code",
   "execution_count": null,
   "metadata": {},
   "outputs": [],
   "source": [
    "data[\"Artist Nationality\"].value_counts()"
   ]
  },
  {
   "cell_type": "code",
   "execution_count": null,
   "metadata": {},
   "outputs": [],
   "source": [
    "data[\"Artist Display Name\"].value_counts() "
   ]
  }
 ],
 "metadata": {
  "kernelspec": {
   "display_name": "Python 3",
   "language": "python",
   "name": "python3"
  },
  "language_info": {
   "codemirror_mode": {
    "name": "ipython",
    "version": 3
   },
   "file_extension": ".py",
   "mimetype": "text/x-python",
   "name": "python",
   "nbconvert_exporter": "python",
   "pygments_lexer": "ipython3",
   "version": "3.7.6"
  }
 },
 "nbformat": 4,
 "nbformat_minor": 4
}

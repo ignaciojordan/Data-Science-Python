{
 "cells": [
  {
   "cell_type": "code",
   "execution_count": null,
   "metadata": {},
   "outputs": [],
   "source": [
    "try:\n",
    "    # settings colab:\n",
    "    import google.colab\n",
    "    \n",
    "    ! mkdir -p ../Data\n",
    "    # los que usan colab deben modificar el token de esta url:\n",
    "    ! wget -O ../Data/melb_data.csv \"https://raw.githubusercontent.com/Digital-House-DATA/ds_blend_students_2020/master/M2/CLASE_05_Limpieza_de_datos/Data/melb_data.csv?token=AA4GFHIDAH5VEX2N7ZFSVYK6VHD3I\"\n",
    "    \n",
    "except ModuleNotFoundError:    \n",
    "    # settings local:\n",
    "    %run \"../../../common/0_notebooks_base_setup.py\"\n"
   ]
  },
  {
   "cell_type": "markdown",
   "metadata": {},
   "source": [
    "---\n",
    "\n",
    "<img src='../../../common/logo_DH.png' align='left' width=35%/>\n"
   ]
  },
  {
   "cell_type": "markdown",
   "metadata": {},
   "source": [
    "# Funciones Lambda. Apply. Applymap.\n"
   ]
  },
  {
   "cell_type": "markdown",
   "metadata": {},
   "source": [
    "<a id=\"section_toc\"></a> \n",
    "## Tabla de Contenidos\n",
    "\n",
    "[Funciones Lambda](#section_intro)\n",
    "\n",
    "$\\hspace{.5cm}$[Sintaxis](#section_sintaxis)\n",
    "\n",
    "[Métodos apply applymap map](#section_apply)\n"
   ]
  },
  {
   "cell_type": "markdown",
   "metadata": {},
   "source": [
    "<a id=\"section_lambda\"></a> \n",
    "## Funciones Lambda\n",
    "\n",
    "\n",
    "[volver a TOC](#section_toc)\n"
   ]
  },
  {
   "cell_type": "markdown",
   "metadata": {},
   "source": [
    "Las funciones lambda también se denominan funciones anónimas. Una función anónima es una función definida sin un nombre. Como sabemos, para definir una función normal en Python, usamos la palabra clave `def`. Pero en el caso de funciones anónimas, usamos la palabra clave `lambda` para definirlas.\n",
    "\n",
    "Las funciones lambda son especialmente útiles en análisis de datos porque, como veremos, hay muchos casos donde las funciones de transformación de datos tomarán **funciones como argumentos**. En general, es más claro pasar una función lambda en lugar de escribir una declaración de función completa, o de asignar una expresión lambda a una variable local."
   ]
  },
  {
   "cell_type": "markdown",
   "metadata": {},
   "source": [
    "<a id=\"section_sintaxis\"></a> \n",
    "### Sintaxis\n",
    "\n",
    "\n",
    "[volver a TOC](#section_toc)\n",
    "\n",
    "\n",
    "`lambda arguments: expression`\n",
    "\n",
    "Ejemplos:\n",
    "\n",
    "1) Definimos una función lambda y la asignamos a la variable add. En la siguiente linea la ejecutamos e imprimimos el resultado."
   ]
  },
  {
   "cell_type": "code",
   "execution_count": null,
   "metadata": {},
   "outputs": [],
   "source": [
    "add = lambda a: a + a\n",
    "print(add(20))"
   ]
  },
  {
   "cell_type": "markdown",
   "metadata": {},
   "source": [
    "2) Definimos otra función lambda y la guardamos en la variable add, la ejecutamos e imprimimos el resultado."
   ]
  },
  {
   "cell_type": "code",
   "execution_count": null,
   "metadata": {},
   "outputs": [],
   "source": [
    "add = lambda a, b, c: a + b + c\n",
    "print(add(10, 11, 12))"
   ]
  },
  {
   "cell_type": "markdown",
   "metadata": {},
   "source": [
    "3) Rescribimos como función lambda la función `short_function`"
   ]
  },
  {
   "cell_type": "code",
   "execution_count": null,
   "metadata": {},
   "outputs": [],
   "source": [
    "def short_function(x):\n",
    "    return x * 2\n",
    "\n",
    "equiv_anon = lambda x: x * 2"
   ]
  },
  {
   "cell_type": "markdown",
   "metadata": {},
   "source": [
    "<div id=\"caja1\" style=\"float:left;width: 100%;\">\n",
    "  <div style=\"float:left;width: 15%;\"><img src=\"../../../common/icons/haciendo_foco.png\" style=\"align:left\"/> </div>\n",
    "  <div style=\"float:left;width: 85%;\"><label>\n",
    "En cada unos de los ejemplos de funciones lambda:<br/>\n",
    "¿Cuáles son los argumentos?\n",
    "<br/>\n",
    "¿Cuál es la expresión?\n",
    "</label></div>\n",
    "</div>\n",
    "\n"
   ]
  },
  {
   "cell_type": "markdown",
   "metadata": {},
   "source": [
    "---\n",
    "\n",
    "<a id=\"section_apply\"></a> \n",
    "##  apply, applymap, map\n",
    "\n",
    "[volver a TOC](#section_toc)\n",
    "\n",
    "\n",
    "Pandas cuenta con un conjunto de métodos que permiten operar eficientemente sobre los elementos de un objeto DataFrame o Series.\n",
    "Para aplicar la lógica deseada, podemos optar tanto por definir funciones con nombre como por utilizar expresiones lambda que luego no pueden reutilizarse.\n",
    "    \n",
    "1)  pd.DataFrame.apply: Opera sobre filas o columnas completas de una instancia de DataFrame\n",
    "\n",
    "https://pandas.pydata.org/pandas-docs/stable/reference/api/pandas.DataFrame.apply.html\n",
    "    \n",
    "2)  pd.DataFrame.applymap: Opera sobre cada uno de los elementos de una instancia de DataFrame\n",
    "\n",
    "https://pandas.pydata.org/pandas-docs/stable/reference/api/pandas.DataFrame.applymap.html\n",
    "    \n",
    "3)  pd.Series.apply: Opera sobre cada uno de los elementos de la instancia de Series. \n",
    "    \n",
    "https://pandas.pydata.org/pandas-docs/stable/reference/api/pandas.Series.apply.html\n",
    "    \n",
    "4)  pd.Series.map: Opera sobre cada uno de los elementos de la instancia de Series, muy similar a Series.apply. \n",
    "    \n",
    "https://pandas.pydata.org/pandas-docs/stable/reference/api/pandas.Series.map.html\n",
    "\n",
    "La diferencia entre pd.Series.map y pd.Series.apply es que la segunda puede generar un Dataframe a partir de la serie, mientras que la primera si recibiera una serie como return de la función crearía una serie de series.\n",
    "\n",
    "El método apply de pandas permite realizar operaciones vectorizadas sobre los objetos DataFrame tanto fila por fila como columna por columna."
   ]
  },
  {
   "cell_type": "markdown",
   "metadata": {},
   "source": [
    "Vamos a ver ahora algunos ejemplos de uso sobre el dataset de propiedades de Melbourne, que usamos en la práctica de Limpieza de Datos"
   ]
  },
  {
   "cell_type": "code",
   "execution_count": null,
   "metadata": {},
   "outputs": [],
   "source": [
    "import pandas as pd\n",
    "\n",
    "# local\n",
    "data_location = \"../Data/melb_data.csv\"\n",
    "# colab\n",
    "# data_location = \"\"\n",
    "\n",
    "data = pd.read_csv(data_location)\n",
    "\n",
    "data.head(3)\n"
   ]
  },
  {
   "cell_type": "markdown",
   "metadata": {},
   "source": [
    "## Apply sobre filas de un objeto DataFrame\n",
    "\n",
    "Vamos a calcular el precio por metro cuadrado de cada uno de los registros del dataset.\n",
    "\n",
    "Para eso, vamos a dividir el valor del campo Price por el valor del campo Landsize para cada registro.\n",
    "\n",
    "Escribimos esa cuenta como una función Lambda, que pasaremos como primer argumento de apply.\n",
    "\n",
    "En la documentación, para el argumento axis vemos:\n",
    "\n",
    "    0 or ‘index’: apply function to each column.\n",
    "\n",
    "    1 or ‘columns’: apply function to each row.\n",
    "\n",
    "Por lo tanto, en el segundo argumento el valor de de axis es 1 porque queremos aplicar la función a cada fila.\n",
    "\n",
    "Como tenemos que hacer una división, debemos verificar que el denominador no sea cero. Para eso vamos a escribir una expresión condicional en una linea con esta sintaxis:\n",
    "\n",
    "`value_when_true if condition else value_when_false`\n",
    "\n",
    "En este caso:\n",
    "\n",
    "`0 if x['Landsize'] == 0 else x['Price'] / x['Landsize']`\n"
   ]
  },
  {
   "cell_type": "code",
   "execution_count": null,
   "metadata": {},
   "outputs": [],
   "source": [
    "precio_m2 = data.apply(lambda x: 0 if x['Landsize'] == 0 else x['Price'] / x['Landsize'], axis=1)\n",
    "print(type(precio_m2))\n",
    "print(\"Cantidad de elementos en precio_m2: \" + str(len(precio_m2)))\n",
    "print(\"Cantidad de filas en data: \" + str(data.shape[0]))\n",
    "print(precio_m2.head(3))"
   ]
  },
  {
   "cell_type": "markdown",
   "metadata": {},
   "source": [
    "Vemos que precio_m2 es una instancia de Series y que tiene la misma cantidad de elementos que la cantidad de filas en data"
   ]
  },
  {
   "cell_type": "markdown",
   "metadata": {},
   "source": [
    "## Apply sobre columnas de un objeto DataFrame\n",
    "\n",
    "Ahora vamos a calcular el promedio de cada una de las columnas con valores numéricos.\n",
    "\n",
    "Para determinar si una columna es de tipo numérico vamos a usar `np.issubdtype(..., np.number)` que devuelve True si col_type hereda de np.number, y False si no. Y vamos a armar una lista por comprensión con los nombres de las columnas de tipo numérico:\n",
    "\n",
    "`numeric_columns_mask = [np.issubdtype(data[col].dtypes, np.number) for col in data.columns]\n",
    "numeric_columns_names = data.columns[numeric_columns_mask]`\n",
    "\n",
    "\n",
    "Para eso definiremos una función lambda que aplique `mean` sobre cada columna cuyo nombre esté en la lista que construimos en el paso anterior.\n",
    "\n",
    "Como queremos aplicar esta función sobre cada una de las columnas del DataFrame, el valor de axis que usamos es 0.\n"
   ]
  },
  {
   "cell_type": "code",
   "execution_count": null,
   "metadata": {},
   "outputs": [],
   "source": [
    "import numpy as np\n",
    "\n",
    "numeric_columns_mask = [np.issubdtype(data[col].dtypes, np.number) for col in data.columns]\n",
    "numeric_columns_names = data.columns[numeric_columns_mask]\n",
    "print(numeric_columns_names)\n",
    "\n",
    "means = data.apply(lambda x: x.mean() if x.name in numeric_columns_names else np.NaN, axis=0)\n",
    "print(means)\n",
    "print(type(means))\n",
    "print(len(means) == data.shape[1])"
   ]
  },
  {
   "cell_type": "markdown",
   "metadata": {},
   "source": [
    "Vemos que `means` es una instancia de Series y que tiene la misma cantidad de elementos que la cantidad de columnas en data"
   ]
  },
  {
   "cell_type": "markdown",
   "metadata": {},
   "source": [
    "## Applymap sobre un objeto DataFrame\n",
    "\n",
    "Vamos a escribir ahora todos los valores de los elementos del DataFrame en minúscula.\n",
    "\n",
    "Si es el valor es numérico, no lo cambiamos.\n"
   ]
  },
  {
   "cell_type": "code",
   "execution_count": null,
   "metadata": {},
   "outputs": [],
   "source": [
    "data_lower = data.applymap(lambda x: x if np.isreal(x) else str(x).lower())\n",
    "# comparo los tipos de datos antes y después de pasar a minúsculas:\n",
    "print(data_lower.dtypes == data.dtypes)\n",
    "print(data_lower.head(3))"
   ]
  },
  {
   "cell_type": "markdown",
   "metadata": {},
   "source": [
    "Vemos que los tipos de datos de las columnas del DataFrame no se modificaron, y que todas las cadenas de caracteres quedaron en minúscula."
   ]
  },
  {
   "cell_type": "markdown",
   "metadata": {},
   "source": [
    "## Apply sobre un objeto Series\n",
    "\n",
    "\n",
    "Construimos una instancia de Series con los valores de la columna Price.\n",
    "\n",
    "Vamos a aplicar un descuento del 10% en el precio, multiplicando cada uno de los valores de este objeto Series por 0.9"
   ]
  },
  {
   "cell_type": "code",
   "execution_count": null,
   "metadata": {},
   "outputs": [],
   "source": [
    "price_serie = data.Price\n",
    "print(type(price_serie))\n",
    "\n",
    "price_discount = price_serie.apply(lambda x: x * 0.9)\n",
    "price_discount"
   ]
  },
  {
   "cell_type": "markdown",
   "metadata": {},
   "source": [
    "## Map sobre un objeto Series\n",
    "\n",
    "Repetimos el ejemplo anterior con map."
   ]
  },
  {
   "cell_type": "code",
   "execution_count": null,
   "metadata": {},
   "outputs": [],
   "source": [
    "price_serie = data.Price\n",
    "print(type(price_serie))\n",
    "\n",
    "price_discount = price_serie.map(lambda x: x * 0.9)\n",
    "price_discount"
   ]
  },
  {
   "cell_type": "markdown",
   "metadata": {},
   "source": [
    "## Usando apply con funciones no anónimas\n",
    "\n",
    "En todos los casos anteriores usamos funciones anónimas porque se ejecutan de modo más eficiente que las definidas con `def`. Sin embargo, la sintaxis de apply, applymap y map es la misma cualquiera sea la forma de difinir la función (`lambda` o `def`).\n",
    "\n",
    "Como ejemplo, vamos a rescribir el ejercicio en el que calculamos el promedio de cada una de las columnas de data con valores numéricos, pero con una función definida con \"def\" (no anónima)."
   ]
  },
  {
   "cell_type": "code",
   "execution_count": null,
   "metadata": {},
   "outputs": [],
   "source": [
    "def promedio_numerica(columna):    \n",
    "    columna_numeric = pd.to_numeric(columna, errors='coerce') \n",
    "    # si no puede convertirlo va a asignar NaN a todos los elementos de la columna\n",
    "    result = columna_numeric.mean()\n",
    "    return result\n",
    "\n",
    "means = data.apply(promedio_numerica, axis=0)\n",
    "print(means)\n",
    "print(type(means))\n",
    "print(len(means) == data.shape[1])"
   ]
  },
  {
   "cell_type": "markdown",
   "metadata": {},
   "source": [
    "**Observación:**\n",
    "\n",
    "Es importante destacar que los métodos que vimos en esta práctica, apply applymap y map, son vectorizados y por lo tanto se ejecutan de forma muy eficiente. Por eso siempre vamos a preferirlos en reemplazo de los ciclos for o while."
   ]
  },
  {
   "cell_type": "markdown",
   "metadata": {},
   "source": [
    "---\n",
    "\n",
    "## Ejercicio\n",
    "\n",
    "Construyamos una columna nueva (de nombre postcode_suburb) en el DataFrame data, que sea la concatenación del campo Postcode, seguido de \"-\", seguido del valor del campo Suburb.\n",
    "\n",
    "Para esto usemos apply sobre data, y una función lambda.\n",
    "\n"
   ]
  }
 ],
 "metadata": {
  "kernelspec": {
   "display_name": "Python 3",
   "language": "python",
   "name": "python3"
  },
  "language_info": {
   "codemirror_mode": {
    "name": "ipython",
    "version": 3
   },
   "file_extension": ".py",
   "mimetype": "text/x-python",
   "name": "python",
   "nbconvert_exporter": "python",
   "pygments_lexer": "ipython3",
   "version": "3.7.6"
  }
 },
 "nbformat": 4,
 "nbformat_minor": 4
}

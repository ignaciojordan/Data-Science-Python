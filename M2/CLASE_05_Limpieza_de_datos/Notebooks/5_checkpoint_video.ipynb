{
 "cells": [
  {
   "cell_type": "code",
   "execution_count": null,
   "metadata": {},
   "outputs": [],
   "source": [
    "try:\n",
    "    # settings colab:\n",
    "    import google.colab\n",
    "    \n",
    "    ! mkdir -p ../Data\n",
    "    # los que usan colab deben modificar el token de esta url:\n",
    "    ! wget -O ../Data/MetObjects_sample.csv \"https://raw.githubusercontent.com/Digital-House-DATA/ds_blend_students_2020/master/M2/CLASE_05_Limpieza_de_datos/Data/MetObjects_sample.csv?token=AA4GFHMOLN4JKDHXLJOHNKK6UGTK4\"\n",
    "    \n",
    "except ModuleNotFoundError:    \n",
    "    # settings local:\n",
    "    %run \"../../../common/0_notebooks_base_setup.py\"\n"
   ]
  },
  {
   "cell_type": "markdown",
   "metadata": {},
   "source": [
    "Los temas que vimos en esta parte son limpieza de datos, expresiones regulares, funciones lambda, apply .\n",
    "\n",
    "La idea de esta práctica es ejercitar los puntos que vamos a necesitar en la clase presencial.\n",
    "\n",
    "Usaremos el dataset de las obras del Met (The Metropolitan Museum of Art)\n",
    "\n",
    "https://github.com/metmuseum/openaccess/\n",
    "\n"
   ]
  },
  {
   "cell_type": "markdown",
   "metadata": {},
   "source": [
    "## Ejercicio 1\n",
    "Vamos a leer en la variable `data` los datos del archivo /M2/CLASE_05_Limpieza_de_datos/Data/MetObjects_sample.csv en un `DataFrame` de pandas con el método `read_csv` \n",
    "\n",
    "Veamos de qué tipos de datos son las columnas.\n"
   ]
  },
  {
   "cell_type": "code",
   "execution_count": null,
   "metadata": {},
   "outputs": [],
   "source": [
    "import pandas as pd\n",
    "\n",
    "# local\n",
    "data_location = \"../Data/MetObjects_sample.csv\"\n",
    "\n",
    "data = pd.read_csv(data_location)\n",
    "\n",
    "data.dtypes"
   ]
  },
  {
   "cell_type": "markdown",
   "metadata": {},
   "source": [
    "## Ejercicio 2\n",
    "¿Qué campos tienen valores nulos? ¿Qué porcentaje de nulos tienen cada uno de ellos?"
   ]
  },
  {
   "cell_type": "code",
   "execution_count": null,
   "metadata": {},
   "outputs": [],
   "source": [
    "cant_nulos_por_campo = data.apply(lambda x: x.isnull().sum(), axis=0)\n",
    "print(cant_nulos_por_campo)"
   ]
  },
  {
   "cell_type": "code",
   "execution_count": null,
   "metadata": {},
   "outputs": [],
   "source": [
    "cant_registros = data.shape[0]\n",
    "print(cant_registros)\n",
    "\n",
    "porc_nulos_por_campo = 100 * cant_nulos_por_campo / cant_registros\n",
    "print(porc_nulos_por_campo)"
   ]
  },
  {
   "cell_type": "markdown",
   "metadata": {},
   "source": [
    "## Ejercicio 3\n",
    "\n",
    "Analicemos la columna Object Date\n",
    "\n",
    "¿Qué formato tienen los valores de este campo? ¿Qué patrones pueden identificar?\n",
    "\n",
    "Sugerencia: recuerden el método value_counts\n",
    "https://pandas.pydata.org/pandas-docs/stable/reference/api/pandas.Series.value_counts.html"
   ]
  },
  {
   "cell_type": "code",
   "execution_count": null,
   "metadata": {},
   "outputs": [],
   "source": [
    "object_date_series = data[\"Object Date\"]\n",
    "object_date_series"
   ]
  },
  {
   "cell_type": "markdown",
   "metadata": {},
   "source": [
    "Vemos que hay campos con el sufijo \"th century\" cuyo valor entero es un siglo, periodos de tiempo identidficados por la presencia de -, un prefijo \"last quarter\".\n",
    "\n",
    "Entonces, en una misma columna tenemos años, períodos, siglos y cuartos de siglo."
   ]
  },
  {
   "cell_type": "markdown",
   "metadata": {},
   "source": [
    "## Ejercicio 4\n",
    "\n",
    "Usando expresiones regulares, apply y funciones lambda, creemos un nuevo campo \"ObjectDateClean\" que sea de tipo numérico y tenga el valor del año corresponiente a cada registro extrayéndolo del campo ObjectDate.\n",
    "\n",
    "¿Qué características tienen los valores de los registros que no verificaron ningún patrón de los definidos?\n",
    "\n",
    "Ayuda: Identifiquemos los patrones y decidamos cómo extraer el año de los valores de los registros que verifican cada uno de esos patrones. Después, de a un patrón, usemos la estrategia que definimos antes para extraer el valor del año de los registros que lo verifican."
   ]
  },
  {
   "cell_type": "markdown",
   "metadata": {},
   "source": [
    "Vamos a empezar identificando los nulos en ese campo, que sabemos (por el resultado del ejercicio 1) son 160"
   ]
  },
  {
   "cell_type": "code",
   "execution_count": null,
   "metadata": {},
   "outputs": [],
   "source": [
    "null_mask = object_date_series.isnull()\n",
    "null_mask.sum()"
   ]
  },
  {
   "cell_type": "markdown",
   "metadata": {},
   "source": [
    "Vamos a identificar ahora los enteros, que representan año. Para eso vamos a definir una expresión regular.\n",
    "\n",
    "https://docs.python.org/3/library/re.html#match-objects"
   ]
  },
  {
   "cell_type": "code",
   "execution_count": null,
   "metadata": {},
   "outputs": [],
   "source": [
    "import re \n",
    "import numpy as np \n",
    "\n",
    "year_pattern = \"(\\d)?\\d\\d\\d$\"\n",
    "year_pattern_regex = re.compile(year_pattern)\n",
    "\n",
    "data_year_match = object_date_series.apply(lambda x:  x if x is np.NaN else year_pattern_regex.search(x))\n",
    "\n",
    "mask_data_year_match_notnull = data_year_match.notnull()\n",
    "\n",
    "data.loc[mask_data_year_match_notnull, \"ObjectDateClean\"] = data_year_match[mask_data_year_match_notnull].apply(lambda x: x.group(0))\n",
    "\n",
    "#len(data_year)"
   ]
  },
  {
   "cell_type": "markdown",
   "metadata": {},
   "source": [
    "Veamos cómo quedaron en los valores que estaban expresados en años (sin cambios):"
   ]
  },
  {
   "cell_type": "code",
   "execution_count": null,
   "metadata": {},
   "outputs": [],
   "source": [
    "data.loc[mask_data_year_match_notnull, [\"Object Date\", \"ObjectDateClean\"]]"
   ]
  },
  {
   "cell_type": "markdown",
   "metadata": {},
   "source": [
    "Vamos a identificar ahora los períodos, quedándonos con el año desde. "
   ]
  },
  {
   "cell_type": "code",
   "execution_count": null,
   "metadata": {},
   "outputs": [],
   "source": [
    "period_pattern = \"(?P<year_from>\\d\\d\\d\\d)\\-(\\d)+\"\n",
    "period_pattern_regex = re.compile(period_pattern)\n",
    "\n",
    "data_period_match = object_date_series.apply(lambda x: x if x is np.NaN else period_pattern_regex.search(x))\n",
    "\n",
    "mask_data_period_match_notnull = data_period_match.notnull()\n",
    "\n",
    "data.loc[mask_data_period_match_notnull, \"ObjectDateClean\"] = data_period_match[mask_data_period_match_notnull].apply(lambda x: x.group(\"year_from\"))\n"
   ]
  },
  {
   "cell_type": "markdown",
   "metadata": {},
   "source": [
    "Veamos cómo quedaron en años los valores que estaban expresados en períodos:"
   ]
  },
  {
   "cell_type": "code",
   "execution_count": null,
   "metadata": {},
   "outputs": [],
   "source": [
    "data.loc[mask_data_period_match_notnull, [\"Object Date\", \"ObjectDateClean\"]]"
   ]
  },
  {
   "cell_type": "markdown",
   "metadata": {},
   "source": [
    "Vamos a identificar ahora a los siglos:"
   ]
  },
  {
   "cell_type": "code",
   "execution_count": null,
   "metadata": {},
   "outputs": [],
   "source": [
    "century_pattern = \"(?P<century>\\d\\d)(th (C|c)entury)\"\n",
    "century_pattern_regex = re.compile(century_pattern)\n",
    "\n",
    "data_century_match = object_date_series.apply(lambda x: x if x is np.NaN else century_pattern_regex.search(x))\n",
    "\n",
    "mask_century_period_match_notnull = data_century_match.notnull()\n",
    "\n",
    "data_century = data_century_match[mask_century_period_match_notnull].apply(lambda x: x.group(\"century\"))\n",
    "\n",
    "#print(data_century)\n",
    "#len(data_century)\n",
    "\n",
    "#year_from_century = (data_century.astype(int) - 1) * 100\n",
    "#year_from_century\n",
    "\n",
    "#year_to_century = (data_century.astype(int) * 100) - 1\n",
    "#year_to_century\n",
    "\n",
    "data.loc[mask_century_period_match_notnull, \"ObjectDateClean\"] = \\\n",
    "    data_century_match[mask_century_period_match_notnull].apply(lambda x: x.group(\"century\"))\n",
    "\n",
    "data.loc[mask_century_period_match_notnull, \"ObjectDateClean\"] = \\\n",
    "    (data.loc[mask_century_period_match_notnull, \"ObjectDateClean\"].astype(int) - 1) * 100\n"
   ]
  },
  {
   "cell_type": "markdown",
   "metadata": {},
   "source": [
    "Veamos cómo quedaron en años los valores que estaban expresados en siglos:"
   ]
  },
  {
   "cell_type": "code",
   "execution_count": null,
   "metadata": {},
   "outputs": [],
   "source": [
    "data.loc[mask_century_period_match_notnull, [\"Object Date\", \"ObjectDateClean\"]]"
   ]
  },
  {
   "cell_type": "markdown",
   "metadata": {},
   "source": [
    "Reemplazemos todos los valores nulos por 0, y verifiquemos cómo queda"
   ]
  },
  {
   "cell_type": "code",
   "execution_count": null,
   "metadata": {},
   "outputs": [],
   "source": [
    "mask_null = object_date_series.isnull()\n",
    "\n",
    "data.loc[mask_null, \"ObjectDateClean\"] = 0\n",
    "\n",
    "data.loc[mask_null, [\"Object Date\", \"ObjectDateClean\"]]\n"
   ]
  },
  {
   "cell_type": "markdown",
   "metadata": {},
   "source": [
    "Veamos qué características tienen los valores de los registros que nos quedaron en null en el campo ObjectDateClean"
   ]
  },
  {
   "cell_type": "code",
   "execution_count": null,
   "metadata": {},
   "outputs": [],
   "source": [
    "mask_null_ObjectDateClean = data[\"ObjectDateClean\"].isnull()\n",
    "\n",
    "print(mask_null_ObjectDateClean.sum())\n",
    "\n",
    "data.loc[mask_null_ObjectDateClean, [\"Object Date\", \"ObjectDateClean\"]]\n"
   ]
  },
  {
   "cell_type": "code",
   "execution_count": null,
   "metadata": {},
   "outputs": [],
   "source": [
    "no_match_data = data[\"Object Date\"].iloc[0]\n",
    "print(ascii(no_match_data[8]))\n",
    "print(ascii(\"-\"))"
   ]
  },
  {
   "cell_type": "markdown",
   "metadata": {},
   "source": [
    "Vemos que nos faltó considerar:\n",
    "* los valores terminados en BC o B.C., y marcar esos años como negativos \n",
    "* considerar los períodos que tienen siglos, en lugar de años\n",
    "* borrar las C. que aparecen de sufijo\n",
    "* Considerar pallabras mals escritas como \"cenutry\"\n",
    "\n",
    "Si tienen ganas de seguir practicando pueden resolver algunos de éstos.\n"
   ]
  }
 ],
 "metadata": {
  "kernelspec": {
   "display_name": "Python 3",
   "language": "python",
   "name": "python3"
  },
  "language_info": {
   "codemirror_mode": {
    "name": "ipython",
    "version": 3
   },
   "file_extension": ".py",
   "mimetype": "text/x-python",
   "name": "python",
   "nbconvert_exporter": "python",
   "pygments_lexer": "ipython3",
   "version": "3.7.6"
  }
 },
 "nbformat": 4,
 "nbformat_minor": 4
}

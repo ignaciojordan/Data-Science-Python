{
 "cells": [
  {
   "cell_type": "code",
   "execution_count": null,
   "metadata": {},
   "outputs": [],
   "source": [
    "# initial setup\n",
    "try:\n",
    "    # settings colab:\n",
    "    import google.colab\n",
    "\n",
    "    # si usan colab, deben cambiar el token de esta url\n",
    "    ! mkdir -p ../Data\n",
    "    # los que usan colab deben modificar el token de estas urls:\n",
    "    ! wget -O ../Data/tags.csv https://raw.githubusercontent.com/Digital-House-DATA/ds_blend_students_2020/master/M2/CLASE_08_Data_Wrangling/Data/tags.csv?token=AA4GFHL5DGGO66Z3XHVBCCS6V4IRM\n",
    "    ! wget -O ../Data/movies.csv https://raw.githubusercontent.com/Digital-House-DATA/ds_blend_students_2020/master/M2/CLASE_08_Data_Wrangling/Data/movies.csv?token=AA4GFHNVLL665P4RLTZNUVS6V4IUK\n",
    "    ! wget -O ../Data/ratings.csv https://raw.githubusercontent.com/Digital-House-DATA/ds_blend_students_2020/master/M2/CLASE_08_Data_Wrangling/Data/ratings.csv?token=AA4GFHKROGU63T3BVY7C6W26V4IXE\n",
    "    \n",
    "except ModuleNotFoundError:    \n",
    "    # settings local:\n",
    "    %run \"../../../common/0_notebooks_base_setup.py\""
   ]
  },
  {
   "cell_type": "markdown",
   "metadata": {},
   "source": [
    "---\n",
    "\n",
    "<img src='../../../common/logo_DH.png' align='left' width=35%/>\n"
   ]
  },
  {
   "cell_type": "markdown",
   "metadata": {},
   "source": [
    "## Introducción\n",
    "\n",
    "Data wrangling es el proceso de limpieza y unificación de conjuntos de datos desordenados y complejos para facilitar su acceso, exploración, análisis o modelización posterior.\n",
    "\n",
    "Las tareas que involucra son\n",
    "* Limpieza de datos\n",
    "* Eliminación de registros duplicados\n",
    "* Transformación de datos\n",
    "* Discretización de variables\n",
    "* Detección y filtro de outliers\n",
    "* Construcción de variables dummies\n",
    "\n",
    "Pandas provee métodos para llevar a cabo estas tareas, y en esta práctica repasaremos algunos de estos métodos."
   ]
  },
  {
   "cell_type": "markdown",
   "metadata": {},
   "source": [
    "## Dataset\n",
    "\n",
    "En esta clase usaremos un dataset con info de películas que disponibiliza datos de movielens (https://movielens.org/).\n",
    "\n",
    "https://grouplens.org/datasets/movielens/\n",
    "\n",
    "http://files.grouplens.org/datasets/movielens/ml-latest-small.zip\n",
    "\n",
    "Este conjunto de datos está conformado por varios archivos:\n",
    "* **movies**: idPelicula, título y género; \n",
    "\n",
    "donde cada registro tiene los datos de una película\n",
    "\n",
    "* **ratings**: idUsuario, idPelicula, rating, fecha; \n",
    "\n",
    "donde cada registro tienen la calificación otorgada por un usuario a una película\n",
    "\n",
    "* **tags**: idUsuario, idPelicula, tag, fecha; \n",
    "\n",
    "donde cada registro tienen el tag que asignó un usuario a una película"
   ]
  },
  {
   "cell_type": "markdown",
   "metadata": {},
   "source": [
    "## Imports"
   ]
  },
  {
   "cell_type": "code",
   "execution_count": null,
   "metadata": {},
   "outputs": [],
   "source": [
    "import pandas as pd\n",
    "import numpy as np\n",
    "import re"
   ]
  },
  {
   "cell_type": "markdown",
   "metadata": {},
   "source": [
    "## Ejercicio 1 - Importar datos\n",
    "\n",
    "Leamos los datos de movies, ratings y tags desde los archivos\n",
    "* ../Data/movies.csv\n",
    "* ../Data/ratings.csv\n",
    "* ../Data/tags.csv\n",
    "\n",
    "en las variables \n",
    "* data_movies\n",
    "* data_ratings\n",
    "* data_tags\n",
    "\n",
    "Veamos cuántos registros hay en cada DataFrame y de qué tipos son los datos de cada columna. \n",
    "\n",
    "Veamos los primeros registros de cada DataFrame para verificar que los datos fueron importados correctamente."
   ]
  },
  {
   "cell_type": "code",
   "execution_count": null,
   "metadata": {},
   "outputs": [],
   "source": [
    "data_movies = pd.read_csv(\"../Data/movies.csv\", sep=\",\")\n",
    "print(data_movies.dtypes)\n",
    "data_movies.head(3)"
   ]
  },
  {
   "cell_type": "code",
   "execution_count": null,
   "metadata": {},
   "outputs": [],
   "source": [
    "data_ratings = pd.read_csv(\"../Data/ratings.csv\", sep=\",\")\n",
    "print(data_ratings.dtypes)\n",
    "data_ratings.head(3)"
   ]
  },
  {
   "cell_type": "code",
   "execution_count": null,
   "metadata": {},
   "outputs": [],
   "source": [
    "data_tags = pd.read_csv(\"../Data/tags.csv\", sep=\",\")\n",
    "print(data_tags.dtypes)\n",
    "data_tags.head(3)"
   ]
  },
  {
   "cell_type": "markdown",
   "metadata": {},
   "source": [
    "## Ejercicio 2 - duplicated, drop_duplicates\n",
    "\n",
    "https://pandas.pydata.org/pandas-docs/stable/reference/api/pandas.DataFrame.duplicated.html\n",
    "\n",
    "https://pandas.pydata.org/pandas-docs/stable/reference/api/pandas.DataFrame.drop_duplicates.html\n",
    "\n",
    "**2.a** Analicemos los ratings asignados por los usuarios a las películas, y detectemos aquellos usuarios que calificaron más de una película.\n",
    "\n",
    "**2.b** Veamos si hay usuarios que calificaron más de una vez a la misma película\n",
    "\n",
    "**2.c** Creemos un dataframe donde cada usuario haya calificado exactamente una película"
   ]
  },
  {
   "cell_type": "code",
   "execution_count": null,
   "metadata": {},
   "outputs": [],
   "source": [
    "# 2.a\n",
    "\n",
    "user_many_ratings = data_ratings.duplicated(subset = [\"userId\"], keep = \"first\")\n",
    "#print(user_many_ratings)\n",
    "any(user_many_ratings)"
   ]
  },
  {
   "cell_type": "code",
   "execution_count": null,
   "metadata": {},
   "outputs": [],
   "source": [
    "# 2.b\n",
    "\n",
    "user_one_movie_many_ratings = data_ratings.duplicated(subset = [\"userId\", \"movieId\"], keep = \"first\")\n",
    "any(user_one_movie_many_ratings)"
   ]
  },
  {
   "cell_type": "code",
   "execution_count": null,
   "metadata": {},
   "outputs": [],
   "source": [
    "# 2.c\n",
    "\n",
    "user_one_rating = data_ratings.drop_duplicates(subset = [\"userId\"], keep = \"first\")\n",
    "\n",
    "print(data_ratings.shape)\n",
    "\n",
    "print(user_one_rating.shape)\n"
   ]
  },
  {
   "cell_type": "code",
   "execution_count": null,
   "metadata": {},
   "outputs": [],
   "source": [
    "len(user_one_rating.userId.unique())"
   ]
  },
  {
   "cell_type": "markdown",
   "metadata": {},
   "source": [
    "## Ejercicio 3 - replace\n",
    "\n",
    "https://pandas.pydata.org/pandas-docs/stable/reference/api/pandas.DataFrame.replace.html\n",
    "\n",
    "El campo `genre` del DataFrame data_movies tiene una lista de géneros separadas por el caracter \"|\"\n",
    "\n",
    "**3.a** Una lista de valores viejos por un valor nuevo\n",
    "\n",
    "Vamos a buscar los valores de los registros que tengan \"Fantasy\" como alguno sus géneros y reemplazarlos por \"Fantasy\"\n",
    "\n",
    "**3.b** Una lista de valores viejos por una lista de valores nuevos\n",
    "\n",
    "Tomamos 10 valores del campo género al azar y construimos una lista con ellos, y otra con el último género que figura en cada elemento de la primera lista. Usamos esas dos listas para reemplazar unos valores por otros.\n",
    "\n",
    "**3.c** Un diccionario que defina los mapeos\n",
    "\n",
    "Con las dos listas del paso anterior, construimos un diccionario que pasamos como argumento al método replace para definir algunos reemplazos.\n"
   ]
  },
  {
   "cell_type": "code",
   "execution_count": null,
   "metadata": {},
   "outputs": [],
   "source": [
    "# 3.a\n",
    "\n",
    "fantasy_pattern = \"Fantasy\"\n",
    "fantasy_regex = re.compile(fantasy_pattern)\n",
    "fantasy_matches = data_movies.genres.apply(lambda x: x if x is np.NaN else fantasy_regex.search(x))\n",
    "fantasy_mask = fantasy_matches.notnull()\n",
    "fantasy_genres = fantasy_matches.loc[fantasy_mask]\n",
    "#print(fantasy_genres)\n",
    "fantasy_genres.iloc[0].string\n",
    "genres_to_replace = [x.string for x in fantasy_genres]\n",
    "print(len(genres_to_replace))\n",
    "genres_to_replace_unique = list(set(genres_to_replace))\n",
    "print(len(genres_to_replace_unique))\n",
    "\n",
    "data_genres_3a = data_movies.replace(genres_to_replace_unique, \"Fantasy\")\n",
    "data_genres_3a\n",
    "#data_movies"
   ]
  },
  {
   "cell_type": "code",
   "execution_count": null,
   "metadata": {},
   "outputs": [],
   "source": [
    "# 3.b\n",
    "\n",
    "sample_genres = np.random.choice(data_movies.genres.unique(), 10, replace= False)\n",
    "print(\"géneros originales: \", sample_genres)\n",
    "\n",
    "def get_last_genre(value):\n",
    "    parts = value.split(\"|\")\n",
    "    last_index = len(parts) - 1\n",
    "    result = parts[last_index]\n",
    "    return result\n",
    "\n",
    "sample_genres_replacement = [get_last_genre(x) for x in sample_genres]\n",
    "print(\"géneros de reemplazo: \", sample_genres_replacement)\n",
    "\n",
    "data_genres_3b = data_movies.replace(sample_genres, sample_genres_replacement)\n",
    "data_genres_3b"
   ]
  },
  {
   "cell_type": "code",
   "execution_count": null,
   "metadata": {},
   "outputs": [],
   "source": [
    "# 3.c\n",
    "keys = sample_genres\n",
    "values = sample_genres_replacement\n",
    "replacement_dict = dict(zip(keys, values))\n",
    "replacement_dict"
   ]
  },
  {
   "cell_type": "code",
   "execution_count": null,
   "metadata": {},
   "outputs": [],
   "source": [
    "data_genres_3c = data_movies.replace(replacement_dict)\n",
    "data_genres_3c"
   ]
  },
  {
   "cell_type": "markdown",
   "metadata": {},
   "source": [
    "## Ejercicio 4 - cut\n",
    "\n",
    "https://pandas.pydata.org/pandas-docs/stable/reference/api/pandas.cut.html\n",
    "\n",
    "El método `cut` nos permite asignar categorías a intervalos numéricos.\n",
    "\n",
    "Creemos la columna de categorías (rating_label_cut) asociadas al campo rating de data_ratings de este modo:\n",
    "\n",
    "* mala, para puntajes menores a 3;\n",
    "\n",
    "* regular, para mayor igual a 3 y  menor que 4;\n",
    "\n",
    "* buena para puntaje mayor o igual que 4\n"
   ]
  },
  {
   "cell_type": "code",
   "execution_count": null,
   "metadata": {},
   "outputs": [],
   "source": [
    "# valores de corte:\n",
    "bins_rating = [0, 3, 4, 5.1]\n",
    "labels_rating = [\"mala\", \"regular\", \"buena\"]\n",
    "\n",
    "# Obtengo una lista de intervalos\n",
    "# right=False indice que el extremo derecho del intervalo no está incluído en la categoría\n",
    "categories = pd.cut(data_ratings.rating, bins_rating, labels = labels_rating, right=False)\n",
    "#print(categories)\n",
    "data_ratings[\"rating_label_cut\"] = categories\n",
    "data_ratings.head(10)"
   ]
  },
  {
   "cell_type": "markdown",
   "metadata": {},
   "source": [
    "##  Ejercicio 5 - quantile\n",
    "\n",
    "Calculemos los cuartilos del campo timestamp de la tabla data_ratings y asociemos las etiquetas:\n",
    "* muy antigua, para el primer cuartilo\n",
    "* antigua, para el segundo cuartilo\n",
    "* pasada, para el tercer cuartilo\n",
    "* reciente, para el cuarto cuartilo\n",
    "\n",
    "https://pandas.pydata.org/pandas-docs/stable/reference/api/pandas.DataFrame.quantile.html"
   ]
  },
  {
   "cell_type": "code",
   "execution_count": null,
   "metadata": {},
   "outputs": [],
   "source": [
    "q1 = data_ratings.timestamp.quantile(0.25)\n",
    "q2 = data_ratings.timestamp.quantile(0.5)\n",
    "q3 = data_ratings.timestamp.quantile(0.75)\n",
    "q4 = data_ratings.timestamp.quantile(1)\n",
    "\n",
    "bins_timestamp = [0, q1, q2, q3, q4]\n",
    "labels_timestamp = [\"muy antigua\", \"antigua\", \"pasada\", \"reciente\"]\n",
    "\n",
    "timestamp_categories = pd.cut(data_ratings.timestamp, bins_timestamp, labels = labels_timestamp, right=False)\n",
    "\n",
    "data_ratings[\"timestamp_category\"] = timestamp_categories\n",
    "\n",
    "print(data_ratings.loc[data_ratings.timestamp_category == \"reciente\", ].shape)\n",
    "print(data_ratings.loc[data_ratings.timestamp_category == \"pasada\", ].shape)\n",
    "print(data_ratings.loc[data_ratings.timestamp_category == \"antigua\", ].shape)\n",
    "print(data_ratings.loc[data_ratings.timestamp_category == \"muy antigua\", ].shape)\n",
    "\n",
    "data_ratings.head(10)"
   ]
  },
  {
   "cell_type": "markdown",
   "metadata": {},
   "source": [
    "##  Ejercicio 6 - get_dummies\n",
    "\n",
    "https://pandas.pydata.org/pandas-docs/stable/reference/api/pandas.get_dummies.html\n",
    "\n",
    "Vamos a crear ahora variables dummy para representar el campo timestamp_category del DataFrame data_ratings, y vamos a reemplazar ese campo por las variables dummies.\n"
   ]
  },
  {
   "cell_type": "code",
   "execution_count": null,
   "metadata": {},
   "outputs": [],
   "source": [
    "dummies_timestamp_category = pd.get_dummies(data_ratings.timestamp_category, prefix='timestamp_category', drop_first=True)\n",
    "\n",
    "#print(dummies_timestamp_category)\n",
    "\n",
    "# agregamos las columnas dummies\n",
    "data_ratings_with_dummy = data_ratings.join(dummies_timestamp_category)\n",
    "\n",
    "#data_ratings_with_dummy\n",
    "\n",
    "# quitamos la columna timestamp_category que ahora queda representada por las dummies\n",
    "result = data_ratings_with_dummy.drop(labels = [\"timestamp_category\"], axis=\"columns\")\n",
    "result.head(5)"
   ]
  },
  {
   "cell_type": "code",
   "execution_count": null,
   "metadata": {},
   "outputs": [],
   "source": []
  },
  {
   "cell_type": "code",
   "execution_count": null,
   "metadata": {},
   "outputs": [],
   "source": []
  }
 ],
 "metadata": {
  "kernelspec": {
   "display_name": "Python 3",
   "language": "python",
   "name": "python3"
  },
  "language_info": {
   "codemirror_mode": {
    "name": "ipython",
    "version": 3
   },
   "file_extension": ".py",
   "mimetype": "text/x-python",
   "name": "python",
   "nbconvert_exporter": "python",
   "pygments_lexer": "ipython3",
   "version": "3.7.6"
  }
 },
 "nbformat": 4,
 "nbformat_minor": 4
}

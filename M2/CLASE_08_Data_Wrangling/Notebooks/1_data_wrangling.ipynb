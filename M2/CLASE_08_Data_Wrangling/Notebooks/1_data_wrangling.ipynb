{
 "cells": [
  {
   "cell_type": "code",
   "execution_count": null,
   "metadata": {},
   "outputs": [],
   "source": [
    "# initial setup\n",
    "try:\n",
    "    # settings colab:\n",
    "    import google.colab\n",
    "    \n",
    "    # si usan colab, deben cambiar el token de esta url\n",
    "    ! mkdir -p ../Data\n",
    "    # los que usan colab deben modificar el token de esta url:\n",
    "    ! wget -O ../Data/vHoneyNeonic_v02.csv https://raw.githubusercontent.com/Digital-House-DATA/ds_blend_students_2020/master/M2/CLASE_08_Data_Wrangling/Data/vHoneyNeonic_v02.csv?token=AA4GFHLGET6MJARMYMYU2M26WM246\n",
    "    \n",
    "except ModuleNotFoundError:    \n",
    "    # settings local:\n",
    "    %run \"../../../common/0_notebooks_base_setup.py\""
   ]
  },
  {
   "cell_type": "markdown",
   "metadata": {},
   "source": [
    "---\n",
    "\n",
    "<img src='../../../common/logo_DH.png' align='left' width=35%/>\n"
   ]
  },
  {
   "cell_type": "markdown",
   "metadata": {},
   "source": [
    "<a id=\"section_toc\"></a> \n",
    "## Tabla de Contenidos\n",
    "\n",
    "[Intro](#section_intro)\n",
    "\n",
    "$\\hspace{.5cm}$[Definiciones](#section_definiciones)\n",
    "\n",
    "$\\hspace{.5cm}$[Tipos de variables](#section_tipos_variables)\n",
    "\n",
    "[Dataset](#section_dataset)\n",
    "\n",
    "[Problema](#section_problema)\n",
    "\n",
    "[Imports](#section_imports)\n",
    "\n",
    "[Eliminación de duplicados](#section_eliminacion_duplicados)\n",
    "\n",
    "[Reemplazo de valores](#section_reemplazo_valores)\n",
    "\n",
    "[Renombre de índices](#section_renombre_indices)\n",
    "\n",
    "[Discretización y binarización de variables](#section_discretizacion)\n",
    "\n",
    "[Mapeo y transformación de datos](#section_map_transform)\n",
    "\n",
    "[Variables categóricas y dummies](#section_cat_dummies)\n",
    "\n",
    "[Algunos métodos de la clase string](#section_string)\n",
    "\n",
    "\n",
    "---\n"
   ]
  },
  {
   "cell_type": "markdown",
   "metadata": {},
   "source": [
    "<a id=\"section_intro\"></a> \n",
    "## Intro\n",
    "\n",
    "[volver a TOC](#section_toc)\n",
    "\n",
    "<a id=\"section_definiciones\"></a> \n",
    "### Definiciones\n",
    "\n",
    "**Data Wrangling**:\n",
    "\n",
    "Proceso de limpieza y unificación de conjuntos de datos desordenados y complejos para facilitar su acceso, exploración, análisis o modelización posterior.\n",
    "\n",
    "**Data munging**:\n",
    "\n",
    "Proceso de limpiar, preparar y validar los datos.\n",
    "\n",
    "**Extract, Transform and Load (ETL)**:\n",
    "\n",
    "Extraer, transformar y cargar los datos.\n",
    "\n",
    "**Exploratory data analysis (EDA)**:\n",
    "\n",
    "Resumir las principales características de un dataset, a menudo con métodos visuales, sin usar un modelo estadístico o de machine learning. \n",
    "\n",
    "\n",
    "<a id=\"section_tipos_variables\"></a> \n",
    "### Tipos de variables\n",
    "\n",
    "Las variables pueden ser caracterizadas como:\n",
    "\n",
    "* **Cuantitativas**: \n",
    "\n",
    "$\\hspace{.5cm}$ toman valores numéricos, como en el caso de del ingreso de una persona  o el precio de una casa.  \n",
    "\n",
    "* **Cualitativas**: \n",
    "\n",
    "$\\hspace{.5cm}$ toman valores en una de K diferentes clases o categorías.\n",
    "\n",
    "$\\hspace{.5cm}$ Variables cualitativas con dos posibles valores se denomina binaria o dicotómica.\n",
    "\n",
    "$\\hspace{.5cm}$ Tipos de variable cualitativa:\n",
    "\n",
    "$\\hspace{.5cm}$ **Nominal/Categórica**:\n",
    "\n",
    "$\\hspace{.5cm}$ toman valores entre categorías nombradas.\n",
    "\n",
    "$\\hspace{.5cm}$ Se suele asignar valores o rótulos numéricos a las variables categóricas:Estado civil, 0 si soltero y 1 si casado y 2 si divorciado. Los números utilizados para rotular son arbitrarios. En general, el software asume que los valores numéricos reflejan cantidades algebraicas y, por tanto, un orden.\n",
    "\n",
    "$\\hspace{.5cm}$ La principal medida de posición es la moda. \n",
    "\n",
    "$\\hspace{.5cm}$ La mediana y la media no están definidas (y en general cualquier operación numérica tampoco).\n",
    "\n",
    "$\\hspace{.5cm}$ **Ordinal**:\n",
    "\n",
    "$\\hspace{.5cm}$ Es una variable categórica con un orden definido. \n",
    "\n",
    "Un ejemplo puede ser la variable rango_etario, que toma valores \"niño\", \"adolescente\", \"adulto\", \"adulto mayor\" donde está definido un orden \"niño\" < \"adolescente\" < \"adulto\" < \"adulto mayor\"\n",
    "\n",
    "\n",
    "* **Dummy (variable indicadora)** \n",
    "\n",
    "$\\hspace{.5cm}$ son variables cualitativas que toma valores 0 o 1 para indicar la ausencia o presencia de algún atributo o efecto categórico.\n",
    "\n",
    "$\\hspace{.5cm}$ Formalmente una variable dummy puede ser expresada mediante una función indicadora:\n",
    "\n",
    "\\begin{equation}\n",
    "  D_i = \\mathbb{I}_A(x_i) = \\begin{cases} \n",
    "    1, & \\text{si $x_i \\in$ A}\\\\  \n",
    "    0, & \\text{si $x_i \\notin $ A}.\n",
    "  \\end{cases}\n",
    "\\end{equation}\n",
    "\n",
    "$\\hspace{.5cm}$**¿Cuál es la relación entre variables categóricas y variables dummies?**\n",
    "\n",
    " Una variable categórica con N categorías puede ser expresada en términos de N−1 variables dummies (one-hot encoding).\n",
    "\n",
    " Resuelve el problema de interpretar las etiquetas numéricas como un intervalo.\n",
    "\n",
    " Si las categorías tienen muchos valores aumenta considerablemente la dimensionalidad de los datos.\n",
    "\n"
   ]
  },
  {
   "cell_type": "markdown",
   "metadata": {},
   "source": [
    "---\n",
    "\n",
    "<a id=\"section_dataset\"></a> \n",
    "## Dataset\n",
    "\n",
    "[volver a TOC](#section_toc)\n",
    "\n",
    "\n",
    "https://www.kaggle.com/kevinzmith/honey-with-neonic-pesticide\n",
    "\n",
    "Este dataset está inspirado en la producción de miel en EE. UU. Comprende el período 1998-2017. \n",
    "\n",
    "Incluye datos del Proyecto de Síntesis Nacional de Pesticidas de USGS, lo que permite evaluar las conexiones estadísticas entre la producción de miel y el uso de pesticidas neonicotinoides (neónicos).\n",
    "\n",
    "Los datos muestran algunos datos interesantes:\n",
    "* El uso neónico en EE. UU. comenzó alrededor de 2003, pero la disminución de la producción de miel comenzó en años anteriores.\n",
    "* Algunos estados, como Kansas, han visto devastación de colonias de abejas a partir de 2003, cuando el uso neónico recién comenzaba.\n",
    "* Otros estados, como Dakota del Norte, tienen un número aproximadamente estable de colonias de abejas, a pesar del mayor uso de neonics\n",
    "\n",
    "Los campos de este dataset son:\n",
    "\n",
    "* numcol: Número de colonias productoras de miel. Las colonias productoras de miel son el número máximo de colonias de las cuales se extrajo miel durante el año. Es posible tomar miel de colonias que no sobrevivieron durante todo el año.\n",
    "\n",
    "* yieldpercol: Rendimiento de miel por colonia. La unidad es libras\n",
    "\n",
    "* totalprod: TProducción total (numcol x yieldpercol). La unidad es libras\n",
    "\n",
    "* stocks: Se refiere a las existencias en poder de los productores. La unidad es libras\n",
    "\n",
    "* priceperlb: Se refiere al precio promedio por libra en función de las ventas ampliadas. La unidad es dólares.\n",
    "\n",
    "* prodvalue: Valor de producción (totalprod x priceperlb). La unidad es dólares.\n",
    "\n",
    "From USGS Data\n",
    "\n",
    "* nCLOTHIANIDIN: La cantidad en kg de CLOTHIANIDIN aplicado\n",
    "\n",
    "* nIMIDACLOPRID: La cantidad en kg de IMIDACLOPRID aplicado\n",
    "\n",
    "* nTHIAMETHOXAM: La cantidad en kg de THIAMETHOXAM aplicado\n",
    "\n",
    "* nACETAMIPRID: La cantidad en kg de ACETAMIPRID aplicado\n",
    "\n",
    "* nTHIACLOPRID: La cantidad en kg de THIACLOPRID aplicado\n",
    "\n",
    "* nAllNeonic: La cantidad en kg de todos los Neonics aplicados = (nCLOTHIANIDIN + nIMIDACLOPRID + nTHIAMETHOXAM + nACETAMIPRID + nTHIACLOPRID)\n",
    "\n"
   ]
  },
  {
   "cell_type": "markdown",
   "metadata": {},
   "source": [
    "---\n",
    "\n",
    "<a id=\"section_problema\"></a> \n",
    "## Problema\n",
    "\n",
    "[volver a TOC](#section_toc)\n",
    "\n",
    "\n",
    "Usaremos los datos de producción de miel en EEUU para presentar y ejercitar métodos de pandas muy usados en las tareas de data wrangling."
   ]
  },
  {
   "cell_type": "markdown",
   "metadata": {},
   "source": [
    "---\n",
    "\n",
    "<a id=\"section_imports\"></a> \n",
    "## Imports\n",
    "\n",
    "[volver a TOC](#section_toc)\n"
   ]
  },
  {
   "cell_type": "code",
   "execution_count": null,
   "metadata": {},
   "outputs": [],
   "source": [
    "import pandas as pd\n",
    "import numpy as np"
   ]
  },
  {
   "cell_type": "markdown",
   "metadata": {},
   "source": [
    "Leemos los datos, vemos de qué tipos son las columnas, y mostramos los primeros registros del DataFrame para verificar que cargamos bien los datos."
   ]
  },
  {
   "cell_type": "code",
   "execution_count": null,
   "metadata": {},
   "outputs": [],
   "source": [
    "data_location = \"../Data/vHoneyNeonic_v02.csv\"\n",
    "data = pd.read_csv(data_location, sep=\",\")\n",
    "print(data.dtypes)\n",
    "data.head(3)"
   ]
  },
  {
   "cell_type": "markdown",
   "metadata": {},
   "source": [
    "Construimos un nuevo DataFrame que tiene la información asociada a los distintos estados de EEUU "
   ]
  },
  {
   "cell_type": "code",
   "execution_count": null,
   "metadata": {},
   "outputs": [],
   "source": [
    "data_state = data.loc[:, [\"state\", \"StateName\", \"Region\"]]"
   ]
  },
  {
   "cell_type": "markdown",
   "metadata": {},
   "source": [
    "---\n",
    "\n",
    "<a id=\"section_eliminacion_duplicados\"></a> \n",
    "\n",
    "## Eliminación de duplicados\n",
    "\n",
    "[volver a TOC](#section_toc)\n",
    "\n",
    "\n",
    "Para determinar si un DataFrame tiene registros duplicados, primero debemos **definir en qué campos deben coincidir los valores de los registros para considerar que son iguales**.\n",
    "\n",
    "El método `duplicated` de pandas permite definir en el argumento `subset` una lista de columnas a evaluar cuando queremos determinar si dos registros son duplicados. Si no establecemos el valor de este argumento, sólo seran duplicados aquellos registros cuyos valores coincidan en todos los campos.\n",
    "\n",
    "El argumento `keep` toma valores\n",
    "* first: devuelve False (no duplicado) el primer registro encontrado, y True (duplicados) todas las demás apariciones\n",
    "* last: devuelve False (no duplicado) el último registro encontrado, y True (duplicados) todas las demás apariciones\n",
    "* False: devuelve True (duplicado) todos los registros duplicados\n",
    "\n",
    "https://pandas.pydata.org/pandas-docs/stable/reference/api/pandas.DataFrame.duplicated.html\n",
    "\n",
    "\n",
    "El método `drop_duplicates` de pandas devuelve un nuevo DataFrame sin registros duplicados.Los argumentos `subset` y `keep` tienen el mismo comportamiento que en `duplicated`\n",
    "\n",
    "https://pandas.pydata.org/pandas-docs/stable/reference/api/pandas.DataFrame.drop_duplicates.html"
   ]
  },
  {
   "cell_type": "markdown",
   "metadata": {},
   "source": [
    "**Ejercicio**:\n",
    "    \n",
    "A partir del DataFrame data, construyamos otro DataFrame con los datos de estado: \"state\", \"StateName\", \"Region\" y asignemoslo a la variable data_state.\n",
    "\n",
    "Veamos si tiene registros duplicados de dos formas distintas:\n",
    "* Evaluando data\n",
    "* Evaluando data_state\n",
    "\n",
    "Creemos otro DataFrame sin registros duplicados."
   ]
  },
  {
   "cell_type": "code",
   "execution_count": null,
   "metadata": {},
   "outputs": [],
   "source": [
    "data_state = data.loc[:, [\"state\", \"StateName\", \"Region\"]]\n",
    "\n",
    "#Evaluando data_state\n",
    "data_state_duplicates_mask = data_state.duplicated(keep=\"first\")\n",
    "print(\"registros duplicados en data_state: \", any(data_state_duplicates_mask))\n",
    "print(\"cantidad de registros duplicados en data_state: \", data_state_duplicates_mask.sum())\n",
    "\n",
    "#Evaluando data\n",
    "data_duplicates_statefields =  data.duplicated(subset=[\"state\", \"StateName\", \"Region\"], keep=\"first\")\n",
    "print(\"registros duplicados en data (considerando datos de estado): \", any(data_duplicates_statefields))\n",
    "print(\"cantidad de registros duplicados en data (considerando datos de estado): \", data_duplicates_statefields.sum())\n",
    "\n",
    "data_state_nodup = data_state.drop_duplicates(keep=\"first\")\n",
    "print(\"tam con duplicados: \", data_state.shape)\n",
    "print(\"tam sin duplicados: \", data_state_nodup.shape)"
   ]
  },
  {
   "cell_type": "markdown",
   "metadata": {},
   "source": [
    "Entonces, podríamos mantener los datos de estado en un DataFrame independiente, y mantener en cada registro un campo identificador de estado (que puede ser `state` en este ejemplo) que nos permita mapear con los datos adicionales.\n",
    "\n",
    "Observemos que si bien contamos duplicados en data y en data_state, sólo hacemos drop en data_state. Si lo hicieramos en data perderíamos toda la información de produción por año para cada estado."
   ]
  },
  {
   "cell_type": "markdown",
   "metadata": {},
   "source": [
    "---\n",
    "\n",
    "<a id=\"section_reemplazo_valores\"></a> \n",
    "\n",
    "## Reemplazo de valores\n",
    "\n",
    "[volver a TOC](#section_toc)\n",
    "\n",
    "\n",
    "El método `replace` ofrece varias formas de efectuar reemplazos sobre una serie de Pandas:\n",
    "\n",
    "* Un valor viejo por un valor nuevo.\n",
    "    \n",
    "* Una lista de valores viejos por un valor nuevo.\n",
    "    \n",
    "* Una lista de valores viejos por una lista de valores nuevos.\n",
    "    \n",
    "* Un diccionario que mapee valores nuevos y viejos.\n",
    "\n",
    "\n",
    "https://pandas.pydata.org/pandas-docs/stable/reference/api/pandas.DataFrame.replace.html\n",
    "\n"
   ]
  },
  {
   "cell_type": "markdown",
   "metadata": {},
   "source": [
    "### Un valor viejo por un valor nuevo\n",
    "\n",
    "Reemplacemos las apariciones de \"South\" por \"south\""
   ]
  },
  {
   "cell_type": "code",
   "execution_count": null,
   "metadata": {},
   "outputs": [],
   "source": [
    "data_south = data.replace(\"South\", \"south\")\n",
    "data_south.head(3)"
   ]
  },
  {
   "cell_type": "markdown",
   "metadata": {},
   "source": [
    "### Una lista de valores viejos por un valor nuevo\n",
    "\n",
    "Reemplacemos todos los valores del campo totalprod por np.NaN\n",
    "\n",
    "Para ese creemos una lista de valores únicos con los valores de la columna data.totalprod"
   ]
  },
  {
   "cell_type": "code",
   "execution_count": null,
   "metadata": {},
   "outputs": [],
   "source": [
    "to_be_replaced = data.totalprod.unique()\n",
    "data_totalprod_null = data.replace(to_be_replaced, np.NaN)"
   ]
  },
  {
   "cell_type": "markdown",
   "metadata": {},
   "source": [
    "Observemos que en este reemplazo no estamos especificando sobre qué columna estamos reemplazando, entonces reemplaza los valores que están en el primer argumento en cualquier campo que aparezcan.\n",
    "\n",
    "Veamos qué porcentaje de nulos había en el DatFrame original y cuántos hay en data_totalprod_null"
   ]
  },
  {
   "cell_type": "code",
   "execution_count": null,
   "metadata": {},
   "outputs": [],
   "source": [
    "data.isnull().sum() / data.shape[0]"
   ]
  },
  {
   "cell_type": "code",
   "execution_count": null,
   "metadata": {},
   "outputs": [],
   "source": [
    "data_totalprod_null.isnull().sum() / data_totalprod_null.shape[0]"
   ]
  },
  {
   "cell_type": "markdown",
   "metadata": {},
   "source": [
    "Vemos que reemplazó todos los valores de `totalprod` y algunos de los valores en `numcol` `stocks` y `prodvalue`"
   ]
  },
  {
   "cell_type": "markdown",
   "metadata": {},
   "source": [
    "### Una lista de valores viejos por una lista de valores nuevos\n",
    "\n",
    "Reemplacemos los valores del campo state por otros que sean el resultado de concatenar el campo region con el campo state, para cada valor de state."
   ]
  },
  {
   "cell_type": "code",
   "execution_count": null,
   "metadata": {},
   "outputs": [],
   "source": [
    "valores_viejos = data.state.unique()\n",
    "valores_nuevos = (data.Region + \"_\" + data.state).unique()\n",
    "print(len(valores_viejos))\n",
    "print(len(valores_nuevos))"
   ]
  },
  {
   "cell_type": "code",
   "execution_count": null,
   "metadata": {},
   "outputs": [],
   "source": [
    "data_state_modif = data.replace(valores_viejos, valores_nuevos)\n",
    "data_state_modif.sample(5)"
   ]
  },
  {
   "cell_type": "markdown",
   "metadata": {},
   "source": [
    "Observemos que las listas de valores viejos y valores nuevos deben tener la misma longitud."
   ]
  },
  {
   "cell_type": "markdown",
   "metadata": {},
   "source": [
    "### Un diccionario que mapee valores nuevos y viejos\n",
    "\n",
    "Hagamos el mismo reemplazo que en el punto anterior pero usando un diccionario.\n",
    "\n",
    "En este caso se reemplazaran todas las apariciones en el DataFrame de las claves del diccionario por los valores asociados a esas claves."
   ]
  },
  {
   "cell_type": "code",
   "execution_count": null,
   "metadata": {},
   "outputs": [],
   "source": [
    "mapping = dict(zip(valores_viejos, valores_nuevos))\n",
    "mapping"
   ]
  },
  {
   "cell_type": "code",
   "execution_count": null,
   "metadata": {},
   "outputs": [],
   "source": [
    "data_dict = data.replace(mapping)\n",
    "data_dict.sample(7)"
   ]
  },
  {
   "cell_type": "markdown",
   "metadata": {},
   "source": [
    "---\n",
    "\n",
    "<a id=\"section_renombre_indices\"></a> \n",
    "\n",
    "## Renombre de índices \n",
    "\n",
    "[volver a TOC](#section_toc)\n",
    "\n",
    "\n",
    "El método `rename` nos permite cambiar las etiquetas de los ejes índices y columnas.\n",
    "\n",
    "El primer argumento `mapper` es un diccionario que tiene como claves las etiquetas a reemplazar y como valores las etiquetas de reemplazo.\n",
    "\n",
    "El argumento `axis` indica si el reemplazo es sobre el índice o sobre las columnas\n",
    "\n",
    "El argumento `index` es un diccionario. `mapper, axis=0` es equivalente a  `index=mapper`\n",
    "\n",
    "El argumento `columns` es un diccionario. `mapper, axis=1` es equivalente a `columns=mapper`\n",
    "\n",
    "https://pandas.pydata.org/pandas-docs/stable/reference/api/pandas.DataFrame.rename.html"
   ]
  },
  {
   "cell_type": "markdown",
   "metadata": {},
   "source": [
    "Renombremos dos columnas usando los argumentos mapper y axis"
   ]
  },
  {
   "cell_type": "code",
   "execution_count": null,
   "metadata": {},
   "outputs": [],
   "source": [
    "mapper = {\n",
    "    'nIMIDACLOPRID': 'nimidacloprid', \n",
    "    'nTHIAMETHOXAM': 'nthiamethoxam'    \n",
    "}\n",
    "data_renamed_cols = data.rename(mapper, axis = 1)\n",
    "print(data.columns)\n",
    "print(data_renamed_cols.columns)"
   ]
  },
  {
   "cell_type": "markdown",
   "metadata": {},
   "source": [
    "Repitamoslo usando el argumento columns"
   ]
  },
  {
   "cell_type": "code",
   "execution_count": null,
   "metadata": {},
   "outputs": [],
   "source": [
    "data_renamed_cols_2 = data.rename(columns = mapper)\n",
    "print(data.columns)\n",
    "print(data_renamed_cols_2.columns)"
   ]
  },
  {
   "cell_type": "markdown",
   "metadata": {},
   "source": [
    "Observemos que sólo se modifican las columnas (o índices) que están especificados en el diccionario de mapping. No hace falta incluir aquellos que no queremos renombrar"
   ]
  },
  {
   "cell_type": "markdown",
   "metadata": {},
   "source": [
    "---\n",
    "\n",
    "<a id=\"section_discretizacion\"></a> \n",
    "\n",
    "## Discretización y binarización de variables\n",
    "\n",
    "[volver a TOC](#section_toc)\n",
    "\n",
    "\n",
    "El proceso de transformar una variable numérica en categórica se llama discretización. \n",
    "\n",
    "El método `cut` separa valores en intervalos discretos, devolviendo el intervalo semi-cerrado al que pertenece cada valor. Permite transformar variables continuas en categóricas .\n",
    "\n",
    "El argumento `bins` puede ser un entero que indica la cantidad de intervalos de igual \"ancho\" a construir, o puede ser una lista en la que especificamos los límites de cada categoría.\n",
    "\n",
    "El argumento `right` indica si el intervalos incluye el valor límite por la derecha.\n",
    "\n",
    "https://pandas.pydata.org/pandas-docs/stable/reference/api/pandas.cut.html\n"
   ]
  },
  {
   "cell_type": "markdown",
   "metadata": {},
   "source": [
    "Queremos definir categorias sobre la variable `numcol` que representa la cantidad de colonias productoras.\n",
    "\n",
    "Veamos algunas estadísticas sobre esta variable\n"
   ]
  },
  {
   "cell_type": "code",
   "execution_count": null,
   "metadata": {},
   "outputs": [],
   "source": [
    "data.numcol.describe()"
   ]
  },
  {
   "cell_type": "markdown",
   "metadata": {},
   "source": [
    "Vemos que el mínimo es 2000 y el máximo 510.000.\n",
    "Definamos estascategoriás:\n",
    "* entre 2000 y 10000    \n",
    "* entre 10000 y 300000\n",
    "* entre 300000 y 65000\n",
    "* más de 65000\n",
    "\n",
    "Pra eso construimos la lista bins con esos valores"
   ]
  },
  {
   "cell_type": "code",
   "execution_count": null,
   "metadata": {},
   "outputs": [],
   "source": [
    "# Defino los valores de corte\n",
    "bins = [2000, 10000, 30000, 65000, 600000]\n",
    "\n",
    "numcol_categories = pd.cut(data.numcol, bins, right=False)\n",
    "numcol_categories.dtype"
   ]
  },
  {
   "cell_type": "markdown",
   "metadata": {},
   "source": [
    "Y como esta variable es categórica, podemos usar el método `value_counts` para saber cuantos registros hay en cada categoría.\n",
    "\n",
    "¿Qué pasa si usamos `value_counts` sobre `data.numcol`?"
   ]
  },
  {
   "cell_type": "code",
   "execution_count": null,
   "metadata": {},
   "outputs": [],
   "source": [
    "numcol_categories.value_counts()"
   ]
  },
  {
   "cell_type": "markdown",
   "metadata": {},
   "source": [
    "Creamos categorías con etiquetas asociadas usando el argumento `labels`"
   ]
  },
  {
   "cell_type": "code",
   "execution_count": null,
   "metadata": {},
   "outputs": [],
   "source": [
    "group_labels = ['muy pocas', 'pocas', 'normal', 'muchas' ]\n",
    "numcol_categories_labels = pd.cut(data.numcol, bins, labels=group_labels)\n",
    "numcol_categories_labels.value_counts()"
   ]
  },
  {
   "cell_type": "markdown",
   "metadata": {},
   "source": [
    "### Cuantilos\n",
    "\n",
    "Una alternativa a especificar arbitrariamente los límites de los intervalos es usar cuantilos. \n",
    "\n",
    "Por definición en cada uno de esos conjuntos habrá igual cantidad de elementos.\n",
    "\n",
    "pandas provee el método `qcut` para construirlos.\n",
    "\n",
    "https://pandas.pydata.org/pandas-docs/stable/reference/api/pandas.qcut.html"
   ]
  },
  {
   "cell_type": "markdown",
   "metadata": {},
   "source": [
    "Usando qcut construyamos cuatro categorías para los valores de `data.numcol`\n",
    "\n",
    "Estableciendo en True el valor del argumento `retbins` el método devuelve la categorías y los valores umbral de los bins construídos"
   ]
  },
  {
   "cell_type": "code",
   "execution_count": null,
   "metadata": {},
   "outputs": [],
   "source": [
    "numcol_qcategories, numcol_qbins = pd.qcut(data.numcol, 4, labels = group_labels, retbins=True)\n",
    "numcol_qcategories.value_counts()"
   ]
  },
  {
   "cell_type": "code",
   "execution_count": null,
   "metadata": {},
   "outputs": [],
   "source": [
    "numcol_qbins"
   ]
  },
  {
   "cell_type": "markdown",
   "metadata": {},
   "source": [
    "---\n",
    "\n",
    "<a id=\"section_map_transform\"></a> \n",
    "\n",
    "## Mapeo y transformación de datos\n",
    "\n",
    "[volver a TOC](#section_toc)\n",
    "\n",
    "\n",
    "A partir de un diccionario, podemos crear una nueva columna en un Dataframe donde \n",
    "\n",
    "1) las claves del diccionario se vinculen con la Series de valores de una columna del DataFrame original\n",
    "\n",
    "2) y para cada registro se asigne, en la nueva columna, el valor del diccionario cuya clave es el valor de la Serie 1) en ese registro.\n",
    "\n",
    "**Ejercicio**:\n",
    "\n",
    "Usando un diccionario cambiemos los valores de las categorias definidas en el ejercicio anterior para numcol, para todos los registros de data."
   ]
  },
  {
   "cell_type": "markdown",
   "metadata": {},
   "source": [
    "Agregamos las categorías de numcol asociadas a cada registro al DatFrama data"
   ]
  },
  {
   "cell_type": "code",
   "execution_count": null,
   "metadata": {},
   "outputs": [],
   "source": [
    "# renombro la series para que no queden dos columnas con el mismo nombre como resultado de concat:\n",
    "numcol_qcategories.name = \"numcol_cat\"\n",
    "data_numcol_cat = pd.concat([data, numcol_qcategories], axis = 1, )\n",
    "print(data_numcol_cat.columns)\n",
    "print(data.shape)\n",
    "print(data_numcol_cat.shape)"
   ]
  },
  {
   "cell_type": "markdown",
   "metadata": {},
   "source": [
    "Construyamos un diccionario que defina este mapeo y usemos ese diccionario para cambiar los valores originales\n",
    "    \n",
    "* pocas -> insuficiente\n",
    "* muy pocas -> insuficiente\n",
    "* normal -> suficiente\n",
    "* muchas -> suficiente\n",
    "\n",
    "Las claves están asociadas a la columna `numcol_cat` y los nuevos valores de cada registro estarán determinados por el valor de ese registro en la columna `numcol_cat` y el mapeo que define el diccionario."
   ]
  },
  {
   "cell_type": "code",
   "execution_count": null,
   "metadata": {},
   "outputs": [],
   "source": [
    "numcol_cat_mapper = {\n",
    "   'pocas': 'insuficiente', \n",
    "    'muy pocas': 'insuficiente',\n",
    "    'normal': 'suficiente',\n",
    "    'muchas': 'suficiente'\n",
    "}"
   ]
  },
  {
   "cell_type": "code",
   "execution_count": null,
   "metadata": {},
   "outputs": [],
   "source": [
    "data_numcol_cat['numcol_cat'] = data_numcol_cat['numcol_cat'].map(numcol_cat_mapper)\n",
    "data_numcol_cat.sample(5)"
   ]
  },
  {
   "cell_type": "markdown",
   "metadata": {},
   "source": [
    "Observemos que aplicamos map sobre una columna, no sobre el DataFrame compelto como hacemos con el método `replace`"
   ]
  },
  {
   "cell_type": "code",
   "execution_count": null,
   "metadata": {},
   "outputs": [],
   "source": [
    "data_numcol_cat.numcol_cat.value_counts()"
   ]
  },
  {
   "cell_type": "markdown",
   "metadata": {},
   "source": [
    "---\n",
    "\n",
    "<a id=\"section_cat_dummies\"></a> \n",
    "\n",
    "## Variables categóricas y dummies\n",
    "\n",
    "[volver a TOC](#section_toc)\n",
    "\n",
    "Pandas provee con el método pd.get_dummies que recibe una Serie o una lista de Series y realiza el one hot encoding.\n",
    "\n",
    "Recordemos que una variable con k categorías se puede representar con k-1 variables.\n",
    "\n",
    "Por eso un parámetro clave de pd.get_dummies es drop_first = True que genera k-1 categorías en lugar de k.\n",
    "\n",
    "El argumento prefix nos permite establecer un prefijo para el nombre de cada una de las columnas de categorías que representan la variable. Este argumento es especialmente útil cuando construimos dummies de más de una columna de un DataFrame, para evitar confusiones sobre cuál es las variable original que corresponde a cada columna de categoría.\n",
    "\n",
    "**Ejercicio**:\n",
    "\n",
    "Creemos variabels dummies que representen los valores de numcol_qcategories"
   ]
  },
  {
   "cell_type": "code",
   "execution_count": null,
   "metadata": {},
   "outputs": [],
   "source": [
    "numcol_qcategories_dummies = pd.get_dummies(numcol_qcategories, drop_first = True, prefix='numcol')\n",
    "numcol_qcategories_dummies"
   ]
  },
  {
   "cell_type": "markdown",
   "metadata": {},
   "source": [
    "Observemos que eliminó la primer categoría \"muy pocas\""
   ]
  },
  {
   "cell_type": "markdown",
   "metadata": {},
   "source": [
    "---\n",
    "\n",
    "<a id=\"section_string\"></a> \n",
    "\n",
    "## Algunos métodos de la clase string\n",
    "\n",
    "[volver a TOC](#section_toc)\n",
    "\n",
    "\n",
    "https://docs.python.org/3/library/string.html\n",
    "\n",
    "A continuación presentamos algunos métodos sobre string que son muy usados en data wrangling, aplicados en funciones lambda.\n"
   ]
  },
  {
   "cell_type": "markdown",
   "metadata": {},
   "source": [
    "### `split`\n",
    "\n",
    "Devuelve una lista de palabras en un string separadas por el delimitador pasado como parámetro\n",
    "\n",
    "https://docs.python.org/3/library/stdtypes.html#str.split"
   ]
  },
  {
   "cell_type": "code",
   "execution_count": null,
   "metadata": {},
   "outputs": [],
   "source": [
    "cadena = 'a,b,  guido, asjd, kle, askl'\n",
    "separador = ','\n",
    "cadena_en_partes = cadena.split(separador)\n",
    "cadena_en_partes "
   ]
  },
  {
   "cell_type": "markdown",
   "metadata": {},
   "source": [
    "### `strip`\n",
    "\n",
    "Devuelve una copia de un string, eliminando del comienzo y fin de la cadena los caracteres pasados como parámetro. Si no especificamos el valor del argumento, elimina espacios.\n",
    "\n",
    "https://docs.python.org/3/library/stdtypes.html#str.strip"
   ]
  },
  {
   "cell_type": "code",
   "execution_count": null,
   "metadata": {},
   "outputs": [],
   "source": [
    "texto = \"   Este es el primer ejemplo....wow!!!   \";\n",
    "texto_sin_espacios = texto.strip()\n",
    "print(texto_sin_espacios)\n",
    "\n",
    "texto1 = \"0000000Este es el segundo ejemplo....wow!!!0000000\";\n",
    "texto1_sin_ceros = texto1.strip('0')\n",
    "print(texto1_sin_ceros)\n",
    "\n",
    "texto2 = \"    0000000Este es el segundo ejemplo....wow!!!0000000\";\n",
    "texto2_sin_ceros = texto2.strip('0')\n",
    "print(texto2_sin_ceros)\n"
   ]
  },
  {
   "cell_type": "markdown",
   "metadata": {},
   "source": [
    "Observemos que en texto2 no eliminó los espacios iniciales, sólo el caracter establecido en el argumento."
   ]
  },
  {
   "cell_type": "markdown",
   "metadata": {},
   "source": [
    "### `find`\n",
    "\n",
    "Devuelve el mínimo índice donde encontramos como substring el valor pasado como parámetro.\n",
    "\n",
    "Si no lo encuentra devuelve -1\n",
    "\n",
    "https://docs.python.org/3/library/stdtypes.html#str.find"
   ]
  },
  {
   "cell_type": "code",
   "execution_count": null,
   "metadata": {},
   "outputs": [],
   "source": [
    "cadena"
   ]
  },
  {
   "cell_type": "code",
   "execution_count": null,
   "metadata": {},
   "outputs": [],
   "source": [
    "cadena.find(':')"
   ]
  },
  {
   "cell_type": "code",
   "execution_count": null,
   "metadata": {},
   "outputs": [],
   "source": [
    "cadena.find('as')"
   ]
  },
  {
   "cell_type": "code",
   "execution_count": null,
   "metadata": {},
   "outputs": [],
   "source": [
    "cadena.find('asj')"
   ]
  },
  {
   "cell_type": "code",
   "execution_count": null,
   "metadata": {},
   "outputs": [],
   "source": [
    "cadena.find('asp')"
   ]
  },
  {
   "cell_type": "markdown",
   "metadata": {},
   "source": [
    "Observemos que devuelve el índice del comienzo del string buscado"
   ]
  },
  {
   "cell_type": "markdown",
   "metadata": {},
   "source": [
    "### `index`\n",
    "\n",
    "Es similar a find pero devuelve una excepción de tip `ValueError` cuando no encuentra el valor buscado\n",
    "\n",
    "https://docs.python.org/3/library/stdtypes.html#str.index"
   ]
  },
  {
   "cell_type": "code",
   "execution_count": null,
   "metadata": {},
   "outputs": [],
   "source": [
    "cadena.index(',')"
   ]
  },
  {
   "cell_type": "code",
   "execution_count": null,
   "metadata": {},
   "outputs": [],
   "source": [
    "cadena.index(':')"
   ]
  },
  {
   "cell_type": "markdown",
   "metadata": {},
   "source": [
    "### `count`\n",
    "\n",
    "Devuelve la cantidad de apariciones del valor pasado como parámetro\n",
    "\n",
    "https://docs.python.org/3/library/stdtypes.html#str.count"
   ]
  },
  {
   "cell_type": "code",
   "execution_count": null,
   "metadata": {},
   "outputs": [],
   "source": [
    "cadena.count(',')"
   ]
  },
  {
   "cell_type": "code",
   "execution_count": null,
   "metadata": {},
   "outputs": [],
   "source": [
    "cadena.count('as')"
   ]
  },
  {
   "cell_type": "markdown",
   "metadata": {},
   "source": [
    "### `replace`\n",
    "\n",
    "Devuelve una copia del string con todas las ocurrencias del primer argumento reemplazadas por el segundo argumento\n",
    "\n",
    "https://docs.python.org/3/library/stdtypes.html#str.replace"
   ]
  },
  {
   "cell_type": "code",
   "execution_count": null,
   "metadata": {},
   "outputs": [],
   "source": [
    "cadena_punto_y_coma = cadena.replace(',', ';')\n",
    "cadena_punto_y_coma"
   ]
  },
  {
   "cell_type": "code",
   "execution_count": null,
   "metadata": {},
   "outputs": [],
   "source": [
    "cadena_qw = cadena.replace('as', 'qw')\n",
    "cadena_qw"
   ]
  },
  {
   "cell_type": "markdown",
   "metadata": {},
   "source": [
    "---\n",
    "\n",
    "#### Referencias\n",
    "\n",
    "Python for Data Analysis. Wes McKinney. Cap 12\n",
    "\n",
    "\n",
    "https://docs.python.org/3/library/string.html"
   ]
  }
 ],
 "metadata": {
  "kernelspec": {
   "display_name": "Python 3",
   "language": "python",
   "name": "python3"
  },
  "language_info": {
   "codemirror_mode": {
    "name": "ipython",
    "version": 3
   },
   "file_extension": ".py",
   "mimetype": "text/x-python",
   "name": "python",
   "nbconvert_exporter": "python",
   "pygments_lexer": "ipython3",
   "version": "3.7.6"
  }
 },
 "nbformat": 4,
 "nbformat_minor": 4
}

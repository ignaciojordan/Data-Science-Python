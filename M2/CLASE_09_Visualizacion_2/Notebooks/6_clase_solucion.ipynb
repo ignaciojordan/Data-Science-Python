{
 "cells": [
  {
   "cell_type": "code",
   "execution_count": null,
   "metadata": {},
   "outputs": [],
   "source": [
    "# initial setup\n",
    "try:\n",
    "    # settings colab:\n",
    "    import google.colab\n",
    "    \n",
    "except ModuleNotFoundError:    \n",
    "    # settings local:\n",
    "    %run \"../../../common/0_notebooks_base_setup.py\""
   ]
  },
  {
   "cell_type": "markdown",
   "metadata": {},
   "source": [
    "---\n",
    "\n",
    "<img src='../../../common/logo_DH.png' align='left' width=35%/>\n"
   ]
  },
  {
   "cell_type": "markdown",
   "metadata": {},
   "source": [
    "# Visualización 2 - bokeh y plotly"
   ]
  },
  {
   "cell_type": "markdown",
   "metadata": {},
   "source": [
    "## Dataset\n",
    "\n",
    "En esta clase vamos a usar datos de COVID-19 que disponibiliza Johns Hopkins University en \n",
    "\n",
    "https://github.com/CSSEGISandData/COVID-19\n",
    "\n",
    "Novel Coronavirus COVID-19 (2019-nCoV) Data Repository by Johns Hopkins CSSE \n",
    "\n",
    "(CSSE = Computer Science and Software Engineering)\n",
    "\n",
    "Los datasets que usamos se actualizan diariamente y llevan el registro de cantidad de confirmados, muertos y recuperados por país o región.\n",
    "\n",
    "Usando estos datos vamos a construir algunas visualizaciones con las bibliotecas bokeh y plotly.\n",
    "\n",
    "(Nota: la actualizacion es diaria en mayo 2020.)\n"
   ]
  },
  {
   "cell_type": "markdown",
   "metadata": {},
   "source": [
    "## Imports"
   ]
  },
  {
   "cell_type": "code",
   "execution_count": null,
   "metadata": {},
   "outputs": [],
   "source": [
    "import pandas as pd\n",
    "import numpy as np\n",
    "import datetime"
   ]
  },
  {
   "cell_type": "markdown",
   "metadata": {},
   "source": [
    "### Leemos los datos"
   ]
  },
  {
   "cell_type": "code",
   "execution_count": null,
   "metadata": {},
   "outputs": [],
   "source": [
    "world_confirmed_url = 'https://raw.githubusercontent.com/CSSEGISandData/COVID-19/master/csse_covid_19_data/csse_covid_19_time_series/time_series_covid19_confirmed_global.csv'\n",
    "world_deaths_url = 'https://raw.githubusercontent.com/CSSEGISandData/COVID-19/master/csse_covid_19_data/csse_covid_19_time_series/time_series_covid19_deaths_global.csv'\n",
    "world_recovered_url = 'https://raw.githubusercontent.com/CSSEGISandData/COVID-19/master/csse_covid_19_data/csse_covid_19_time_series/time_series_covid19_recovered_global.csv'\n",
    "\n",
    "world_confirmed = pd.read_csv(world_confirmed_url)\n",
    "world_deaths = pd.read_csv(world_deaths_url)\n",
    "world_recovered = pd.read_csv(world_recovered_url)"
   ]
  },
  {
   "cell_type": "code",
   "execution_count": null,
   "metadata": {},
   "outputs": [],
   "source": [
    "world_confirmed.head(3)"
   ]
  },
  {
   "cell_type": "code",
   "execution_count": null,
   "metadata": {},
   "outputs": [],
   "source": [
    "world_deaths.head(3)"
   ]
  },
  {
   "cell_type": "code",
   "execution_count": null,
   "metadata": {},
   "outputs": [],
   "source": [
    "world_recovered.head(3)"
   ]
  },
  {
   "cell_type": "markdown",
   "metadata": {},
   "source": [
    "### Ejercicio 1\n",
    "\n",
    "Veamos de qué paises tiene datos este dataset.\n",
    "\n",
    "Filtremos los datos de países latinoamericanos y construyamos tres nuevos DataFrame \n",
    "\n",
    "* world_confirmed_latam\n",
    "* world_deaths_latam\n",
    "* world_recovered_latam"
   ]
  },
  {
   "cell_type": "code",
   "execution_count": null,
   "metadata": {},
   "outputs": [],
   "source": [
    "## [BORRAR_PRESENCIAL]\n",
    "world_confirmed[\"Country/Region\"].unique()"
   ]
  },
  {
   "cell_type": "markdown",
   "metadata": {},
   "source": [
    "Empezamos construyendo una lista con los países de interes:"
   ]
  },
  {
   "cell_type": "code",
   "execution_count": null,
   "metadata": {},
   "outputs": [],
   "source": [
    "latam_countries = ['Argentina', 'Bolivia', 'Brazil', 'Chile', 'Colombia',\n",
    "       'Costa Rica', 'Cuba', 'Dominican Republic', 'Ecuador',\n",
    "       'El Salvador', 'Guatemala', 'Honduras',\n",
    "       'Mexico', 'Nicaragua', 'Panama', 'Paraguay', 'Peru', 'Uruguay', 'Venezuela', 'Belize']"
   ]
  },
  {
   "cell_type": "code",
   "execution_count": null,
   "metadata": {},
   "outputs": [],
   "source": [
    "## [BORRAR_PRESENCIAL]\n",
    "\n",
    "world_confirmed_latam_mask = [x in latam_countries for x in world_confirmed[\"Country/Region\"]]\n",
    "world_confirmed_latam = world_confirmed.loc[world_confirmed_latam_mask, :]\n",
    "world_confirmed_latam.head(3)"
   ]
  },
  {
   "cell_type": "code",
   "execution_count": null,
   "metadata": {},
   "outputs": [],
   "source": [
    "## [BORRAR_PRESENCIAL]\n",
    "\n",
    "world_deaths_latam_mask = [x in latam_countries for x in world_deaths[\"Country/Region\"]]\n",
    "world_deaths_latam = world_deaths.loc[world_deaths_latam_mask, :]\n",
    "world_deaths_latam.head(3)\n"
   ]
  },
  {
   "cell_type": "code",
   "execution_count": null,
   "metadata": {},
   "outputs": [],
   "source": [
    "## [BORRAR_PRESENCIAL]\n",
    "\n",
    "world_recovered_latam_mask =  [x in latam_countries for x in world_recovered[\"Country/Region\"]]\n",
    "world_recovered_latam = world_recovered.loc[world_recovered_latam_mask, :]\n",
    "world_recovered_latam.head(3)\n"
   ]
  },
  {
   "cell_type": "markdown",
   "metadata": {},
   "source": [
    "Observemos que en todos estos DataFrame la fecha aparece como una columna, es decir a medida que pasa el tiempo crece la cantidad de columnas, y no la cantidad de filas (como es usual).\n",
    "\n"
   ]
  },
  {
   "cell_type": "markdown",
   "metadata": {},
   "source": [
    "---\n",
    "\n",
    "## Bokeh\n",
    "\n",
    "### Imports"
   ]
  },
  {
   "cell_type": "code",
   "execution_count": null,
   "metadata": {},
   "outputs": [],
   "source": [
    "from bokeh.plotting import figure\n",
    "from bokeh.io import show, output_notebook\n",
    "from bokeh.palettes import Category20\n",
    "from bokeh.models import HoverTool\n"
   ]
  },
  {
   "cell_type": "markdown",
   "metadata": {},
   "source": [
    "### Ejercicio 2\n",
    "\n",
    "Grafiquemos las muertes por día para los países de latinoamérica\n",
    "\n",
    "Cada punto de este gráfico tendrá como coordena x la cantidad de días desde el 22 de enero del 2020, y como coordenada y la cantidad de muertes ese día. Cada país estará representado por una serie distinta.\n",
    "\n",
    "**2.a** Para eso tenemos que construir un DataFrame con tres columnnas:\n",
    "* coord_x: es la cantidad de días desde el 22 de enero del 2020 (fecha mínima en el dataset)\n",
    "* coord_y: es la cantidad de muertes en la fecha y país correspondiente a ese registro\n",
    "* color: es el país\n",
    "\n",
    "Ayuda: usemos la función `melt` de pandas\n",
    "\n",
    "https://pandas.pydata.org/docs/reference/api/pandas.melt.html\n",
    "\n",
    "**2.b** Grafiquemos los datos del DataFrame que construimos en el punto anterior"
   ]
  },
  {
   "cell_type": "code",
   "execution_count": null,
   "metadata": {},
   "outputs": [],
   "source": [
    "# vemos cuáles son las columnas en el DataFrame\n",
    "print(world_deaths_latam.columns)\n",
    "\n",
    "# armamos una lista con las columnas que queremos exluir\n",
    "exclude_columns = ['Province/State', 'Country/Region', 'Lat', 'Long']\n",
    "\n",
    "id_vars = ['Country/Region']\n",
    "value_vars = [element for element in world_deaths_latam.columns if element not in exclude_columns]\n",
    "world_deaths_latam_plot = pd.melt(world_deaths_latam, id_vars=id_vars, value_vars=value_vars)\n",
    "print(world_deaths_latam_plot.head(3))\n",
    "\n",
    "world_deaths_latam_plot.head(3)"
   ]
  },
  {
   "cell_type": "markdown",
   "metadata": {},
   "source": [
    "Veamos si las columnas del DataFrame construido tiene el tipo de datos adecuado."
   ]
  },
  {
   "cell_type": "code",
   "execution_count": null,
   "metadata": {},
   "outputs": [],
   "source": [
    "world_deaths_latam_plot.dtypes"
   ]
  },
  {
   "cell_type": "markdown",
   "metadata": {},
   "source": [
    "Para representar la fecha (columna \"variable\") como coordenada x de los puntos vamos a convertirlas en enteros: cantidad de días desde el 22 de enero de 2020 hasta la fecha."
   ]
  },
  {
   "cell_type": "code",
   "execution_count": null,
   "metadata": {},
   "outputs": [],
   "source": [
    "umbral_timestamp = pd.Timestamp(day = 22, month = 1, year = 2020)\n",
    "\n",
    "variable_days = world_deaths_latam_plot.variable.apply(lambda x: (pd.Timestamp(x) - umbral_timestamp).days)\n",
    "\n",
    "world_deaths_latam_plot[\"variable_days\"] = variable_days\n",
    "#world_deaths_latam_plot.head(3)"
   ]
  },
  {
   "cell_type": "markdown",
   "metadata": {},
   "source": [
    "Vamos a usar para representar cada país un color de la paleta `Category20`.\n",
    "\n",
    "Para acceder a un color de esa paleta necesitamos un dato entero entre 0 y 19.\n",
    "\n",
    "Veamos cómo funciona.\n",
    "\n",
    "`Category20[20]` tiene 20 colores. \n",
    "\n",
    "Si asociamos cada país con un entero (i), podemos representar ese país con el valor `Category20[20][i]`"
   ]
  },
  {
   "cell_type": "code",
   "execution_count": null,
   "metadata": {},
   "outputs": [],
   "source": [
    "Category20[20]"
   ]
  },
  {
   "cell_type": "markdown",
   "metadata": {},
   "source": [
    "Creamos un diccionario `color_map` que mapee países con colores "
   ]
  },
  {
   "cell_type": "code",
   "execution_count": null,
   "metadata": {},
   "outputs": [],
   "source": [
    "keys = world_deaths_latam_plot[\"Country/Region\"].unique()\n",
    "\n",
    "colors = [Category20[20][i] for i in range(20) ]\n",
    "colormap = dict(zip(keys, colors))\n",
    "colormap"
   ]
  },
  {
   "cell_type": "code",
   "execution_count": null,
   "metadata": {},
   "outputs": [],
   "source": [
    "world_deaths_latam_plot = world_deaths_latam_plot.rename({\n",
    "    'Country/Region': 'country',\n",
    "    'variable_days': 'coord_x',\n",
    "    'value': 'coord_y'\n",
    "}, axis=1)"
   ]
  },
  {
   "cell_type": "code",
   "execution_count": null,
   "metadata": {},
   "outputs": [],
   "source": [
    "world_deaths_latam_plot"
   ]
  },
  {
   "cell_type": "markdown",
   "metadata": {},
   "source": [
    "Ahora podemos graficar los datos del DataFrame que construimos\n"
   ]
  },
  {
   "cell_type": "code",
   "execution_count": null,
   "metadata": {},
   "outputs": [],
   "source": [
    "\n",
    "#Specify the selection tools to be made available\n",
    "select_tools = ['box_zoom', 'pan', 'wheel_zoom', 'reset', 'crosshair', 'save']\n",
    "\n",
    "# Format the tooltip\n",
    "tooltips = [\n",
    "    ('', '@country'),\n",
    "    (\"(x,y)\", \"($x, $y)\")\n",
    "]\n",
    "\n",
    "# Create a blank figure with labels\n",
    "p = figure(plot_width = 800, plot_height = 600, \n",
    "           title = 'Deaths in Latam',\n",
    "           x_axis_label = 'Date (timestamp)', \n",
    "           y_axis_label = 'Deaths count',\n",
    "           tools=select_tools)\n",
    "\n",
    "## en el checkpoint dibujar solo dos series\n",
    "\n",
    "for country in colormap.keys():\n",
    "    country_mask =  world_deaths_latam_plot['country'] == country\n",
    "    country_data = world_deaths_latam_plot.loc[country_mask]\n",
    "    # Add circle glyph\n",
    "    p.circle('coord_x', 'coord_y', size = 6,\n",
    "        color = colormap[country], \n",
    "        legend_label = country, source = country_data)\n",
    "\n",
    "p.legend.location = \"top_left\"\n",
    "p.legend.click_policy='hide'\n",
    "\n",
    "p.add_tools(HoverTool(tooltips=tooltips))\n",
    "\n",
    "\n",
    "# Set to output the plot in the notebook\n",
    "output_notebook()\n",
    "# Show the plot\n",
    "show(p)\n"
   ]
  },
  {
   "cell_type": "markdown",
   "metadata": {},
   "source": [
    "### Ejercicio 3\n",
    "\n",
    "Repitamos el gráfico del ejercicio anterior, usando como valores en el eje x la cantidad de días desde la primera muerte en un país de latinoamérica.\n",
    "\n",
    "Y usemos lineas para unir los puntos de la misma serie.\n",
    "\n",
    "Ayuda: Calculemos el mínimo valor de días con cantidad de muertes distinto de cero."
   ]
  },
  {
   "cell_type": "code",
   "execution_count": null,
   "metadata": {},
   "outputs": [],
   "source": [
    "deaths_gt0_mask = world_deaths_latam_plot.coord_y > 0\n",
    "deaths_gt0 = world_deaths_latam_plot.loc[deaths_gt0_mask, :]\n",
    "x_umbral = deaths_gt0.coord_x.min()\n",
    "print(x_umbral)\n",
    "\n",
    "data_ej3_mask =  world_deaths_latam_plot.coord_x >= x_umbral\n",
    "data_ej3 = world_deaths_latam_plot.loc[data_ej3_mask, :]\n",
    "data_ej3"
   ]
  },
  {
   "cell_type": "code",
   "execution_count": null,
   "metadata": {},
   "outputs": [],
   "source": [
    "# veamos que data_ej3 sigue teniendo registros con coord_y = 0 \n",
    "# porque todos los países comenzaron a tener muertos en fechas diferentes y nosotros consideramos umbral la fecha del primer muerto\n",
    "(data_ej3.coord_y == 0).sum()"
   ]
  },
  {
   "cell_type": "markdown",
   "metadata": {},
   "source": [
    "Grafiquemos los datos de data_ej3"
   ]
  },
  {
   "cell_type": "code",
   "execution_count": null,
   "metadata": {},
   "outputs": [],
   "source": [
    "\n",
    "#Specify the selection tools to be made available\n",
    "select_tools = ['box_zoom', 'pan', 'wheel_zoom', 'reset', 'crosshair', 'save']\n",
    "\n",
    "# Format the tooltip\n",
    "tooltips = [\n",
    "    ('', '@country'),\n",
    "    (\"(x,y)\", \"($x, $y)\")\n",
    "]\n",
    "\n",
    "# Create a blank figure with labels\n",
    "p = figure(plot_width = 800, plot_height = 600, \n",
    "           title = 'Deaths in Latam',\n",
    "           x_axis_label = 'Date (timestamp)', \n",
    "           y_axis_label = 'Deaths count',\n",
    "           tools=select_tools)\n",
    "\n",
    "## en el checkpoint dibujar solo dos series\n",
    "\n",
    "for country in colormap.keys():\n",
    "    country_mask =  data_ej3['country'] == country    \n",
    "    country_data = data_ej3.loc[country_mask]\n",
    "    \n",
    "    # Add line glyph\n",
    "    p.line('coord_x', 'coord_y', line_width = 2,\n",
    "           color = colormap[country], alpha=0.8, \n",
    "           legend_label = country, source = country_data)\n",
    "    \n",
    "    # Add circle glyph\n",
    "    p.circle('coord_x', 'coord_y', size = 6,\n",
    "        color = colormap[country], \n",
    "        legend_label = country, source = country_data)\n",
    "    \n",
    "    \n",
    "p.legend.location = \"top_left\"\n",
    "p.legend.click_policy='hide'\n",
    "\n",
    "p.add_tools(HoverTool(tooltips=tooltips))\n",
    "\n",
    "\n",
    "# Set to output the plot in the notebook\n",
    "output_notebook()\n",
    "# Show the plot\n",
    "show(p)"
   ]
  },
  {
   "cell_type": "markdown",
   "metadata": {},
   "source": [
    "### Ejercicio 4\n",
    "\n",
    "Para poder comparar las curvas de distintos países, grafiquemos ahora en el eje x la cantidad de días desde las primeras tres muertes en cada país.\n",
    "\n",
    "Para eso vamos a tener que calcular las coordenadas del eje x con este criterio."
   ]
  },
  {
   "cell_type": "code",
   "execution_count": null,
   "metadata": {},
   "outputs": [],
   "source": [
    "world_deaths_latam_plot[\"variable_timestamp\"] = world_deaths_latam_plot.variable.apply(lambda x: pd.Timestamp(x))\n",
    "world_deaths_latam_plot_deathgt3_mask = world_deaths_latam_plot.coord_y >= 3\n",
    "\n",
    "data_ej4 = world_deaths_latam_plot.loc[world_deaths_latam_plot_deathgt3_mask, :]\n",
    "fecha_tres_muertos = data_ej4.groupby(\"country\")[\"variable_timestamp\"].min()\n",
    "fecha_tres_muertos"
   ]
  },
  {
   "cell_type": "code",
   "execution_count": null,
   "metadata": {},
   "outputs": [],
   "source": [
    "world_deaths_latam_plot[\"fecha_tres_muertos\"] = world_deaths_latam_plot.country.map(fecha_tres_muertos)"
   ]
  },
  {
   "cell_type": "code",
   "execution_count": null,
   "metadata": {},
   "outputs": [],
   "source": [
    "world_deaths_latam_plot[\"delta\"] = (world_deaths_latam_plot.variable_timestamp - world_deaths_latam_plot.fecha_tres_muertos)\\\n",
    "    .apply(lambda x: x.days)"
   ]
  },
  {
   "cell_type": "code",
   "execution_count": null,
   "metadata": {},
   "outputs": [],
   "source": [
    "data_ej4 = world_deaths_latam_plot.loc[world_deaths_latam_plot_deathgt3_mask, :]\n",
    "data_ej4"
   ]
  },
  {
   "cell_type": "code",
   "execution_count": null,
   "metadata": {},
   "outputs": [],
   "source": [
    "\n",
    "#Specify the selection tools to be made available\n",
    "select_tools = ['box_zoom', 'pan', 'wheel_zoom', 'reset', 'crosshair', 'save']\n",
    "\n",
    "# Format the tooltip\n",
    "tooltips = [\n",
    "    ('', '@country'),\n",
    "    (\"(x,y)\", \"($x, $y)\")\n",
    "]\n",
    "\n",
    "# Create a blank figure with labels\n",
    "p = figure(plot_width = 800, plot_height = 600, \n",
    "           title = 'Deaths in Latam',\n",
    "           x_axis_label = 'Days from 3 deaths', \n",
    "           y_axis_label = 'Deaths count',\n",
    "           tools=select_tools)\n",
    "\n",
    "## en el checkpoint dibujar solo dos series\n",
    "\n",
    "for country in colormap.keys():\n",
    "    country_mask =  data_ej4['country'] == country    \n",
    "    country_data = data_ej4.loc[country_mask]\n",
    "    \n",
    "    # Add line glyph\n",
    "    p.line('delta', 'coord_y', line_width = 2,\n",
    "           color = colormap[country], alpha=0.8, \n",
    "           legend_label = country, source = country_data)\n",
    "    \n",
    "    # Add circle glyph\n",
    "    p.circle('delta', 'coord_y', size = 6,\n",
    "        color = colormap[country], \n",
    "        legend_label = country, source = country_data)\n",
    "    \n",
    "    \n",
    "p.legend.location = \"top_left\"\n",
    "p.legend.click_policy='hide'\n",
    "\n",
    "p.add_tools(HoverTool(tooltips=tooltips))\n",
    "\n",
    "\n",
    "# Set to output the plot in the notebook\n",
    "output_notebook()\n",
    "# Show the plot\n",
    "show(p)"
   ]
  },
  {
   "cell_type": "markdown",
   "metadata": {},
   "source": [
    "## Ejercicio 5\n",
    "\n",
    "Repitamos el ejercicio 4 usando escala logarítmica"
   ]
  },
  {
   "cell_type": "markdown",
   "metadata": {},
   "source": [
    "En este ejercicio sólo tenemos que cambiar el valor del argumento `y_axis_type` del método `figure`"
   ]
  },
  {
   "cell_type": "code",
   "execution_count": null,
   "metadata": {},
   "outputs": [],
   "source": [
    "\n",
    "#Specify the selection tools to be made available\n",
    "select_tools = ['box_zoom', 'pan', 'wheel_zoom', 'reset', 'crosshair', 'save']\n",
    "\n",
    "# Format the tooltip\n",
    "tooltips = [\n",
    "    ('', '@country'),\n",
    "    (\"(x,y)\", \"($x, $y)\")\n",
    "]\n",
    "\n",
    "# Create a blank figure with labels\n",
    "p = figure(y_axis_type=\"log\",\n",
    "           plot_width = 800, plot_height = 600, \n",
    "           title = 'Deaths in Latam',\n",
    "           x_axis_label = 'Days from 3 deaths', \n",
    "           y_axis_label = 'Deaths count',\n",
    "           tools=select_tools)\n",
    "\n",
    "## en el checkpoint dibujar solo dos series\n",
    "\n",
    "for country in colormap.keys():\n",
    "    country_mask =  data_ej4['country'] == country    \n",
    "    country_data = data_ej4.loc[country_mask]\n",
    "    \n",
    "    # Add line glyph\n",
    "    p.line('delta', 'coord_y', line_width = 2,\n",
    "           color = colormap[country], alpha=0.8, \n",
    "           legend_label = country, source = country_data)\n",
    "    \n",
    "    # Add circle glyph\n",
    "    p.circle('delta', 'coord_y', size = 6,\n",
    "        color = colormap[country], \n",
    "        legend_label = country, source = country_data)\n",
    "    \n",
    "    \n",
    "p.legend.location = \"top_right\"\n",
    "p.legend.click_policy='hide'\n",
    "\n",
    "p.add_tools(HoverTool(tooltips=tooltips))\n",
    "\n",
    "\n",
    "# Set to output the plot in the notebook\n",
    "output_notebook()\n",
    "# Show the plot\n",
    "show(p)"
   ]
  },
  {
   "cell_type": "markdown",
   "metadata": {},
   "source": [
    "## Ejercicio 6 - Opcional\n",
    "\n",
    "Repitamos algunos de los análisis con los datos de confirmados o recuperados en latinoamérica"
   ]
  },
  {
   "cell_type": "markdown",
   "metadata": {},
   "source": [
    "## Ejercicio 7 - Opcional\n",
    "\n",
    "Usando gráficos de barras como los que vemos acá\n",
    "\n",
    "https://hectoramirez.github.io/covid/COVID19.html\n",
    "    \n",
    "analicemos los datos de latam."
   ]
  },
  {
   "cell_type": "markdown",
   "metadata": {},
   "source": [
    "---\n",
    "\n",
    "## Plotly\n",
    "\n",
    "Recuerden crear un usuario y generar una api key en https://chart-studio.plotly.com/"
   ]
  },
  {
   "cell_type": "code",
   "execution_count": null,
   "metadata": {},
   "outputs": [],
   "source": [
    "import plotly\n",
    "import plotly.express as px\n",
    "import chart_studio"
   ]
  },
  {
   "cell_type": "code",
   "execution_count": null,
   "metadata": {},
   "outputs": [],
   "source": [
    "#chart-studio api\n",
    "username = 'completar' # your username\n",
    "api_key = 'completar' # your api api_key\n",
    "chart_studio.tools.set_credentials_file(username=username, api_key=api_key)\n",
    "import chart_studio.plotly as py"
   ]
  },
  {
   "cell_type": "markdown",
   "metadata": {},
   "source": [
    "## Ejercicio 1\n",
    "\n",
    "Vamos construir un único DataFrame con los datos de confirmados y muertos por país y fecha\n",
    "\n",
    "Las columnas serán:\n",
    "* Country/Region    \n",
    "* fecha\n",
    "* value_deaths\n",
    "* value_confirmed\n",
    "\n",
    "\n"
   ]
  },
  {
   "cell_type": "code",
   "execution_count": null,
   "metadata": {},
   "outputs": [],
   "source": [
    "def melt_data(raw_data):\n",
    "\n",
    "    # armamos una lista con las columnas que queremos exluir\n",
    "    exclude_columns = ['Province/State', 'Country/Region', 'Lat', 'Long']\n",
    "\n",
    "    id_vars = ['Country/Region']\n",
    "    value_vars = [element for element in raw_data.columns if element not in exclude_columns]\n",
    "    result = pd.melt(raw_data, id_vars=id_vars, value_vars=value_vars)\n",
    "\n",
    "    result['variable_date'] = pd.to_datetime(result['variable'])\n",
    "\n",
    "    result.index = [result ['Country/Region'], result[\"variable_date\"] ]\n",
    "\n",
    "    return result\n"
   ]
  },
  {
   "cell_type": "code",
   "execution_count": null,
   "metadata": {},
   "outputs": [],
   "source": [
    "world_deaths_latam_plot = melt_data(world_deaths_latam)\n",
    "world_deaths_latam_plot.head(3)"
   ]
  },
  {
   "cell_type": "code",
   "execution_count": null,
   "metadata": {},
   "outputs": [],
   "source": [
    "world_confirmed_latam_plot = melt_data(world_confirmed_latam)\n",
    "world_confirmed_latam_plot.head(3)"
   ]
  },
  {
   "cell_type": "code",
   "execution_count": null,
   "metadata": {},
   "outputs": [],
   "source": [
    "data_left = pd.DataFrame(world_confirmed_latam_plot['value'])\n",
    "data_right = pd.DataFrame(world_deaths_latam_plot['value'])\n",
    "\n",
    "data_to_plot = data_left.join(data_right, lsuffix='_confirmed', rsuffix='_deaths')\n",
    "\n",
    "data_to_plot = data_to_plot.reset_index()\n",
    "\n",
    "data_to_plot.head(3)"
   ]
  },
  {
   "cell_type": "markdown",
   "metadata": {},
   "source": [
    "### Ejercicio 2\n",
    "\n",
    "Vamos a graficar Confirmados vs. Muertos por país usando los datos de latam en el DataFrame que construimos en el ejercicio anterior para la máxima fecha disponible en el dataset.\n"
   ]
  },
  {
   "cell_type": "code",
   "execution_count": null,
   "metadata": {},
   "outputs": [],
   "source": [
    "max_fecha = data_to_plot.variable_date.max()\n",
    "max_fecha"
   ]
  },
  {
   "cell_type": "code",
   "execution_count": null,
   "metadata": {},
   "outputs": [],
   "source": [
    "fecha_mask = data_to_plot.variable_date == max_fecha\n",
    "data_to_plot_fecha = data_to_plot.loc[fecha_mask, :]\n",
    "data_to_plot_fecha.head(3)"
   ]
  },
  {
   "cell_type": "code",
   "execution_count": null,
   "metadata": {},
   "outputs": [],
   "source": [
    "fig = px.scatter(data_frame=data_to_plot_fecha, \n",
    "                 x='value_confirmed', y='value_deaths', \n",
    "                 color='Country/Region', size='value_confirmed', height=500, width=900,                 \n",
    "                 text='Country/Region', title= f'Muertos vs Confirmados - {max_fecha} - (latam)')\n",
    "\n",
    "fig.update_traces(textposition='top center')\n",
    "\n",
    "fig.layout.update(showlegend = False)\n",
    "\n",
    "if api_key: py.plot(fig, filename = 'scatter_muertos_confirmados', auto_open=False)\n",
    "fig.show()\n"
   ]
  },
  {
   "cell_type": "markdown",
   "metadata": {},
   "source": [
    "### Ejercicio 3\n",
    "\n",
    "Vamos a repetir el ejercicio 2, pero en lugar de graficar la fecha máxima del dataset usaremos una animación para ver un gráfico distinto por cada fecha.\n"
   ]
  },
  {
   "cell_type": "code",
   "execution_count": null,
   "metadata": {},
   "outputs": [],
   "source": [
    "min_date = data_to_plot.variable_date.min()\n",
    "\n",
    "data_to_plot[\"delta_days\"] = [x.days for x in (data_to_plot.variable_date - min_date)]\n",
    "\n",
    "data_to_plot.head(3)"
   ]
  },
  {
   "cell_type": "markdown",
   "metadata": {},
   "source": [
    "La cuenta gratuita no nos deja graficar tantos datos, así que vamos a gaficar sólo la última semana"
   ]
  },
  {
   "cell_type": "code",
   "execution_count": null,
   "metadata": {},
   "outputs": [],
   "source": [
    "delta_threshold = data_to_plot.delta_days.max() - 7\n",
    "data_to_plot_subset_mask = data_to_plot.delta_days >= delta_threshold\n",
    "data_to_plot_subset = data_to_plot.loc[data_to_plot_subset_mask, :]\n",
    "data_to_plot_subset.shape"
   ]
  },
  {
   "cell_type": "code",
   "execution_count": null,
   "metadata": {},
   "outputs": [],
   "source": [
    "fig = px.scatter(data_frame=data_to_plot_subset, \n",
    "                 x='value_confirmed', y='value_deaths', \n",
    "                 color='Country/Region', size='value_confirmed', height=500, width=900,\n",
    "                 animation_frame=\"delta_days\",\n",
    "                 text='Country/Region', title= 'Muertos vs Confirmados (latam)')\n",
    "\n",
    "fig.update_traces(textposition='top center')\n",
    "\n",
    "fig.layout.update(showlegend = False)\n",
    "\n",
    "if api_key: py.plot(fig, filename = 'scatter_muertos_confirmados_animation', auto_open=False)\n",
    "fig.show()\n"
   ]
  },
  {
   "cell_type": "markdown",
   "metadata": {},
   "source": [
    "### Ejercicio 4\n",
    "\n",
    "Ahora repitamos el ejercicio 3 para escala logarítmica"
   ]
  },
  {
   "cell_type": "code",
   "execution_count": null,
   "metadata": {},
   "outputs": [],
   "source": [
    "fig = px.scatter(data_frame=data_to_plot_subset, \n",
    "                 x='value_confirmed', y='value_deaths', \n",
    "                 log_x=True, log_y=True,\n",
    "                 color='Country/Region', size='value_confirmed', height=500, width=900,\n",
    "                 animation_frame=\"delta_days\",\n",
    "                 text='Country/Region', title= 'Muertos vs Confirmados (latam) - escala logaritmica')\n",
    "\n",
    "fig.update_traces(textposition='top center')\n",
    "\n",
    "fig.layout.update(showlegend = False)\n",
    "\n",
    "if api_key: py.plot(fig, filename = 'scatter_muertos_confirmados_animation', auto_open=False)\n",
    "fig.show()"
   ]
  },
  {
   "cell_type": "markdown",
   "metadata": {},
   "source": [
    "## Ejercicio 5\n",
    "\n",
    "Usemos un gráfico de lineas para mostrar el total de casos confirmados de COVID 19 por pais de latam vs. cant de días desde el primer confirmado, en escala logaritmica.\n"
   ]
  },
  {
   "cell_type": "code",
   "execution_count": null,
   "metadata": {},
   "outputs": [],
   "source": [
    "# borramos los indices que usamos para el join:\n",
    "\n",
    "world_confirmed_latam_plot = world_confirmed_latam_plot.reset_index(drop = True)\n",
    "\n",
    "\n",
    "confirmed_gt0_mask = world_confirmed_latam_plot.value > 0\n",
    "confirmed_gt0 = world_confirmed_latam_plot.loc[confirmed_gt0_mask, :]\n",
    "confirmed_gt0\n",
    "min_date = confirmed_gt0.variable_date.min()\n",
    "print(min_date)\n",
    "#confirmed_gt0\n",
    "\n",
    "world_confirmed_latam_plot[\"delta_days\"] = [x.days for x in (world_confirmed_latam_plot.variable_date - min_date)]\n",
    "\n",
    "world_confirmed_latam_plot_mask = world_confirmed_latam_plot.delta_days >= 0\n",
    "\n",
    "\n",
    "world_confirmed_latam_plot = world_confirmed_latam_plot.loc[world_confirmed_latam_plot_mask, :]\n",
    "\n",
    "world_confirmed_latam_plot.head(3)\n"
   ]
  },
  {
   "cell_type": "code",
   "execution_count": null,
   "metadata": {},
   "outputs": [],
   "source": [
    "# paleta:\n",
    "#https://plotly.com/python/discrete-color/\n",
    "\n",
    "fig = px.line(world_confirmed_latam_plot, x='delta_days' , y='value', \n",
    "              log_y=True, color='Country/Region',\n",
    "              color_discrete_sequence=px.colors.qualitative.Dark24,\n",
    "              title='Total Casos Confirmados de COVID 19 por Pais (latam) ')\n",
    "\n",
    "paises = world_confirmed_latam_plot[\"Country/Region\"]\n",
    "\n",
    "\n",
    "fig.layout.update(showlegend=True, \n",
    "                  yaxis =  {\"title\": {\"text\": \"Numero de Personas\"}},\n",
    "                  xaxis =  {\"title\": {\"text\": \"Cantidad de días desde el primer caso en latam\"}}\n",
    "                 ) \n",
    "\n",
    "# grabar grafica en chart-studio\n",
    "if api_key: py.plot(fig, filename = 'total_casos_latam', auto_open=False)\n",
    "fig.show()"
   ]
  },
  {
   "cell_type": "markdown",
   "metadata": {},
   "source": [
    "## Referencias\n",
    "\n",
    "https://towardsdatascience.com/data-visualization-with-bokeh-in-python-part-one-getting-started-a11655a467d4\n",
    "\n",
    "https://towardsdatascience.com/your-live-covid-19-tracker-with-airflow-and-github-pages-658c3e048304\n",
    "\n",
    "https://hectoramirez.github.io/covid/COVID19.html\n",
    "\n",
    "https://joserzapata.github.io/es/post/covid19-visualizacion/\n",
    "\n",
    "https://colab.research.google.com/github/JoseRZapata/JoseRZapata.github.io/blob/master/Jupyter_Notebook/Covid19_Visualizacion_es.ipynb\n"
   ]
  }
 ],
 "metadata": {
  "kernelspec": {
   "display_name": "Python 3",
   "language": "python",
   "name": "python3"
  },
  "language_info": {
   "codemirror_mode": {
    "name": "ipython",
    "version": 3
   },
   "file_extension": ".py",
   "mimetype": "text/x-python",
   "name": "python",
   "nbconvert_exporter": "python",
   "pygments_lexer": "ipython3",
   "version": "3.7.7"
  }
 },
 "nbformat": 4,
 "nbformat_minor": 4
}

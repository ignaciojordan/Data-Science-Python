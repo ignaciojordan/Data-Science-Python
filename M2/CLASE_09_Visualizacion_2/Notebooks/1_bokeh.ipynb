{
 "cells": [
  {
   "cell_type": "code",
   "execution_count": null,
   "metadata": {},
   "outputs": [],
   "source": [
    "# initial setup\n",
    "try:\n",
    "    # settings colab:\n",
    "    import google.colab\n",
    "        \n",
    "except ModuleNotFoundError:    \n",
    "    # settings local:\n",
    "    %run \"../../../common/0_notebooks_base_setup.py\""
   ]
  },
  {
   "cell_type": "markdown",
   "metadata": {},
   "source": [
    "---\n",
    "\n",
    "<img src='../../../common/logo_DH.png' align='left' width=35%/>\n"
   ]
  },
  {
   "cell_type": "markdown",
   "metadata": {},
   "source": [
    "# Visualización 2 - Bokeh\n",
    "\n",
    "---"
   ]
  },
  {
   "cell_type": "markdown",
   "metadata": {},
   "source": [
    "<a id=\"section_toc\"></a> \n",
    "## Tabla de Contenidos\n",
    "\n",
    "[Intro](#section_intro)\n",
    "\n",
    "[Imports](#section_imports)\n",
    "\n",
    "[Dataset](#section_dataset)\n",
    "\n",
    "[Algunos conceptos básicos](#section_conceptos)\n",
    "\n",
    "[`circle`](#section_circle)\n",
    "\n",
    "[`vbar` `circle` `triangle`](#section_vbar_circle_triangle)\n",
    "\n",
    "[`ColumnDataSource` `gridplot`](#section_columndatasource_gridplot)\n",
    "\n",
    "[Paletas](#section_paletas)\n",
    "\n",
    "[`HoverTool`](#section_hover)\n",
    "\n",
    "[Standalone HTML](#section_output_file)\n",
    "\n",
    "[Referencias](#section_referencias)"
   ]
  },
  {
   "cell_type": "markdown",
   "metadata": {},
   "source": [
    "---\n",
    "\n",
    "<a id=\"section_intro\"></a> \n",
    "## Intro\n",
    "\n",
    "[volver a TOC](#section_toc)\n",
    "\n",
    "Bokeh es una biblioteca de visualización interactiva para navegadores web. \n",
    "\n",
    "Proporciona una construcción elegante y concisa de gráficos versátiles, y ofrece interactividad de alto rendimiento sobre grandes volúmenes de datos o streaming. \n",
    "\n",
    "Bokeh provee funcionalidad para hacer dashboards, visualizaciones y aplicaciones de datos de manera rápida y sencilla.\n",
    "\n",
    "En esta notebook presentamos las herramientas básicas necesarias para construir visualizaciones con Bokeh.\n"
   ]
  },
  {
   "cell_type": "markdown",
   "metadata": {},
   "source": [
    "---\n",
    "\n",
    "<a id=\"section_imports\"></a> \n",
    "## Imports \n",
    "\n",
    "[volver a TOC](#section_toc)"
   ]
  },
  {
   "cell_type": "code",
   "execution_count": null,
   "metadata": {},
   "outputs": [],
   "source": [
    "import pandas as pd\n",
    "import numpy as np"
   ]
  },
  {
   "cell_type": "markdown",
   "metadata": {},
   "source": [
    "---\n",
    "\n",
    "<a id=\"section_dataset\"></a> \n",
    "## Dataset\n",
    "\n",
    "[volver a TOC](#section_toc)\n",
    "\n",
    "\n",
    "Bokeh provee algunos \"datos de muestra\" interesantes en el paquete `bokeh.sampledata`. \n",
    "\n",
    "Usaremos en esta notebook datos sintéticos para algunos ejemplos, y los datos históricos de automóviles que se disponibilizan en el dataset autompg.\n",
    "\n",
    "https://archive.ics.uci.edu/ml/datasets/Auto+MPG"
   ]
  },
  {
   "cell_type": "code",
   "execution_count": null,
   "metadata": {},
   "outputs": [],
   "source": [
    "from bokeh.sampledata.autompg import autompg as data_cars\n",
    "data_cars.sample(5)"
   ]
  },
  {
   "cell_type": "markdown",
   "metadata": {},
   "source": [
    "---\n",
    "<a id=\"section_conceptos\"></a> \n",
    "## Algunos conceptos básicos\n",
    "\n",
    "[volver a TOC](#section_toc)\n",
    "\n",
    "\n",
    "### Glyphs (glifos)\n",
    "\n",
    "Son los objetos básicos que conforman los gráficos Bokeh, por ejemplo: lineas, rectángulos, cuadrados. La interface `bokeh.plotting` provee una forma conveniente de crear gráficos en base a glifos.\n",
    "\n",
    "https://docs.bokeh.org/en/latest/docs/user_guide/plotting.html#userguide-plotting\n",
    "\n",
    "\n",
    "### Outputs\n",
    "\n",
    "Hay varias formas de generar salidas de documentos Bokeh. Las más comunes son:\n",
    "\n",
    "* `output_file`: genera archivos html para las visualizaciones Bokeh \n",
    "\n",
    "* `output_notebook`: muestra visualizaciones Bokeh como celdas de jupyter notebooks\n",
    "\n",
    "Estas funciones generalmente son invocadas junto a las funciones `show` o `save`\n",
    "\n",
    "Ejemplo:\n",
    "\n",
    "<code>\n",
    "    from bokeh.plotting import figure, output_file, show\n",
    "    output_file(\"output.html\")\n",
    "    p = figure()\n",
    "    p.line(x=[1, 2, 3], y=[4,6,2])\n",
    "    show(p)\n",
    "</code>\n",
    "\n",
    "\n",
    "### `bokeh.plotting`\n",
    "\n",
    "Bokeh provee una interface similar al estilo de Matplotlib. \n",
    "\n",
    "Se centra en hacer que los usuarios relacionen los glifos visuales que desean mostrar como representación de sus datos.\n",
    "\n",
    "La función `figure()` en bokeh.plotting crea un objeto `Figure` que provee métodos para agregar distintos tipos de glifos al gráfico. Y establece ejes por default, grillas, y herramientas sin requerir trabajo extra.\n",
    "\n",
    "https://docs.bokeh.org/en/latest/docs/reference/plotting.html?highlight=figure#bokeh.plotting.figure.Figure\n",
    "\n",
    "Ejemplo:"
   ]
  },
  {
   "cell_type": "code",
   "execution_count": null,
   "metadata": {},
   "outputs": [],
   "source": [
    "from bokeh.plotting import figure, output_notebook, show\n",
    "\n",
    "# create a Figure object\n",
    "p = figure(plot_width=300, plot_height=300, tools=\"pan,reset,save\")\n",
    "\n",
    "# add a Circle renderer to this figure\n",
    "p.circle([1, 2.5, 3, 2], [2, 3, 1, 1.5], radius=0.3, alpha=0.5)\n",
    "\n",
    "# specify how to output the plot(s)\n",
    "output_notebook()\n",
    "\n",
    "# display the figure\n",
    "show(p)"
   ]
  },
  {
   "cell_type": "markdown",
   "metadata": {},
   "source": [
    "---\n",
    "\n",
    "<a id=\"section_circle\"></a> \n",
    "## `circle`\n",
    "\n",
    "[volver a TOC](#section_toc)\n",
    "\n",
    "\n",
    "Usando el método `circle` de `Figure` vamos a graficar los datos generados\n",
    "\n",
    "https://docs.bokeh.org/en/latest/docs/reference/plotting.html?highlight=figure#bokeh.plotting.figure.Figure.circle"
   ]
  },
  {
   "cell_type": "code",
   "execution_count": null,
   "metadata": {},
   "outputs": [],
   "source": [
    "x = np.linspace(-15, 15, 200)\n",
    "y = x*np.cos(x)\n",
    "print(x)"
   ]
  },
  {
   "cell_type": "code",
   "execution_count": null,
   "metadata": {},
   "outputs": [],
   "source": [
    "p = figure(width=500, height=500)\n",
    "p.circle(x, y, size=7, color=\"firebrick\", alpha=0.5)\n",
    "output_notebook()\n",
    "show(p)"
   ]
  },
  {
   "cell_type": "markdown",
   "metadata": {},
   "source": [
    "---\n",
    "\n",
    "<a id=\"section_vbar_circle_triangle\"></a> \n",
    "## `vbar` `circle` `triangle`\n",
    "\n",
    "[volver a TOC](#section_toc)\n",
    "\n",
    "\n",
    "https://docs.bokeh.org/en/latest/docs/reference/plotting.html?bokeh.plotting.figure.Figure.vbar#bokeh.plotting.figure.Figure.vbar\n",
    "\n",
    "https://docs.bokeh.org/en/latest/docs/reference/plotting.html?bokeh.plotting.figure.Figure.circle#bokeh.plotting.figure.Figure.circle\n",
    "\n",
    "https://docs.bokeh.org/en/latest/docs/reference/plotting.html?bokeh.plotting.figure.Figure.triangle#bokeh.plotting.figure.Figure.triangle"
   ]
  },
  {
   "cell_type": "markdown",
   "metadata": {},
   "source": [
    "Bokeh se basa en la composición de primitivas gráficas que están ligadas a series de datos. \n",
    "\n",
    "Calcularemos la media y el desvío estandar del campo `mpg` agrupado por `yr` (model year)\n",
    "\n",
    "Grafiquemos \n",
    "\n",
    "* usando triángulos, los valores de los registros cuyo origen es americano (origin 1)\n",
    "\n",
    "* usando círculos, los valores de los registros cuyo origen es japones (origin 3)\n",
    "\n",
    "* usando barras verticales, la media +/- desvío por año\n",
    "\n"
   ]
  },
  {
   "cell_type": "code",
   "execution_count": null,
   "metadata": {},
   "outputs": [],
   "source": [
    "data_cars_group = data_cars.groupby(\"yr\")\n",
    "data_cars_agg = data_cars_group[\"mpg\"].agg(['mean', 'std'])\n",
    "data_cars_agg = data_cars_agg.reset_index()\n",
    "data_cars_agg.head()"
   ]
  },
  {
   "cell_type": "code",
   "execution_count": null,
   "metadata": {},
   "outputs": [],
   "source": [
    "p = figure(title=\"MPG Por Año (Japón y USA)\")\n",
    "\n",
    "p.vbar(x = data_cars_agg.yr,\n",
    "       bottom = data_cars_agg['mean']- data_cars_agg['std'],\n",
    "       top = data_cars_agg['mean'] + data_cars_agg['std'],\n",
    "       width = 0.8,\n",
    "       fill_alpha = 0.2,\n",
    "       line_color = None, \n",
    "       legend_label = \"media de mpg +/- 1 desvío\")\n",
    "\n",
    "p.circle(x = data_cars.yr.loc[data_cars.origin==3],\n",
    "         y = data_cars.mpg.loc[data_cars.origin==3],\n",
    "         size=10,\n",
    "         alpha=0.5,\n",
    "         color=\"red\",\n",
    "         legend_label=\"Japanese\")\n",
    "\n",
    "p.triangle(x = data_cars.yr.loc[data_cars.origin==1],\n",
    "           y = data_cars.mpg.loc[data_cars.origin==1],\n",
    "           size=10,\n",
    "           alpha=0.3,\n",
    "           color=\"darkblue\",\n",
    "           legend_label=\"American\")\n",
    "\n",
    "p.legend.location = \"top_left\"\n",
    "\n",
    "output_notebook()\n",
    "show(p)"
   ]
  },
  {
   "cell_type": "markdown",
   "metadata": {},
   "source": [
    "Observemos que:\n",
    "    \n",
    "* Para cada símbolo, estamos graficando un conjunto distinto de datos. Las barras se construyen sobre los datos del DataFrame `data_cars_agg`. Los tríángulos se construyen sobre los datos de DataFrame `data_cars` sólo para los registros con `origin==1`. Los círculos se construyen sobre los datos de DataFrame `data_cars` sólo para los registros con `origin==3`\n",
    "\n",
    "* Los argmentos x, y reciben la serie de datos a representar. Como alternativa podríamos especificar el valor de `source`, en ese caso x e y tendrían los nombre de las columnas en source que tienen los valores a representar.\n",
    "    "
   ]
  },
  {
   "cell_type": "markdown",
   "metadata": {},
   "source": [
    "---\n",
    "\n",
    "<a id=\"section_columndatasource_gridplot\"></a> \n",
    "## `ColumnDataSource` `gridplot`\n",
    "\n",
    "[volver a TOC](#section_toc)\n",
    "\n",
    "\n",
    "https://docs.bokeh.org/en/latest/docs/user_guide/data.html?highlight=columndatasource\n",
    "\n",
    "https://docs.bokeh.org/en/latest/docs/reference/models/sources.html#bokeh.models.sources.ColumnDataSource\n",
    "\n",
    "\n",
    "**`ColumnDataSource`** es el core de la mayoría de los gráficos de Bokeh y proporciona los datos que visualizamos mediante glifos en el gráfico. \n",
    "\n",
    "Con `ColumnDataSource`, es fácil compartir datos entre múltiples gráficos. \n",
    "\n",
    "Cuando se utiliza el mismo objeto `ColumnDataSource` como origen de datos de múltiples gráficos, la selección del origen de datos también se comparte. Por lo tanto, es posible utilizar una herramienta de selección para elegir puntos de datos de un gráfico y resaltarlos automáticamente en un segundo gráfico (Selección vinculada).\n",
    "\n",
    "En el nivel más básico, un objeto `ColumnDataSource` es simplemente un mapeo entre los nombres de columna y las listas de datos. \n",
    "\n",
    "\n",
    "**`gridplot`** crea una grilla de plots, y constuye una única toolbar compartida entre todos los plots de la grilla.\n",
    "\n",
    "https://docs.bokeh.org/en/latest/docs/reference/layouts.html\n",
    "\n",
    "\n"
   ]
  },
  {
   "cell_type": "code",
   "execution_count": null,
   "metadata": {},
   "outputs": [],
   "source": [
    "from bokeh.models import ColumnDataSource\n",
    "from bokeh.layouts import gridplot\n",
    "\n",
    "data_bokeh = ColumnDataSource(data_cars)\n",
    "\n",
    "options = {'plot_width': 300,\n",
    "           'plot_height': 300,\n",
    "           'tools': 'pan, box_select, lasso_select, reset'}\n",
    "\n",
    "p1 = figure(title=\"MPG por Año\", x_axis_label = \"MPG\", y_axis_label = \"Año\", **options)\n",
    "p1.circle(\"yr\", \"mpg\", color = \"blue\", source = data_bokeh)\n",
    "\n",
    "p2 = figure(title=\"HP vs. Desplazamiento\", x_axis_label = \"HP\", y_axis_label = \"Desplazamiento\", **options)\n",
    "p2.cross(\"hp\", \"displ\", color = \"green\", source = data_bokeh)\n",
    "\n",
    "p3 = figure(title=\"MPG vs. Desplazamiento\", x_axis_label = \"MPG\", y_axis_label = \"Desplazamiento\", **options)\n",
    "p3.diamond(\"mpg\", \"displ\", size = \"cyl\", line_color=\"red\", fill_color = None, source = data_bokeh)\n",
    "\n",
    "p4 = figure(title=\"Aceleración vs. Desplazamiento\", x_axis_label = \"Aceleración\", y_axis_label = \"Desplazamiento\",  **options)\n",
    "p4.triangle(\"accel\", \"displ\", color = \"yellow\", source = data_bokeh)\n",
    "\n",
    "p = gridplot([[p1, p2], [p3, p4]] , toolbar_location=\"right\")\n",
    "\n",
    "output_notebook()\n",
    "show(p)"
   ]
  },
  {
   "cell_type": "markdown",
   "metadata": {},
   "source": [
    "Observemos que:\n",
    "\n",
    "* el valor del argumento source es el mismo para los cuatro plots generados, y es de tipo `ColumnDataSource`\n",
    "\n",
    "* aunque definimos el valor de tool para cada uno de los plots, se muestra sólo uno compartido entre todos los plots de la grilla.\n",
    "\n",
    "* usando cualquiera de las dos herramientas de selección, en cualquiera de los gráficos, estamos seleccionando el mismo conjunto de registros en todos los gráficos."
   ]
  },
  {
   "cell_type": "markdown",
   "metadata": {},
   "source": [
    "---\n",
    "\n",
    "<a id=\"section_paletas\"></a> \n",
    "##  Paletas\n",
    "\n",
    "[volver a TOC](#section_toc)\n",
    "\n",
    "\n",
    "Bokeh provee una colección de paletas predefinidas que podemos ver en \n",
    "\n",
    "https://docs.bokeh.org/en/latest/docs/reference/palettes.html\n",
    "\n",
    "Usemos cuatro colores de **Category10** para colorear los puntos del gráfico anterior.\n"
   ]
  },
  {
   "cell_type": "code",
   "execution_count": null,
   "metadata": {},
   "outputs": [],
   "source": [
    "from bokeh.palettes import Category10\n",
    "from bokeh.models import ColumnDataSource\n",
    "from bokeh.layouts import gridplot\n",
    "\n",
    "data_bokeh = ColumnDataSource(data_cars)\n",
    "\n",
    "options = {'plot_width': 300,\n",
    "           'plot_height': 300,\n",
    "           'tools': 'pan, box_select, lasso_select, reset'}\n",
    "\n",
    "colors = Category10[4]\n",
    "\n",
    "p1 = figure(title=\"MPG por Año\", x_axis_label = \"MPG\", y_axis_label = \"Año\", **options)\n",
    "p1.circle(\"yr\", \"mpg\", color = colors[0], source = data_bokeh)\n",
    "\n",
    "p2 = figure(title=\"HP vs. Desplazamiento\", x_axis_label = \"HP\", y_axis_label = \"Desplazamiento\", **options)\n",
    "p2.cross(\"hp\", \"displ\", color = colors[1], source = data_bokeh)\n",
    "\n",
    "p3 = figure(title=\"MPG vs. Desplazamiento\", x_axis_label = \"MPG\", y_axis_label = \"Desplazamiento\", **options)\n",
    "p3.diamond(\"mpg\", \"displ\", size = \"cyl\", line_color=colors[2], fill_color = None, source = data_bokeh)\n",
    "\n",
    "p4 = figure(title=\"Aceleración vs. Desplazamiento\", x_axis_label = \"Aceleración\", y_axis_label = \"Desplazamiento\",  **options)\n",
    "p4.triangle(\"accel\", \"displ\", color = colors[3], source = data_bokeh)\n",
    "\n",
    "p = gridplot([[p1, p2], [p3, p4]] , toolbar_location=\"right\")\n",
    "\n",
    "output_notebook()\n",
    "show(p)"
   ]
  },
  {
   "cell_type": "markdown",
   "metadata": {},
   "source": [
    "---\n",
    "\n",
    "<a id=\"section_hover\"></a> \n",
    "## `HoverTool`\n",
    "\n",
    "[volver a TOC](#section_toc)\n",
    "\n",
    "\n",
    "https://docs.bokeh.org/en/latest/docs/user_guide/tools.html\n",
    "\n",
    "Es una herramienta de inspección pasiva, que por default crea una tabla con información donde cada fila de esa tabla tiene una etiqueta y un valor asociado.\n",
    "\n",
    "Las etiquetas y los valores se asignan en una lista de tuplas.\n",
    "\n",
    "Los nombres de campo que comienzan con '$' son \"campos especiales\". A menudo corresponden a valores que son intrínsecos del gráfico, como las coordenadas del mouse en el espacio de datos o pantalla. Algunos campos especiales se enumeran aquí:\n",
    "\n",
    "`$index`: indíce del punto seleccionado en el dataset \n",
    "\n",
    "`$x`: coordenada x del cursor en el espacio de datos\n",
    "\n",
    "`$y`: coordenada y del cursor en el espacio de datos\n",
    "\n",
    "`$sx`: coordenada x del cursor en el espacio de la pantalla (canvas)\n",
    "\n",
    "`$sy`: coordenada y del cursor en el espacio de la pantalla (canvas)\n",
    "\n",
    "Los nombres de campo que comienzan con @ están asociados con columnas en el valor del argumento source. \n",
    "\n",
    "Por ejemplo, el nombre del campo \"@price\" mostrará los valores de la columna \"precio\" cada vez que se active hover para cada registro. \n",
    "\n",
    "Ejemplo:"
   ]
  },
  {
   "cell_type": "code",
   "execution_count": null,
   "metadata": {},
   "outputs": [],
   "source": [
    "from bokeh.plotting import ColumnDataSource, figure, output_file, show\n",
    "\n",
    "#output_file(\"toolbar.html\", mode = 'inline')\n",
    "output_notebook()\n",
    "\n",
    "source = ColumnDataSource(data=dict(\n",
    "    x=[1, 2, 3, 4, 5],\n",
    "    y=[2, 5, 8, 2, 7],\n",
    "    desc=['A', 'b', 'C', 'd', 'E'],\n",
    "))\n",
    "\n",
    "tools =  ['pan', 'box_zoom', 'reset']\n",
    "\n",
    "tooltips = [\n",
    "    (\"index\", \"$index\"),\n",
    "    (\"(x,y)\", \"($x, $y)\"),\n",
    "    (\"desc\", \"@desc\"),\n",
    "]\n",
    "\n",
    "p = figure(plot_width=400, plot_height=400,            \n",
    "           tools = tools,\n",
    "           tooltips=tooltips,\n",
    "           title=\"Mouse over the dots\")\n",
    "\n",
    "p.circle('x', 'y', size=20, source=source)\n",
    "\n",
    "show(p)"
   ]
  },
  {
   "cell_type": "markdown",
   "metadata": {},
   "source": [
    "---\n",
    "\n",
    "<a id=\"section_output_file\"></a> \n",
    "## Standalone HTML\n",
    "\n",
    "[volver a TOC](#section_toc)\n",
    "\n",
    "\n",
    "Bokeh también permite guardar plots en archivos HTML. \n",
    "\n",
    "Para eso usamos la función `output_file` y `save` (en lugar de `output_notebook()` y `show`)\n",
    "\n",
    "También podemos usar la combinación `output_file` `show` que abre en una nueva pestaña el gráfico guardado.\n",
    "\n",
    "Es importante establecer el valor del argumento `mode` que indica cómo se distribuyen los archivos js necesarios para el comportamiento interactivo de la visualización. Los valores posibles se especifican aquí https://docs.bokeh.org/en/latest/docs/reference/resources.html#bokeh.resources.Resources\n",
    "\n",
    "\n",
    "Guardemos el último gráfico generado, que está asignado a la variable `p` \n"
   ]
  },
  {
   "cell_type": "code",
   "execution_count": null,
   "metadata": {},
   "outputs": [],
   "source": [
    "from bokeh.plotting import output_file, save\n",
    "output_file(\"test_save_plot.html\", mode='inline')\n",
    "save(p)"
   ]
  },
  {
   "cell_type": "markdown",
   "metadata": {},
   "source": [
    "Para resetear los settings de output usamos `reset_output`\n",
    "\n",
    "https://docs.bokeh.org/en/latest/docs/reference/io.html?highlight=reset_output#bokeh.io.output.reset_output"
   ]
  },
  {
   "cell_type": "code",
   "execution_count": null,
   "metadata": {},
   "outputs": [],
   "source": [
    "from bokeh.plotting import reset_output\n",
    "reset_output()"
   ]
  },
  {
   "cell_type": "markdown",
   "metadata": {},
   "source": [
    "---\n",
    "\n",
    "<a id=\"section_referencias\"></a> \n",
    "## Referencias\n",
    "\n",
    "[volver a TOC](#section_toc)\n",
    "\n",
    "\n",
    "https://docs.bokeh.org/en/latest/index.html\n",
    "\n",
    "Referencia\n",
    "https://docs.bokeh.org/en/latest/docs/reference.html#refguide\n",
    "\n",
    "Galería\n",
    "https://docs.bokeh.org/en/latest/docs/gallery.html#id3\n",
    "\n",
    "User Guide\n",
    "https://docs.bokeh.org/en/latest/docs/user_guide.html#userguide"
   ]
  }
 ],
 "metadata": {
  "kernelspec": {
   "display_name": "Python 3",
   "language": "python",
   "name": "python3"
  },
  "language_info": {
   "codemirror_mode": {
    "name": "ipython",
    "version": 3
   },
   "file_extension": ".py",
   "mimetype": "text/x-python",
   "name": "python",
   "nbconvert_exporter": "python",
   "pygments_lexer": "ipython3",
   "version": "3.6.7"
  }
 },
 "nbformat": 4,
 "nbformat_minor": 4
}

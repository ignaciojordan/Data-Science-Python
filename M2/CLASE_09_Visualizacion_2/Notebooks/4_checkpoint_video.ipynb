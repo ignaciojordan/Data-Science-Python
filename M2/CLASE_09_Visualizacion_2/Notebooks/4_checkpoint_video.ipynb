{
 "cells": [
  {
   "cell_type": "code",
   "execution_count": null,
   "metadata": {},
   "outputs": [],
   "source": [
    "# initial setup\n",
    "try:\n",
    "    # settings colab:\n",
    "    import google.colab\n",
    "        \n",
    "except ModuleNotFoundError:    \n",
    "    # settings local:\n",
    "    %run \"../../../common/0_notebooks_base_setup.py\""
   ]
  },
  {
   "cell_type": "markdown",
   "metadata": {},
   "source": [
    "---\n",
    "\n",
    "<img src='../../../common/logo_DH.png' align='left' width=35%/>\n"
   ]
  },
  {
   "cell_type": "markdown",
   "metadata": {},
   "source": [
    "# Visualización 2 - bokeh y plotly\n",
    "\n",
    "---"
   ]
  },
  {
   "cell_type": "markdown",
   "metadata": {},
   "source": [
    "## Dataset\n",
    "\n",
    "En esta práctica vamos a usar datos de COVID-19 que disponibiliza Johns Hopkins University en \n",
    "\n",
    "https://github.com/CSSEGISandData/COVID-19\n",
    "\n",
    "Novel Coronavirus COVID-19 (2019-nCoV) Data Repository by Johns Hopkins CSSE (CSSE = Computer Science and Software Engineering)\n",
    "\n",
    "Los datasets que usamos se actualizan diariamente y llevan el registro de cantidad de confirmados, muertos y recuperados por país y región.\n",
    "\n",
    "Usando estos datos vamos a construir algunas visualizaciones con las bibliotecas bokeh y plotly.\n",
    "\n",
    "(Nota: la actualizacion es diaria en mayo 2020.)\n"
   ]
  },
  {
   "cell_type": "markdown",
   "metadata": {},
   "source": [
    "## Imports"
   ]
  },
  {
   "cell_type": "code",
   "execution_count": null,
   "metadata": {},
   "outputs": [],
   "source": [
    "import pandas as pd\n",
    "import numpy as np\n",
    "import datetime"
   ]
  },
  {
   "cell_type": "markdown",
   "metadata": {},
   "source": [
    "## Leemos los datos desde github"
   ]
  },
  {
   "cell_type": "code",
   "execution_count": null,
   "metadata": {},
   "outputs": [],
   "source": [
    "world_confirmed_url = 'https://raw.githubusercontent.com/CSSEGISandData/COVID-19/master/csse_covid_19_data/csse_covid_19_time_series/time_series_covid19_confirmed_global.csv'\n",
    "world_deaths_url = 'https://raw.githubusercontent.com/CSSEGISandData/COVID-19/master/csse_covid_19_data/csse_covid_19_time_series/time_series_covid19_deaths_global.csv'\n",
    "world_recovered_url = 'https://raw.githubusercontent.com/CSSEGISandData/COVID-19/master/csse_covid_19_data/csse_covid_19_time_series/time_series_covid19_recovered_global.csv'\n",
    "\n",
    "world_confirmed = pd.read_csv(world_confirmed_url)\n",
    "world_deaths = pd.read_csv(world_deaths_url)\n",
    "world_recovered = pd.read_csv(world_recovered_url)"
   ]
  },
  {
   "cell_type": "code",
   "execution_count": null,
   "metadata": {},
   "outputs": [],
   "source": [
    "world_confirmed.head(3)"
   ]
  },
  {
   "cell_type": "code",
   "execution_count": null,
   "metadata": {},
   "outputs": [],
   "source": [
    "world_deaths.head(3)"
   ]
  },
  {
   "cell_type": "code",
   "execution_count": null,
   "metadata": {},
   "outputs": [],
   "source": [
    "world_recovered.head(3)"
   ]
  },
  {
   "cell_type": "markdown",
   "metadata": {},
   "source": [
    "## Ejercicio 1\n",
    "\n",
    "Construyamos tres DataFrame (confirmed_data, deaths_data, recovered_data) con las siguiente columnas\n",
    "* Country, de tipo string\n",
    "* Fecha, de tipo timestamp\n",
    "* Cantidad, de tipo int\n",
    "\n",
    "Como esta operación tenemos que repetirla para los tres DataFrame, definamos una función que lo resuelva.\n",
    "\n",
    "Ayuda: usemos la función `melt` de pandas\n",
    "\n",
    "https://pandas.pydata.org/docs/reference/api/pandas.melt.html\n"
   ]
  },
  {
   "cell_type": "code",
   "execution_count": null,
   "metadata": {},
   "outputs": [],
   "source": [
    "def prepare_data(raw_data):\n",
    "\n",
    "    # vemos cuáles son las columnas en el DataFrame\n",
    "    #print(world_deaths.columns)\n",
    "\n",
    "    # armamos una lista con las columnas que queremos exluir\n",
    "    exclude_columns = ['Province/State', 'Country/Region', 'Lat', 'Long']\n",
    "\n",
    "    id_vars = ['Country/Region']\n",
    "    value_vars = [element for element in raw_data.columns if element not in exclude_columns]\n",
    "    result = pd.melt(raw_data, id_vars=id_vars, value_vars=value_vars)\n",
    "\n",
    "    result[\"Fecha\"] = result.variable.apply(lambda x: pd.Timestamp(x))\n",
    "\n",
    "    result = result.drop(\"variable\", axis = 1)\n",
    "\n",
    "    result = result.rename({'value': 'Cantidad', 'Country/Region': 'Country'}, axis=1)\n",
    "    \n",
    "    return result\n",
    "\n",
    "#variable_timestamp\n",
    "#world_deaths_latam_plot[\"variable_timestamp\"] = variable_timestamp\n",
    "\n",
    "#world_deaths_latam_plot.variable.apply(lambda x: pd.Timestamp(x))\n",
    "\n",
    "world_deaths_melt = prepare_data(world_deaths)\n",
    "world_deaths_melt.head(3)"
   ]
  },
  {
   "cell_type": "code",
   "execution_count": null,
   "metadata": {},
   "outputs": [],
   "source": [
    "world_recovered_melt = prepare_data(world_recovered)\n",
    "world_recovered_melt.head(3)"
   ]
  },
  {
   "cell_type": "code",
   "execution_count": null,
   "metadata": {},
   "outputs": [],
   "source": [
    "world_confirmed_melt = prepare_data(world_confirmed)\n",
    "world_confirmed_melt.head(3)"
   ]
  },
  {
   "cell_type": "code",
   "execution_count": null,
   "metadata": {},
   "outputs": [],
   "source": [
    "world_deaths_melt.dtypes"
   ]
  },
  {
   "cell_type": "code",
   "execution_count": null,
   "metadata": {},
   "outputs": [],
   "source": [
    "world_recovered_melt.dtypes"
   ]
  },
  {
   "cell_type": "code",
   "execution_count": null,
   "metadata": {},
   "outputs": [],
   "source": [
    "world_confirmed_melt.dtypes"
   ]
  },
  {
   "cell_type": "markdown",
   "metadata": {},
   "source": [
    "## Ejercicio 2 - Preparación de datos\n",
    "\n",
    "Vamos a construir dos DataFrames.\n",
    "\n",
    "Elijamos los 10 países con mayor cantidad de infectados para la fecha 2 de mayo de 2020.\n",
    "\n",
    "**DataFrame 1: data_confirmed_countries**\n",
    "\n",
    "Construyamos un dataset con los datos de casos confirmados para esos países y los campos:\n",
    "\n",
    "* Country, de tipo string\n",
    "* Fecha, de tipo timestamp\n",
    "* Cantidad, de tipo int\n",
    "* Delta_Days, de tipo int que representa la cantidad de días desde el primer confirmado en alguno de los 10 países\n",
    "\n",
    "**DataFrame 2: data_confirmed_recovered_countries**\n",
    "\n",
    "Combinemos los datos de infectados y recuperados para los 10 países que elegimos arriba.\n",
    "\n",
    "Los campos deben ser:\n",
    "* Country, de tipo string\n",
    "* Fecha, de tipo timestamp\n",
    "* Cantidad_Recovered, de tipo int\n",
    "* Cantidad_Confirmed, de tipo int\n"
   ]
  },
  {
   "cell_type": "markdown",
   "metadata": {},
   "source": [
    "**DataFrame 1: data_confirmed_countries**"
   ]
  },
  {
   "cell_type": "code",
   "execution_count": null,
   "metadata": {},
   "outputs": [],
   "source": [
    "fecha_mask = world_confirmed_melt.Fecha == pd.Timestamp(day=2, month=5, year=2020)\n",
    "world_confirmed_fecha = world_confirmed_melt.loc[fecha_mask, :]\n",
    "world_confirmed_fecha_sort = world_confirmed_fecha.sort_values(by=\"Cantidad\", ascending = False)\n",
    "countries_to_plot = world_confirmed_fecha_sort[\"Country\"][0:10].values\n",
    "countries_to_plot"
   ]
  },
  {
   "cell_type": "code",
   "execution_count": null,
   "metadata": {},
   "outputs": [],
   "source": [
    "world_confirmed_countries_mask = [ x in countries_to_plot for x in world_confirmed_melt.Country]\n",
    "data_confirmed_countries = world_confirmed_melt.loc[world_confirmed_countries_mask, :]"
   ]
  },
  {
   "cell_type": "markdown",
   "metadata": {},
   "source": [
    "Calculamos la fecha del primer caso confirmado en esos países.\n",
    "\n",
    "Para eso vemos cuál es la fecha mínima para los registros cuyo valor en el campo Cantidad es mayor que 0."
   ]
  },
  {
   "cell_type": "code",
   "execution_count": null,
   "metadata": {},
   "outputs": [],
   "source": [
    "data_confirmed_countries_gt0_mask = data_confirmed_countries.Cantidad > 0\n",
    "data_confirmed_countries_gt0_fecha = data_confirmed_countries.loc[data_confirmed_countries_gt0_mask, \"Fecha\"]\n",
    "fecha_umbral = data_confirmed_countries_gt0_fecha.min()\n",
    "fecha_umbral"
   ]
  },
  {
   "cell_type": "markdown",
   "metadata": {},
   "source": [
    "Creo la columna Delta_Days en el DataFrame original:"
   ]
  },
  {
   "cell_type": "code",
   "execution_count": null,
   "metadata": {},
   "outputs": [],
   "source": [
    "delta = world_confirmed_melt.Fecha - fecha_umbral\n",
    "world_confirmed_melt[\"Delta_Days\"] = [x.days for x in delta]\n",
    "data_confirmed_countries = world_confirmed_melt.loc[world_confirmed_countries_mask, :]\n",
    "data_confirmed_countries"
   ]
  },
  {
   "cell_type": "code",
   "execution_count": null,
   "metadata": {},
   "outputs": [],
   "source": [
    "data_confirmed_countries.dtypes"
   ]
  },
  {
   "cell_type": "markdown",
   "metadata": {},
   "source": [
    "**DataFrame 2: data_confirmed_recovered_countries**"
   ]
  },
  {
   "cell_type": "markdown",
   "metadata": {},
   "source": [
    "Comenazamos haciendo un join de los dos DataFrame"
   ]
  },
  {
   "cell_type": "code",
   "execution_count": null,
   "metadata": {},
   "outputs": [],
   "source": [
    "\n",
    "world_confirmed_melt.index = [world_confirmed_melt.Country, world_confirmed_melt.Fecha]\n",
    "\n",
    "world_confirmed_melt_join = world_confirmed_melt.drop(['Country', 'Fecha', 'Delta_Days'], axis = 1)\n",
    "\n",
    "world_recovered_melt.index = [world_recovered_melt.Country, world_recovered_melt.Fecha]\n",
    "world_recovered_melt_join = world_recovered_melt.drop(['Country', 'Fecha'], axis = 1)\n",
    "world_recovered_melt_join\n",
    "\n",
    "data_confirmed_recovered = world_confirmed_melt_join.join(world_recovered_melt_join, lsuffix='_Confirmed', rsuffix='_Recovered')\n",
    "data_confirmed_recovered\n",
    "data_confirmed_recovered = data_confirmed_recovered.reset_index(drop = False)\n",
    "#data_confirmed_recovered\n",
    "\n",
    "country_mask = [ x in countries_to_plot for x in data_confirmed_recovered.Country]\n",
    "data_confirmed_recovered_countries = data_confirmed_recovered.loc[country_mask, :]\n",
    "data_confirmed_recovered_countries\n"
   ]
  },
  {
   "cell_type": "markdown",
   "metadata": {},
   "source": [
    "# Ejercicio 3 - bokeh\n",
    "\n",
    "Grafiquemos usando la paleta Category20 de bokeh un gráfico de lineas y puntos de cantidad de días desde el primer confirmado vs. cantidad de confirmados, en escala logarítmica, usando los datos del primer DatFrame resultado del ejercicio 3"
   ]
  },
  {
   "cell_type": "code",
   "execution_count": null,
   "metadata": {},
   "outputs": [],
   "source": [
    "from bokeh.plotting import figure\n",
    "from bokeh.io import show, output_notebook\n",
    "from bokeh.palettes import Category20\n",
    "from bokeh.models import HoverTool\n"
   ]
  },
  {
   "cell_type": "code",
   "execution_count": null,
   "metadata": {},
   "outputs": [],
   "source": [
    "Category20[20]"
   ]
  },
  {
   "cell_type": "code",
   "execution_count": null,
   "metadata": {},
   "outputs": [],
   "source": [
    "keys = data_confirmed_countries[\"Country\"].unique()\n",
    "\n",
    "colors = [Category20[20][i] for i in range(len(keys)) ]\n",
    "\n",
    "colormap = dict(zip(keys, colors))\n",
    "colormap\n"
   ]
  },
  {
   "cell_type": "code",
   "execution_count": null,
   "metadata": {},
   "outputs": [],
   "source": [
    "\n",
    "#Specify the selection tools to be made available\n",
    "select_tools = ['box_zoom', 'pan', 'wheel_zoom', 'reset', 'crosshair', 'save']\n",
    "\n",
    "# Format the tooltip\n",
    "tooltips = [\n",
    "    ('', '@Country'),\n",
    "    (\"(x,y)\", \"($x, $y)\")\n",
    "]\n",
    "\n",
    "# Create a blank figure with labels\n",
    "p = figure(y_axis_type=\"log\",\n",
    "           plot_width = 800, plot_height = 600, \n",
    "           title = 'Confirmed in top 10 countries',\n",
    "           x_axis_label = 'Days from first confirmed', \n",
    "           y_axis_label = 'Confirmed count',\n",
    "           tools=select_tools)\n",
    "\n",
    "## en el checkpoint dibujar solo dos series\n",
    "\n",
    "for country in colormap.keys():\n",
    "    country_mask =  data_confirmed_countries['Country'] == country\n",
    "    country_data = data_confirmed_countries.loc[country_mask]\n",
    "    \n",
    "    # Add line glyph\n",
    "    #p.line('Delta_Days', 'Cantidad', line_width = 2,\n",
    "    #       color = colormap[country], alpha=0.8, \n",
    "    #       legend_label = country, source = country_data)\n",
    "    \n",
    "    # Add circle glyph\n",
    "    p.circle('Delta_Days', 'Cantidad', size = 6,\n",
    "        color = colormap[country], \n",
    "        legend_label = country, source = country_data)\n",
    "\n",
    "p.legend.location = \"top_left\"\n",
    "p.legend.click_policy='hide'\n",
    "\n",
    "p.add_tools(HoverTool(tooltips=tooltips))\n",
    "\n",
    "\n",
    "# Set to output the plot in the notebook\n",
    "output_notebook()\n",
    "# Show the plot\n",
    "show(p)"
   ]
  },
  {
   "cell_type": "markdown",
   "metadata": {},
   "source": [
    "## Ejercicio 4 - plotly\n",
    "\n",
    "https://chart-studio.plotly.com\n",
    "\n",
    "Usemos una animación para mostrar la cantidad de confirmados vs. cantidad de recuperados para la última semana de datos.\n",
    "\n",
    "Para ello, filtremos los datos del segundo DataFrame resultado del ejercicio 3.\n",
    "\n"
   ]
  },
  {
   "cell_type": "markdown",
   "metadata": {},
   "source": [
    "Comenzamos calculando la fecha máxima de `data_confirmed_recovered_countries`"
   ]
  },
  {
   "cell_type": "code",
   "execution_count": null,
   "metadata": {},
   "outputs": [],
   "source": [
    "max_fecha = data_confirmed_recovered_countries.Fecha.max()\n",
    "print(max_fecha)\n",
    "fecha_umbral = max_fecha + datetime.timedelta(days=-7)\n",
    "print(fecha_umbral)\n",
    "\n",
    "data_confirmed_recovered[\"Day\"] = [x.days for x in (data_confirmed_recovered.Fecha - fecha_umbral)]\n",
    "\n",
    "#data_confirmed_recovered\n",
    "\n",
    "country_mask = [ x in countries_to_plot for x in data_confirmed_recovered.Country]\n",
    "data_confirmed_recovered_countries = data_confirmed_recovered.loc[country_mask, :]\n",
    "\n",
    "data_to_plot_mask = data_confirmed_recovered_countries.Fecha >= fecha_umbral\n",
    "data_to_plot = data_confirmed_recovered_countries.loc[data_to_plot_mask, ]\n",
    "data_to_plot"
   ]
  },
  {
   "cell_type": "code",
   "execution_count": null,
   "metadata": {},
   "outputs": [],
   "source": [
    "import plotly\n",
    "import plotly.express as px\n",
    "import chart_studio"
   ]
  },
  {
   "cell_type": "code",
   "execution_count": null,
   "metadata": {},
   "outputs": [],
   "source": [
    "#chart-studio api\n",
    "username = 'you_username' # your username\n",
    "api_key = 'your_apikey' # your api api_key\n",
    "chart_studio.tools.set_credentials_file(username=username, api_key=api_key)\n",
    "import chart_studio.plotly as py"
   ]
  },
  {
   "cell_type": "code",
   "execution_count": null,
   "metadata": {},
   "outputs": [],
   "source": [
    "fig = px.scatter(data_frame=data_to_plot, \n",
    "                 x='Cantidad_Confirmed', y='Cantidad_Recovered', \n",
    "                 color='Country', size='Cantidad_Confirmed', height=500, width=900,\n",
    "                 animation_frame=\"Day\",\n",
    "                 text='Country', title= f'Recuperados vs Confirmados',\n",
    "                 range_x=[100,1200000], range_y=[0,200000])\n",
    "\n",
    "fig.update_traces(textposition='top center')\n",
    "\n",
    "fig.layout.update(showlegend=True, \n",
    "                  yaxis =  {\"title\": {\"text\": \"Cantidad de recuperados\"}},\n",
    "                  xaxis =  {\"title\": {\"text\": \"Cantidad de confirmados\"}}\n",
    "                 ) \n",
    "\n",
    "\n",
    "if api_key: py.plot(fig, filename = 'scatter_recuperados_confirmados_top10', auto_open=True)\n",
    "fig.show()\n"
   ]
  }
 ],
 "metadata": {
  "kernelspec": {
   "display_name": "Python 3",
   "language": "python",
   "name": "python3"
  },
  "language_info": {
   "codemirror_mode": {
    "name": "ipython",
    "version": 3
   },
   "file_extension": ".py",
   "mimetype": "text/x-python",
   "name": "python",
   "nbconvert_exporter": "python",
   "pygments_lexer": "ipython3",
   "version": "3.6.7"
  }
 },
 "nbformat": 4,
 "nbformat_minor": 4
}

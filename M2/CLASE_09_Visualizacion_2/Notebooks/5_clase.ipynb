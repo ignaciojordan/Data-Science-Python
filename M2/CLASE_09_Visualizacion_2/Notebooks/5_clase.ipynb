{
 "cells": [
  {
   "cell_type": "code",
   "execution_count": null,
   "metadata": {},
   "outputs": [],
   "source": [
    "# initial setup\n",
    "try:\n",
    "    # settings colab:\n",
    "    import google.colab\n",
    "    \n",
    "except ModuleNotFoundError:    \n",
    "    # settings local:\n",
    "    %run \"../../../common/0_notebooks_base_setup.py\""
   ]
  },
  {
   "cell_type": "markdown",
   "metadata": {},
   "source": [
    "---\n",
    "\n",
    "<img src='../../../common/logo_DH.png' align='left' width=35%/>\n"
   ]
  },
  {
   "cell_type": "markdown",
   "metadata": {},
   "source": [
    "# Visualización 2 - bokeh y plotly"
   ]
  },
  {
   "cell_type": "markdown",
   "metadata": {},
   "source": [
    "## Dataset\n",
    "\n",
    "En esta clase vamos a usar datos de COVID-19 que disponibiliza Johns Hopkins University en \n",
    "\n",
    "https://github.com/CSSEGISandData/COVID-19\n",
    "\n",
    "Novel Coronavirus COVID-19 (2019-nCoV) Data Repository by Johns Hopkins CSSE \n",
    "\n",
    "(CSSE = Computer Science and Software Engineering)\n",
    "\n",
    "Los datasets que usamos se actualizan diariamente y llevan el registro de cantidad de confirmados, muertos y recuperados por país o región.\n",
    "\n",
    "Usando estos datos vamos a construir algunas visualizaciones con las bibliotecas bokeh y plotly.\n",
    "\n",
    "(Nota: la actualizacion es diaria en mayo 2020.)\n"
   ]
  },
  {
   "cell_type": "markdown",
   "metadata": {},
   "source": [
    "## Imports"
   ]
  },
  {
   "cell_type": "code",
   "execution_count": null,
   "metadata": {},
   "outputs": [],
   "source": [
    "import pandas as pd\n",
    "import numpy as np\n",
    "import datetime"
   ]
  },
  {
   "cell_type": "markdown",
   "metadata": {},
   "source": [
    "### Leemos los datos"
   ]
  },
  {
   "cell_type": "code",
   "execution_count": null,
   "metadata": {},
   "outputs": [],
   "source": [
    "world_confirmed_url = 'https://raw.githubusercontent.com/CSSEGISandData/COVID-19/master/csse_covid_19_data/csse_covid_19_time_series/time_series_covid19_confirmed_global.csv'\n",
    "world_deaths_url = 'https://raw.githubusercontent.com/CSSEGISandData/COVID-19/master/csse_covid_19_data/csse_covid_19_time_series/time_series_covid19_deaths_global.csv'\n",
    "world_recovered_url = 'https://raw.githubusercontent.com/CSSEGISandData/COVID-19/master/csse_covid_19_data/csse_covid_19_time_series/time_series_covid19_recovered_global.csv'\n",
    "\n",
    "world_confirmed = pd.read_csv(world_confirmed_url)\n",
    "world_deaths = pd.read_csv(world_deaths_url)\n",
    "world_recovered = pd.read_csv(world_recovered_url)"
   ]
  },
  {
   "cell_type": "markdown",
   "metadata": {},
   "source": [
    "### Ejercicio 1\n",
    "\n",
    "Veamos de qué paises tiene datos este dataset.\n",
    "\n",
    "Filtremos los datos de países latinoamericanos y construyamos tres nuevos DataFrame \n",
    "\n",
    "* world_confirmed_latam\n",
    "* world_deaths_latam\n",
    "* world_recovered_latam"
   ]
  },
  {
   "cell_type": "code",
   "execution_count": null,
   "metadata": {},
   "outputs": [],
   "source": []
  },
  {
   "cell_type": "markdown",
   "metadata": {},
   "source": [
    "Empezamos construyendo una lista con los países de interes:"
   ]
  },
  {
   "cell_type": "code",
   "execution_count": null,
   "metadata": {},
   "outputs": [],
   "source": [
    "latam_countries = ['Argentina', 'Bolivia', 'Brazil', 'Chile', 'Colombia',\n",
    "       'Costa Rica', 'Cuba', 'Dominican Republic', 'Ecuador',\n",
    "       'El Salvador', 'Guatemala', 'Honduras',\n",
    "       'Mexico', 'Nicaragua', 'Panama', 'Paraguay', 'Peru', 'Uruguay', 'Venezuela', 'Belize']"
   ]
  },
  {
   "cell_type": "code",
   "execution_count": null,
   "metadata": {},
   "outputs": [],
   "source": []
  },
  {
   "cell_type": "code",
   "execution_count": null,
   "metadata": {},
   "outputs": [],
   "source": []
  },
  {
   "cell_type": "code",
   "execution_count": null,
   "metadata": {},
   "outputs": [],
   "source": []
  },
  {
   "cell_type": "markdown",
   "metadata": {},
   "source": [
    "Observemos que en todos estos DataFrame la fecha aparece como una columna, es decir a medida que pasa el tiempo crece la cantidad de columnas, y no la cantidad de filas (como es usual).\n",
    "\n"
   ]
  },
  {
   "cell_type": "markdown",
   "metadata": {},
   "source": [
    "---\n",
    "\n",
    "## Bokeh\n",
    "\n",
    "### Imports"
   ]
  },
  {
   "cell_type": "code",
   "execution_count": null,
   "metadata": {},
   "outputs": [],
   "source": [
    "from bokeh.plotting import figure\n",
    "from bokeh.io import show, output_notebook\n",
    "from bokeh.palettes import Category20\n",
    "from bokeh.models import HoverTool\n"
   ]
  },
  {
   "cell_type": "markdown",
   "metadata": {},
   "source": [
    "### Ejercicio 2\n",
    "\n",
    "Grafiquemos las muertes por día para los países de latinoamérica\n",
    "\n",
    "Cada punto de este gráfico tendrá como coordena x la cantidad de días desde el 22 de enero del 2020, y como coordenada y la cantidad de muertes ese día. Cada país estará representado por una serie distinta.\n",
    "\n",
    "**2.a** Para eso tenemos que construir un DataFrame con tres columnnas:\n",
    "* coord_x: es la cantidad de días desde el 22 de enero del 2020 (fecha mínima en el dataset)\n",
    "* coord_y: es la cantidad de muertes en la fecha y país correspondiente a ese registro\n",
    "* color: es el país\n",
    "\n",
    "Ayuda: usemos la función `melt` de pandas\n",
    "\n",
    "https://pandas.pydata.org/docs/reference/api/pandas.melt.html\n",
    "\n",
    "**2.b** Grafiquemos los datos del DataFrame que construimos en el punto anterior"
   ]
  },
  {
   "cell_type": "code",
   "execution_count": null,
   "metadata": {},
   "outputs": [],
   "source": []
  },
  {
   "cell_type": "markdown",
   "metadata": {},
   "source": [
    "Veamos si las columnas del DataFrame construido tiene el tipo de datos adecuado."
   ]
  },
  {
   "cell_type": "code",
   "execution_count": null,
   "metadata": {},
   "outputs": [],
   "source": []
  },
  {
   "cell_type": "markdown",
   "metadata": {},
   "source": [
    "Para representar la fecha (columna \"variable\") como coordenada x de los puntos vamos a convertirlas en enteros: cantidad de días desde el 22 de enero de 2020 hasta la fecha."
   ]
  },
  {
   "cell_type": "code",
   "execution_count": null,
   "metadata": {},
   "outputs": [],
   "source": []
  },
  {
   "cell_type": "markdown",
   "metadata": {},
   "source": [
    "Vamos a usar para representar cada país un color de la paleta `Category20`."
   ]
  },
  {
   "cell_type": "code",
   "execution_count": null,
   "metadata": {},
   "outputs": [],
   "source": []
  },
  {
   "cell_type": "markdown",
   "metadata": {},
   "source": [
    "Creamos un diccionario `color_map` que mapee países con colores "
   ]
  },
  {
   "cell_type": "code",
   "execution_count": null,
   "metadata": {},
   "outputs": [],
   "source": []
  },
  {
   "cell_type": "code",
   "execution_count": null,
   "metadata": {},
   "outputs": [],
   "source": []
  },
  {
   "cell_type": "markdown",
   "metadata": {},
   "source": [
    "Ahora podemos graficar los datos del DataFrame que construimos\n"
   ]
  },
  {
   "cell_type": "code",
   "execution_count": null,
   "metadata": {},
   "outputs": [],
   "source": [
    "\n"
   ]
  },
  {
   "cell_type": "markdown",
   "metadata": {},
   "source": [
    "### Ejercicio 3\n",
    "\n",
    "Repitamos el gráfico del ejercicio anterior, usando como valores en el eje x la cantidad de días desde la primera muerte en un país de latinoamérica.\n",
    "\n",
    "Y usemos lineas para unir los puntos de la misma serie.\n",
    "\n",
    "Ayuda: Calculemos el mínimo valor de días con cantidad de muertes distinto de cero."
   ]
  },
  {
   "cell_type": "code",
   "execution_count": null,
   "metadata": {},
   "outputs": [],
   "source": []
  },
  {
   "cell_type": "code",
   "execution_count": null,
   "metadata": {},
   "outputs": [],
   "source": [
    "# veamos que data_ej3 sigue teniendo registros con coord_y = 0 \n",
    "# porque todos los países comenzaron a tener muertos en fechas diferentes y nosotros consideramos umbral la fecha del primer muerto\n"
   ]
  },
  {
   "cell_type": "markdown",
   "metadata": {},
   "source": [
    "Grafiquemos los datos de data_ej3"
   ]
  },
  {
   "cell_type": "code",
   "execution_count": null,
   "metadata": {},
   "outputs": [],
   "source": []
  },
  {
   "cell_type": "markdown",
   "metadata": {},
   "source": [
    "### Ejercicio 4\n",
    "\n",
    "Para poder comparar las curvas de distintos países, grafiquemos ahora en el eje x la cantidad de días desde las primeras tres muertes en cada país.\n",
    "\n",
    "Para eso vamos a tener que calcular las coordenadas del eje x con este criterio."
   ]
  },
  {
   "cell_type": "code",
   "execution_count": null,
   "metadata": {},
   "outputs": [],
   "source": []
  },
  {
   "cell_type": "code",
   "execution_count": null,
   "metadata": {},
   "outputs": [],
   "source": []
  },
  {
   "cell_type": "code",
   "execution_count": null,
   "metadata": {},
   "outputs": [],
   "source": []
  },
  {
   "cell_type": "markdown",
   "metadata": {},
   "source": [
    "## Ejercicio 5\n",
    "\n",
    "Repitamos el ejercicio 4 usando escala logarítmica"
   ]
  },
  {
   "cell_type": "markdown",
   "metadata": {},
   "source": [
    "En este ejercicio sólo tenemos que cambiar el valor del argumento `y_axis_type` del método `figure`"
   ]
  },
  {
   "cell_type": "code",
   "execution_count": null,
   "metadata": {},
   "outputs": [],
   "source": []
  },
  {
   "cell_type": "markdown",
   "metadata": {},
   "source": [
    "## Ejercicio 6 - Opcional\n",
    "\n",
    "Repitamos algunos de los análisis con los datos de confirmados o recuperados en latinoamérica"
   ]
  },
  {
   "cell_type": "markdown",
   "metadata": {},
   "source": [
    "## Ejercicio 7 - Opcional\n",
    "\n",
    "Usando gráficos de barras como los que vemos acá\n",
    "\n",
    "https://hectoramirez.github.io/covid/COVID19.html\n",
    "    \n",
    "analicemos los datos de latam."
   ]
  },
  {
   "cell_type": "markdown",
   "metadata": {},
   "source": [
    "---\n",
    "\n",
    "## Plotly\n",
    "\n",
    "Recuerden crear un usuario y generar una api key en https://chart-studio.plotly.com/"
   ]
  },
  {
   "cell_type": "code",
   "execution_count": null,
   "metadata": {},
   "outputs": [],
   "source": [
    "import plotly\n",
    "import plotly.express as px\n",
    "import chart_studio"
   ]
  },
  {
   "cell_type": "code",
   "execution_count": null,
   "metadata": {},
   "outputs": [],
   "source": [
    "#chart-studio api\n",
    "username = 'your_username' # your username\n",
    "api_key = 'your_apikey' # your api api_key\n",
    "chart_studio.tools.set_credentials_file(username=username, api_key=api_key)\n",
    "import chart_studio.plotly as py"
   ]
  },
  {
   "cell_type": "markdown",
   "metadata": {},
   "source": [
    "## Ejercicio 1\n",
    "\n",
    "Vamos construir un único DataFrame con los datos de confirmados y muertos por país y fecha\n",
    "\n",
    "Las columnas serán:\n",
    "* Country/Region    \n",
    "* fecha\n",
    "* value_deaths\n",
    "* value_confirmed\n",
    "\n",
    "\n"
   ]
  },
  {
   "cell_type": "code",
   "execution_count": null,
   "metadata": {},
   "outputs": [],
   "source": [
    "\n"
   ]
  },
  {
   "cell_type": "code",
   "execution_count": null,
   "metadata": {},
   "outputs": [],
   "source": []
  },
  {
   "cell_type": "markdown",
   "metadata": {},
   "source": [
    "### Ejercicio 2\n",
    "\n",
    "Vamos a graficar Confirmados vs. Muertos por país usando los datos de latam en el DataFrame que construimos en el ejercicio anterior para la máxima fecha disponible en el dataset.\n"
   ]
  },
  {
   "cell_type": "code",
   "execution_count": null,
   "metadata": {},
   "outputs": [],
   "source": []
  },
  {
   "cell_type": "markdown",
   "metadata": {},
   "source": [
    "### Ejercicio 3\n",
    "\n",
    "Vamos a repetir el ejercicio 2, pero en lugar de graficar la fecha máxima del dataset usaremos una animación para ver un gráfico distinto por cada fecha.\n"
   ]
  },
  {
   "cell_type": "code",
   "execution_count": null,
   "metadata": {},
   "outputs": [],
   "source": []
  },
  {
   "cell_type": "markdown",
   "metadata": {},
   "source": [
    "La cuenta gratuita no nos deja graficar tantos datos, así que vamos a gaficar sólo la última semana"
   ]
  },
  {
   "cell_type": "code",
   "execution_count": null,
   "metadata": {},
   "outputs": [],
   "source": []
  },
  {
   "cell_type": "code",
   "execution_count": null,
   "metadata": {},
   "outputs": [],
   "source": []
  },
  {
   "cell_type": "markdown",
   "metadata": {},
   "source": [
    "### Ejercicio 4\n",
    "\n",
    "Ahora repitamos el ejercicio 3 para escala logarítmica"
   ]
  },
  {
   "cell_type": "code",
   "execution_count": null,
   "metadata": {},
   "outputs": [],
   "source": []
  },
  {
   "cell_type": "markdown",
   "metadata": {},
   "source": [
    "## Ejercicio 5\n",
    "\n",
    "Usemos un gráfico de lineas para mostrar el total de casos confirmados de COVID 19 por pais de latam vs. cant de días desde el primer confirmado, en escala logaritmica.\n"
   ]
  },
  {
   "cell_type": "code",
   "execution_count": null,
   "metadata": {},
   "outputs": [],
   "source": []
  },
  {
   "cell_type": "code",
   "execution_count": null,
   "metadata": {},
   "outputs": [],
   "source": []
  },
  {
   "cell_type": "markdown",
   "metadata": {},
   "source": [
    "## Referencias\n",
    "\n",
    "https://towardsdatascience.com/data-visualization-with-bokeh-in-python-part-one-getting-started-a11655a467d4\n",
    "\n",
    "https://towardsdatascience.com/your-live-covid-19-tracker-with-airflow-and-github-pages-658c3e048304\n",
    "\n",
    "https://hectoramirez.github.io/covid/COVID19.html\n",
    "\n",
    "https://joserzapata.github.io/es/post/covid19-visualizacion/\n",
    "\n",
    "https://colab.research.google.com/github/JoseRZapata/JoseRZapata.github.io/blob/master/Jupyter_Notebook/Covid19_Visualizacion_es.ipynb\n"
   ]
  }
 ],
 "metadata": {
  "kernelspec": {
   "display_name": "Python 3",
   "language": "python",
   "name": "python3"
  },
  "language_info": {
   "codemirror_mode": {
    "name": "ipython",
    "version": 3
   },
   "file_extension": ".py",
   "mimetype": "text/x-python",
   "name": "python",
   "nbconvert_exporter": "python",
   "pygments_lexer": "ipython3",
   "version": "3.6.10"
  }
 },
 "nbformat": 4,
 "nbformat_minor": 4
}

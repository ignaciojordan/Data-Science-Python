{
 "cells": [
  {
   "cell_type": "code",
   "execution_count": null,
   "metadata": {},
   "outputs": [],
   "source": [
    "# initial setup\n",
    "try:\n",
    "    # settings colab:\n",
    "    import google.colab\n",
    "        \n",
    "except ModuleNotFoundError:    \n",
    "    # settings local:\n",
    "    %run \"../../../common/0_notebooks_base_setup.py\""
   ]
  },
  {
   "cell_type": "markdown",
   "metadata": {},
   "source": [
    "---\n",
    "\n",
    "<img src='../../../common/logo_DH.png' align='left' width=35%/>\n"
   ]
  },
  {
   "cell_type": "markdown",
   "metadata": {},
   "source": [
    "# Visualización 2 - bokeh y plotly\n",
    "\n",
    "---"
   ]
  },
  {
   "cell_type": "markdown",
   "metadata": {},
   "source": [
    "## Dataset\n",
    "\n",
    "En esta práctica vamos a usar datos de COVID-19 que disponibiliza Johns Hopkins University en \n",
    "\n",
    "https://github.com/CSSEGISandData/COVID-19\n",
    "\n",
    "Novel Coronavirus COVID-19 (2019-nCoV) Data Repository by Johns Hopkins CSSE (CSSE = Computer Science and Software Engineering)\n",
    "\n",
    "Los datasets que usamos se actualizan diariamente y llevan el registro de cantidad de confirmados, muertos y recuperados por país y región.\n",
    "\n",
    "Usando estos datos vamos a construir algunas visualizaciones con las bibliotecas bokeh y plotly.\n",
    "\n",
    "(Nota: la actualizacion es diaria en mayo 2020.)\n"
   ]
  },
  {
   "cell_type": "markdown",
   "metadata": {},
   "source": [
    "## Imports"
   ]
  },
  {
   "cell_type": "code",
   "execution_count": null,
   "metadata": {},
   "outputs": [],
   "source": [
    "import pandas as pd\n",
    "import numpy as np\n",
    "import datetime"
   ]
  },
  {
   "cell_type": "markdown",
   "metadata": {},
   "source": [
    "## Leemos los datos desde github"
   ]
  },
  {
   "cell_type": "code",
   "execution_count": null,
   "metadata": {},
   "outputs": [],
   "source": [
    "world_confirmed_url = 'https://raw.githubusercontent.com/CSSEGISandData/COVID-19/master/csse_covid_19_data/csse_covid_19_time_series/time_series_covid19_confirmed_global.csv'\n",
    "world_deaths_url = 'https://raw.githubusercontent.com/CSSEGISandData/COVID-19/master/csse_covid_19_data/csse_covid_19_time_series/time_series_covid19_deaths_global.csv'\n",
    "world_recovered_url = 'https://raw.githubusercontent.com/CSSEGISandData/COVID-19/master/csse_covid_19_data/csse_covid_19_time_series/time_series_covid19_recovered_global.csv'\n",
    "\n",
    "world_confirmed = pd.read_csv(world_confirmed_url)\n",
    "world_deaths = pd.read_csv(world_deaths_url)\n",
    "world_recovered = pd.read_csv(world_recovered_url)"
   ]
  },
  {
   "cell_type": "markdown",
   "metadata": {},
   "source": [
    "## Ejercicio 1\n",
    "\n",
    "Construyamos tres DataFrame (confirmed_data, deaths_data, recovered_data) con las siguiente columnas\n",
    "* Country, de tipo string\n",
    "* Fecha, de tipo timestamp\n",
    "* Cantidad, de tipo int\n",
    "\n",
    "Como esta operación tenemos que repetirla para los tres DataFrame, definamos una función que lo resuelva.\n",
    "\n",
    "Ayuda: usemos la función `melt` de pandas\n",
    "\n",
    "https://pandas.pydata.org/docs/reference/api/pandas.melt.html\n"
   ]
  },
  {
   "cell_type": "code",
   "execution_count": null,
   "metadata": {},
   "outputs": [],
   "source": []
  },
  {
   "cell_type": "markdown",
   "metadata": {},
   "source": [
    "## Ejercicio 2 - Preparación de datos\n",
    "\n",
    "Vamos a construir dos DataFrames.\n",
    "\n",
    "Elijamos los 10 países con mayor cantidad de infectados para la fecha 2 de mayo de 2020.\n",
    "\n",
    "**DataFrame 1: data_confirmed_countries**\n",
    "\n",
    "Construyamos un dataset con los datos de casos confirmados para esos países y los campos:\n",
    "\n",
    "* Country, de tipo string\n",
    "* Fecha, de tipo timestamp\n",
    "* Cantidad, de tipo int\n",
    "* Delta_Days, de tipo int que representa la cantidad de días desde el primer confirmado en alguno de los 10 países\n",
    "\n",
    "**DataFrame 2: data_confirmed_recovered_countries**\n",
    "\n",
    "Combinemos los datos de infectados y recuperados para los 10 países que elegimos arriba.\n",
    "\n",
    "Los campos deben ser:\n",
    "* Country, de tipo string\n",
    "* Fecha, de tipo timestamp\n",
    "* Cantidad_Recovered, de tipo int\n",
    "* Cantidad_Confirmed, de tipo int\n"
   ]
  },
  {
   "cell_type": "markdown",
   "metadata": {},
   "source": [
    "**DataFrame 1: data_confirmed_countries**"
   ]
  },
  {
   "cell_type": "code",
   "execution_count": null,
   "metadata": {},
   "outputs": [],
   "source": []
  },
  {
   "cell_type": "markdown",
   "metadata": {},
   "source": [
    "Calculamos la fecha del primer caso confirmado en esos países.\n",
    "\n",
    "Para eso vemos cuál es la fecha mínima para los registros cuyo valor en el campo Cantidad es mayor que 0."
   ]
  },
  {
   "cell_type": "code",
   "execution_count": null,
   "metadata": {},
   "outputs": [],
   "source": []
  },
  {
   "cell_type": "markdown",
   "metadata": {},
   "source": [
    "**DataFrame 2: data_confirmed_recovered_countries**"
   ]
  },
  {
   "cell_type": "code",
   "execution_count": null,
   "metadata": {},
   "outputs": [],
   "source": []
  },
  {
   "cell_type": "markdown",
   "metadata": {},
   "source": [
    "# Ejercicio 3 - bokeh\n",
    "\n",
    "Grafiquemos usando la paleta Category20 de bokeh un gráfico de lineas y puntos de cantidad de días desde el primer confirmado vs. cantidad de confirmados, en escala logarítmica, usando los datos del primer DatFrame resultado del ejercicio 3"
   ]
  },
  {
   "cell_type": "code",
   "execution_count": null,
   "metadata": {},
   "outputs": [],
   "source": [
    "from bokeh.plotting import figure\n",
    "from bokeh.io import show, output_notebook\n",
    "from bokeh.palettes import Category20\n",
    "from bokeh.models import HoverTool\n"
   ]
  },
  {
   "cell_type": "code",
   "execution_count": null,
   "metadata": {},
   "outputs": [],
   "source": [
    "Category20[20]"
   ]
  },
  {
   "cell_type": "code",
   "execution_count": null,
   "metadata": {},
   "outputs": [],
   "source": []
  },
  {
   "cell_type": "markdown",
   "metadata": {},
   "source": [
    "## Ejercicio 4 - plotly\n",
    "\n",
    "https://chart-studio.plotly.com\n",
    "\n",
    "Usemos una animación para mostrar la cantidad de confirmados vs. cantidad de recuperados para la última semana de datos.\n",
    "\n",
    "Para ello, filtremos los datos del segundo DataFrame resultado del ejercicio 3.\n",
    "\n"
   ]
  },
  {
   "cell_type": "markdown",
   "metadata": {},
   "source": [
    "Comenzamos calculando la fecha máxima de `data_confirmed_recovered_countries`"
   ]
  },
  {
   "cell_type": "code",
   "execution_count": null,
   "metadata": {},
   "outputs": [],
   "source": []
  },
  {
   "cell_type": "code",
   "execution_count": null,
   "metadata": {},
   "outputs": [],
   "source": [
    "import plotly\n",
    "import plotly.express as px\n",
    "import chart_studio"
   ]
  },
  {
   "cell_type": "code",
   "execution_count": null,
   "metadata": {},
   "outputs": [],
   "source": [
    "#chart-studio api\n",
    "username = 'you_username' # your username\n",
    "api_key = 'your_apikey' # your api api_key\n",
    "chart_studio.tools.set_credentials_file(username=username, api_key=api_key)\n",
    "import chart_studio.plotly as py"
   ]
  },
  {
   "cell_type": "code",
   "execution_count": null,
   "metadata": {},
   "outputs": [],
   "source": [
    "\n",
    "\n"
   ]
  }
 ],
 "metadata": {
  "kernelspec": {
   "display_name": "Python 3",
   "language": "python",
   "name": "python3"
  },
  "language_info": {
   "codemirror_mode": {
    "name": "ipython",
    "version": 3
   },
   "file_extension": ".py",
   "mimetype": "text/x-python",
   "name": "python",
   "nbconvert_exporter": "python",
   "pygments_lexer": "ipython3",
   "version": "3.6.7"
  }
 },
 "nbformat": 4,
 "nbformat_minor": 4
}

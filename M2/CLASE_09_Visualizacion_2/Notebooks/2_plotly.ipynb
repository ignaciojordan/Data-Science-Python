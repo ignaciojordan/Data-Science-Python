{
 "cells": [
  {
   "cell_type": "code",
   "execution_count": null,
   "metadata": {},
   "outputs": [],
   "source": [
    "# initial setup\n",
    "try:\n",
    "    # settings colab:\n",
    "    import google.colab\n",
    "\n",
    "    # si usan colab, deben cambiar el token de esta url\n",
    "    ! mkdir -p ../Data\n",
    "    # los que usan colab deben modificar el token de esta url:\n",
    "    ! wget -O ../Data/265d.pdb https://raw.githubusercontent.com/Digital-House-DATA/ds_blend_students_2020/master/M2/CLASE_09_Visualizacion_2/Data/265d.pdb?token=AA4GFHPT57NV3T32D5U4WAC6XRKHQ\n",
    "    ! wget -O ../Data/gapminderDataFiveYear.txt https://raw.githubusercontent.com/Digital-House-DATA/ds_blend_students_2020/master/M2/CLASE_09_Visualizacion_2/Data/gapminderDataFiveYear.txt?token=AA4GFHLZRMLCOKHKPHWHQYS6XRKKK\n",
    "    \n",
    "except ModuleNotFoundError:    \n",
    "    # settings local:\n",
    "    args = \"plotly\"\n",
    "    args2 = \"conda-forge\"\n",
    "    %run \"../../../common/0_notebooks_base_setup.py\" {args} {args2}        "
   ]
  },
  {
   "cell_type": "markdown",
   "metadata": {},
   "source": [
    "## Setup\n",
    "\n",
    "Las bibliotecas que deben estar instaladas en el ambiente son \n",
    "\n",
    "* plotly 4.6.0\n",
    "\n",
    "* chart-studio 1.1.0\n",
    "\n",
    "* nodejs 13.13.0\n",
    "\n",
    "* psutil 5.7.0\n",
    "\n",
    "* plotly-orca 1.3.1\n",
    "\n",
    "Si el script de la celda de arriba no las instala correctamente, pueden hacerlo directamente desde Anaconda Prompt con estos comandos:\n",
    "\n",
    "```\n",
    "conda activate dhdsblend\n",
    "\n",
    "cd C:\\....\\ds_blend_students_2020\\common\n",
    "\n",
    "conda install --yes -c plotly --file=requirements_plotly.txt\n",
    "\n",
    "```\n",
    "\n",
    "Es indispensable ejecutar las lineas que siguen si usan Jupyter Lab (si están usando Notebooks, no es necesario).\n",
    "\n",
    "Desde Anaconda Prompt, en el ambiente dhdsblend ejecutan cada una de las líneas que corresponden a su sistema operativo. Si no se especifica a qué sistema operativo corresponde, deben ejecutarlas en todos los sistemas operativos.\n",
    "\n",
    "```\n",
    "cd C:\\....\\ds_blend_students_2020\\common\n",
    "\n",
    "build_labextension.sh\n",
    "\n",
    "# jupyterlab renderer support\n",
    "jupyter labextension install jupyterlab-plotly@4.6.0 --no-build\n",
    "\n",
    "# FigureWidget support\n",
    "jupyter labextension install plotlywidget@4.6.0 --no-build\n",
    "\n",
    "# Build extensions (must be done to activate extensions since --no-build is used above)\n",
    "jupyter lab build\n",
    "\n",
    "# Unset NODE_OPTIONS environment variable\n",
    "# (OS X/Linux)\n",
    "unset NODE_OPTIONS\n",
    "# (Windows)\n",
    "set NODE_OPTIONS=\n",
    "```\n",
    "\n",
    "Fuente: https://plotly.com/python/getting-started/\n",
    "\n",
    "Para testear que plotly muestre los gráficos en la notebook, ejecutemos la siguiente celda y si muestra el resultado funciona todo correctamente"
   ]
  },
  {
   "cell_type": "code",
   "execution_count": null,
   "metadata": {},
   "outputs": [],
   "source": [
    "import plotly.graph_objects as go\n",
    "fig = go.Figure(data=go.Bar(y=[2, 3, 1]))\n",
    "fig.show()"
   ]
  },
  {
   "cell_type": "markdown",
   "metadata": {},
   "source": [
    "---\n",
    "\n",
    "<img src='../../../common/logo_DH.png' align='left' width=35%/>\n"
   ]
  },
  {
   "cell_type": "markdown",
   "metadata": {},
   "source": [
    "# Visualización 2 - plotly\n",
    "\n",
    "---"
   ]
  },
  {
   "cell_type": "markdown",
   "metadata": {},
   "source": [
    "\n",
    "<a id=\"section_toc\"></a> \n",
    "## Tabla de Contenidos\n",
    "\n",
    "[Intro](#section_intro)\n",
    "\n",
    "[Imports](#section_imports)\n",
    "\n",
    "[`plotly.express`](#section_plotly_express)\n",
    "\n",
    "[Plotly offline](#section_plotly_offline)\n",
    "\n",
    "[Plotly online](#section_plotly_online)\n",
    "\n",
    "[Privacidad](#section_privacidad)\n",
    "\n",
    "[Bar charts](#section_bar_charts)\n",
    "\n",
    "[Scatter](#section_scatter)\n",
    "\n",
    "[Facets](#section_facets)\n",
    "\n",
    "[Animaciones](#section_animaciones)\n",
    "\n",
    "[Ejercicio](#section_ejercicio)\n",
    "\n",
    "[Referencias](#section_referencias)\n"
   ]
  },
  {
   "cell_type": "markdown",
   "metadata": {},
   "source": [
    "---\n",
    "\n",
    "<a id=\"section_intro\"></a> \n",
    "## Intro\n",
    "\n",
    "[volver a TOC](#section_toc)\n",
    "\n",
    "    \n",
    "Plotly ofrece un servicio web para hostear gráficos. \n",
    "    \n",
    "**Para empezar, necesitamos crear una cuenta en https://chart-studio.plotly.com/**\n",
    "\n",
    "Los gráficos se guardan dentro de la cuenta de Plotly en línea. El alojamiento público es gratuito, para alojamiento privado tienen planes pagos.\n",
    "\n",
    "Las versiones anteriores de plotly.py contenían funcionalidades para crear figuras en los modos \"online\" y \"offline\". En el modo \"online\", las visualizaciones se subian al servicio en la nube de Chart Studio , mientras que en el modo \"offline\" las visualizaciones se generaban localmente. La versión 4 de plotly es completamente-\"offline\": toda la funcionalidad \"online\" se eliminó del paquete de distribución principal de plotly y está disponible en el nuevo paquete de distribución de chart-studio.\n",
    "\n",
    "    "
   ]
  },
  {
   "cell_type": "markdown",
   "metadata": {},
   "source": [
    "<a id=\"section_imports\"></a> \n",
    "## Imports\n",
    "\n",
    "[volver a TOC](#section_toc)\n"
   ]
  },
  {
   "cell_type": "code",
   "execution_count": null,
   "metadata": {},
   "outputs": [],
   "source": [
    "import numpy as np\n",
    "import pandas as pd\n",
    "#import plotly\n",
    "import plotly.express as px\n",
    "import chart_studio\n",
    "import chart_studio.plotly as py"
   ]
  },
  {
   "cell_type": "markdown",
   "metadata": {},
   "source": [
    "<a id=\"section_plotly_express\"></a> \n",
    "## `plotly.express`\n",
    "\n",
    "[volver a TOC](#section_toc)\n",
    "\n",
    "\n",
    "Plotly Express es una \"wrapper\" de alto nivel para Plotly, esencialmente significa que hace muchas de las tareas que podemos hacer con Plotly con una sintaxis más simple. Es fácil de usar y no requiere especificar si queremos trabajar online u offline.\n",
    "\n",
    "Todas las funciones de Plotly Express devuelven un objeto de tipo `graph_objects.Figure` cuyos datos y layout se definen de acuerdo a los argumentos provistos.\n",
    "\n",
    "En general podremos usar \n",
    "`import plotly.express as px`\n",
    "en lugar de \n",
    "`import plotly.graph_objects as go`\n",
    "\n",
    "Y reemplazar `fig = go.Figure()` por cualquier función de Plotly Express, por ejemplo `px.bar(...)`\n",
    "\n",
    "Funciones disponibles:\n",
    "https://plotly.com/python-api-reference/plotly.express.html"
   ]
  },
  {
   "cell_type": "markdown",
   "metadata": {},
   "source": [
    "<a id=\"section_plotly_offline\"></a> \n",
    "## Plotly offline\n",
    "\n",
    "[volver a TOC](#section_toc)\n",
    "\n",
    "Plotly offline nos permite crear gráficos y guardarlos localmente (no requiere de una conexión a internet).\n",
    "\n",
    "Ejemplo:"
   ]
  },
  {
   "cell_type": "code",
   "execution_count": null,
   "metadata": {},
   "outputs": [],
   "source": [
    "# px es plotly express\n",
    "fig = px.bar(y=[2, 3, 1])\n",
    "fig.show() # muestra el gráfico en la celda de abajo"
   ]
  },
  {
   "cell_type": "code",
   "execution_count": null,
   "metadata": {},
   "outputs": [],
   "source": [
    "fig.write_image(\"fig1_offline.png\") # guarda el gráfico en un archivo"
   ]
  },
  {
   "cell_type": "markdown",
   "metadata": {},
   "source": [
    "<a id=\"section_plotly_online\"></a> \n",
    "## Plotly online (chart-studio)\n",
    "\n",
    "[volver a TOC](#section_toc)\n",
    "\n",
    "\n",
    "Cuando graficamos online, el gráfico y los datos se guardan en nuestra cuenta plotly en la nube.\n",
    "\n",
    "Usando el método `plot` de `chart_studio.plotly` guardamos el gráfico generado en la nube y estableciendo `auto_open=True` se muestra en una nueva pestaña del browser. Estableciéndolo en False, sólo se guarda en la nube.\n",
    "\n",
    "Ejemplo:\n",
    "\n",
    "Seteamos el nombre de usuario y api-key que usaremos para conectarnos, y luego mostramos el gráfico en la notebook, lo guardamos en la nube, y lo mostramos en una nueva pestaña del browser"
   ]
  },
  {
   "cell_type": "code",
   "execution_count": null,
   "metadata": {},
   "outputs": [],
   "source": [
    "#chart-studio api\n",
    "username = 'your_username' # your username\n",
    "api_key = 'your_apikey' # your api api_key\n",
    "chart_studio.tools.set_credentials_file(username=username, api_key=api_key)\n"
   ]
  },
  {
   "cell_type": "code",
   "execution_count": null,
   "metadata": {},
   "outputs": [],
   "source": [
    "fig = px.bar(y=[2, 3, 1])\n",
    "fig.show() # muestra el gráfico en la celda de abajo\n",
    "if api_key: py.plot(fig, filename = 'fig1_online.png', auto_open=True)"
   ]
  },
  {
   "cell_type": "markdown",
   "metadata": {},
   "source": [
    "---\n",
    "\n",
    "<a id=\"section_privacidad\"></a> \n",
    "## Privacidad\n",
    "\n",
    "[volver a TOC](#section_toc)\n",
    "\n",
    "\n",
    "Existen 3 niveles diferentes de privacidad:\n",
    "\n",
    "* **Público**: cualquiera puede ver este gráfico. Aparecerá en el perfil y puede aparecer en los motores de búsqueda. No necesita iniciar sesión en Plotly para verlos.\n",
    "\n",
    "* **Privado**: sólo el usuario puede ver este plot. No aparecerá en el feed de Plotly, el perfil o los motores de búsqueda. Debe haber iniciado sesión en Plotly para ver este gráfico. Puede compartir este gráfico de forma privada con otros usuarios de Plotly en su cuenta de Plotly en línea y deberán iniciar sesión para ver este gráfico.\n",
    "\n",
    "* **Secreto**: cualquier persona con este enlace secreto puede ver esta visualización. \n",
    "\n",
    "Para ver cómo cambiar las opciones de privacidad pueden consultar este enlace\n",
    "https://plotly.com/python/privacy/"
   ]
  },
  {
   "cell_type": "markdown",
   "metadata": {},
   "source": [
    "---\n",
    "\n",
    "A continuación presentamos la sintaxis de construcción de algunos gráficos básicos"
   ]
  },
  {
   "cell_type": "markdown",
   "metadata": {},
   "source": [
    "<a id=\"section_bar_charts\"></a> \n",
    "## Bar Charts\n",
    "\n",
    "[volver a TOC](#section_toc)\n",
    "\n",
    "\n",
    "https://plotly.com/python/bar-charts/\n",
    "\n",
    "https://plotly.com/python-api-reference/generated/plotly.express.bar.html#plotly.express.bar"
   ]
  },
  {
   "cell_type": "markdown",
   "metadata": {},
   "source": [
    "### Bar chart para una serie de datos"
   ]
  },
  {
   "cell_type": "code",
   "execution_count": null,
   "metadata": {},
   "outputs": [],
   "source": [
    "fig = px.bar(x=['data scientist', 'data engineer', 'software engineer'],\n",
    "               y=[20, 14, 23])\n",
    "fig.show()"
   ]
  },
  {
   "cell_type": "markdown",
   "metadata": {},
   "source": [
    "### Bar chart agrupado \n",
    "\n",
    "https://plotly.com/python/bar-charts/\n",
    "\n",
    "El valor del argumento que define que el bar chart es agrupado es `barmode='group'`"
   ]
  },
  {
   "cell_type": "code",
   "execution_count": null,
   "metadata": {},
   "outputs": [],
   "source": [
    "data_raw = pd.DataFrame(\n",
    "    {'x': ['data scientist', 'data engineer', 'software engineer', 'data scientist', 'data engineer', 'software engineer'],\n",
    "     'y': [20, 14, 23, 12, 18, 29],\n",
    "     'name': ['Buenos Aires', 'Buenos Aires', 'Buenos Aires', 'NY', 'NY', 'NY']\n",
    "    })\n",
    "\n",
    "fig = px.bar(data_raw, x=\"x\", y=\"y\", color='name', barmode='group')\n",
    "fig.show()"
   ]
  },
  {
   "cell_type": "markdown",
   "metadata": {},
   "source": [
    "### Bar chart apilado\n",
    "\n",
    "El valor del argumento que define que el bar chart es agrupado es `barmode='relative'`\n",
    "\n",
    "El código es el mismo que el del ejemplo anterior."
   ]
  },
  {
   "cell_type": "code",
   "execution_count": null,
   "metadata": {},
   "outputs": [],
   "source": [
    "fig = px.bar(data_raw, x=\"x\", y=\"y\", color='name', barmode='relative')\n",
    "fig.show()"
   ]
  },
  {
   "cell_type": "markdown",
   "metadata": {},
   "source": [
    "### Bar chart con Hover text\n",
    "\n",
    "https://plotly.com/python/hover-text-and-formatting/\n",
    "\n",
    "Definimos el formato del contenido que aparece en hover usando un diccionario donde establecemos los valores de los atributos.\n",
    "\n",
    "El detalle de los atributos que podemos establecer para hover en gráficos de barras y de puntos podemos verlos aquí:\n",
    "\n",
    "https://plotly.com/python/reference/#bar-hoverlabe\n",
    "\n",
    "https://plotly.com/python/reference/#scatter-hoverlabel\n",
    "\n"
   ]
  },
  {
   "cell_type": "code",
   "execution_count": null,
   "metadata": {},
   "outputs": [],
   "source": [
    "fig = px.bar(data_raw, x=\"x\", y=\"y\", color='name', barmode='relative')\n",
    "\n",
    "fig.update_layout(\n",
    "    hoverlabel=dict(\n",
    "        bgcolor=\"white\", \n",
    "        font_size=16, \n",
    "        font_family=\"Rockwell\"\n",
    "    )\n",
    ")\n",
    "\n",
    "fig.show()"
   ]
  },
  {
   "cell_type": "markdown",
   "metadata": {},
   "source": [
    "<a id=\"section_scatter\"></a> \n",
    "## Scatter\n",
    "\n",
    "[volver a TOC](#section_toc)\n",
    "\n",
    "\n",
    "https://plotly.com/python-api-reference/generated/plotly.express.scatter.html#plotly.express.scatter"
   ]
  },
  {
   "cell_type": "markdown",
   "metadata": {},
   "source": [
    "### Scatter 3d\n",
    "\n",
    "https://plotly.com/python-api-reference/generated/plotly.express.scatter_3d.html#plotly.express.scatter_3d\n",
    "\n",
    "Vamos a generar un scatter plot 3d con datos que descargamos de https://www.wwpdb.org/.\n",
    "\n",
    "Leemos los datos del archivo '../Data/265d.pdb' como una lista de listas y extraemos las coordenadas x, y, z de los elementos de índices 0, 1 y 2 respectivamente de cada lista elemento.\n"
   ]
  },
  {
   "cell_type": "code",
   "execution_count": null,
   "metadata": {},
   "outputs": [],
   "source": [
    "with open('../Data/265d.pdb') as f:\n",
    "    data = [x.split()[6:9] + [x.split()[-1]] for x in f.readlines() if 'ATOM' ==  x.split()[0]]"
   ]
  },
  {
   "cell_type": "code",
   "execution_count": null,
   "metadata": {},
   "outputs": [],
   "source": [
    "x_coord = np.array(data)[:,0].astype(float)\n",
    "y_coord = np.array(data)[:,1].astype(float)\n",
    "z_coord = np.array(data)[:,2].astype(float)    "
   ]
  },
  {
   "cell_type": "code",
   "execution_count": null,
   "metadata": {},
   "outputs": [],
   "source": [
    "marks_size = [2 for i in range(len(x_coord))]\n",
    "\n",
    "fig = px.scatter_3d(x = x_coord, y = y_coord, z = z_coord, \n",
    "              color = z_coord, color_discrete_sequence = 'Viridis',\n",
    "              opacity = 0.6, size = marks_size)\n",
    "\n",
    "fig.show()"
   ]
  },
  {
   "cell_type": "markdown",
   "metadata": {},
   "source": [
    "### Bubble chart\n",
    "\n",
    "https://plotly.com/python/bubble-charts/\n",
    "\n",
    "https://plotly.com/python-api-reference/generated/plotly.express.scatter.html#plotly.express.scatter\n",
    "\n",
    "Usaremos datos que informan la expectativa de vida, el producto interno bruto per cápita y la población, por año, continente y país.\n",
    "\n",
    "Creamos un gráfico con los siguientes lineamientos:\n",
    "\n",
    "* Scatter plot de expectativa de vida versus PIB per cápita para el año 2007 para todos los países en el dataset\n",
    "\n",
    "* El tamaño de los marcadores es creciente en función del tamaño de la población (bubbles)\n",
    "\n",
    "* Cada continente se representa con un color distinto\n",
    "\n",
    "* Establecemos el valor de opacity en 0.6"
   ]
  },
  {
   "cell_type": "code",
   "execution_count": null,
   "metadata": {},
   "outputs": [],
   "source": [
    "data_gap = pd.read_csv('../Data/gapminderDataFiveYear.txt', sep='\\t')\n",
    "\n",
    "data_gap.sample(5)"
   ]
  },
  {
   "cell_type": "code",
   "execution_count": null,
   "metadata": {},
   "outputs": [],
   "source": [
    "data_year_mask = data_gap['year'] == 2007\n",
    "data_year = data_gap.loc[data_year_mask, :] \n",
    "data_year.head()"
   ]
  },
  {
   "cell_type": "code",
   "execution_count": null,
   "metadata": {},
   "outputs": [],
   "source": [
    "fig = px.scatter(data_frame = data_year, x = \"gdpPercap\", y = \"lifeExp\",\n",
    "                 size = \"pop\", color = \"continent\", opacity = 0.6,\n",
    "                 hover_name=\"country\")\n",
    "fig.show()"
   ]
  },
  {
   "cell_type": "markdown",
   "metadata": {},
   "source": [
    "<a id=\"section_facets\"></a> \n",
    "## Facets\n",
    "\n",
    "[volver a TOC](#section_toc)\n",
    "\n",
    "\n",
    "https://plotly.com/python/facet-plots/\n",
    "\n",
    "https://plotly.com/python-api-reference/generated/plotly.express.scatter.html#plotly.express.scatter\n",
    "\n",
    "El valor de `facet_col` indica el nombre de la columna cuyos valores usaremos para asignar datos a cada subplot en dirección horizontal\n",
    "\n",
    "El valor de `facet_col_wrap` es el máximo número de columnas que tendrá el gráfico.\n"
   ]
  },
  {
   "cell_type": "code",
   "execution_count": null,
   "metadata": {},
   "outputs": [],
   "source": [
    "fig = px.scatter(data_gap, x = 'gdpPercap', y = 'lifeExp', color = 'continent', size = 'pop',\n",
    "                facet_col = 'year', facet_col_wrap = 3)\n",
    "fig.show()"
   ]
  },
  {
   "cell_type": "markdown",
   "metadata": {},
   "source": [
    "<a id=\"section_animaciones\"></a> \n",
    "## Animaciones\n",
    "\n",
    "[volver a TOC](#section_toc)\n",
    "\n",
    "\n",
    "https://plotly.com/python/animations/\n",
    "\n",
    "Los valores del argumento `animation_frame` indican cuáles serán las marcas que definirán cada cuadro (frame)\n",
    "\n",
    "Los valores del argumento `animation_group` proveen consistencia en el conjunto de frames: los registros que coinciden en el valor de animation_group serán tratadas como si describieran el mismo objeto en todos los frames.\n",
    "\n",
    "El valor del argumetno `log_x` es True cuando la escala del eje x es logarítmica, y False sino. Es equivalente para `log_y`\n",
    "\n",
    "`range_x` y `range_y` definen el rango de valores de los ejes x e y respectivamente\n",
    "\n",
    "Generemos ahora una animación para cada uno de los años usando como base el bubble chart que generamos en el ejemplo anterior.\n",
    "\n",
    "Y guardemoslo en la nube."
   ]
  },
  {
   "cell_type": "code",
   "execution_count": null,
   "metadata": {},
   "outputs": [],
   "source": [
    "fig = px.scatter(data_gap, \n",
    "           x = \"gdpPercap\", y = \"lifeExp\", \n",
    "           animation_frame = \"year\", animation_group = \"country\",\n",
    "           size = \"pop\", color = \"continent\", hover_name=\"country\",\n",
    "           log_x=True, size_max=55, range_x=[100,100000], range_y=[25,90])\n",
    "fig.show()"
   ]
  },
  {
   "cell_type": "code",
   "execution_count": null,
   "metadata": {},
   "outputs": [],
   "source": [
    "if api_key: py.plot(fig, filename = 'gapminderDataFiveYear.png', auto_open=True)"
   ]
  },
  {
   "cell_type": "markdown",
   "metadata": {},
   "source": [
    "---\n",
    "\n",
    "<a id=\"section_ejercicio\"></a> \n",
    "## Ejercicio\n",
    "\n",
    "[volver a TOC](#section_toc)\n",
    "\n",
    "\n",
    "Con algún dataset que elijan entre los que usamos en el curso hasta el momento, reproduzcan alguno de los plots de este post\n",
    "\n",
    "https://towardsdatascience.com/5-visualisations-to-level-up-your-data-story-e131759c2f41"
   ]
  },
  {
   "cell_type": "markdown",
   "metadata": {},
   "source": [
    "---\n",
    "\n",
    "<a id=\"section_referencias\"></a> \n",
    "## Referencias\n",
    "\n",
    "[volver a TOC](#section_toc)\n",
    "\n",
    "Tutoriales\n",
    "https://plotly.com/python/plotly-fundamentals/\n",
    "\n",
    "Galerías \n",
    "https://plotly.com/python/\n",
    "\n",
    "https://towardsdatascience.com/plotly-express-the-good-the-bad-and-the-ugly-dc941649687c\n",
    "\n",
    "https://medium.com/analytics-vidhya/interactive-data-visualization-became-much-easier-with-help-of-plotly-express-64c56e781b53\n",
    "\n"
   ]
  }
 ],
 "metadata": {
  "kernelspec": {
   "display_name": "Python 3",
   "language": "python",
   "name": "python3"
  },
  "language_info": {
   "codemirror_mode": {
    "name": "ipython",
    "version": 3
   },
   "file_extension": ".py",
   "mimetype": "text/x-python",
   "name": "python",
   "nbconvert_exporter": "python",
   "pygments_lexer": "ipython3",
   "version": "3.6.10"
  }
 },
 "nbformat": 4,
 "nbformat_minor": 4
}

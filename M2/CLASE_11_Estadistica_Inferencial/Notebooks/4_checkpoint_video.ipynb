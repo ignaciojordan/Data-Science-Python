{
 "cells": [
  {
   "cell_type": "code",
   "execution_count": null,
   "metadata": {},
   "outputs": [],
   "source": [
    "# initial setup\n",
    "try:\n",
    "    # settings colab:\n",
    "    import google.colab\n",
    "\n",
    "    ! mkdir -p ../Data\n",
    "    # los que usan colab deben modificar el token de esta url:    \n",
    "    ! wget -O ../Data/klout-scores.csv https://raw.githubusercontent.com/Digital-House-DATA/ds_blend_students_2020/master/M2/CLASE_11_Estadistica_Inferencial/Data/klout-scores.csv?token=AA4GFHKHCDGQ3VHY6XMID6K6YV4TQ\n",
    "    \n",
    "except ModuleNotFoundError:    \n",
    "    # settings local:\n",
    "    %run \"../../../common/0_notebooks_base_setup.py\""
   ]
  },
  {
   "cell_type": "markdown",
   "metadata": {},
   "source": [
    "---\n",
    "\n",
    "<img src='../../../common/logo_DH.png' align='left' width=35%/>\n"
   ]
  },
  {
   "cell_type": "markdown",
   "metadata": {},
   "source": [
    "# Estadística Inferencial"
   ]
  },
  {
   "cell_type": "markdown",
   "metadata": {},
   "source": [
    "## Imports"
   ]
  },
  {
   "cell_type": "code",
   "execution_count": null,
   "metadata": {},
   "outputs": [],
   "source": [
    "import scipy.stats as stats\n",
    "import pandas as pd\n",
    "import numpy as np\n",
    "import math\n",
    "import seaborn as sns\n",
    "import matplotlib.pyplot as plt"
   ]
  },
  {
   "cell_type": "markdown",
   "metadata": {},
   "source": [
    "## Dataset\n",
    "\n",
    "Utilizamos una muestra aleatoria de puntajes de influencia de redes sociales del servicio http://klout.com. \n",
    "\n",
    "Klout era un sitio web y una aplicación móvil que utilizaba análisis de redes sociales para calificar usuarios de acuerdo con su influencia social en línea. \n",
    "\n",
    "El sitio calculaba un \"Klout Score\", que era un valor numérico entre 1 y 100 donde puntuaciones más altas correspondian a una mayor \"influencia social\" en línea.\n",
    "\n",
    "De una población de más de 620 millones de puntajes obtuvimos una muestra de tamaño 1048"
   ]
  },
  {
   "cell_type": "markdown",
   "metadata": {},
   "source": [
    "## Leemos los datos"
   ]
  },
  {
   "cell_type": "code",
   "execution_count": null,
   "metadata": {},
   "outputs": [],
   "source": [
    "data_klout = pd.read_csv('../Data/klout-scores.csv', header=None, names=['scores'])\n",
    "data_klout.head()"
   ]
  },
  {
   "cell_type": "markdown",
   "metadata": {},
   "source": [
    "## Ejercicio 1: Intervalos de confianza\n",
    "\n",
    "Escribir una función que dado los datos como una instancia de Series, un número n_sample, y un valor alpha tome una muestra de los datos de tamaño n y calcule la media muestral y el intervalo de confianza para la media a partir de esa muestra.\n",
    "\n",
    "$$\\bar{x}-z_{\\alpha/2}\\cdot\\frac{\\sigma}{\\sqrt{n}}\\lt\\mu_{estimator}\\lt\\bar{x}+z_{\\alpha/2}\\cdot\\frac{\\sigma}{\\sqrt{n}}$$ \n",
    "\n",
    "Usemos esa función para calcular los intervalos de confianza de nivel 95% para las medias de los scores de data_klout en una muestra de tamaño 20 y otra de tamaño 100.\n"
   ]
  },
  {
   "cell_type": "code",
   "execution_count": null,
   "metadata": {},
   "outputs": [],
   "source": [
    "def confidence_interval(data, n_sample, alpha):    \n",
    "\n",
    "    # muestreo:\n",
    "    random_generator = np.random.default_rng()\n",
    "    index_sample = random_generator.choice(data.index, size = n_sample,  replace=False)\n",
    "    data_sample = data.loc[index_sample]\n",
    "        \n",
    "    data_sample_xbar = data_sample.mean()\n",
    "    \n",
    "    data_sample_sd = data_sample.std()\n",
    "\n",
    "    data_sample_se = data_sample_sd / math.sqrt(n_sample)\n",
    "\n",
    "    critical_value = stats.norm.ppf(alpha / 2) * (-1)\n",
    "\n",
    "    sample_CI_mean_lower = data_sample_xbar - critical_value * data_sample_se\n",
    "    sample_CI_mean_upper = data_sample_xbar + critical_value * data_sample_se\n",
    "        \n",
    "    return (data_sample_xbar, sample_CI_mean_lower, sample_CI_mean_upper)\n"
   ]
  },
  {
   "cell_type": "code",
   "execution_count": null,
   "metadata": {},
   "outputs": [],
   "source": [
    "mean_ci_20 = confidence_interval(data_klout.scores, n_sample = 20, alpha = 0.05)\n",
    "mean_ci_20"
   ]
  },
  {
   "cell_type": "code",
   "execution_count": null,
   "metadata": {},
   "outputs": [],
   "source": [
    "mean_ci_100 = confidence_interval(data_klout.scores, n_sample = 100, alpha = 0.05)\n",
    "mean_ci_100"
   ]
  },
  {
   "cell_type": "code",
   "execution_count": null,
   "metadata": {},
   "outputs": [],
   "source": [
    "print(len(data_klout.scores))\n",
    "data_klout.scores.mean()"
   ]
  },
  {
   "cell_type": "code",
   "execution_count": null,
   "metadata": {},
   "outputs": [],
   "source": [
    "mean_ci_20_90 = confidence_interval(data_klout.scores, n_sample = 20, alpha = 0.1)\n",
    "mean_ci_20_90"
   ]
  },
  {
   "cell_type": "code",
   "execution_count": null,
   "metadata": {},
   "outputs": [],
   "source": [
    "mean_ci_100_90 = confidence_interval(data_klout.scores, n_sample = 100, alpha = 0.1)\n",
    "mean_ci_100_90"
   ]
  },
  {
   "cell_type": "markdown",
   "metadata": {},
   "source": [
    "## Ejercicio 2: Tests sobre una proporción\n",
    "\n",
    "Fuimos contratados por una empresa de lotería para averiguar la proporción de clientes que compra determinado producto. La firma va a mantener su plan de marketing actual si esta proporción es de 50% o más pero va a triplicar su gasto en publicidad en caso contrario. \n",
    "\n",
    "El dataset que vamos a usar es de datos sintéticos (construido por nosotros) usando la función `generar`\n",
    "https://numpy.org/doc/1.18/reference/random/generated/numpy.random.Generator.binomial.html#numpy.random.Generator.binomial"
   ]
  },
  {
   "cell_type": "code",
   "execution_count": null,
   "metadata": {},
   "outputs": [],
   "source": [
    "def generar(trials, p, obs):\n",
    "    random_generator = np.random.default_rng()\n",
    "    data = random_generator.binomial(trials, p, obs)\n",
    "    result = pd.DataFrame(data, columns= ['compra'])\n",
    "    return result "
   ]
  },
  {
   "cell_type": "code",
   "execution_count": null,
   "metadata": {},
   "outputs": [],
   "source": [
    "p_generacion = 0.4\n",
    "trials = 1\n",
    "obs  = 100\n",
    "data_ej3 = generar(trials, p_generacion, obs)\n",
    "\n",
    "sns.distplot(data_ej3)\n"
   ]
  },
  {
   "cell_type": "markdown",
   "metadata": {},
   "source": [
    "### 2.1 ¿Cuál es la hipótesis nula y cuál es la alternativa?\n"
   ]
  },
  {
   "cell_type": "markdown",
   "metadata": {},
   "source": [
    "$H_{0}$ es la opción más costosa en caso de rechazar equivocadamente, es decir rechazarla cuando $H_{0}$ es verdadera. \n",
    "\n",
    "En este caso si le decimos a la firma que su market share es menos del 50% va a invertir mucho dinero en publicidad. \n",
    "\n",
    "Por lo tanto definimos \n",
    "\n",
    "$H_{0}$ : proporción de clientes que compra es mayor o igual a 50%\n",
    "\n",
    "$H_{1}$ : proporción de clientes que compra es menor de 50%. \n"
   ]
  },
  {
   "cell_type": "markdown",
   "metadata": {},
   "source": [
    "### 2.2 ¿Cuál es el valor empírico del estimador de la proporción de clientes que compra?"
   ]
  },
  {
   "cell_type": "code",
   "execution_count": null,
   "metadata": {},
   "outputs": [],
   "source": [
    "market_share_muestral = data_ej3.compra.sum() / data_ej3.shape[0]\n",
    "market_share_muestral"
   ]
  },
  {
   "cell_type": "markdown",
   "metadata": {},
   "source": [
    "### 2.3 ¿Cuáles son la media y el desvío estándar poblacionales?"
   ]
  },
  {
   "cell_type": "markdown",
   "metadata": {},
   "source": [
    "Bajo $H_{0}$, es decir suponiendo que $H_{0}$ es verdadera, cada $X_i$ (cada variable que mide si una persona responde si o no a la pregunta de si compra el producto) tiene distribución Bernoulli. \n",
    "\n",
    "Bajo $H_{0}$ se cumple $p>=0.5$\n",
    "\n",
    "Tomemos el valor del parámetro $p$ de la distribución Bernoulli menos favorable a $H_{0}$ dentro de aquellos posibles. \n",
    "\n",
    "En este caso entonces \n",
    "\n",
    "$E(X_i)=p=0.5$\n",
    "\n",
    "$V(X_i)=p * (1-p)=0.5*0.5$  "
   ]
  },
  {
   "cell_type": "markdown",
   "metadata": {},
   "source": [
    "### 2.4  ¿Qué distribución tiene la proporción de clientes que compran determinado producto si asumimos que n es lo suficientemente grande?"
   ]
  },
  {
   "cell_type": "markdown",
   "metadata": {},
   "source": [
    "Calculamos la proporción de clientes como la media muestral. \n",
    "\n",
    "La media muestral es una suma de variables Bernoulli (cada una con iguales parámetros e inpendientes entre sí) dividido el tamaño muestral. \n",
    "\n",
    "Si n es \"lo suficientemente grande\" la media muestral tiene distribución normal con media igual a $E(Xi)$ y  varianza igual a $ V(Xi)/n $. \n",
    "\n",
    "Sabemos entonces que asintóticamente la media muestral estandarizada tiene distribucion $N(0,1)$. "
   ]
  },
  {
   "cell_type": "markdown",
   "metadata": {},
   "source": [
    "### 2.5 Definamos un test de hipótesis (estadístico de prueba y regla de decisión) para la hipótesis 3.1 con un nivel de significación de 0.05. "
   ]
  },
  {
   "cell_type": "markdown",
   "metadata": {},
   "source": [
    "Usamos como estadístico de prueba la media muestral estandarizada del punto anterior. \n",
    "\n",
    "Definimos una regla que deja probabilidad $ 0.05 $ de rechazar cuando $ H_0 $ es verdadera. \n",
    "\n",
    "Buscamos un valor $ z_{\\alpha} $ que deja área $ 0.05 $ en la cola izquierda de una distribución normal estándar (la distribución conocida del estadístico de prueba asumiendo que $ H_0 $ es verdadera). \n",
    "\n",
    "Rechazamos $ H_0 $ si el estadístico de prueba resulta por debajo de ese valor de corte. "
   ]
  },
  {
   "cell_type": "markdown",
   "metadata": {},
   "source": [
    "### 2.6  ¿Qué decisión tomamos en base a la muestra?"
   ]
  },
  {
   "cell_type": "code",
   "execution_count": null,
   "metadata": {},
   "outputs": [],
   "source": [
    "alpha=0.05\n",
    "z = stats.norm.ppf(alpha)\n",
    "print(z)\n",
    "\n",
    "#asumiendo que H0 es verdadera, mu = E(X_i) = 0.5\n",
    "p = 0.5\n",
    "mu_H0 = p \n",
    "var_H0 = p * (1-p)\n",
    "\n",
    "estadistico_prueba = (market_share_muestral - mu_H0)/(np.sqrt(var_H0 / obs))\n",
    "print(estadistico_prueba)\n",
    "\n",
    "rechazo = (estadistico_prueba < z )\n",
    "print(rechazo)\n",
    "\n",
    "print('estadístico prueba:', estadistico_prueba)\n",
    "print('estadístico z     :', z)\n",
    "print('rechazo', rechazo)"
   ]
  },
  {
   "cell_type": "markdown",
   "metadata": {},
   "source": [
    "### 2.7 ¿Cuál es el p-valor?"
   ]
  },
  {
   "cell_type": "code",
   "execution_count": null,
   "metadata": {},
   "outputs": [],
   "source": [
    "p_value = stats.norm.cdf(estadistico_prueba)\n",
    "p_value"
   ]
  },
  {
   "cell_type": "markdown",
   "metadata": {},
   "source": [
    "### 2.8 Construyamos un intervalo de confianza de 95% para la proporción de clientes que compra.  "
   ]
  },
  {
   "cell_type": "code",
   "execution_count": null,
   "metadata": {},
   "outputs": [],
   "source": [
    "var = market_share_muestral * (1-market_share_muestral)\n",
    "standard_error = np.sqrt(var / obs)\n",
    "\n",
    "z_nc95 = np.abs(stats.norm.ppf(alpha/2))\n",
    "print(z_nc95)\n",
    "\n",
    "li = market_share_muestral - z_nc95 * standard_error\n",
    "ls = market_share_muestral + z_nc95 * standard_error\n",
    "\n",
    "print (\"El límite inferior del IC al 95% de confianza para p es \", li)\n",
    "print (\"El límite superior del IC al 95% de confianza para p es \", ls)"
   ]
  },
  {
   "cell_type": "code",
   "execution_count": null,
   "metadata": {},
   "outputs": [],
   "source": [
    "market_share_muestral"
   ]
  }
 ],
 "metadata": {
  "kernelspec": {
   "display_name": "Python 3",
   "language": "python",
   "name": "python3"
  },
  "language_info": {
   "codemirror_mode": {
    "name": "ipython",
    "version": 3
   },
   "file_extension": ".py",
   "mimetype": "text/x-python",
   "name": "python",
   "nbconvert_exporter": "python",
   "pygments_lexer": "ipython3",
   "version": "3.6.10"
  }
 },
 "nbformat": 4,
 "nbformat_minor": 4
}

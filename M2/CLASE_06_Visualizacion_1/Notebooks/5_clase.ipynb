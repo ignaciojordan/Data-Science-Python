{
 "cells": [
  {
   "cell_type": "code",
   "execution_count": null,
   "metadata": {},
   "outputs": [],
   "source": [
    "# initial setup\n",
    "try:\n",
    "    # settings colab:\n",
    "    import google.colab\n",
    "\n",
    "    # si usan colab, deben cambiar el token de esta url\n",
    "    ! mkdir -p ../Data\n",
    "    # los que usan colab deben modificar el token de esta url:\n",
    "    ! wget -O ../Data/marathon.csv https://raw.githubusercontent.com/Digital-House-DATA/ds_blend_students_2020/master/M2/CLASE_06_Visualizacion_1/Data/marathon.csv?token=AA4GFHI65RTMGOYVD3SKUGC6VMXAA\n",
    "    \n",
    "except ModuleNotFoundError:    \n",
    "    # settings local:\n",
    "    %run \"../../../common/0_notebooks_base_setup.py\""
   ]
  },
  {
   "cell_type": "markdown",
   "metadata": {},
   "source": [
    "---\n",
    "\n",
    "<img src='../../../common/logo_DH.png' align='left' width=35%/>\n"
   ]
  },
  {
   "cell_type": "markdown",
   "metadata": {},
   "source": [
    "# Visualización 1\n",
    "\n",
    "## Introducción\n",
    "\n",
    "En esta clase vamos a usar herramientas de visualización para hacer análisis exploratorio de datos sobre un dataset de corredores de una maratón.\n",
    "\n",
    "El objetivo de la clase es que repasemos los principales tipos de gráficos que vamos a usar de la biblioteca seaborn, y que les van a servir para el análisis exploratorio que van a hacer en su TP1.\n",
    "\n",
    "https://seaborn.pydata.org/index.html\n"
   ]
  },
  {
   "cell_type": "markdown",
   "metadata": {},
   "source": [
    "## Dataset\n",
    "\n",
    "En esta clase analizaremos un dataset que contiene información de los resultados de una maratón. La información está desagregada para cada corredor.\n",
    "\n",
    "Los campos que contiene son:\n",
    "1. age\n",
    "2. gender\n",
    "3. split: tiempo que tardó en correr la primera mitad de la maratón\n",
    "4. final: tiempo que tardó en correr la maratón completa"
   ]
  },
  {
   "cell_type": "markdown",
   "metadata": {},
   "source": [
    "### Ejercicio 1 - Importar \n",
    "Importar el archivo marathon.csv e inspeccionar los primeros casos y los tipos de datos."
   ]
  },
  {
   "cell_type": "code",
   "execution_count": null,
   "metadata": {},
   "outputs": [],
   "source": []
  },
  {
   "cell_type": "markdown",
   "metadata": {},
   "source": [
    "### Ejercicio 2 - Trabajar con fechas\n",
    "\n",
    "#### Ejercicio 2a: \n",
    "\n",
    "Queremos convertir ahora los datos de las columnas split y final en tipo `TimeDelta`\n",
    "\n",
    "https://pandas.pydata.org/pandas-docs/stable/user_guide/timedeltas.html\n",
    "\n",
    "Un objeto de tipo `TimeDelta` representa una duración de tiempo, es decir la diferencia de tiempo que hay entre dos fechas o tiempos.\n",
    "\n",
    "Ejemplos de TimeDelta son\n",
    "\n",
    "```\n",
    "# un día:\n",
    "pd.Timedelta(1, unit='d')\n",
    "\n",
    "# un día con 1 segundo:\n",
    "pd.Timedelta(days=1, seconds=1)\n",
    "\n",
    "# un día con 1 hora y un segundo:\n",
    "pd.Timedelta(days=1, hours = 1, seconds=1)\n",
    "\n",
    "```\n",
    "\n",
    "Para eso vamos a definir la función `convert_time` que recibe un `string` y devuelve una instancia de `TimeDelta`\n",
    "\n",
    "Y usando `apply` vamos a convertir en `TimeDelta` cada valor de las columnas split y final\n",
    "\n",
    "Vamos a guardar el resultado de convertir estas columnas en las columnas split_timedelta y final_timedelta\n",
    "\n",
    "Como último paso veamos de qué tipo son las columnas nuevas del `DataFrame`\n",
    "\n"
   ]
  },
  {
   "cell_type": "code",
   "execution_count": null,
   "metadata": {},
   "outputs": [],
   "source": [
    "def convert_time(s):\n",
    "        parts = s.split(':')\n",
    "        if len(parts) == 3:\n",
    "            horas = int(parts[0])\n",
    "            minutos = int(parts[1])\n",
    "            segundos = int(parts[2])\n",
    "            result = pd.Timedelta(hours=horas, minutes=minutos, seconds=segundos)\n",
    "        else:\n",
    "            # creo un Timedelta de cero:\n",
    "            result = pd.Timedelta(hours=0, minutes=0, seconds=0)\n",
    "        return result    "
   ]
  },
  {
   "cell_type": "code",
   "execution_count": null,
   "metadata": {},
   "outputs": [],
   "source": []
  },
  {
   "cell_type": "code",
   "execution_count": null,
   "metadata": {},
   "outputs": [],
   "source": []
  },
  {
   "cell_type": "code",
   "execution_count": null,
   "metadata": {},
   "outputs": [],
   "source": []
  },
  {
   "cell_type": "markdown",
   "metadata": {},
   "source": [
    "#### Ejercicio 2b: \n",
    "\n",
    "Al castear instancias de `TimeDelta` a `int` obtenemos un valor expresado en nanosegundos, la mínima unidad que se encuentra representada en un timedelta.\n",
    "\n",
    "1 nano = 10 ^ (-9), es decir 0.000000001 (ocho ceros después del punto decimal y un 1 en el noveno lugar)\n",
    "\n",
    "Ahora queremos crear columnas con los tiempos de split y final expresados en segundos.\n",
    "\n",
    "Vamos a llamar a esas nuevas columnas split_sec y final_sec"
   ]
  },
  {
   "cell_type": "code",
   "execution_count": null,
   "metadata": {},
   "outputs": [],
   "source": []
  },
  {
   "cell_type": "markdown",
   "metadata": {},
   "source": [
    "### Ejercicio 3 - Graficar\n",
    "\n",
    "Veamos la relación entre split_sec y final_sec con un jointplot\n",
    "\n",
    "Documentación:\n",
    "https://seaborn.pydata.org/generated/seaborn.jointplot.html\n",
    "\n",
    "La idea es que generemos un gráfico de tipo 'hex' como los de ejemplo de la documentación.\n"
   ]
  },
  {
   "cell_type": "code",
   "execution_count": null,
   "metadata": {},
   "outputs": [],
   "source": []
  },
  {
   "cell_type": "markdown",
   "metadata": {},
   "source": [
    "### Ejercicio 4 - Caracterizar corredores\n",
    "\n",
    "#### Ejercicio 4a:\n",
    "\n",
    "Los corredores se dividen en dos: los que corren más rápido la primera mitad que la segunda y viceversa. \n",
    "\n",
    "Creamos una nueva columna para visualizar esta relación:\n",
    "\n",
    "`data['split_frac'] = 1 - 2 * data['split_sec'] / data['final_sec']`\n",
    "\n",
    "* Si **data['split_sec'] es menor que la mitad de data['final_sec']**, entonces el corredor corre más rápido la primera mitad de la carrera y data['split_frac'] es mayor que cero.\n",
    "\n",
    "* Si **data['split_sec'] es mayor que la mitad de data['final_sec']**, entonces el corredor corre más lento la primera mitad de la carrera y data['split_frac'] es menor que cero.\n",
    "\n",
    "* Si **data['split_sec'] es igual a la mitad de data['final_sec']**, entonces el corredor corre con igual velocidad la primera y la segunda mitad de la carrera y data['split_frac'] es cero.\n",
    "\n",
    "\n",
    "Visualicemos la distribución de esta nueva variable, usando `distplot` y dibujando una línea en el eje vertical que separe los valores menores y mayores que cero.\n",
    "\n",
    "Documentación:\n",
    "https://seaborn.pydata.org/generated/seaborn.distplot.html\n"
   ]
  },
  {
   "cell_type": "code",
   "execution_count": null,
   "metadata": {},
   "outputs": [],
   "source": []
  },
  {
   "cell_type": "markdown",
   "metadata": {},
   "source": [
    "#### Ejercicio 4b:\n",
    "\n",
    "¿Cuántos corredores fueron más lento en la primera mitad?"
   ]
  },
  {
   "cell_type": "code",
   "execution_count": null,
   "metadata": {},
   "outputs": [],
   "source": []
  },
  {
   "cell_type": "markdown",
   "metadata": {},
   "source": [
    "#### Ejercicio 4c:\n",
    "Veamos ahora si existe alguna correlación entre los valores de las columnas 'age', 'split_sec', 'final_sec', 'split_frac'\n",
    "\n",
    "Para eso vamos a usar `PairGrid`\n",
    "\n",
    "https://seaborn.pydata.org/generated/seaborn.PairGrid.html\n",
    "\n",
    "¿Qué conclusiones podemos sacar de estos gráficos?"
   ]
  },
  {
   "cell_type": "code",
   "execution_count": null,
   "metadata": {},
   "outputs": [],
   "source": []
  },
  {
   "cell_type": "markdown",
   "metadata": {},
   "source": [
    "#### Ejercicio 4d:\n",
    "\n",
    "Veamos ahora superpuestas las distribuciones de los valores de la columna split_frac para hombres y mujeres.\n",
    "\n",
    "Usemos para esto `kdeplot`\n",
    "https://seaborn.pydata.org/generated/seaborn.kdeplot.html\n"
   ]
  },
  {
   "cell_type": "code",
   "execution_count": null,
   "metadata": {},
   "outputs": [],
   "source": []
  },
  {
   "cell_type": "code",
   "execution_count": null,
   "metadata": {},
   "outputs": [],
   "source": []
  },
  {
   "cell_type": "markdown",
   "metadata": {},
   "source": [
    "#### Ejercicio 4e:\n",
    "\n",
    "Comparemos ambas distribuciones usando un boxplot y un violinplot\n",
    "\n",
    "https://seaborn.pydata.org/generated/seaborn.boxplot.html\n",
    "\n",
    "https://seaborn.pydata.org/generated/seaborn.violinplot.html"
   ]
  },
  {
   "cell_type": "code",
   "execution_count": null,
   "metadata": {},
   "outputs": [],
   "source": []
  },
  {
   "cell_type": "code",
   "execution_count": null,
   "metadata": {},
   "outputs": [],
   "source": []
  },
  {
   "cell_type": "markdown",
   "metadata": {},
   "source": [
    "#### Ejercicio 4f:\n",
    "\n",
    "Generemos violinplots para la distribución de valores del campo edad.\n",
    "\n",
    "Comencemos creando una nueva columna (age_dec) que especifique la década de edad de cada corredor (aquellos que están en \"los '30\", en \"los '40\", ...) y grafiquemos la distribución de los valores de age_dec\n",
    "\n",
    "https://seaborn.pydata.org/generated/seaborn.violinplot.html"
   ]
  },
  {
   "cell_type": "code",
   "execution_count": null,
   "metadata": {},
   "outputs": [],
   "source": []
  },
  {
   "cell_type": "markdown",
   "metadata": {},
   "source": [
    "#### Ejercicio 4g:\n",
    "\n",
    "¿Hay correlación entre los valores de \"split_frac\" y con el hecho de haber terminado más rápido la carrera (valores más chicos de final_sec)? \n",
    "\n",
    "Analicemos esta pregunta usando `lmplot`\n",
    "\n",
    "https://seaborn.pydata.org/generated/seaborn.lmplot.html"
   ]
  },
  {
   "cell_type": "code",
   "execution_count": null,
   "metadata": {},
   "outputs": [],
   "source": []
  }
 ],
 "metadata": {
  "kernelspec": {
   "display_name": "Python 3",
   "language": "python",
   "name": "python3"
  },
  "language_info": {
   "codemirror_mode": {
    "name": "ipython",
    "version": 3
   },
   "file_extension": ".py",
   "mimetype": "text/x-python",
   "name": "python",
   "nbconvert_exporter": "python",
   "pygments_lexer": "ipython3",
   "version": "3.7.7"
  }
 },
 "nbformat": 4,
 "nbformat_minor": 4
}

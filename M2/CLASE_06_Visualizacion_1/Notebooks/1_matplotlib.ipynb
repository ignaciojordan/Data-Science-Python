{
 "cells": [
  {
   "cell_type": "code",
   "execution_count": null,
   "metadata": {},
   "outputs": [],
   "source": [
    "# initial setup\n",
    "try:\n",
    "    # settings colab:\n",
    "    import google.colab\n",
    "except ModuleNotFoundError:    \n",
    "    # settings local:\n",
    "    %run \"../../../common/0_notebooks_base_setup.py\""
   ]
  },
  {
   "cell_type": "markdown",
   "metadata": {},
   "source": [
    "---\n",
    "\n",
    "<img src='../../../common/logo_DH.png' align='left' width=35%/>\n"
   ]
  },
  {
   "cell_type": "markdown",
   "metadata": {},
   "source": [
    "<a id=\"section_toc\"></a> \n",
    "## Tabla de Contenidos\n",
    "\n",
    "[Intro](#section_intro)\n",
    "\n",
    "[Dataset](#section_dataset)\n",
    "\n",
    "[Imports](#section_imports)\n",
    "\n",
    "[Estilos](#section_estilos)\n",
    "\n",
    "[Matplotlib en notebooks](#section_mpl_notebooks)\n",
    "\n",
    "[Creación de gráficos](#section_creacion)\n",
    "\n",
    "$\\hspace{.5cm}$[`plt.Figure`](#section_plt.Figure)\n",
    "\n",
    "$\\hspace{.5cm}$[`plt.Axes`](#section_plt.Axes)\n",
    "\n",
    "[Grilla vacía](#section_grilla_vacia)\n",
    "\n",
    "[Gráficos de linea](#section_graficos_linea)\n",
    "\n",
    "$\\hspace{.5cm}$[Ajustes de color y estilos](#section_ajuste_color_estilos)\n",
    "    \n",
    "$\\hspace{.5cm}$[Ajustes de ejes](#section_ajuste_ejes)\n",
    "    \n",
    "$\\hspace{.5cm}$[Etiquetas](#section_etiquetas)\n",
    "    \n",
    "[Scatter Plots](#section_scatter_plots)\n",
    "\n",
    "[Histogramas](#section_histograms)\n",
    "\n",
    "[Subplots](#section_subplots)\n",
    "\n",
    "[rcParams](#section_rcParams)\n",
    "\n",
    "[Ejercicio](#section_ejercicio)\n",
    "\n",
    "[Referencias](#section_referencias)\n"
   ]
  },
  {
   "cell_type": "markdown",
   "metadata": {},
   "source": [
    "<a id=\"section_intro\"></a> \n",
    "## Intro\n",
    "\n",
    "[volver a TOC](#section_toc)\n",
    "\n",
    "Matplotlib es una biblioteca para visualización de datos construída sobre Numpy arrays y diseñada para trabajar con todo el ecosistema SciPy (https://www.scipy.org/).\n",
    "\n",
    "https://matplotlib.org/\n",
    "\n",
    "El objetivo de esta práctica es que entendamos la lógica de construcción de gráficos con matplotlib usando Figure y Axes, y veamos algunos de los métodos que modifican textos y ejes. Después de esta práctica, vamos a estar en condiciones de entender el código y aplicar en nuestros análisis una gran variedad de ejemplos de visualizaciones que se presentan en la documentación de esta biblioteca.\n",
    "\n",
    "![Image](img/matplotlib_anatomy.png)\n"
   ]
  },
  {
   "cell_type": "markdown",
   "metadata": {},
   "source": [
    "<a id=\"section_dataset\"></a> \n",
    "## Dataset\n",
    "\n",
    "[volver a TOC](#section_toc)\n",
    "\n",
    "En esta práctica guiada usaremos datos generados.\n",
    "\n",
    "Para eso, vamos a crear un numpy array con 100 números entre 0 y 10 usando el método `linspace` de `numpy` y a partir de esos datos crearemos dos nuevos numpy array, uno con el seno de esos datos y otro con el coseno.\n",
    "\n",
    "https://numpy.org/doc/stable/reference/generated/numpy.linspace.html\n",
    "\n",
    "Usaremos estos datos para presentar los comandos básicos de matplotlib.\n"
   ]
  },
  {
   "cell_type": "code",
   "execution_count": null,
   "metadata": {},
   "outputs": [],
   "source": [
    "import numpy as np\n",
    "data_x = np.linspace(0, 10, 100)\n",
    "\n",
    "data_sin = np.sin(data_x)\n",
    "data_cos = np.cos(data_x)\n",
    "\n",
    "data_normal_1 = np.random.normal(0, 0.8, 1000)\n",
    "data_normal_2 = np.random.normal(-2, 1, 1000)\n",
    "data_normal_3 = np.random.normal(3, 2, 1000)"
   ]
  },
  {
   "cell_type": "markdown",
   "metadata": {},
   "source": [
    "<a id=\"section_imports\"></a> \n",
    "## Imports\n",
    "[volver a TOC](#section_toc)\n"
   ]
  },
  {
   "cell_type": "code",
   "execution_count": null,
   "metadata": {},
   "outputs": [],
   "source": [
    "import matplotlib as mpl\n",
    "import matplotlib.pyplot as plt"
   ]
  },
  {
   "cell_type": "markdown",
   "metadata": {},
   "source": [
    "<a id=\"section_estilos\"></a> \n",
    "## Estilos\n",
    "[volver a TOC](#section_toc)\n",
    "\n",
    "\n",
    "El paquete de estilos brinda soporta para cambiar fácilmente el estilo de gráfico creado, usando los mismos parámetros que un archivo rc (que es el archivo de configuración de matplotlib leído cuando se inicia).\n",
    "\n",
    "Matplotlib provee algunos estilos predefinidos. \n",
    "\n",
    "Podemos ver ejemplos de los estilos disponibles en este link https://tonysyu.github.io/raw_content/matplotlib-style-gallery/gallery.html\n",
    "\n",
    "https://matplotlib.org/tutorials/introductory/customizing.html\n",
    "\n",
    "Para listar los estilos disponibles usamos: "
   ]
  },
  {
   "cell_type": "code",
   "execution_count": null,
   "metadata": {},
   "outputs": [],
   "source": [
    "plt.style.available"
   ]
  },
  {
   "cell_type": "markdown",
   "metadata": {},
   "source": [
    "Para setear el estilo 'classic' escribimos:"
   ]
  },
  {
   "cell_type": "code",
   "execution_count": null,
   "metadata": {},
   "outputs": [],
   "source": [
    "plt.style.use('classic')"
   ]
  },
  {
   "cell_type": "markdown",
   "metadata": {},
   "source": [
    "<a id=\"section_mpl_notebooks\"></a> \n",
    "##  Matplotlib en notebooks\n",
    "[volver a TOC](#section_toc)\n",
    "\n",
    "\n",
    "Para visualizar los gráficos creados con matplotlib tenemos dos opciones:\n",
    "\n",
    "* `%matplotlib inline` muestra los gráficos debajo de la celda de código ejecutada.\n",
    "\n",
    "* `plt.show()` muestra **el último** gráfico creado, independientemente de la ubicación de la celda.\n",
    "\n",
    "Nosotros vamos a usar la primera opción `%matplotlib inline`. Después de ejecutar este comando (que es necesario sólo una vez por kernel / sesión) cualquier celda dentro de la notebook que cree un gráfico, mostrará debajo la imagen resultado."
   ]
  },
  {
   "cell_type": "markdown",
   "metadata": {},
   "source": [
    "<a id=\"section_creacion\"></a> \n",
    "## Creación de gráficos\n",
    "[volver a TOC](#section_toc)\n",
    "\n",
    "\n",
    "Para todos los gráficos de matplotlib, comenzaremos creando una figura y sus axes. \n",
    "\n",
    "<a id=\"section_plt.Figure\"></a> \n",
    "### `plt.Figure`\n",
    "\n",
    "La figura, una instancia de la clase plt.Figure, puede pensarse como un contenedor de todos los objetos que representan axes, gráficos, textos y etiquetas.\n",
    "\n",
    "https://matplotlib.org/3.2.1/api/_as_gen/matplotlib.figure.Figure.html#matplotlib.figure.Figure\n",
    "\n",
    "Para crear una figura (instancia de `plt.Figure`) usamos el método `plt.figure()`\n",
    "\n",
    "https://matplotlib.org/3.2.1/api/_as_gen/matplotlib.pyplot.figure.html\n",
    "\n",
    "<a id=\"section_plt.Axes\"></a> \n",
    "### `plt.Axes`\n",
    "\n",
    "Los axes, una instancia de la clase plt.Axes, están compuestos por un cuadro que delimita y eventualmente contendrá el elemento plot con nuestra visualización, ticks y etiquetas, . \n",
    "\n",
    "https://matplotlib.org/3.2.1/api/axes_api.html#matplotlib.axes.Axes\n",
    "\n",
    "Para crear un objeto axes (instancia de `plt.Axes`) usamos el método `plt.axes()`\n",
    "\n",
    "Una vez que creamos la instancia de axes, usamos el método `ax.plot` para graficar los datos.\n",
    "\n",
    "https://matplotlib.org/3.2.1/api/_as_gen/matplotlib.axes.Axes.plot.html#matplotlib.axes.Axes.plot"
   ]
  },
  {
   "cell_type": "markdown",
   "metadata": {},
   "source": [
    "<a id=\"section_grilla_vacia\"></a> \n",
    "## Grilla vacía\n",
    "[volver a TOC](#section_toc)\n"
   ]
  },
  {
   "cell_type": "code",
   "execution_count": null,
   "metadata": {},
   "outputs": [],
   "source": [
    "%matplotlib inline\n",
    "import matplotlib.pyplot as plt\n",
    "plt.style.use('seaborn-whitegrid')\n",
    "fig = plt.figure()\n",
    "ax = plt.axes()"
   ]
  },
  {
   "cell_type": "markdown",
   "metadata": {},
   "source": [
    "<a id=\"section_graficos_linea\"></a> \n",
    "## Gráficos de linea\n",
    "[volver a TOC](#section_toc)"
   ]
  },
  {
   "cell_type": "code",
   "execution_count": null,
   "metadata": {},
   "outputs": [],
   "source": [
    "#creo la figura\n",
    "fig = plt.figure()\n",
    "# creo los axes\n",
    "ax = plt.axes()\n",
    "# dibujo en axes:\n",
    "ax.plot(data_x, data_sin);\n",
    "# superpongo otro gráfico en axes:\n",
    "ax.plot(data_x, data_cos);"
   ]
  },
  {
   "cell_type": "markdown",
   "metadata": {},
   "source": [
    "<a id=\"section_ajuste_color_estilos\"></a> \n",
    "### Ajustes de color y estilos\n",
    "[volver a TOC](#section_toc)\n",
    "\n",
    "\n",
    "El método `plot` toma argumentos adicionales que pueden usarse para especificar color y estilo de linea.\n",
    "\n",
    "#### Alternativas para especificar color:\n",
    "\n",
    "`color = 'blue'` especificamos el color por nombre\n",
    "\n",
    "`color = 'g'` código de color corto (rgbcmyk)\n",
    "\n",
    "`color = '0.75'` escala de grises entre 0 y 1\n",
    "\n",
    "`color = '#FFDD44'` código hexa (RRGGBB) desde 00 hasta FF\n",
    "\n",
    "`color = (1.0, 0.2, 0.3)` tupla RGB valores entre 0 y 1\n",
    "\n",
    "#### Alternativas para especificar estilo de linea:\n",
    "\n",
    "`linestyle = 'solid'` o `linestyle = '-'`  linea continua\n",
    "\n",
    "`linestyle = 'dashed'` o `linestyle = '--'` linea de trazos\n",
    "\n",
    "`linestyle = 'dashdot'` o `linestyle = '-.'` linea compuesta (punto y segmento)\n",
    "\n",
    "`linestyle = 'dotted'` o `linestyle = ':'` linea punteada\n",
    "\n",
    "#### Combinaciones para especificar estilo de linea y color simultaneamente:\n",
    "\n",
    "`'-g'` linea continua verde\n",
    "\n",
    "`'--c'` linea de trazon cyan\n",
    "\n",
    "`'-.k'` linea compuesta negra\n",
    "\n",
    "`':r'` linea punteadad roja"
   ]
  },
  {
   "cell_type": "markdown",
   "metadata": {},
   "source": [
    "En los puntos que siguen vamos a probar distintos atributos sobre un mismo gráfico. Para no rescribir el código de creación de ese gráfico cada vez que probemos un nuevo atributo, vamos a definir una función que nos devuelva este gráfico \"base\" que vamos a reutilizar."
   ]
  },
  {
   "cell_type": "code",
   "execution_count": null,
   "metadata": {},
   "outputs": [],
   "source": [
    "def base_matplotlib_example():\n",
    "    # creo al figura\n",
    "    fig = plt.figure()\n",
    "    # creo los axes\n",
    "    ax = plt.axes()\n",
    "    # dibujo en axes:\n",
    "    ax.plot(data_x, data_sin, color = '0.75', linestyle = 'dashed', label='serie sin');\n",
    "    # superpongo otro gráfico en axes:\n",
    "    ax.plot(data_x, data_cos, color = (1.0, 0.2, 0.3), linestyle = 'dotted', label='serie cos');\n",
    "    # superpongo otro gráfico en axes:\n",
    "    ax.plot(data_x, (data_cos+1), '-g', label='serie cos modif')\n",
    "    return fig, ax\n",
    "\n",
    "#nota:\n",
    "# agrego label a los métodos plot para poder armar la leyenda de referencia después"
   ]
  },
  {
   "cell_type": "markdown",
   "metadata": {},
   "source": [
    "Veamos como crearlo, invocando la función que definimos:"
   ]
  },
  {
   "cell_type": "code",
   "execution_count": null,
   "metadata": {},
   "outputs": [],
   "source": [
    "fig, ax = base_matplotlib_example()"
   ]
  },
  {
   "cell_type": "markdown",
   "metadata": {},
   "source": [
    "<a id=\"section_ajuste_ejes\"></a> \n",
    "### Ajustes de ejes\n",
    "[volver a TOC](#section_toc)\n",
    "\n",
    "Podemos definir qué valores mínimo y máximo se representan en los ejes x e y.\n",
    "\n",
    "Eje x, `set_xlim`\n",
    "https://matplotlib.org/3.2.1/api/_as_gen/matplotlib.axes.Axes.set_xlim.html#matplotlib.axes.Axes.set_xlim\n",
    "\n",
    "Eje y, `set_ylim`\n",
    "https://matplotlib.org/3.2.1/api/_as_gen/matplotlib.axes.Axes.set_ylim.html#matplotlib.axes.Axes.set_ylim"
   ]
  },
  {
   "cell_type": "code",
   "execution_count": null,
   "metadata": {},
   "outputs": [],
   "source": [
    "fig1, ax1 = base_matplotlib_example()\n",
    "\n",
    "# el eje x ira de -1 a 11\n",
    "ax1.set_xlim(-1, 11)    \n",
    "\n",
    "# el eje y ira de -1.5 a 2.5\n",
    "ax1.set_ylim(-1.5, 2.5); \n",
    "    "
   ]
  },
  {
   "cell_type": "markdown",
   "metadata": {},
   "source": [
    "Podemos setear valores de los ejes que ajusten a los datos usando 'tight'\n",
    "\n",
    "https://matplotlib.org/3.1.1/api/_as_gen/matplotlib.axes.Axes.axis.html#matplotlib.axes.Axes.axis"
   ]
  },
  {
   "cell_type": "code",
   "execution_count": null,
   "metadata": {},
   "outputs": [],
   "source": [
    "fig2, ax2 = base_matplotlib_example()\n",
    "ax2.axis = 'tight'"
   ]
  },
  {
   "cell_type": "markdown",
   "metadata": {},
   "source": [
    "<a id=\"section_etiquetas\"></a> \n",
    "### Etiquetas\n",
    "[volver a TOC](#section_toc)\n",
    "\n",
    "\n",
    "#### Títulos de figuras y axes\n",
    "Veamos como establecer etiquetas para títulos, ejes y leyendas.\n",
    "\n",
    "##### `Figure.suptitle`\n",
    "Establece el título de la figura\n",
    "https://matplotlib.org/3.2.1/api/_as_gen/matplotlib.figure.Figure.html#matplotlib.figure.Figure.suptitle\n",
    "\n",
    "##### `Axes.set` \n",
    "Establece el título de los ejes y del plot, tamaño de los ejes\n",
    "* xlabel\n",
    "* ylabel\n",
    "* title\n",
    "* xlim\n",
    "* ylim\n",
    "\n",
    "#### Leyenda\n",
    "\n",
    "##### `Axes.legend` \n",
    "Podemos agregar la leyenda de referencias, usando como etiquetas el valor del argumento `label` que seteamos en el método `plot`, o establecerlas después explícitamente.\n",
    "https://matplotlib.org/3.2.1/api/_as_gen/matplotlib.axes.Axes.legend.html"
   ]
  },
  {
   "cell_type": "markdown",
   "metadata": {},
   "source": [
    "###### Usando el valor del argumento `label` que seteamos en el método `plot`:"
   ]
  },
  {
   "cell_type": "code",
   "execution_count": null,
   "metadata": {},
   "outputs": [],
   "source": [
    "fig3, ax3 = base_matplotlib_example()\n",
    "fig3.suptitle(\"título de la figura\") \n",
    "ax3.set(xlabel = \"título eje x \", ylabel = \"título eje y\", title = \"titulo del plot\")\n",
    "# usa los valores de label que seteamos en plot:\n",
    "ax3.legend(loc='lower right', title = \"series\");"
   ]
  },
  {
   "cell_type": "markdown",
   "metadata": {},
   "source": [
    "###### Estableciendo explícitamnete los valores de las etiquetas:"
   ]
  },
  {
   "cell_type": "code",
   "execution_count": null,
   "metadata": {},
   "outputs": [],
   "source": [
    "fig3, ax3 = base_matplotlib_example()\n",
    "fig3.suptitle(\"título de la figura\") \n",
    "ax3.set(xlabel = \"título eje x \", ylabel = \"título eje y\", title = \"titulo del plot\")\n",
    "# especificamos etiquetas para cada serie:\n",
    "etiquetas = ['serie 1', 'serie 2', 'serie 3'] \n",
    "ax3.legend(etiquetas, loc='lower right', title = \"series\", frameon=True);"
   ]
  },
  {
   "cell_type": "markdown",
   "metadata": {},
   "source": [
    "Si queremos cambiar la ubicación de la leyenda usamos el argumento `loc` del método `legend`. \n",
    "\n",
    "Los valores posibles del argumento son:\n",
    "\n",
    "`'best'`\n",
    "\n",
    "`'upper right'`\n",
    "\n",
    "`'upper left'`\n",
    "\n",
    "`'lower left'`\n",
    "\n",
    "`'lower right'`\n",
    "\n",
    "`'right'`\n",
    "\n",
    "`'center left'`\n",
    "\n",
    "`'center right'`\n",
    "\n",
    "`'lower center'`\n",
    "\n",
    "`'upper center'`\n",
    "\n",
    "`'center'`\n",
    "\n",
    "Podemos dibujar una caja alrededor de la leyenda estableciendo el valor del argumento `frameon` como vimos arriba en esta linea:\n",
    "\n",
    "`ax3.legend(etiquetas, loc='lower right', title = \"series\", frameon=True);`"
   ]
  },
  {
   "cell_type": "markdown",
   "metadata": {},
   "source": [
    "<a id=\"section_scatter_plots\"></a> \n",
    "## Scatter Plots\n",
    "[volver a TOC](#section_toc)\n",
    "\n",
    "Son similares a los gráficos de linea pero cada punto queda representado individualmente por un símbolo, en lugar de unirlos por segmentos. \n"
   ]
  },
  {
   "cell_type": "markdown",
   "metadata": {},
   "source": [
    "### `scatter`\n",
    "\n",
    "El argumento marker define el estilo del símbolo que representa cada punto. Puede ser una instancia de la clase MarkerStyle o un string que representa un símbolo particular.\n",
    "\n",
    "https://matplotlib.org/3.2.1/api/_as_gen/matplotlib.axes.Axes.scatter.html\n",
    "\n",
    "https://matplotlib.org/3.2.1/api/_as_gen/matplotlib.markers.MarkerStyle.html\n",
    "\n",
    "El argumento alpha define el nivel de trasparencia de los markers. Es un valor numérico entre 0 (transparente) y 1 (opaco).\n"
   ]
  },
  {
   "cell_type": "code",
   "execution_count": null,
   "metadata": {},
   "outputs": [],
   "source": [
    "fig = plt.figure()\n",
    "# creo los axes\n",
    "ax = plt.axes()\n",
    "# dibujo en axes:\n",
    "ax.scatter(data_x, data_sin, marker = 'o', color = \"green\", label='serie sin', alpha = 0.4)\n",
    "# superpongo otro gráfico en axes:\n",
    "ax.scatter(data_x, data_cos, marker = '+', color = (1.0, 0.2, 0.3), label='serie cos', alpha = 0.7);\n",
    "# superpongo otro gráfico en axes:\n",
    "ax.scatter(data_x, (data_cos+1), marker='*', color = \"blue\", label='serie cos modif', alpha = 1)\n",
    "\n"
   ]
  },
  {
   "cell_type": "markdown",
   "metadata": {},
   "source": [
    "<a id=\"section_histograms\"></a> \n",
    "## Histogramas\n",
    "[volver a TOC](#section_toc)\n"
   ]
  },
  {
   "cell_type": "markdown",
   "metadata": {},
   "source": [
    "### `hist`\n",
    "\n",
    "https://matplotlib.org/api/_as_gen/matplotlib.axes.Axes.hist.html\n",
    "\n",
    "Entre los parámetros que podemos establecer para un histograma están:\n",
    "\n",
    "`bins`: entero, lista o string. \n",
    "\n",
    "* Si es un entero define la cantidad de bins (barras) de igual ancho en el rango de valores del gráfico. \n",
    "\n",
    "* Si es una lista, define los límites de cada barra incluyendo el límite izquierdo del primer bin y el límite derecho del último bin. En este caso, pueden ser de anchos distintos.\n",
    "\n",
    "* Si es un string, representa una de las estrategias que soporta numpy.histogram_bin_edges: 'auto', 'fd', 'doane', 'scott', 'stone', 'rice', 'sturges', 'sqrt'.\n",
    "\n",
    "`density`: booleano. Si es True, los pesos están normalizados tal que la integral de la densidad en el rango vale 1.\n",
    "\n",
    "`histtype`: string. Tipo de histograma a graficar. Los valores posibles son {'bar', 'barstacked', 'step', 'stepfilled'}\n",
    "\n",
    "* 'bar' representa un histograma tradicional\n",
    "\n",
    "* 'barstacked' representa un histograma de barras apiladas\n",
    "\n",
    "* 'step' genera un gráfico de lineas que por default no tiene relleno\n",
    "\n",
    "* 'stepfilled' genera un gráfico de lineas que por default tiene relleno\n",
    "\n",
    "`color`: color que toman las barras del histograma\n",
    "\n",
    "`edgecolor`: color que toman los bordes de las barras del histograma\n",
    "\n",
    "`alpha`: decimal de valor entre 0 y 1 que representa el nivel de transparecia, 0 es transparente y 1 es opaco\n"
   ]
  },
  {
   "cell_type": "code",
   "execution_count": null,
   "metadata": {},
   "outputs": [],
   "source": [
    "fig = plt.figure()\n",
    "# creo los axes\n",
    "ax = plt.axes()\n",
    "# dibujo en axes:\n",
    "ax.hist(data_normal_1, label='data normal 1', alpha = 0.4)\n",
    "# superpongo otro gráfico en axes:\n",
    "ax.hist(data_normal_2, label='data normal 2', alpha = 0.7);\n",
    "# superpongo otro gráfico en axes:\n",
    "ax.hist(data_normal_3, label='data normal 3', alpha = 1)\n"
   ]
  },
  {
   "cell_type": "markdown",
   "metadata": {},
   "source": [
    "Si vamos a establecer los mismo valores un conjunto de los parámetros en todos los histogramas que componen el gráfico, es conveniente definir un diccionario con estos valores, y pasarlo como parámetro en todas las llamadas al métodos hist, en lugar de establecer cada uno de los valores de los argumentos para cada uno de los histogramas.\n",
    "\n",
    "Vamos a establecer los valores de histtype, alpha, density, y bins en un diccionario y luego repetir el gráfico anterior"
   ]
  },
  {
   "cell_type": "code",
   "execution_count": null,
   "metadata": {},
   "outputs": [],
   "source": [
    "kwargs = { 'histtype': 'stepfilled', \n",
    "          'alpha': 0.3, \n",
    "          'density': False, \n",
    "          'bins': 40}\n",
    "\n",
    "fig = plt.figure()\n",
    "# creo los axes\n",
    "ax = plt.axes()\n",
    "# dibujo en axes:\n",
    "ax.hist(data_normal_1, label='data normal 1', **kwargs)\n",
    "# superpongo otro gráfico en axes:\n",
    "ax.hist(data_normal_2, label='data normal 2', **kwargs)\n",
    "# superpongo otro gráfico en axes:\n",
    "ax.hist(data_normal_3, label='data normal 3', **kwargs);\n"
   ]
  },
  {
   "cell_type": "markdown",
   "metadata": {},
   "source": [
    "<a id=\"section_subplots\"></a> \n",
    "## Subplots\n",
    "[volver a TOC](#section_toc)\n",
    "\n",
    "`plt.subplots` crea una grilla de subplots, devolviéndolos en una insatncia de numpy array.\n",
    "\n",
    "Los argumentos que recibe son el número de filas y el número de columnas, y dos argumentos opcionales (sharex y sharey) que permite espcificar la relación entre los ejes.\n",
    "\n",
    "https://matplotlib.org/3.2.1/api/_as_gen/matplotlib.pyplot.subplots.html\n",
    "\n",
    "### Grilla vacía"
   ]
  },
  {
   "cell_type": "code",
   "execution_count": null,
   "metadata": {},
   "outputs": [],
   "source": [
    "fig, ax = plt.subplots(2, 3, sharex = 'col', sharey = 'row')"
   ]
  },
  {
   "cell_type": "code",
   "execution_count": null,
   "metadata": {},
   "outputs": [],
   "source": [
    "print(ax.shape)\n",
    "print(type(ax))"
   ]
  },
  {
   "cell_type": "markdown",
   "metadata": {},
   "source": [
    "Vamos a graficar algunos histogramas, scatter plot, y gráficos de linea  en los elementos de la grilla que creamos.\n",
    "\n",
    "Con `plt.subplots` creamos un numpy array de Axes, luego indexamos cada uno de esos elementos y graficamos los elementos individuales en la forma que aprendimos a lo largo de esta práctica."
   ]
  },
  {
   "cell_type": "code",
   "execution_count": null,
   "metadata": {},
   "outputs": [],
   "source": [
    "fig, ax = plt.subplots(2, 3, sharex = 'col', sharey = 'row')\n",
    "\n",
    "ax[0, 0].scatter(data_x, 100*data_sin, marker = 'o', color = \"green\", label='serie sin', alpha = 0.4)\n",
    "\n",
    "ax[0, 1].hist(data_normal_2, label='data normal 2', alpha = 0.7);\n",
    "\n",
    "ax[0, 2].hist(data_normal_3, label='data normal 3', alpha = 1, color = \"yellow\")\n",
    "\n",
    "ax[1, 0].scatter(data_x, 50*data_cos, marker = '+', color = (1.0, 0.2, 0.3), label='serie cos', alpha = 0.7)\n",
    "\n",
    "ax[1, 1].scatter(data_x, 60*(data_cos+1), marker='*', color = \"blue\", label='serie cos modif', alpha = 1)\n",
    "\n",
    "ax[1, 2].hist(data_normal_1, label='data normal 1', alpha = 0.7, color = \"lightblue\")\n",
    "\n",
    "ax[1, 0].legend();\n",
    "\n"
   ]
  },
  {
   "cell_type": "markdown",
   "metadata": {},
   "source": [
    "<a id=\"section_rcParams\"></a> \n",
    "## rcParams\n",
    "[volver a TOC](#section_toc)\n",
    "\n",
    "Como mencionamos en la parte de estilos, un archivo rc contiene la configuración de matplotlib leída cuando se inicia.\n",
    "\n",
    "Cada vez que se inicia matplotlib, se define una configuración de runtime (rc) que contiene los estilos default para cada elemento plot que creemos. Podemos ajustar esta configuración modificando los valores de `plt.rc`\n",
    "\n",
    "https://matplotlib.org/3.2.1/api/_as_gen/matplotlib.pyplot.rc.html\n",
    "\n",
    "A continaución, vamos a ver un ejemplo de cómo modificar los valores de `rc`. Antes de comenzar hacemos una copia de los valores de rcParams que guardamos en la variable rc_default, para poder restablecerlos después."
   ]
  },
  {
   "cell_type": "code",
   "execution_count": null,
   "metadata": {},
   "outputs": [],
   "source": [
    "# hacemos un backup de los valores actuales de rc\n",
    "rc_default = plt.rcParams.copy()\n",
    "\n",
    "#cambiamos algunos valores\n",
    "from matplotlib import cycler\n",
    "colors = cycler('color',\n",
    "                ['#EE6666', '#3388BB', '#9988DD',\n",
    "                 '#EECC55', '#88BB44', '#FFBBBB'])\n",
    "plt.rc('axes', facecolor='#E6E6E6', edgecolor='none',\n",
    "       axisbelow=True, grid=True, prop_cycle=colors)\n",
    "plt.rc('grid', color='w', linestyle='solid')\n",
    "plt.rc('xtick', direction='out', color='gray')\n",
    "plt.rc('ytick', direction='out', color='gray')\n",
    "plt.rc('patch', edgecolor='#E6E6E6')\n",
    "plt.rc('lines', linewidth=2)\n"
   ]
  },
  {
   "cell_type": "markdown",
   "metadata": {},
   "source": [
    "Graficamos un histograma con los settings correspondientes a los valores de rcParams modificados."
   ]
  },
  {
   "cell_type": "code",
   "execution_count": null,
   "metadata": {},
   "outputs": [],
   "source": [
    "fig_rcModified = plt.figure()\n",
    "ax_rcModified = plt.axes()\n",
    "\n",
    "ax_rcModified.hist(data_normal_1);"
   ]
  },
  {
   "cell_type": "markdown",
   "metadata": {},
   "source": [
    "Restauramos los valores originales de rcParams que guardamos al comienzo en la variable rc_default"
   ]
  },
  {
   "cell_type": "code",
   "execution_count": null,
   "metadata": {},
   "outputs": [],
   "source": [
    "# otra forma de ghacer restore de los valores originales\n",
    "plt.rcParams.update(rc_default);"
   ]
  },
  {
   "cell_type": "code",
   "execution_count": null,
   "metadata": {},
   "outputs": [],
   "source": [
    "fig_restore = plt.figure()\n",
    "ax_restore = plt.axes()\n",
    "\n",
    "ax_restore.hist(data_normal_1);\n"
   ]
  },
  {
   "cell_type": "markdown",
   "metadata": {},
   "source": [
    "Si queremos restaurar los valores de rcParams a los default de matplotlib usamos"
   ]
  },
  {
   "cell_type": "code",
   "execution_count": null,
   "metadata": {},
   "outputs": [],
   "source": [
    "# restore defaults: \n",
    "mpl.rcdefaults()"
   ]
  },
  {
   "cell_type": "markdown",
   "metadata": {},
   "source": [
    "---\n",
    "<a id=\"section_ejercicio\"></a> \n",
    "## Ejercicio\n",
    "[volver a TOC](#section_toc)\n",
    "\n",
    "\n",
    "Usando algún dataset de los que analizamos hasta el momento, elijamos tres columnas e intentemos extraer conclusiones sobre los datos o sus relaciones usando visualizaciones creadas con matplotlib.\n",
    "\n",
    "Si les interesa usar otro dataset que no hayamos usado, también pueden hacerlo.\n"
   ]
  },
  {
   "cell_type": "markdown",
   "metadata": {},
   "source": [
    "---\n",
    "\n",
    "\n",
    "<a id=\"section_referencias\"></a> \n",
    "## Referencias\n",
    "[volver a TOC](#section_toc)\n",
    "\n",
    "\n",
    "Python Data Science Handbook. Jake VanderPlas. 2017. Capítulo 4.\n",
    "\n",
    "Código del libro (puede ejecutarse en Colab) https://github.com/jakevdp/PythonDataScienceHandbook\n",
    "\n",
    "Ejemplos con código \n",
    "https://matplotlib.org/3.1.1/gallery/index.html"
   ]
  }
 ],
 "metadata": {
  "kernelspec": {
   "display_name": "Python 3",
   "language": "python",
   "name": "python3"
  },
  "language_info": {
   "codemirror_mode": {
    "name": "ipython",
    "version": 3
   },
   "file_extension": ".py",
   "mimetype": "text/x-python",
   "name": "python",
   "nbconvert_exporter": "python",
   "pygments_lexer": "ipython3",
   "version": "3.7.6"
  }
 },
 "nbformat": 4,
 "nbformat_minor": 4
}

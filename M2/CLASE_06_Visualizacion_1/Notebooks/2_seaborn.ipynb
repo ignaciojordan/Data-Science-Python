{
 "cells": [
  {
   "cell_type": "code",
   "execution_count": null,
   "metadata": {},
   "outputs": [],
   "source": [
    "# initial setup\n",
    "try:\n",
    "    # settings colab:\n",
    "    import google.colab\n",
    "except ModuleNotFoundError:    \n",
    "    # settings local:\n",
    "    %run \"../../../common/0_notebooks_base_setup.py\""
   ]
  },
  {
   "cell_type": "markdown",
   "metadata": {},
   "source": [
    "---\n",
    "\n",
    "<img src='../../../common/logo_DH.png' align='left' width=35%/>\n"
   ]
  },
  {
   "cell_type": "markdown",
   "metadata": {},
   "source": [
    "<a id=\"section_toc\"></a> \n",
    "## Tabla de Contenidos\n",
    "\n",
    "[Intro](#section_intro)\n",
    "\n",
    "[Dataset](#section_dataset)\n",
    "\n",
    "[Imports](#section_imports)\n",
    "\n",
    "[`kdeplot`](#section_kdeplot)\n",
    "\n",
    "[`jointplot`](#section_jointplot)\n",
    "\n",
    "[`pairplot`](#section_pairplot)\n",
    "\n",
    "[`FacetGrid`](#section_facetgrid)\n",
    "\n",
    "[`catplot`](#section_catplot)\n",
    "\n",
    "[Ejercicio](#section_ejercicio)\n",
    "\n",
    "[Referencias](#section_referencias)\n"
   ]
  },
  {
   "cell_type": "markdown",
   "metadata": {},
   "source": [
    "<a id=\"section_intro\"></a> \n",
    "## Intro\n",
    "\n",
    "[volver a TOC](#section_toc)\n",
    "    \n",
    "La idea principal de Seaborn es proporcionar comandos de más alto nivel que matplotlib para crear una variedad de tipos de gráficos útiles para la exploración de datos estadísticos.\n",
    "\n",
    "Veremos a continuación algunos de los datasets y tipos de gráficos disponibles en Seaborn. \n",
    "\n",
    "Los gráficos que veremos a continuación también pueden construirse con métodos de Matplotlib (esto es lo que hace Seaborn por detrás), pero la API Seaborn es mucho más amigable.\n",
    "\n",
    "https://seaborn.pydata.org/"
   ]
  },
  {
   "cell_type": "markdown",
   "metadata": {},
   "source": [
    "<a id=\"section_dataset\"></a> \n",
    "## Dataset\n",
    "\n",
    "[volver a TOC](#section_toc)\n",
    "\n",
    "En los ejemplos siguientes vamos a usar alguno de estos datasets:\n",
    "\n",
    "* Datos generados de distribución normal multivariada\n",
    "\n",
    "* En dataset tips disponible en la biblioteca seaborn, que tiene datos de propinas en un restaurante\n",
    "\n",
    "https://github.com/mwaskom/seaborn-data/blob/master/tips.csv\n",
    "\n",
    "* El dataset planets disponible en la biblioteca seaborn, que tiene datos sobre el descubrimiento de planetas\n",
    "\n",
    "https://github.com/mwaskom/seaborn-data/blob/master/planets.csv\n"
   ]
  },
  {
   "cell_type": "code",
   "execution_count": null,
   "metadata": {},
   "outputs": [],
   "source": [
    "import numpy as np\n",
    "import pandas as pd \n",
    "import seaborn as sns\n",
    "\n",
    "data = np.random.multivariate_normal([0, 0], [[5, 2], [2, 2]], size=2000)\n",
    "data = pd.DataFrame(data, columns=['x', 'y'])\n",
    "\n",
    "data_tips = sns.load_dataset('tips')\n",
    "#data_tips.head()\n",
    "\n",
    "data_planets = sns.load_dataset('planets')\n",
    "data_planets.head()"
   ]
  },
  {
   "cell_type": "markdown",
   "metadata": {},
   "source": [
    "<a id=\"section_imports\"></a> \n",
    "## Imports\n",
    "[volver a TOC](#section_toc)\n"
   ]
  },
  {
   "cell_type": "code",
   "execution_count": null,
   "metadata": {},
   "outputs": [],
   "source": [
    "import seaborn as sns"
   ]
  },
  {
   "cell_type": "markdown",
   "metadata": {},
   "source": [
    "<a id=\"section_kdeplot\"></a> \n",
    "## `kdeplot`\n",
    "[volver a TOC](#section_toc)\n",
    "\n",
    "https://seaborn.pydata.org/generated/seaborn.kdeplot.html\n",
    "\n",
    "Como alternativa a los histogramas de matplotlib, podemos obtener una estimación uniforme de la distribución utilizando una estimación de densidad kernel, Seaborn lo resuelve con `sns.kdeplot`:"
   ]
  },
  {
   "cell_type": "code",
   "execution_count": null,
   "metadata": {},
   "outputs": [],
   "source": [
    "for col in data.columns:\n",
    "    sns.kdeplot(data[col], shade=True)"
   ]
  },
  {
   "cell_type": "markdown",
   "metadata": {},
   "source": [
    "Podemos combinar histogramas y kdeplot con el método `sns.distplot`:"
   ]
  },
  {
   "cell_type": "code",
   "execution_count": null,
   "metadata": {},
   "outputs": [],
   "source": [
    "sns.distplot(data['x'])\n",
    "sns.distplot(data['y']);"
   ]
  },
  {
   "cell_type": "markdown",
   "metadata": {},
   "source": [
    "`sns.kdeplot` y `sns.distplot` reciben como parámetro un set de datos unidimensional."
   ]
  },
  {
   "cell_type": "markdown",
   "metadata": {},
   "source": [
    "<a id=\"section_jointplot\"></a> \n",
    "## `jointplot`\n",
    "[volver a TOC](#section_toc)\n",
    "\n",
    "https://seaborn.pydata.org/generated/seaborn.jointplot.html\n",
    "\n",
    "Podemos ver la distribución conjunta junto a las distribuciones marginales usando `sns.jointplot`.\n",
    "\n",
    "Graficaremos la densidad kernel de los datos, estableciendo el valor del argumento kind en kde.\n",
    "\n",
    "`sns.jointplot` recibe como parámetros los datos a graficar en los ejes x e y, ó los nombres de las columnas del dataset y el dataset cuyas columnas serán representadas en los ejes x e y\n",
    "\n",
    "Para este gráfico, estableceremos el estilo de fondo blanco:"
   ]
  },
  {
   "cell_type": "code",
   "execution_count": null,
   "metadata": {},
   "outputs": [],
   "source": [
    "with sns.axes_style('white'):\n",
    "    sns.jointplot(\"x\", \"y\", data, kind='kde');"
   ]
  },
  {
   "cell_type": "markdown",
   "metadata": {},
   "source": [
    "Otra alternativa:"
   ]
  },
  {
   "cell_type": "code",
   "execution_count": null,
   "metadata": {},
   "outputs": [],
   "source": [
    "with sns.axes_style('white'):\n",
    "    sns.jointplot(\"x\", \"y\", data, kind='hex')"
   ]
  },
  {
   "cell_type": "markdown",
   "metadata": {},
   "source": [
    "<a id=\"section_pairplot\"></a> \n",
    "## `pairplot`\n",
    "[volver a TOC](#section_toc)\n",
    "\n",
    "https://seaborn.pydata.org/generated/seaborn.pairplot.html\n",
    "\n",
    "Estos gráficos son muy útiles para explorar correlaciones entre datos multidimensionales, graficando todos los pares de valores entre sí.\n"
   ]
  },
  {
   "cell_type": "code",
   "execution_count": null,
   "metadata": {},
   "outputs": [],
   "source": [
    "sns.pairplot(data_tips, hue='sex', height=2.5);"
   ]
  },
  {
   "cell_type": "markdown",
   "metadata": {},
   "source": [
    "<a id=\"section_facetgrid\"></a> \n",
    "## `FacetGrid`\n",
    "[volver a TOC](#section_toc)\n",
    "\n",
    "https://seaborn.pydata.org/generated/seaborn.FacetGrid.html\n",
    "\n",
    "A veces, la mejor manera de ver datos es a través de histogramas por subconjuntos.\n",
    "\n",
    "Veremos en este ejemplo el monto de propinas que recibe el personal de un restaurante basado en distintos indicadores."
   ]
  },
  {
   "cell_type": "code",
   "execution_count": null,
   "metadata": {},
   "outputs": [],
   "source": [
    "import matplotlib.pyplot as plt\n",
    "\n",
    "# calculamos que porcentaje de la cuenta representa la propina: \n",
    "data_tips['tip_pct'] = 100 * data_tips['tip'] / data_tips['total_bill']\n",
    "\n",
    "# creamos la grilla vacía\n",
    "grid = sns.FacetGrid(data_tips, row=\"sex\", col=\"time\", margin_titles=True)\n",
    "\n",
    "# graficamos cada uno de los histogramas que corresponden a los elementos de la grilla:\n",
    "# nota: plt.hist es el método de matplotlib\n",
    "grid.map(plt.hist, \"tip_pct\", bins=np.linspace(0, 40, 15));"
   ]
  },
  {
   "cell_type": "markdown",
   "metadata": {},
   "source": [
    "<a id=\"section_catplot\"></a> \n",
    "## `catplot`\n",
    "[volver a TOC](#section_toc)\n",
    "\n",
    "https://seaborn.pydata.org/generated/seaborn.catplot.html\n",
    "\n",
    "Estos gráficos nos permiten ver la distribución de una variable numérica dentro de las categorías definidas por cualquier otro parámetro.\n",
    "\n",
    "`catplot` define una familia de gráficos, el valor especificado en el parámetro `kind` define de qué tipo es el gráfico construido."
   ]
  },
  {
   "cell_type": "code",
   "execution_count": null,
   "metadata": {},
   "outputs": [],
   "source": [
    "with sns.axes_style(style='ticks'):\n",
    "    g = sns.catplot(\"day\", \"total_bill\", \"sex\", data=data_tips, kind=\"box\")\n",
    "    g.set_axis_labels(\"Day\", \"Total Bill\");"
   ]
  },
  {
   "cell_type": "markdown",
   "metadata": {},
   "source": [
    "Usemos `catplot` para generar un gráfico de barras:"
   ]
  },
  {
   "cell_type": "code",
   "execution_count": null,
   "metadata": {},
   "outputs": [],
   "source": [
    "with sns.axes_style('white'):\n",
    "    g = sns.catplot(\"year\", data=data_planets, aspect=2, kind=\"count\", color='steelblue')\n",
    "    g.set_xticklabels(step=5)"
   ]
  },
  {
   "cell_type": "markdown",
   "metadata": {},
   "source": [
    "Miremos ahora la columna *method* de descubrimiento de cada uno de los planetas"
   ]
  },
  {
   "cell_type": "code",
   "execution_count": null,
   "metadata": {},
   "outputs": [],
   "source": [
    "with sns.axes_style('white'):\n",
    "    g = sns.catplot(\"year\", data=data_planets, aspect=4.0, kind='count',\n",
    "                    hue='method', order=range(2001, 2015))\n",
    "    g.set_ylabels('Number of Planets Discovered')"
   ]
  },
  {
   "cell_type": "markdown",
   "metadata": {},
   "source": [
    "---\n",
    "<a id=\"section_ejercicio\"></a> \n",
    "#### Ejercicio\n",
    "[volver a TOC](#section_toc)\n",
    "\n",
    "Usando algún dataset de los que analizamos hasta el momento, elijamos tres columnas e intentemos extraer conclusiones sobre los datos o sus relaciones usando visualizaciones creadas con seaborn.\n",
    "\n",
    "Si son los mismos datos y las mismas columnas que en la práctica guiada de matplotlib, elijan visualizaciones distintas a las que usaron en el análisis anterior.\n",
    "\n",
    "Si les interesa usar otro dataset que no hayamos usado, también pueden hacerlo.\n"
   ]
  },
  {
   "cell_type": "markdown",
   "metadata": {},
   "source": [
    "---\n",
    "\n",
    "<a id=\"section_referencias\"></a> \n",
    "#### Referencias\n",
    "[volver a TOC](#section_toc)\n",
    "\n",
    "Python Data Science Handbook. Jake VanderPlas. 2017. Capítulo 4.\n",
    "\n",
    "Código del libro (puede ejecutarse en Colab) https://github.com/jakevdp/PythonDataScienceHandbook\n",
    "\n",
    "Tutorial \n",
    "http://seaborn.pydata.org/tutorial.html\n",
    "\n",
    "Ejemplos de código\n",
    "https://seaborn.pydata.org/examples/index.html\n"
   ]
  }
 ],
 "metadata": {
  "kernelspec": {
   "display_name": "Python 3",
   "language": "python",
   "name": "python3"
  },
  "language_info": {
   "codemirror_mode": {
    "name": "ipython",
    "version": 3
   },
   "file_extension": ".py",
   "mimetype": "text/x-python",
   "name": "python",
   "nbconvert_exporter": "python",
   "pygments_lexer": "ipython3",
   "version": "3.7.6"
  }
 },
 "nbformat": 4,
 "nbformat_minor": 4
}

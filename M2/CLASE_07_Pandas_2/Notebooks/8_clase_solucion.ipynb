{
 "cells": [
  {
   "cell_type": "code",
   "execution_count": null,
   "metadata": {},
   "outputs": [],
   "source": [
    "# initial setup\n",
    "try:\n",
    "    # settings colab:\n",
    "    import google.colab\n",
    "\n",
    "    # si usan colab, deben cambiar el token de esta url\n",
    "    ! mkdir -p ../Data\n",
    "    # los que usan colab deben modificar el token de esta url:\n",
    "    ! wget -O ../Data/departamentos-en-venta-2016.csv https://raw.githubusercontent.com/Digital-House-DATA/ds_blend_students_2020/master/M2/CLASE_07_Pandas_2/Data/departamentos-en-venta-2016.csv?token=AA4GFHO2DQ2XN4MJP3FHTLC6WSHME\n",
    "    \n",
    "except ModuleNotFoundError:    \n",
    "    # settings local:\n",
    "    %run \"../../../common/0_notebooks_base_setup.py\""
   ]
  },
  {
   "cell_type": "markdown",
   "metadata": {},
   "source": [
    "---\n",
    "\n",
    "<img src='../../../common/logo_DH.png' align='left' width=35%/>\n"
   ]
  },
  {
   "cell_type": "markdown",
   "metadata": {},
   "source": [
    "# Pandas 2\n",
    "\n",
    "## Introducción\n",
    "\n",
    "\n",
    "En esta notebook vamos a trabajar con los conceptos de agregación a través de `groupby` y `pivot tables`. \n",
    "\n",
    "Analizaremos características de precio y superficie, por barrio y por comuna, de inmuebles en venta en la Ciudad de Buenos Aires en el año 2016.\n"
   ]
  },
  {
   "cell_type": "markdown",
   "metadata": {},
   "source": [
    "## Dataset\n",
    "\n",
    "El Gobierno de la Ciudad de Buenos Aires disponibiliza algunos datasets para acceso público en la url \n",
    "https://data.buenosaires.gob.ar/\n",
    "\n",
    "Allí encontramos datos de propiedades inmuebles en venta, separados por año\n",
    "https://data.buenosaires.gob.ar/dataset/departamentos-venta\n",
    "\n",
    "En esta clase vamos a usar un subconjunto de los datos de \"Departamentos en venta 2016\" que descargamos desde aquí\n",
    "https://data.buenosaires.gob.ar/dataset/departamentos-venta/archivo/juqdkmgo-7031-resource\n",
    "\n",
    "En la carpeta Data de esta clase ya tenemos descargardo ese dataset, el nombre del archivo es **departamentos-en-venta-2016.csv**."
   ]
  },
  {
   "cell_type": "markdown",
   "metadata": {},
   "source": [
    "## Imports"
   ]
  },
  {
   "cell_type": "code",
   "execution_count": null,
   "metadata": {},
   "outputs": [],
   "source": [
    "import pandas as pd\n",
    "import numpy as np"
   ]
  },
  {
   "cell_type": "markdown",
   "metadata": {},
   "source": [
    "## Ejercicio 1  - Importar \n",
    "\n",
    "Leamos los datos del archivo departamentos-en-venta-2016.csv\n",
    "\n",
    "Veamos cuántos registros tiene y de qué tipos son los datos de cada columna. \n",
    "\n",
    "Veamos los primeros registros para verificar que los datos fueron importados correctamente."
   ]
  },
  {
   "cell_type": "code",
   "execution_count": null,
   "metadata": {},
   "outputs": [],
   "source": [
    "import chardet\n",
    "def get_encoding_type(csv_path):\n",
    "    rawdata = open(csv_path, 'rb').read()\n",
    "    result = chardet.detect(rawdata)\n",
    "    return result.get('encoding')"
   ]
  },
  {
   "cell_type": "code",
   "execution_count": null,
   "metadata": {},
   "outputs": [],
   "source": [
    "data_location = \"../Data/departamentos-en-venta-2016.csv\""
   ]
  },
  {
   "cell_type": "code",
   "execution_count": null,
   "metadata": {},
   "outputs": [],
   "source": [
    "## [BORRAR_PRESENCIAL]\n",
    "file_encoding = get_encoding_type(data_location)\n",
    "file_encoding"
   ]
  },
  {
   "cell_type": "code",
   "execution_count": null,
   "metadata": {},
   "outputs": [],
   "source": [
    "## [BORRAR_PRESENCIAL]\n",
    "data = pd.read_csv(data_location, sep=\";\", encoding=file_encoding)\n",
    "data.shape"
   ]
  },
  {
   "cell_type": "code",
   "execution_count": null,
   "metadata": {},
   "outputs": [],
   "source": [
    "data.dtypes"
   ]
  },
  {
   "cell_type": "code",
   "execution_count": null,
   "metadata": {},
   "outputs": [],
   "source": [
    "data.head()"
   ]
  },
  {
   "cell_type": "markdown",
   "metadata": {},
   "source": [
    "## Ejercicio 2  - Promedio\n",
    "\n",
    "¿Cuál es el promedio valor del precio por $m^2$ en dolares?\n",
    "\n",
    "Para responder esta pregunta vamos a:\n",
    "\n",
    "1) Crear un obeto Series que resulte de limpiar los valores del campo PRECIOTEXT. Tenemos que eliminar los símbolos \"U\\\\$S\" y \".\"\n",
    "\n",
    "2) En la instancia de Series resultado del punto 1) reemplazamos los valores en pesos ('\\\\$') por nulos (para que nos ensucien los datos de promedio). \n",
    "\n",
    "3) Crear una columna nueva de tipo numérico en el DataFrame (PRECIOTEXT_CLEAN) y asignar los valores de resultado de 2)\n",
    "\n",
    "3) Crear una columna de tipo numérico (PRECIOTEXTM) que tenga el precio del m2 en dolares calculado como el valor de PRECIOTEXT_CLEAN / M2\n",
    "\n",
    "4) Calcular la media de los valores de PRECIOTEXTM\n"
   ]
  },
  {
   "cell_type": "code",
   "execution_count": null,
   "metadata": {},
   "outputs": [],
   "source": [
    "import re\n",
    "\n",
    "# reemplazo U$S por vacío\n",
    "dolares_pattern = \"U\\$S\\s*\"\n",
    "dolares_regex = re.compile(dolares_pattern)\n",
    "\n",
    "# reemplazo el punto decimal por vacío\n",
    "decimal_pattern = \"\\.\"\n",
    "decimal_regex = re.compile(decimal_pattern)\n",
    "\n",
    "sin_dolar = data.PRECIOTEXT.apply(lambda x: x if x is np.NaN else dolares_regex.sub(\"\", x))\n",
    "\n",
    "sin_dolar_sin_punto = sin_dolar.apply(lambda x: x if x is np.NaN else decimal_regex.sub(\"\", x))\n",
    "\n",
    "#type(sin_dolar_sin_punto)"
   ]
  },
  {
   "cell_type": "code",
   "execution_count": null,
   "metadata": {},
   "outputs": [],
   "source": [
    "# armo una máscara con los registros que tienen el valor de PRECIOTEXT en $\n",
    "pesos_pattern = \"\\$\"\n",
    "pesos_regex = re.compile(pesos_pattern)\n",
    "\n",
    "matches_pesos = sin_dolar_sin_punto.apply(lambda x: x if x is np.NaN else pesos_regex.match(x))\n",
    "pesos_mask = matches_pesos.notnull()\n",
    "#pesos_mask.sum()\n",
    "\n",
    "#veo que egfectivamente esos son los valores con $\n",
    "print(sin_dolar_sin_punto[pesos_mask])\n",
    "\n",
    "# asigno np.NaN a esos valores\n",
    "sin_dolar_sin_punto[pesos_mask] = np.NaN\n"
   ]
  },
  {
   "cell_type": "code",
   "execution_count": null,
   "metadata": {},
   "outputs": [],
   "source": [
    "sin_dolar_sin_punto_sin_pesos_num  = sin_dolar_sin_punto.astype(float)\n",
    "data[\"PRECIOTEXT_CLEAN\"] = sin_dolar_sin_punto_sin_pesos_num\n",
    "#print(data.dtypes)\n",
    "data[\"PRECIOTEXTM\"] = data[\"PRECIOTEXT_CLEAN\"] / data[\"M2\"]\n",
    "#data.head(3)\n",
    "precio_promedio_m2 = data[\"PRECIOTEXTM\"].mean()\n",
    "precio_promedio_m2.round(2)"
   ]
  },
  {
   "cell_type": "markdown",
   "metadata": {},
   "source": [
    "## Ejercicio 3  - Promedio por cuartil\n",
    "¿Cuál es el precio promedio del metro cuadrado en dolares para cada cuartil de superficie (campo M2) de las viviendas en CABA?\n",
    "\n",
    "Comenzamos calculando los cuartilos de superficie."
   ]
  },
  {
   "cell_type": "code",
   "execution_count": null,
   "metadata": {},
   "outputs": [],
   "source": [
    "q_superficie = pd.qcut(data.M2, 4)\n",
    "q_superficie"
   ]
  },
  {
   "cell_type": "code",
   "execution_count": null,
   "metadata": {},
   "outputs": [],
   "source": [
    "data.groupby(q_superficie)[\"PRECIOTEXTM\"].mean().round(2)"
   ]
  },
  {
   "cell_type": "markdown",
   "metadata": {},
   "source": [
    "## Ejercicio 3  - Promedio por barrio\n",
    "\n",
    "¿Cuál es la media de precio por metro cuadrado en dolares para cada barrio de la CABA? \n",
    "\n",
    "Ordenemos los datos para indicar cuál es el barrio más caro.\n",
    "\n",
    "Resolvamos el cálculo tanto con groupby como con pivot tables"
   ]
  },
  {
   "cell_type": "code",
   "execution_count": null,
   "metadata": {},
   "outputs": [],
   "source": [
    "data.groupby('BARRIO')['PRECIOTEXTM'].mean().round(2).sort_values(ascending = False)"
   ]
  },
  {
   "cell_type": "code",
   "execution_count": null,
   "metadata": {},
   "outputs": [],
   "source": [
    "data.pivot_table(index = 'BARRIO', aggfunc={'PRECIOTEXTM':'mean'}) \\\n",
    "                    . round(2) \\\n",
    "                    .sort_values(by='PRECIOTEXTM',ascending=False)"
   ]
  },
  {
   "cell_type": "markdown",
   "metadata": {},
   "source": [
    "## Ejercicio 4  - Dispersión de precios por barrio\n",
    "\n",
    "**4.a** ¿En qué barrio hay una mayor dispersión en el valor del metro cuadrado en dolares? Ordenar los valores para identificar el mayor.\n",
    "\n",
    "Ayuda: Calculamos dispersión como el desvío estandar de un grupo dividido la media de ese grupo grupo\n",
    "\n",
    "Vamos a calcular esto de dos maneras distintas:\n",
    "\n",
    "1) Calculamos la instancia de Series que tiene la media por grupo. Calculamos la instancia de Series que tiene el desvío estandar por grupo. Las dividimos. Ordenamos\n",
    "\n",
    "2) Calculamos los grupos y usamos una función lambda que calcule la media, desvío estandar y divida. Ordenamos.\n",
    "\n",
    "**4.b** Cuál les parece que será más eficiente? Probemoslo con %timeit, para eso definamos dos funciones que encapsulen el código de 1) y 2).\n",
    "\n",
    "**4.c** ¿Por qué Paternal está devolviendo NaN? ¿Y por qué Villa Soldati devuelve 0?\n",
    "\n",
    "Nota: tengan en cuenta que `mean` y `std` sobre una instancia de `DataFrameGroupBy` excluye los valores nulos\n",
    "\n",
    "https://pandas.pydata.org/pandas-docs/stable/reference/api/pandas.core.groupby.GroupBy.mean.html\n",
    "\n",
    "https://pandas.pydata.org/pandas-docs/stable/reference/api/pandas.core.groupby.GroupBy.std.html\n",
    "\n",
    "\n",
    "\n"
   ]
  },
  {
   "cell_type": "code",
   "execution_count": null,
   "metadata": {},
   "outputs": [],
   "source": [
    "def dispersion_1(data):\n",
    "    barrio_group = data.groupby('BARRIO')\n",
    "    medias_barrio = barrio_group['PRECIOTEXTM'].mean()\n",
    "    desvios_barrio = barrio_group['PRECIOTEXTM'].std()\n",
    "    dipersion = desvios_barrio / medias_barrio\n",
    "    result = dipersion.sort_values(ascending=False) \n",
    "    return result\n",
    "\n",
    "def dispersion_2(data):\n",
    "    result = data.groupby('BARRIO')['PRECIOTEXTM'].apply(lambda x: x.std() / x.mean()).sort_values(ascending = False)\n",
    "    return result\n",
    "    "
   ]
  },
  {
   "cell_type": "code",
   "execution_count": null,
   "metadata": {},
   "outputs": [],
   "source": [
    "dispersion_1(data)"
   ]
  },
  {
   "cell_type": "code",
   "execution_count": null,
   "metadata": {},
   "outputs": [],
   "source": [
    "dispersion_2(data)"
   ]
  },
  {
   "cell_type": "code",
   "execution_count": null,
   "metadata": {},
   "outputs": [],
   "source": [
    "%timeit dispersion_1(data)"
   ]
  },
  {
   "cell_type": "code",
   "execution_count": null,
   "metadata": {},
   "outputs": [],
   "source": [
    "%timeit dispersion_2(data)"
   ]
  },
  {
   "cell_type": "markdown",
   "metadata": {},
   "source": [
    "Vamos a ver cuánto da si usamos la lambda directamente, sin pasar por dispersion_2:"
   ]
  },
  {
   "cell_type": "code",
   "execution_count": null,
   "metadata": {},
   "outputs": [],
   "source": [
    "%timeit data.groupby('BARRIO')['PRECIOTEXTM'].apply(lambda x: x.std() / x.mean()).sort_values(ascending = False)"
   ]
  },
  {
   "cell_type": "markdown",
   "metadata": {},
   "source": [
    "Veamos por qué Paternal devuelve NaN y Villa Soldati que devuelve 0.\n",
    "\n",
    "Para eso vamos a contar cuántos registros tenemos en cada barrio, en particular en Paternal."
   ]
  },
  {
   "cell_type": "code",
   "execution_count": null,
   "metadata": {},
   "outputs": [],
   "source": [
    "barrio_count = data.groupby('BARRIO')['BARRIO'].count()\n",
    "print(barrio_count[\"PATERNAL\"])"
   ]
  },
  {
   "cell_type": "markdown",
   "metadata": {},
   "source": [
    "Hay un sólo registro en el barrio de Paternal, entonces el desvío está dividiendo por 0 y por eso devuelve NaN"
   ]
  },
  {
   "cell_type": "code",
   "execution_count": null,
   "metadata": {},
   "outputs": [],
   "source": [
    "print(barrio_count[\"VILLA SOLDATI\"])\n",
    "\n",
    "villa_soldati_mask = data.BARRIO == \"VILLA SOLDATI\"\n",
    "villa_soldati_data = data.loc[villa_soldati_mask, :]\n",
    "villa_soldati_data[\"PRECIOTEXTM\"]"
   ]
  },
  {
   "cell_type": "markdown",
   "metadata": {},
   "source": [
    "Vemos que para Villa Soldati los dos registros tienen valores iguales, entonces el numerador en el cálculo del desvío estandar da 0, y por lo tanto también el desvío estandar y la dispersión resultan 0.\n"
   ]
  },
  {
   "cell_type": "markdown",
   "metadata": {},
   "source": [
    "## Ejercicio 5  - Superficie por barrio\n",
    "\n",
    "Calculemos la mediana de superficie por barrio para determinar en qué barrio los departamentos son más grandes.\n",
    "\n",
    "Hagamos el cálculo con pivot_table y groupby\n"
   ]
  },
  {
   "cell_type": "code",
   "execution_count": null,
   "metadata": {},
   "outputs": [],
   "source": [
    "data.pivot_table('M2', index='BARRIO', aggfunc=np.median).sort_values(by='M2', ascending=False)"
   ]
  },
  {
   "cell_type": "code",
   "execution_count": null,
   "metadata": {},
   "outputs": [],
   "source": [
    "data.groupby('BARRIO')['M2'].median().sort_values(ascending=False)"
   ]
  },
  {
   "cell_type": "markdown",
   "metadata": {},
   "source": [
    "## Ejercicio 6  - Tabla resumen\n",
    "\n",
    "Generemos un `DataFrame` que agregue la información del precio por M2 en dolares (`PRECIOTEXTM`), ambientes (`AMBIENTES`) a nivel de `COMUNA` y barrio (`BARRIO`). Proporcione información tanto de la tendencia central como de la dispersión de ambas distribuciones.\n",
    "\n",
    "Ayuda: usar pivot_table"
   ]
  },
  {
   "cell_type": "code",
   "execution_count": null,
   "metadata": {},
   "outputs": [],
   "source": [
    "result = data.pivot_table(['PRECIOTEXTM','AMBIENTES'],index=['COMUNA','BARRIO']\n",
    "               , aggfunc={'PRECIOTEXTM':[np.mean,np.std,len],\n",
    "                          'AMBIENTES': [np.mean,np.std]})\n",
    "print(type(result))\n",
    "result"
   ]
  }
 ],
 "metadata": {
  "kernelspec": {
   "display_name": "Python 3",
   "language": "python",
   "name": "python3"
  },
  "language_info": {
   "codemirror_mode": {
    "name": "ipython",
    "version": 3
   },
   "file_extension": ".py",
   "mimetype": "text/x-python",
   "name": "python",
   "nbconvert_exporter": "python",
   "pygments_lexer": "ipython3",
   "version": "3.7.6"
  }
 },
 "nbformat": 4,
 "nbformat_minor": 4
}

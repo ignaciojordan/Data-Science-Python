{
 "cells": [
  {
   "cell_type": "code",
   "execution_count": null,
   "metadata": {},
   "outputs": [],
   "source": [
    "# initial setup\n",
    "try:\n",
    "    # settings colab:\n",
    "    import google.colab\n",
    "\n",
    "    # si usan colab, deben cambiar el token de esta url\n",
    "    ! mkdir -p ../Data\n",
    "    # los que usan colab deben modificar el token de esta url:\n",
    "    ! wget -O ../Data/departamentos-en-venta-2016.csv https://raw.githubusercontent.com/Digital-House-DATA/ds_blend_students_2020/master/M2/CLASE_07_Pandas_2/Data/departamentos-en-venta-2016.csv?token=AA4GFHLZYO72DPTOKLF4LH26V3KTI\n",
    "    \n",
    "except ModuleNotFoundError:    \n",
    "    # settings local:\n",
    "    %run \"../../../common/0_notebooks_base_setup.py\""
   ]
  },
  {
   "cell_type": "markdown",
   "metadata": {},
   "source": [
    "---\n",
    "\n",
    "<img src='../../../common/logo_DH.png' align='left' width=35%/>\n"
   ]
  },
  {
   "cell_type": "markdown",
   "metadata": {},
   "source": [
    "## Intro\n",
    "\n",
    "En esta parte vimos algunos métodos de Pandas para calcular medidas por grupos.\n",
    "\n",
    "Para los ejercicios usaremos un dataset de inmuebles en venta en la Ciudad de Buenos Aires en el año 2016 que disponibiliza el GCBA.\n",
    "\n",
    "La idea de esta práctica es repasar algunos temas que vimos en clases anteriores, y ejercitar los distintos métodos que vimos en ésta y vamos a volver a usar en la clase presencial.\n"
   ]
  },
  {
   "cell_type": "markdown",
   "metadata": {},
   "source": [
    "## Dataset\n",
    "\n",
    "El Gobierno de la Ciudad de Buenos Aires disponibiliza algunos datasets para acceso público en la url \n",
    "https://data.buenosaires.gob.ar/\n",
    "\n",
    "Allí encontramos datos de propiedades inmuebles en venta, separados por año\n",
    "https://data.buenosaires.gob.ar/dataset/departamentos-venta\n",
    "\n",
    "En esta clase vamos a usar un subconjunto de los datos de \"Departamentos en venta 2016\" que descargamos desde aquí\n",
    "https://data.buenosaires.gob.ar/dataset/departamentos-venta/archivo/juqdkmgo-7031-resource\n",
    "\n",
    "En la carpeta Data de esta clase ya tenemos descargardo ese dataset, el nombre del archivo es **departamentos-en-venta-2016.csv**."
   ]
  },
  {
   "cell_type": "markdown",
   "metadata": {},
   "source": [
    "## Imports"
   ]
  },
  {
   "cell_type": "code",
   "execution_count": null,
   "metadata": {},
   "outputs": [],
   "source": [
    "import pandas as pd\n",
    "import numpy as np"
   ]
  },
  {
   "cell_type": "markdown",
   "metadata": {},
   "source": [
    "## Ejercicio 1  - Importar \n",
    "\n",
    "Leamos los datos del archivo departamentos-en-venta-2016.csv\n",
    "\n",
    "Veamos cuántos registros tiene y de qué tipos son los datos de cada columna. \n",
    "\n",
    "Veamos los primeros registros para verificar que los datos fueron importados correctamente."
   ]
  },
  {
   "cell_type": "code",
   "execution_count": null,
   "metadata": {},
   "outputs": [],
   "source": [
    "data_location = \"../Data/departamentos-en-venta-2016.csv\"\n",
    "data = pd.read_csv(data_location, sep=\";\")\n",
    "print(data.shape)\n",
    "print(data.dtypes)\n",
    "data.head(3)"
   ]
  },
  {
   "cell_type": "markdown",
   "metadata": {},
   "source": [
    "## Ejercicio 2  - Limpieza\n",
    "\n",
    "Vamos a crear una columan nueva (PRECIOTEXT_CLEAN) de tipo numérico, que tenga los valores en dolares que leemos en el campo PRECIOTEXT, o NaN si esos valores están expresados en pesos.\n",
    "\n",
    "Para eso vamos a:\n",
    "\n",
    "1) Crear un objeto Series que resulte de limpiar los valores del campo PRECIOTEXT. Tenemos que eliminar los símbolos \"U\\\\$S\" y \".\"\n",
    "\n",
    "2) En la instancia de Series resultado del punto 1) reemplazamos los valores en pesos ('\\\\$') por nulos (para que nos ensucien los datos de promedio). \n",
    "\n",
    "3) Crear una columna nueva de tipo numérico en el DataFrame (PRECIOTEXT_CLEAN) y asignar los valores de resultado de 2)\n"
   ]
  },
  {
   "cell_type": "code",
   "execution_count": null,
   "metadata": {},
   "outputs": [],
   "source": [
    "import re\n",
    "\n",
    "# reemplazo U$S por vacío\n",
    "dolares_pattern = \"U\\$S\\s*\"\n",
    "dolares_regex = re.compile(dolares_pattern)\n",
    "\n",
    "# reemplazo el punto decimal por vacío\n",
    "decimal_pattern = \"\\.\"\n",
    "decimal_regex = re.compile(decimal_pattern)\n",
    "\n",
    "sin_dolar = data.PRECIOTEXT.apply(lambda x: x if x is np.NaN else dolares_regex.sub(\"\", x))\n",
    "\n",
    "sin_dolar_sin_punto = sin_dolar.apply(lambda x: x if x is np.NaN else decimal_regex.sub(\"\", x))\n",
    "\n",
    "#type(sin_dolar_sin_punto)"
   ]
  },
  {
   "cell_type": "code",
   "execution_count": null,
   "metadata": {},
   "outputs": [],
   "source": [
    "# armo una máscara con los registros que tienen el valor de PRECIOTEXT en $\n",
    "pesos_pattern = \"\\$\"\n",
    "pesos_regex = re.compile(pesos_pattern)\n",
    "\n",
    "matches_pesos = sin_dolar_sin_punto.apply(lambda x: x if x is np.NaN else pesos_regex.match(x))\n",
    "pesos_mask = matches_pesos.notnull()\n",
    "#pesos_mask.sum()\n",
    "\n",
    "#veo que egfectivamente esos son los valores con $\n",
    "print(sin_dolar_sin_punto[pesos_mask])\n",
    "\n",
    "# asigno np.NaN a esos valores\n",
    "sin_dolar_sin_punto[pesos_mask] = np.NaN\n"
   ]
  },
  {
   "cell_type": "code",
   "execution_count": null,
   "metadata": {},
   "outputs": [],
   "source": [
    "sin_dolar_sin_punto_sin_pesos_num  = sin_dolar_sin_punto.astype(float)\n",
    "data[\"PRECIOTEXT_CLEAN\"] = sin_dolar_sin_punto_sin_pesos_num\n"
   ]
  },
  {
   "cell_type": "markdown",
   "metadata": {},
   "source": [
    "## Ejercicio 3  - Precio por metro cuadrado en dolares\n",
    "\n",
    "Vamos a crear una columna de tipo numérico (PRECIOTEXTM) que tenga el precio del m2 en dolares calculado como el valor de PRECIOTEXT_CLEAN / M2"
   ]
  },
  {
   "cell_type": "code",
   "execution_count": null,
   "metadata": {},
   "outputs": [],
   "source": [
    "data[\"PRECIOTEXTM\"] = (data[\"PRECIOTEXT_CLEAN\"] / data[\"M2\"]).round(2)\n",
    "data.head(3)\n"
   ]
  },
  {
   "cell_type": "markdown",
   "metadata": {},
   "source": [
    "## Ejercicio 4  - Precio promedio del metro cuadrado en dolares por barrio\n",
    "\n",
    "Calculemos el precio promedio del metro cuadrado en dolares por barrio usando groupby y pivot_table\n",
    "\n",
    "¿Cuáles son los cinco barrios más caros?"
   ]
  },
  {
   "cell_type": "code",
   "execution_count": null,
   "metadata": {},
   "outputs": [],
   "source": [
    "precio_m2_prom_barrio = data.groupby(\"BARRIO\")[\"PRECIOTEXTM\"].mean().round(2)\n",
    "#print(precio_m2_prom_barrio)\n",
    "#type(precio_m2_prom_barrio)\n",
    "precio_m2_prom_barrio_sort = precio_m2_prom_barrio.sort_values(ascending = False)\n",
    "precio_m2_prom_barrio_top5 = precio_m2_prom_barrio_sort[0:5]\n",
    "precio_m2_prom_barrio_top5"
   ]
  },
  {
   "cell_type": "code",
   "execution_count": null,
   "metadata": {},
   "outputs": [],
   "source": [
    "precio_m2_prom_barrio = data.pivot_table(index = 'BARRIO', aggfunc={'PRECIOTEXTM':'mean'}) \n",
    "precio_m2_prom_barrio_sort = precio_m2_prom_barrio.sort_values(by = \"PRECIOTEXTM\", ascending = False)\n",
    "precio_m2_prom_barrio_top5 = precio_m2_prom_barrio_sort[0:5]\n",
    "precio_m2_prom_barrio_top5    \n"
   ]
  },
  {
   "cell_type": "markdown",
   "metadata": {},
   "source": [
    "## Ejercicio 5  - groupby por campos numéricos (decilos)\n",
    "\n",
    "Armemos los decilos de superficie de data usando el método `qcut` de numpy\n",
    "\n",
    "Esto asocia una categoría a cada registro de data, donde el valor de esa categoría indica a qué decilo pertenece ese registro\n",
    "\n",
    "Usando el método `groupby` calculemos la mediana del precio por m2 en dolares para cada uno de los decilos de superficie."
   ]
  },
  {
   "cell_type": "code",
   "execution_count": null,
   "metadata": {},
   "outputs": [],
   "source": [
    "q_superficie = pd.qcut(data.M2, 10)\n",
    "q_superficie"
   ]
  },
  {
   "cell_type": "code",
   "execution_count": null,
   "metadata": {},
   "outputs": [],
   "source": [
    "data.groupby(q_superficie)[\"PRECIOTEXTM\"].median()"
   ]
  },
  {
   "cell_type": "markdown",
   "metadata": {},
   "source": [
    "## Ejercicio 6  - groupby por campos de tipo string\n",
    "\n",
    "Usando el método `groupby` calculemos la mediana del precio por m2 en dolares para cada uno de los barrios de la ciudad."
   ]
  },
  {
   "cell_type": "code",
   "execution_count": null,
   "metadata": {},
   "outputs": [],
   "source": [
    "data.groupby(\"BARRIO\")[\"PRECIOTEXTM\"].median()"
   ]
  },
  {
   "cell_type": "markdown",
   "metadata": {},
   "source": [
    "## Ejercicio 7  - groupby por condiciones custom\n",
    "\n",
    "Definamos una máscara booleana que sea True para los registros cuyo precio en dolares es hasta 150.000\n",
    "\n",
    "Agrupemos por este criterio, y calculemos el valor de la mediana de superficie para estos dos grupos (precio <= 150.000 dolares y precio > 150.000 dolares)"
   ]
  },
  {
   "cell_type": "code",
   "execution_count": null,
   "metadata": {},
   "outputs": [],
   "source": [
    "mask_price = data.PRECIOTEXT_CLEAN <= 150000\n",
    "\n",
    "data.groupby(mask_price)[\"M2\"].median()"
   ]
  }
 ],
 "metadata": {
  "kernelspec": {
   "display_name": "Python 3",
   "language": "python",
   "name": "python3"
  },
  "language_info": {
   "codemirror_mode": {
    "name": "ipython",
    "version": 3
   },
   "file_extension": ".py",
   "mimetype": "text/x-python",
   "name": "python",
   "nbconvert_exporter": "python",
   "pygments_lexer": "ipython3",
   "version": "3.7.6"
  }
 },
 "nbformat": 4,
 "nbformat_minor": 4
}

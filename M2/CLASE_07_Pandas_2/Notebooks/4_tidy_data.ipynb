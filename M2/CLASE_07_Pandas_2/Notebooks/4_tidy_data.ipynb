{
 "cells": [
  {
   "cell_type": "code",
   "execution_count": null,
   "metadata": {},
   "outputs": [],
   "source": [
    "# initial setup\n",
    "try:\n",
    "    # settings colab:\n",
    "    import google.colab\n",
    "    \n",
    "    # si usan colab, deben cambiar el token de esta url\n",
    "    ! mkdir -p ../Data\n",
    "    # los que usan colab deben modificar el token de esta url:\n",
    "    ! wget -O ../Data/MetObjects_sample.csv https://raw.githubusercontent.com/Digital-House-DATA/ds_blend_students_2020/master/M2/CLASE_07_Pandas_2/Data/MetObjects_sample.csv?token=AA4GFHOEXS4SBI2SSURWCAK6WSDEW\n",
    "    \n",
    "except ModuleNotFoundError:    \n",
    "    # settings local:\n",
    "    %run \"../../../common/0_notebooks_base_setup.py\""
   ]
  },
  {
   "cell_type": "markdown",
   "metadata": {},
   "source": [
    "---\n",
    "\n",
    "<img src='../../../common/logo_DH.png' align='left' width=35%/>\n"
   ]
  },
  {
   "cell_type": "markdown",
   "metadata": {},
   "source": [
    "<a id=\"section_toc\"></a> \n",
    "## Tabla de Contenidos\n",
    "\n",
    "[Intro](#section_intro)\n",
    "\n",
    "[Dataset](#section_dataset)\n",
    "\n",
    "[Imports](#section_imports)\n",
    "\n",
    "[Tidy data](#section_tidy_data)\n",
    "\n",
    "[Repaso de joins con pandas](#section_repaso_joins)\n",
    "\n",
    "[Referencias](#section_referencias)\n",
    "\n",
    "\n",
    "---\n"
   ]
  },
  {
   "cell_type": "markdown",
   "metadata": {},
   "source": [
    "# Pandas 2 - tidy data"
   ]
  },
  {
   "cell_type": "markdown",
   "metadata": {},
   "source": [
    "<a id=\"section_intro\"></a> \n",
    "## Intro\n",
    "\n",
    "[volver a TOC](#section_toc)\n",
    "\n",
    "\n",
    "Decimos que un dataset está ordenado cuando:\n",
    "* Cada variable es una columna\n",
    "* Cada observación es una fila\n",
    "* Cada tipo de unidad observacional forma una tabla\n",
    "\n",
    "Algunas definiciones:\n",
    "* Variable: Es la medición de un atributo, por ejemplo, peso, altura, etc \n",
    "* Valor: Es la medida que toma una variable para una observación\n",
    "* Observación: Todas las observaciones toman el mismo tipo de valores para cada variable. \n",
    "\n"
   ]
  },
  {
   "cell_type": "markdown",
   "metadata": {},
   "source": [
    "<a id=\"section_dataset\"></a> \n",
    "## Dataset\n",
    "\n",
    "[volver a TOC](#section_toc)\n",
    "\n",
    "\n",
    "Usaremos el dataset de las obras del Met (The Metropolitan Museum of Art) que vimos en la clase de Limpieza de datos\n",
    "\n",
    "https://github.com/metmuseum/openaccess/\n",
    "\n",
    "Analizando el dataset del Met vemos que los datos de los artistas están en la misma tabla que los datos de las obras, incumpliendo la tercer regla que dice \"Cada tipo de unidad observacional forma una tabla\".\n",
    "\n",
    "Veamos cómo resolver este punto.\n"
   ]
  },
  {
   "cell_type": "markdown",
   "metadata": {},
   "source": [
    "<a id=\"section_imports\"></a> \n",
    "## Imports\n",
    "\n",
    "[volver a TOC](#section_toc)\n"
   ]
  },
  {
   "cell_type": "code",
   "execution_count": null,
   "metadata": {},
   "outputs": [],
   "source": [
    "import pandas as pd\n",
    "import numpy as np"
   ]
  },
  {
   "cell_type": "markdown",
   "metadata": {},
   "source": [
    "## Importamos los datos\n",
    "\n",
    "Vemos de qué tamaño es el dataset e imprimimos losprimeros registros"
   ]
  },
  {
   "cell_type": "code",
   "execution_count": null,
   "metadata": {},
   "outputs": [],
   "source": [
    "# local\n",
    "data_location = \"../Data/MetObjects_sample.csv\"\n",
    "\n",
    "data = pd.read_csv(data_location)\n",
    "\n",
    "data.dtypes"
   ]
  },
  {
   "cell_type": "code",
   "execution_count": null,
   "metadata": {},
   "outputs": [],
   "source": [
    "data.head(3)"
   ]
  },
  {
   "cell_type": "markdown",
   "metadata": {},
   "source": [
    "<a id=\"section_tidy_data\"></a> \n",
    "## Tidy data\n",
    "\n",
    "[volver a TOC](#section_toc)"
   ]
  },
  {
   "cell_type": "markdown",
   "metadata": {},
   "source": [
    "Analizando el dataset del Met vemos que los datos de los artistas están en la misma tabla que los datos de las obras, incumpliendo la tercer regla que dice \"Cada tipo de unidad observacional forma una tabla\".\n",
    "\n",
    "En este caso deberíamos tener una tabla para Obra y otra para Artista.\n",
    "\n",
    "Separemos estos datos en dos tablas, y eliminemos duplicados en la tabla de artistas."
   ]
  },
  {
   "cell_type": "code",
   "execution_count": null,
   "metadata": {},
   "outputs": [],
   "source": [
    "data_artist_columns = ['Artist Role', 'Artist Prefix', 'Artist Display Name',\n",
    "       'Artist Display Bio', 'Artist Suffix', 'Artist Alpha Sort',\n",
    "       'Artist Nationality', 'Artist Begin Date', 'Artist End Date',\n",
    "       'Artist Gender', 'Artist ULAN URL', 'Artist Wikidata URL']\n",
    "\n",
    "data_artist  = data.loc[:, data_artist_columns]\n",
    "print(data_artist.shape)\n"
   ]
  },
  {
   "cell_type": "code",
   "execution_count": null,
   "metadata": {},
   "outputs": [],
   "source": [
    "data_artist.head(3)"
   ]
  },
  {
   "cell_type": "markdown",
   "metadata": {},
   "source": [
    "Veamos si hay registros duplicados en data_artist. \n",
    "\n",
    "Consideramos duplicados aquellos registros que coincidan en los campos \"Artist Display Name\", \"Artist Role\""
   ]
  },
  {
   "cell_type": "code",
   "execution_count": null,
   "metadata": {},
   "outputs": [],
   "source": [
    "artist_duplicated = data_artist.duplicated(subset=[\"Artist Display Name\", \"Artist Role\"])\n",
    "any(artist_duplicated)"
   ]
  },
  {
   "cell_type": "markdown",
   "metadata": {},
   "source": [
    "Eliminamos los registros duplicados:"
   ]
  },
  {
   "cell_type": "code",
   "execution_count": null,
   "metadata": {},
   "outputs": [],
   "source": [
    "data_artist_unique = data_artist.drop_duplicates(subset=[\"Artist Display Name\", \"Artist Role\"], keep=\"first\")\n",
    "print(data_artist_unique.shape)\n",
    "print(data_artist.shape)"
   ]
  },
  {
   "cell_type": "markdown",
   "metadata": {},
   "source": [
    "Para no perder la asociación entre la obra y el artista, en la tabla data_object mantenemos los campos \"Artist Display Name\" y \"Artist Role\" que son los identificadores de artista en la tabla data_artist"
   ]
  },
  {
   "cell_type": "code",
   "execution_count": null,
   "metadata": {},
   "outputs": [],
   "source": [
    "data_artist_columns_sin_key =  ['Artist Prefix', 'Artist Display Bio', 'Artist Suffix', 'Artist Alpha Sort',\n",
    "       'Artist Nationality', 'Artist Begin Date', 'Artist End Date',\n",
    "       'Artist Gender', 'Artist ULAN URL', 'Artist Wikidata URL']\n",
    "data_object = data.drop(data_artist_columns_sin_key, axis = 'columns')\n",
    "print(data_object.shape)\n",
    "data_object.columns"
   ]
  },
  {
   "cell_type": "markdown",
   "metadata": {},
   "source": [
    "Cuando eliminamos los duplicados, la tabla de artistas pasó de tener 4743 registros a 1615.\n",
    "\n",
    "Esto resulta en una mejora de performance en cuanto a espacio, y facilita mantener la consistencia de los valores en los registros. Como desventaja, vamos a necesitar combinar ambas tablas para poder responder algunas preguntas que involucen relaciones entre columnas en tablas distintas.\n",
    "\n"
   ]
  },
  {
   "cell_type": "markdown",
   "metadata": {},
   "source": [
    "---\n",
    "<a id=\"section_repaso_joins\"></a> \n",
    "\n",
    "## Repaso de joins con pandas\n",
    "\n",
    "[volver a TOC](#section_toc)\n",
    "\n",
    "`merge` `concat` `join` `append`\n",
    "\n",
    "Como ejercicio, hagamos ahora el camino inverso, a partir de dos tablas (objetos y artistas) combinemoslas para obtener un único DataFrame con el conjunto total de datos."
   ]
  },
  {
   "cell_type": "markdown",
   "metadata": {},
   "source": [
    "Como vimos en la práctica guiada 3, los datos contenidos en objetos pandas pueden combinarse usando los métodos\n",
    "\n",
    "* `pandas.merge`: combina filas de dos DataFrames en base a una o más claves. Es análogo al join de SQL.\n",
    "\n",
    "https://pandas.pydata.org/pandas-docs/stable/reference/api/pandas.DataFrame.merge.html\n",
    "    \n",
    "* `pandas.concat`: concatena o apila objetos pandas sobre alguno de los ejes\n",
    "\n",
    "https://pandas.pydata.org/pandas-docs/stable/reference/api/pandas.concat.html\n",
    "\n",
    "* `pandas.join`: agrega columnas de otro DataFrame\n",
    "\n",
    "https://pandas.pydata.org/pandas-docs/stable/reference/api/pandas.DataFrame.join.html\n",
    "\n",
    "* `pandas.append`: agrega al final las filas de otro DataFrame\n",
    "\n",
    "https://pandas.pydata.org/pandas-docs/stable/reference/api/pandas.DataFrame.append.html"
   ]
  },
  {
   "cell_type": "markdown",
   "metadata": {},
   "source": [
    "**Veamos un ejemplo de `merge`**, comparemos con su tamaño con el DataFrame original (antes de dividirlo en data_objet y data_artist)"
   ]
  },
  {
   "cell_type": "code",
   "execution_count": null,
   "metadata": {},
   "outputs": [],
   "source": [
    "data_all_merge = data_object.merge(data_artist_unique, left_on=['Artist Role', 'Artist Display Name'], \n",
    "                             right_on=['Artist Role', 'Artist Display Name'], how=\"left\")"
   ]
  },
  {
   "cell_type": "code",
   "execution_count": null,
   "metadata": {},
   "outputs": [],
   "source": [
    "data_all_merge.shape"
   ]
  },
  {
   "cell_type": "code",
   "execution_count": null,
   "metadata": {},
   "outputs": [],
   "source": [
    "data_all_merge.shape"
   ]
  },
  {
   "cell_type": "markdown",
   "metadata": {},
   "source": [
    "Estamos definiendo las columnas 'Artist Role', 'Artist Display Name' como claves de los registros para combinarlos en ambos DataFrames.\n",
    "\n",
    "Dos filas van a ser combinadas en el DataFrame resultado si coinciden en los valores de las claves en los Dataset involucrados en el merge.\n",
    "\n",
    "`left_on` indica qué columnas del primer DatFrame (el de la izquierda) son la clave en el merge\n",
    "\n",
    "`right_on` indica qué columnas del segundo DatFrame (el de la derecha) son la clave en el merge\n",
    "\n",
    "`how` indica como combinar los objetos\n",
    "* inner: el resultado tiene sólo los registros cuyas claves están en ambos DataFrames\n",
    "* left: el resultado tiene todos los registros del primer DataFrame (left) aunque la clave pueda no estar en el segundo DataFrame (right)\n",
    "* rigth: el resultado tiene todos los registros del segundo DataFrame (right) aunque la clave pueda no estar en el primer DataFrame (left)\n",
    "\n"
   ]
  },
  {
   "cell_type": "markdown",
   "metadata": {},
   "source": [
    "Veamos un ejemplo de `concat`, axis = 1 indica que concatena las columnas de los dos DataFrame. Observemos que no combina las columnas repetidas sino que el DataFrame resultado tiene una proveniente de cada DataFrame. "
   ]
  },
  {
   "cell_type": "code",
   "execution_count": null,
   "metadata": {},
   "outputs": [],
   "source": [
    "data_all_concat = pd.concat([data_object, data_artist_unique],  axis = 1)\n",
    "print(data_object.shape)\n",
    "print(data_artist_unique.shape)\n",
    "print(data_all_concat.shape)\n",
    "\n",
    "data_all_concat.columns[data_all_concat.columns == 'Artist Display Name']"
   ]
  },
  {
   "cell_type": "markdown",
   "metadata": {},
   "source": [
    "**Veamos un ejemplo de `concat`**, axis = 0 que indica que concatena las filas de los dos DataFrame. Observemos que no es necesario que el orden de las columnas sea el mismo en ambos DataFrames"
   ]
  },
  {
   "cell_type": "code",
   "execution_count": null,
   "metadata": {},
   "outputs": [],
   "source": [
    "data_object_1 = data_object.iloc[0:10, :]\n",
    "\n",
    "columns_reverse = data_object.columns[::-1]\n",
    "data_object_2 = data_object.iloc[10:20].loc[:, columns_reverse]\n",
    "\n",
    "print(data_object_1.shape)\n",
    "print(data_object_2.shape)"
   ]
  },
  {
   "cell_type": "code",
   "execution_count": null,
   "metadata": {},
   "outputs": [],
   "source": [
    "data_object_1_2 = pd.concat([data_object_1, data_object_2],  axis = 0)\n",
    "print(data_object_1_2.shape)\n",
    "data_object_1_2.sample(5)"
   ]
  },
  {
   "cell_type": "markdown",
   "metadata": {},
   "source": [
    "**Veamos un ejemplo de `join`**. Este método es muy eficiente (mejor que merge) porque usa los índices de los DataFrames. \n",
    "\n",
    "Para eso vamos a setear la columnas 'Artist Role' y 'Artist Display Name' como índice en los dos objetos.\n",
    "\n",
    "Previamente debemos eliminar los registros que sean nulos en alguno de los dos campos de los DataFrames.\n",
    "\n",
    "Los índices pueden ser creados sobre DataFrames con registros nulos en esos campos, pero el método join da error en esas condiciones.\n"
   ]
  },
  {
   "cell_type": "code",
   "execution_count": null,
   "metadata": {},
   "outputs": [],
   "source": [
    "print(\"cantidad de nulos en el campo 'Artist Role' de data_object_index\", data_object['Artist Role'].isnull().sum())\n",
    "print(\"cantidad de nulos en el campo 'Artist Role' de data_artist_unique_index\", data_artist_unique['Artist Role'].isnull().sum())\n",
    "print(\"cantidad de nulos en el campo 'Artist Display Name' de data_object_index\", data_object['Artist Display Name'].isnull().sum())\n",
    "print(\"cantidad de nulos en el campo 'Artist Display Name' de data_artist_unique_index\", data_artist_unique['Artist Display Name'].isnull().sum())\n"
   ]
  },
  {
   "cell_type": "code",
   "execution_count": null,
   "metadata": {},
   "outputs": [],
   "source": [
    "data_artist_notnull = data_artist_unique.dropna(subset=['Artist Role', 'Artist Display Name'], how='any', axis=0)\n",
    "data_object_notnull = data_object.dropna(subset=['Artist Role', 'Artist Display Name'], how='any', axis=0)"
   ]
  },
  {
   "cell_type": "code",
   "execution_count": null,
   "metadata": {},
   "outputs": [],
   "source": [
    "data_artist_notnull_index = data_artist_notnull.set_index(['Artist Role', 'Artist Display Name'])\n",
    "data_object_notnull_index = data_object_notnull.set_index(['Artist Role', 'Artist Display Name'])"
   ]
  },
  {
   "cell_type": "code",
   "execution_count": null,
   "metadata": {},
   "outputs": [],
   "source": [
    "data_all_join = data_object_notnull_index.join(data_artist_notnull_index, lsuffix = \"object_\", rsuffix = \"artist_\")\n",
    "print(data_all_join.shape)\n",
    "data_all_join.sample(3)"
   ]
  },
  {
   "cell_type": "markdown",
   "metadata": {},
   "source": [
    "Para que el índice se transforme en dos columnas del DataFrame usamos el método `reset_index`\n",
    "\n",
    "https://pandas.pydata.org/pandas-docs/stable/reference/api/pandas.DataFrame.reset_index.html"
   ]
  },
  {
   "cell_type": "code",
   "execution_count": null,
   "metadata": {},
   "outputs": [],
   "source": [
    "data_all_join = data_all_join.reset_index()\n",
    "data_all_join.sample(3)"
   ]
  },
  {
   "cell_type": "markdown",
   "metadata": {},
   "source": [
    "**Veamos un ejemplo de `append`**, que es similar a `concat`"
   ]
  },
  {
   "cell_type": "code",
   "execution_count": null,
   "metadata": {},
   "outputs": [],
   "source": [
    "data_object_1 = data_object.iloc[0:10, :]\n",
    "\n",
    "columns_reverse = data_object.columns[::-1]\n",
    "data_object_2 = data_object.iloc[10:20].loc[:, columns_reverse]\n",
    "\n",
    "print(data_object_1.shape)\n",
    "print(data_object_2.shape)"
   ]
  },
  {
   "cell_type": "code",
   "execution_count": null,
   "metadata": {},
   "outputs": [],
   "source": [
    "data_object_1_2 = data_object_1.append(data_object_2)\n",
    "print(data_object_1_2.shape)\n",
    "data_object_1_2.sample(5)"
   ]
  },
  {
   "cell_type": "markdown",
   "metadata": {},
   "source": [
    "<a id=\"section_referencias\"></a> \n",
    "## Referencias\n",
    "\n",
    "[volver a TOC](#section_toc)\n",
    "\n",
    "\n",
    "Python for Data Analysis. Wes McKinney. Cap 8.2\n",
    "\n",
    "https://pandas.pydata.org/pandas-docs/stable/user_guide/merging.html"
   ]
  }
 ],
 "metadata": {
  "kernelspec": {
   "display_name": "Python 3",
   "language": "python",
   "name": "python3"
  },
  "language_info": {
   "codemirror_mode": {
    "name": "ipython",
    "version": 3
   },
   "file_extension": ".py",
   "mimetype": "text/x-python",
   "name": "python",
   "nbconvert_exporter": "python",
   "pygments_lexer": "ipython3",
   "version": "3.7.6"
  }
 },
 "nbformat": 4,
 "nbformat_minor": 4
}

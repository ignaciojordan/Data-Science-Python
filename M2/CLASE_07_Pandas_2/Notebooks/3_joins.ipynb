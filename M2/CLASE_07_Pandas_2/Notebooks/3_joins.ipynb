{
 "cells": [
  {
   "cell_type": "code",
   "execution_count": null,
   "metadata": {},
   "outputs": [],
   "source": [
    "# initial setup\n",
    "try:\n",
    "    # settings colab:\n",
    "    import google.colab\n",
    "    \n",
    "    # si usan colab, deben cambiar el token de esta url\n",
    "    ! mkdir -p ../Data\n",
    "    # los que usan colab deben modificar el token de esta url:\n",
    "    ! wget -O ../Data/state-population.csv https://raw.githubusercontent.com/Digital-House-DATA/ds_blend_students_2020/master/M2/CLASE_07_Pandas_2/Data/state-population.csv?token=AA4GFHJSWCDF4ZWQKOIBQRC6WR7B6\n",
    "    ! wget -O ../Data/state-areas.csv https://raw.githubusercontent.com/Digital-House-DATA/ds_blend_students_2020/master/M2/CLASE_07_Pandas_2/Data/state-areas.csv?token=AA4GFHNVDHJQ74POQVV7KH26WR7FC\n",
    "    ! wget -O ../Data/state-abbrevs.csv https://raw.githubusercontent.com/Digital-House-DATA/ds_blend_students_2020/master/M2/CLASE_07_Pandas_2/Data/state-abbrevs.csv?token=AA4GFHNZV34U7PQETS35I3S6WR7IO\n",
    "    \n",
    "except ModuleNotFoundError:    \n",
    "    # settings local:\n",
    "    %run \"../../../common/0_notebooks_base_setup.py\""
   ]
  },
  {
   "cell_type": "markdown",
   "metadata": {},
   "source": [
    "---\n",
    "\n",
    "<img src='../../../common/logo_DH.png' align='left' width=35%/>\n"
   ]
  },
  {
   "cell_type": "markdown",
   "metadata": {},
   "source": [
    "# Pandas 2 - joins"
   ]
  },
  {
   "cell_type": "markdown",
   "metadata": {},
   "source": [
    "<a id=\"section_toc\"></a> \n",
    "## Tabla de Contenidos\n",
    "\n",
    "[Intro](#section_intro)\n",
    "\n",
    "$\\hspace{.5cm}$[`concat`](#section_concat)\n",
    "\n",
    "$\\hspace{.5cm}$[`append`](#section_append)\n",
    "\n",
    "$\\hspace{.5cm}$[`ignore_index=True`](#section_ignore_index)\n",
    "\n",
    "$\\hspace{.5cm}$[`merge`](#section_merge)\n",
    "\n",
    "$\\hspace{.5cm}$[`join`](#section_join)\n",
    "\n",
    "[Dataset](#section_dataset)\n",
    "\n",
    "[Problema](#section_problema)\n",
    "\n",
    "[Imports](#section_imports)\n",
    "\n",
    "[Ejercicios](#section_ejercicios)\n",
    "\n",
    "[Referencias](#section_referencias)\n",
    "\n",
    "---\n"
   ]
  },
  {
   "cell_type": "markdown",
   "metadata": {},
   "source": [
    "<a id=\"section_intro\"></a> \n",
    "## Intro\n",
    "\n",
    "[volver a TOC](#section_toc)\n",
    "\n",
    "\n",
    "Las operaciones de merge o join combinan datasets asociando sus filas de acuerdo a una o más keys.\n",
    "\n",
    "Estas operaciones son fundamentales en bases de datos relacionales.\n",
    "\n",
    "Pandas proporciona varias métodos para combinar fácilmente objetos de tipo Series o DataFrame.\n"
   ]
  },
  {
   "cell_type": "markdown",
   "metadata": {},
   "source": [
    "<a id=\"section_concat\"></a> \n",
    "### `concat`\n",
    "\n",
    "[volver a TOC](#section_toc)\n",
    "\n",
    "\n",
    "https://pandas.pydata.org/pandas-docs/stable/reference/api/pandas.concat.html\n",
    "\n",
    "La función `concat` concatena a lo largo de un eje (index o columns) uniendo o intersecando los valores de los índice .\n",
    "\n",
    "**Ejemplo 1**: \n",
    "\n",
    "Unimos los dos DatFrame por filas (axis=0 por default)\n",
    "\n",
    "`frames = [df1, df2, df3]`\n",
    "\n",
    "`result = pd.concat(frames)`\n",
    "\n",
    "![Image](img/merging_concat_basic.png)\n",
    "\n",
    "**Ejemplo 2**: \n",
    "\n",
    "Unimos los dos DataFrame por columnas (axis = 1). \n",
    "\n",
    "Las filas de igual índice en los DataFrame orginales forman una única fila en el DataFrame resultado. \n",
    "\n",
    "En este ejemplo los índices que coinciden son 2 y 3, el resto de las filas del DataFrame resultado se completan con null.\n",
    "\n",
    "Observemos que no se combinan las columnas de igual nombre.\n",
    "\n",
    "`pd.concat([df1, df4], axis=1, sort=False)`\n",
    "\n",
    "![Image](img/merging_concat_axis1.png)\n",
    "\n",
    "\n",
    "**Ejemplo 3**: \n",
    "\n",
    "Unimos los dos DataFrame por columnas (axis = 1) usando `inner` como valor del argumento `join`.\n",
    "\n",
    "`inner` indica que en el DataFrame resultado sólo están los registros (identificados por su índice) que pertenecen a los dos DataFrame originales.\n",
    "\n",
    "En este caso, sólo los registros de índice 2 y 3.\n",
    "\n",
    "`pd.concat([df1, df4], axis=1, join='inner')`\n",
    "\n",
    "![Image](img/merging_concat_axis1_inner.png)\n",
    "\n",
    "Los valores posibles del argumento `join` son `inner`, `outer`. `inner` devuelve los registros que son la **intersección** de los índices de los DataFrame originales, `outer` devuelve la **unión**.\n",
    "\n",
    "`outer` es el valor por default del argumento `join` del método `concat`.\n"
   ]
  },
  {
   "cell_type": "markdown",
   "metadata": {},
   "source": [
    "<a id=\"section_append\"></a> \n",
    "### `append`\n",
    "\n",
    "[volver a TOC](#section_toc)\n",
    "\n",
    "\n",
    "https://pandas.pydata.org/pandas-docs/stable/reference/api/pandas.DataFrame.append.html\n",
    "\n",
    "Este método es equivalente a concat con `axis = 0`\n",
    "\n",
    "**Ejemplo 1**:\n",
    "\n",
    "`df1.append(df2)`\n",
    "\n",
    "![Image](img/merging_append1.png)\n",
    "\n",
    "**Ejemplo 2**:\n",
    "\n",
    "Los registros de igual índice no se combinan en el DataFrame resultado\n",
    "\n",
    "`df1.append(df4, sort=False)`\n",
    "\n",
    "![Image](img/merging_append2.png)\n",
    "\n",
    "**Ejemplo 3**:\n",
    "\n",
    "append puede concatenar una lista de DataFrame\n",
    "\n",
    "`df1.append([df2, df3])`\n",
    "\n",
    "![Image](img/merging_append3.png)"
   ]
  },
  {
   "cell_type": "markdown",
   "metadata": {},
   "source": [
    "<a id=\"section_ignore_index\"></a> \n",
    "### `ignore_index=True` \n",
    "\n",
    "[volver a TOC](#section_toc)\n",
    "\n",
    "\n",
    "Si los valores de los índices de los DataFrame que estamos combinando no representan un dato relevante, podemos setear `ignore_index=True` y el índice del DataFrame resultado \"resetea\" los valores que traen los registros del indíce original.   \n",
    "\n",
    "Este argumento se puede usar tanto en `append` como `concat` \n",
    "\n",
    "`pd.concat([df1, df4], ignore_index=True, sort=False)`\n",
    "\n",
    "![Image](img/merging_concat_ignore_index.png)"
   ]
  },
  {
   "cell_type": "markdown",
   "metadata": {},
   "source": [
    "<a id=\"section_merge\"></a> \n",
    "### `merge`\n",
    "\n",
    "[volver a TOC](#section_toc)\n",
    "\n",
    "\n",
    "\n",
    "https://pandas.pydata.org/pandas-docs/stable/reference/api/pandas.merge.html\n",
    "\n",
    "`pd.merge(left, right, how='inner', on=None, left_on=None, right_on=None,\n",
    "         left_index=False, right_index=False, sort=True,\n",
    "         suffixes=('_x', '_y'), copy=True, indicator=False,\n",
    "         validate=None)`\n",
    "\n",
    "Los argumentos cuyos valores vamos a establecer frecuentemente son:\n",
    "\n",
    "* `left`: una instancia de DataFrame o Series\n",
    "\n",
    "* `right`: otra instancia de DataFrame o Series\n",
    "\n",
    "* `on`: columnas que usaremos como clave para combinar los registros. Deben estar presentes en ambos DataFrame. Si no se especifica el valor de este argumento y left_index y right_index son False, se inferirá que la intersección de las columnas de ambos DataFrame serán la clave del join\n",
    " \n",
    "* `left_on`: columnas pertenecientes al DataFrame de la izquierda que usaremos como clave para combinar los registros\n",
    "\n",
    "* `right_on`: columnas pertenecientes al DataFrame de la derecha que usaremos como clave para combinar los registros\n",
    "\n",
    "* `left_index`: Si es True, usaremos como clave el índice (etiquetas de las filas) del DataFrame de la izquierda \n",
    "\n",
    "* `right_index`: Si es True, usaremos como clave el índice (etiquetas de las filas) del DataFrame de la derecha \n",
    "\n",
    "* `how`: Uno de los siguientes valores 'left', 'right', 'outer', 'inner'. El valor por default es `inner`\n",
    "\n",
    "* `sort`: Si es True, ordena el DataFrame resultado en orden lexicográfico de los campos clave. El valor por default es True.\n",
    "\n",
    "* `suffixes`: Una tupla de string que serán los sufijos de las columnas que tengan el mismo nombre en ambos DataFrame\n",
    "\n",
    "\n",
    "#### Valores posibles del argumento `how`\n",
    "\n",
    "El argumento how especifica cómo determinar qué claves se incluirán en el DataFrame resultado. \n",
    "\n",
    "Si una clave no aparece en alguno de los DataFrame, los valores en el DataFrame que sí la tiene se combinará con valores NA.\n",
    "\n",
    "* `inner`: las claves en el DataFrame resultado son la intersección de las claves del DataFrame izquierdo y del derecho\n",
    "\n",
    "* `outer`: las claves en el DataFrame resultado son la unión de las claves del DataFrame izquierdo y del derecho\n",
    "\n",
    "* `left`: las claves en el DataFrame resultado son las del DataFrame izquierdo\n",
    "\n",
    "* `right`: las claves en el DataFrame resultado son las del DataFrame derecho\n",
    "\n",
    "**Ejemplo 1**:\n",
    "\n",
    "El valor de `how` por default es `inner`. \n",
    "\n",
    "El DataFrame resultado tiene las claves que resultan de la intersección de las claves de los DataFrame left y right.\n",
    "\n",
    "`pd.merge(left, right, on='key')`\n",
    "\n",
    "![Image](img/merging_merge_on_key.png)\n",
    "\n",
    "**Ejemplo 2**:\n",
    "\n",
    "El valor de `how` por default es `inner`. Múltiples keys.\n",
    "\n",
    "`pd.merge(left, right, on=['key1', 'key2'])`\n",
    "\n",
    "![Image](img/merging_merge_on_key_multiple.png)\n",
    "\n",
    "**Ejemplo 3**:\n",
    "\n",
    "Left join.\n",
    "\n",
    "El DataFrame resultado tiene las claves del DataFrame left.\n",
    "\n",
    "Obervemos que la clave (K1, K0) aparece en dos registros del DataFrame resultado. Esto ocurre porque el registro con esa clave en left se combina con dos registros (con esa clave) en right\n",
    "\n",
    "`pd.merge(left, right, how='left', on=['key1', 'key2'])`\n",
    "\n",
    "![Image](img/merging_merge_on_key_left.png)\n",
    "\n",
    "**Ejemplo 4**:\n",
    "\n",
    "Right join.\n",
    "\n",
    "El DataFrame resultado tiene las claves del DataFrame right.\n",
    "\n",
    "Obervemos que la clave (K1, K0) aparece en dos registros del DataFrame resultado porque está presente dos veces en el DataFrame right.\n",
    "\n",
    "![Image](img/merging_merge_on_key_right.png)\n",
    "\n",
    "**Ejemplo 5**:\n",
    "\n",
    "Outer join.\n",
    "\n",
    "El DataFrame resultado tiene las claves que resultan de la unión de las claves de los DataFrame left y right.\n",
    "\n",
    "![Image](img/merging_merge_on_key_outer.png)"
   ]
  },
  {
   "cell_type": "markdown",
   "metadata": {},
   "source": [
    "<a id=\"section_join\"></a> \n",
    "### `join`\n",
    "\n",
    "[volver a TOC](#section_toc)\n",
    "\n",
    "\n",
    "https://pandas.pydata.org/pandas-docs/stable/reference/api/pandas.DataFrame.join.html\n",
    "\n",
    "Combina las columnas de dos DataFrame usando los índices como claves.\n",
    "\n",
    "**Ejemplo 1**:\n",
    "\n",
    "EL valor por default de `how` es `left`\n",
    "\n",
    "`left.join(right)`\n",
    "\n",
    "![Image](img/merging_join.png)\n",
    "\n",
    "**Ejemplo 2**:\n",
    "\n",
    "`left.join(right, how='outer')`\n",
    "\n",
    "![Image](img/merging_join_outer.png)\n",
    "\n",
    "**Ejemplo 3**:\n",
    "\n",
    "`left.join(right, how='inner')`\n",
    "\n",
    "![Image](img/merging_join_inner.png)"
   ]
  },
  {
   "cell_type": "markdown",
   "metadata": {},
   "source": [
    "<a id=\"section_dataset\"></a> \n",
    "## Dataset\n",
    "\n",
    "[volver a TOC](#section_toc)\n",
    "\n",
    "\n",
    "\n",
    "Tenemos datos de población y área por estado en EEUU, divididos en tres archivos csv:\n",
    "* state-abbrevs.csv\n",
    "* state-areas.csv\n",
    "* state-population.csv\n"
   ]
  },
  {
   "cell_type": "markdown",
   "metadata": {},
   "source": [
    "<a id=\"section_problema\"></a> \n",
    "## Problema\n",
    "\n",
    "[volver a TOC](#section_toc)\n",
    "\n",
    "Queremos crear un ranking de los estados por su densidad de población total en el año 2010."
   ]
  },
  {
   "cell_type": "markdown",
   "metadata": {},
   "source": [
    "<a id=\"section_imports\"></a> \n",
    "## Imports\n",
    "\n",
    "[volver a TOC](#section_toc)\n"
   ]
  },
  {
   "cell_type": "code",
   "execution_count": null,
   "metadata": {},
   "outputs": [],
   "source": [
    "import pandas as pd\n",
    "import numpy as np"
   ]
  },
  {
   "cell_type": "markdown",
   "metadata": {},
   "source": [
    "<a id=\"section_ejercicios\"></a> \n",
    "## Ejercicios\n",
    "\n",
    "[volver a TOC](#section_toc)\n",
    "\n",
    "\n",
    "### Ejercicio 1\n",
    "\n",
    "Leamos los datos en tres DataFrame, veamos los primeros registros de cada uno."
   ]
  },
  {
   "cell_type": "code",
   "execution_count": null,
   "metadata": {},
   "outputs": [],
   "source": [
    "data_abbrevs = pd.read_csv(\"../Data/state-abbrevs.csv\", sep=\",\")\n",
    "data_abbrevs.head(3)"
   ]
  },
  {
   "cell_type": "code",
   "execution_count": null,
   "metadata": {},
   "outputs": [],
   "source": [
    "data_areas = pd.read_csv(\"../Data/state-areas.csv\", sep=\",\")\n",
    "data_areas.head(3)"
   ]
  },
  {
   "cell_type": "code",
   "execution_count": null,
   "metadata": {},
   "outputs": [],
   "source": [
    "data_population = pd.read_csv(\"../Data/state-population.csv\", sep=\",\")\n",
    "data_population.head(3)"
   ]
  },
  {
   "cell_type": "markdown",
   "metadata": {},
   "source": [
    "## Ejercicio 2\n",
    "\n",
    "Filtremos los datos de data_population, creando un nuevo DataFrame con los datos del año 2010"
   ]
  },
  {
   "cell_type": "code",
   "execution_count": null,
   "metadata": {},
   "outputs": [],
   "source": [
    "data_population_2010_mask = data_population.year == 2010\n",
    "data_population_2010 = data_population.loc[data_population_2010_mask, :]\n",
    "data_population_2010.head(3)"
   ]
  },
  {
   "cell_type": "markdown",
   "metadata": {},
   "source": [
    "## Ejercicio 3\n",
    "\n",
    "Para calcular la densidad de población tenemos que dividir los datos de la columna population de data_population_2010 por los datos de la columna area de data_areas. \n",
    "\n",
    "El problema es que estas dos tablas no tienen ningún campo en común como para que combinemos sus registros con un merge.\n",
    "\n",
    "Para eso, vamos a usar data_abbrevs que vincula las dos formas de identificar a los estados.\n",
    "\n",
    "Comencemos haciendo un merge entre data_population y data_abbrevs, usando un left para asegurarnos de que no perdemos ningún registro de data_population"
   ]
  },
  {
   "cell_type": "code",
   "execution_count": null,
   "metadata": {},
   "outputs": [],
   "source": [
    "data_population_2010_abbrevs = pd.merge(data_population_2010, data_abbrevs, \\\n",
    "                                   left_on = \"state/region\", right_on = \"abbreviation\", \\\n",
    "                                   how=\"left\")\n",
    "data_population_2010_abbrevs.head(3)"
   ]
  },
  {
   "cell_type": "markdown",
   "metadata": {},
   "source": [
    "Ahora combinemos los datos de data_population_2010_abbrevs con data_areas, usando un inner join porque queremos estar seguros de tener los datos de población y de superficie entonces necesitamos que sí o sí que haya registros en las dos tablas."
   ]
  },
  {
   "cell_type": "code",
   "execution_count": null,
   "metadata": {},
   "outputs": [],
   "source": [
    "data_population_2010_abbrevs_areas = pd.merge(data_population_2010_abbrevs, data_areas, \n",
    "                                             on = \"state\", how = \"inner\")\n",
    "data_population_2010_abbrevs_areas.head(3)"
   ]
  },
  {
   "cell_type": "markdown",
   "metadata": {},
   "source": [
    "## Ejercicio 4\n",
    "\n",
    "Calculemos la densidad dividiendo population por area"
   ]
  },
  {
   "cell_type": "code",
   "execution_count": null,
   "metadata": {},
   "outputs": [],
   "source": [
    "data_population_2010_abbrevs_areas[\"density\"] = data_population_2010_abbrevs_areas.population / data_population_2010_abbrevs_areas[\"area (sq. mi)\"]\n",
    "data_population_2010_abbrevs_areas.head(3)"
   ]
  },
  {
   "cell_type": "markdown",
   "metadata": {},
   "source": [
    "## Ejercicio 5\n",
    "\n",
    "Seleccionemos los registros de valor \"total\"  en el campo age y veamos los nombre de los estados ordenados de mayor a menor por densidad"
   ]
  },
  {
   "cell_type": "code",
   "execution_count": null,
   "metadata": {},
   "outputs": [],
   "source": [
    "data_population_2010_abbrevs_areas_age_mask = data_population_2010_abbrevs_areas.ages == \"total\"\n",
    "data_population_2010_abbrevs_areas_age = data_population_2010_abbrevs_areas.loc[data_population_2010_abbrevs_areas_age_mask, :]\n",
    "data_population_2010_abbrevs_areas_age_sort = data_population_2010_abbrevs_areas_age.sort_values(by = \"density\", ascending = False)\n",
    "result = data_population_2010_abbrevs_areas_age_sort[[\"state\", \"density\"]]\n",
    "result\n"
   ]
  },
  {
   "cell_type": "markdown",
   "metadata": {},
   "source": [
    "## Ejercicio 6 \n",
    "\n",
    "Verifiquemos que tenemos un único registro por estado.\n",
    "\n",
    "Para esos veamos que la cantidad de valores únicos en el campo estado del DataFrame result es igual a la cantidad de filas de ese DataFrame"
   ]
  },
  {
   "cell_type": "code",
   "execution_count": null,
   "metadata": {},
   "outputs": [],
   "source": [
    "len(result.state.unique()) == result.shape[0]"
   ]
  },
  {
   "cell_type": "markdown",
   "metadata": {},
   "source": [
    "## Ejercicio 7 - Tarea\n",
    "\n",
    "Repitamos este mismo análisis usando join en lugar de merge\n",
    "\n",
    "Ayuda: \n",
    "\n",
    "Recordemos que join usas los índices de los DataFrame. Para eso vamos a tener que ir modificándolos de acuerdo a los DataFrame que estemos combinando. Los métodos set_index y reset_index les van a servir.\n",
    "\n",
    "https://pandas.pydata.org/pandas-docs/stable/reference/api/pandas.DataFrame.set_index.html\n",
    "\n",
    "https://pandas.pydata.org/pandas-docs/stable/reference/api/pandas.DataFrame.reset_index.html\n"
   ]
  },
  {
   "cell_type": "markdown",
   "metadata": {},
   "source": [
    "---\n",
    "<a id=\"section_referencias\"></a> \n",
    "## Referencias\n",
    "\n",
    "[volver a TOC](#section_toc)\n",
    "\n",
    "\n",
    "Python for Data Analysis. Wes McKinney. Cap 8.2\n",
    "\n",
    "https://pandas.pydata.org/pandas-docs/stable/user_guide/merging.html\n",
    "\n"
   ]
  }
 ],
 "metadata": {
  "kernelspec": {
   "display_name": "Python 3",
   "language": "python",
   "name": "python3"
  },
  "language_info": {
   "codemirror_mode": {
    "name": "ipython",
    "version": 3
   },
   "file_extension": ".py",
   "mimetype": "text/x-python",
   "name": "python",
   "nbconvert_exporter": "python",
   "pygments_lexer": "ipython3",
   "version": "3.7.6"
  }
 },
 "nbformat": 4,
 "nbformat_minor": 4
}

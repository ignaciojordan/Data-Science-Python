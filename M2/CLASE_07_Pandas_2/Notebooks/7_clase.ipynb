{
 "cells": [
  {
   "cell_type": "code",
   "execution_count": null,
   "metadata": {},
   "outputs": [],
   "source": [
    "# initial setup\n",
    "try:\n",
    "    # settings colab:\n",
    "    import google.colab\n",
    "\n",
    "    # si usan colab, deben cambiar el token de esta url\n",
    "    ! mkdir -p ../Data\n",
    "    # los que usan colab deben modificar el token de esta url:\n",
    "    ! wget -O ../Data/departamentos-en-venta-2016.csv https://raw.githubusercontent.com/Digital-House-DATA/ds_blend_students_2020/master/M2/CLASE_07_Pandas_2/Data/departamentos-en-venta-2016.csv?token=AA4GFHO2DQ2XN4MJP3FHTLC6WSHME\n",
    "    \n",
    "except ModuleNotFoundError:    \n",
    "    # settings local:\n",
    "    %run \"../../../common/0_notebooks_base_setup.py\""
   ]
  },
  {
   "cell_type": "markdown",
   "metadata": {},
   "source": [
    "---\n",
    "\n",
    "<img src='../../../common/logo_DH.png' align='left' width=35%/>\n"
   ]
  },
  {
   "cell_type": "markdown",
   "metadata": {},
   "source": [
    "# Pandas 2\n",
    "\n",
    "## Introducción\n",
    "\n",
    "\n",
    "En esta notebook vamos a trabajar con los conceptos de agregación a través de `groupby` y `pivot tables`. \n",
    "\n",
    "Analizaremos características de precio y superficie, por barrio y por comuna, de inmuebles en venta en la Ciudad de Buenos Aires en el año 2016.\n"
   ]
  },
  {
   "cell_type": "markdown",
   "metadata": {},
   "source": [
    "## Dataset\n",
    "\n",
    "El Gobierno de la Ciudad de Buenos Aires disponibiliza algunos datasets para acceso público en la url \n",
    "https://data.buenosaires.gob.ar/\n",
    "\n",
    "Allí encontramos datos de propiedades inmuebles en venta, separados por año\n",
    "https://data.buenosaires.gob.ar/dataset/departamentos-venta\n",
    "\n",
    "En esta clase vamos a usar un subconjunto de los datos de \"Departamentos en venta 2016\" que descargamos desde aquí\n",
    "https://data.buenosaires.gob.ar/dataset/departamentos-venta/archivo/juqdkmgo-7031-resource\n",
    "\n",
    "En la carpeta Data de esta clase ya tenemos descargardo ese dataset, el nombre del archivo es **departamentos-en-venta-2016.csv**."
   ]
  },
  {
   "cell_type": "markdown",
   "metadata": {},
   "source": [
    "## Imports"
   ]
  },
  {
   "cell_type": "code",
   "execution_count": null,
   "metadata": {},
   "outputs": [],
   "source": [
    "import pandas as pd\n",
    "import numpy as np"
   ]
  },
  {
   "cell_type": "markdown",
   "metadata": {},
   "source": [
    "## Ejercicio 1  - Importar \n",
    "\n",
    "Leamos los datos del archivo departamentos-en-venta-2016.csv\n",
    "\n",
    "Veamos cuántos registros tiene y de qué tipos son los datos de cada columna. \n",
    "\n",
    "Veamos los primeros registros para verificar que los datos fueron importados correctamente."
   ]
  },
  {
   "cell_type": "code",
   "execution_count": null,
   "metadata": {},
   "outputs": [],
   "source": [
    "import chardet\n",
    "def get_encoding_type(csv_path):\n",
    "    rawdata = open(csv_path, 'rb').read()\n",
    "    result = chardet.detect(rawdata)\n",
    "    return result.get('encoding')"
   ]
  },
  {
   "cell_type": "code",
   "execution_count": null,
   "metadata": {},
   "outputs": [],
   "source": [
    "data_location = \"../Data/departamentos-en-venta-2016.csv\""
   ]
  },
  {
   "cell_type": "code",
   "execution_count": null,
   "metadata": {},
   "outputs": [],
   "source": []
  },
  {
   "cell_type": "code",
   "execution_count": null,
   "metadata": {},
   "outputs": [],
   "source": []
  },
  {
   "cell_type": "code",
   "execution_count": null,
   "metadata": {},
   "outputs": [],
   "source": []
  },
  {
   "cell_type": "code",
   "execution_count": null,
   "metadata": {},
   "outputs": [],
   "source": []
  },
  {
   "cell_type": "markdown",
   "metadata": {},
   "source": [
    "## Ejercicio 2  - Promedio\n",
    "\n",
    "¿Cuál es el promedio valor del precio por $m^2$ en dolares?\n",
    "\n",
    "Para responder esta pregunta vamos a:\n",
    "\n",
    "1) Crear un obeto Series que resulte de limpiar los valores del campo PRECIOTEXT. Tenemos que eliminar los símbolos \"U\\\\$S\" y \".\"\n",
    "\n",
    "2) En la instancia de Series resultado del punto 1) reemplazamos los valores en pesos ('\\\\$') por nulos (para que nos ensucien los datos de promedio). \n",
    "\n",
    "3) Crear una columna nueva de tipo numérico en el DataFrame (PRECIOTEXT_CLEAN) y asignar los valores de resultado de 2)\n",
    "\n",
    "3) Crear una columna de tipo numérico (PRECIOTEXTM) que tenga el precio del m2 en dolares calculado como el valor de PRECIOTEXT_CLEAN / M2\n",
    "\n",
    "4) Calcular la media de los valores de PRECIOTEXTM\n"
   ]
  },
  {
   "cell_type": "code",
   "execution_count": null,
   "metadata": {},
   "outputs": [],
   "source": []
  },
  {
   "cell_type": "markdown",
   "metadata": {},
   "source": [
    "## Ejercicio 3  - Promedio por cuartil\n",
    "¿Cuál es el precio promedio del metro cuadrado en dolares para cada cuartil de superficie (campo M2) de las viviendas en CABA?\n",
    "\n",
    "Comenzamos calculando los cuartilos de superficie."
   ]
  },
  {
   "cell_type": "code",
   "execution_count": null,
   "metadata": {},
   "outputs": [],
   "source": []
  },
  {
   "cell_type": "code",
   "execution_count": null,
   "metadata": {},
   "outputs": [],
   "source": []
  },
  {
   "cell_type": "markdown",
   "metadata": {},
   "source": [
    "## Ejercicio 3  - Promedio por barrio\n",
    "\n",
    "¿Cuál es la media de precio por metro cuadrado en dolares para cada barrio de la CABA? \n",
    "\n",
    "Ordenemos los datos para indicar cuál es el barrio más caro.\n",
    "\n",
    "Resolvamos el cálculo tanto con groupby como con pivot tables"
   ]
  },
  {
   "cell_type": "code",
   "execution_count": null,
   "metadata": {},
   "outputs": [],
   "source": []
  },
  {
   "cell_type": "code",
   "execution_count": null,
   "metadata": {},
   "outputs": [],
   "source": []
  },
  {
   "cell_type": "markdown",
   "metadata": {},
   "source": [
    "## Ejercicio 4  - Dispersión de precios por barrio\n",
    "\n",
    "**4.a** ¿En qué barrio hay una mayor dispersión en el valor del metro cuadrado en dolares? Ordenar los valores para identificar el mayor.\n",
    "\n",
    "Ayuda: Calculamos dispersión como el desvío estandar de un grupo dividido la media de ese grupo grupo\n",
    "\n",
    "Vamos a calcular esto de dos maneras distintas:\n",
    "\n",
    "1) Calculamos la instancia de Series que tiene la media por grupo. Calculamos la instancia de Series que tiene el desvío estandar por grupo. Las dividimos. Ordenamos\n",
    "\n",
    "2) Calculamos los grupos y usamos una función lambda que calcule la media, desvío estandar y divida. Ordenamos.\n",
    "\n",
    "**4.b** Cuál les parece que será más eficiente? Probemoslo con %timeit, para eso definamos dos funciones que encapsulen el código de 1) y 2).\n",
    "\n",
    "**4.c** ¿Por qué Paternal está devolviendo NaN? ¿Y por qué Villa Soldati devuelve 0?\n",
    "\n",
    "Nota: tengan en cuenta que `mean` y `std` sobre una instancia de `DataFrameGroupBy` excluye los valores nulos\n",
    "\n",
    "https://pandas.pydata.org/pandas-docs/stable/reference/api/pandas.core.groupby.GroupBy.mean.html\n",
    "\n",
    "https://pandas.pydata.org/pandas-docs/stable/reference/api/pandas.core.groupby.GroupBy.std.html\n",
    "\n",
    "\n",
    "\n"
   ]
  },
  {
   "cell_type": "code",
   "execution_count": null,
   "metadata": {},
   "outputs": [],
   "source": [
    "\n",
    "    "
   ]
  },
  {
   "cell_type": "code",
   "execution_count": null,
   "metadata": {},
   "outputs": [],
   "source": []
  },
  {
   "cell_type": "markdown",
   "metadata": {},
   "source": [
    "Vamos a ver cuánto da si usamos la lambda directamente, sin pasar por dispersion_2:"
   ]
  },
  {
   "cell_type": "code",
   "execution_count": null,
   "metadata": {},
   "outputs": [],
   "source": []
  },
  {
   "cell_type": "markdown",
   "metadata": {},
   "source": [
    "Veamos por qué Paternal devuelve NaN y Villa Soldati que devuelve 0.\n"
   ]
  },
  {
   "cell_type": "code",
   "execution_count": null,
   "metadata": {},
   "outputs": [],
   "source": []
  },
  {
   "cell_type": "code",
   "execution_count": null,
   "metadata": {},
   "outputs": [],
   "source": []
  },
  {
   "cell_type": "markdown",
   "metadata": {},
   "source": [
    "## Ejercicio 5  - Superficie por barrio\n",
    "\n",
    "Calculemos la mediana de superficie por barrio para determinar en qué barrio los departamentos son más grandes.\n",
    "\n",
    "Hagamos el cálculo con pivot_table y groupby\n"
   ]
  },
  {
   "cell_type": "code",
   "execution_count": null,
   "metadata": {},
   "outputs": [],
   "source": []
  },
  {
   "cell_type": "markdown",
   "metadata": {},
   "source": [
    "## Ejercicio 6  - Tabla resumen\n",
    "\n",
    "Generemos un `DataFrame` que agregue la información del precio por M2 en dolares (`PRECIOTEXTM`), ambientes (`AMBIENTES`) a nivel de `COMUNA` y barrio (`BARRIO`). Proporcione información tanto de la tendencia central como de la dispersión de ambas distribuciones.\n",
    "\n",
    "Ayuda: usar pivot_table"
   ]
  },
  {
   "cell_type": "code",
   "execution_count": null,
   "metadata": {},
   "outputs": [],
   "source": []
  }
 ],
 "metadata": {
  "kernelspec": {
   "display_name": "Python 3",
   "language": "python",
   "name": "python3"
  },
  "language_info": {
   "codemirror_mode": {
    "name": "ipython",
    "version": 3
   },
   "file_extension": ".py",
   "mimetype": "text/x-python",
   "name": "python",
   "nbconvert_exporter": "python",
   "pygments_lexer": "ipython3",
   "version": "3.7.6"
  }
 },
 "nbformat": 4,
 "nbformat_minor": 4
}

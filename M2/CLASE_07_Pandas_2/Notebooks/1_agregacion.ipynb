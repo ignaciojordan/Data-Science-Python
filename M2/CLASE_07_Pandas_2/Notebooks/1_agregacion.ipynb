{
 "cells": [
  {
   "cell_type": "code",
   "execution_count": null,
   "metadata": {},
   "outputs": [],
   "source": [
    "# initial setup\n",
    "try:\n",
    "    # settings colab:\n",
    "    import google.colab\n",
    "    \n",
    "    # si usan colab, deben cambiar el token de esta url\n",
    "    ! mkdir -p ../Data\n",
    "    # los que usan colab deben modificar el token de esta url:\n",
    "    ! wget -O ../Data/resultado-de-encuestas-2017-2018.csv https://raw.githubusercontent.com/Digital-House-DATA/ds_blend_students_2020/master/M2/CLASE_07_Pandas_2/Data/resultado-de-encuestas-2017-2018.csv?token=AA4GFHO3EKGWGILBCV4BISC6WR6B4\n",
    "    \n",
    "except ModuleNotFoundError:    \n",
    "    # settings local:\n",
    "    %run \"../../../common/0_notebooks_base_setup.py\""
   ]
  },
  {
   "cell_type": "markdown",
   "metadata": {},
   "source": [
    "---\n",
    "\n",
    "<img src='../../../common/logo_DH.png' align='left' width=35%/>\n"
   ]
  },
  {
   "cell_type": "markdown",
   "metadata": {},
   "source": [
    "# Pandas 2 - Split, Apply, Combine"
   ]
  },
  {
   "cell_type": "markdown",
   "metadata": {},
   "source": [
    "<a id=\"section_toc\"></a> \n",
    "## Tabla de Contenidos\n",
    "\n",
    "[Intro](#section_intro)\n",
    "\n",
    "[Dataset](#section_dataset)\n",
    "\n",
    "[Problema](#section_problema)\n",
    "\n",
    "[GroupBy](#section_groupby)\n",
    "\n",
    "[Agregaciones simples](#section_agregaciones_simples)\n",
    "\n",
    "[¿Cómo construimos grupos?](#section_construccion_grupos)\n",
    "\n",
    "$\\hspace{.5cm}$[DataFrameGroupBy](#section_dataframegroupby)\n",
    "\n",
    "$\\hspace{.5cm}$[Groupby con diccionarios y series como key](#section_groupby_dict_series)\n",
    "\n",
    "$\\hspace{.5cm}$[Groupby con funciones](#section_groupby_func)\n",
    "\n",
    "[¿Qué operaciones podemos hacer sobre grupos?](#section_operaciones_grupos)\n",
    "\n",
    "$\\hspace{.5cm}$[Estadística descriptiva sobre grupos](#section_estadistica_grupos)\n",
    "\n",
    "$\\hspace{.5cm}$[Indices jerárquicos](#section_indices_jerarquicos)\n",
    "\n",
    "$\\hspace{.5cm}$[Aggregate, transform, filter](#section_aggregate_transform_filter)\n",
    "\n",
    "$\\hspace{1cm}$[Transformación](#section_transformacion)\n",
    "\n",
    "$\\hspace{1cm}$[Filtro](#section_filtro)\n",
    "\n",
    "$\\hspace{1cm}$[Apply](#section_apply)\n",
    "\n",
    "\n",
    "---\n"
   ]
  },
  {
   "cell_type": "markdown",
   "metadata": {},
   "source": [
    "<a id=\"section_intro\"></a> \n",
    "## Intro\n",
    "\n",
    "[volver a TOC](#section_toc)\n",
    "\n",
    "\n",
    "Separar un conjunto de datos en categorías, y aplicar una función a cada grupo, que puede ser de agregación, transformación o filtro, es un paso muy frecuente en un flujo de trabajo de análisis de datos.\n",
    "\n",
    "Después de cargar y preparar un conjunto de datos, es posible que debamos calcular estadísticas de grupo o posiblemente tablas dinámicas para generar informes o visualizaciones.\n",
    "\n",
    "`pandas` provee métodos que nos permiten realizar estas tareas de forma natural.\n",
    "\n",
    "En estas guías aprenderemos a \n",
    "\n",
    "* Dividir un objeto `pandas` en partes usando una o más keys\n",
    "\n",
    "* Calcular medidas de resúmen sobre grupos, como cantidad, media, desvío estandar, o cualquier función definida por el usuario\n",
    "\n",
    "* Aplicar transformaciones por grupos.\n",
    "\n",
    "* Construir tablas pivot\n"
   ]
  },
  {
   "cell_type": "markdown",
   "metadata": {},
   "source": [
    "<a id=\"section_dataset\"></a> \n",
    "## Dataset\n",
    "\n",
    "[volver a TOC](#section_toc)\n",
    "\n",
    "\n",
    "El GCBA realiza encuestas a los turistas que se acercan a los centros de atención. Se pregunta el motivo de la consulta, los días que dura el viaje, el país de origen, entre otras cosas.\n",
    "\n",
    "El dataset es de acceso público en el portal de datos abiertos del GCBA.\n",
    "\n",
    "https://data.buenosaires.gob.ar/dataset/encuesta-centros-atencion-turistica-cat\n",
    "\n",
    "En esta guía vamos a usar el dataset Resultado de encuestas en Centros de Atención Turística (CAT) en 2017-2018\n",
    "\n",
    "https://data.buenosaires.gob.ar/dataset/encuesta-centros-atencion-turistica-cat/archivo/juqdkmgo-942-resource    "
   ]
  },
  {
   "cell_type": "markdown",
   "metadata": {},
   "source": [
    "---\n",
    "<a id=\"section_problema\"></a> \n",
    "## Problema\n",
    "\n",
    "[volver a TOC](#section_toc)\n",
    "\n",
    "Usando los datos de las consultas en las oficinas de turismo de la Ciudad de Buenos Aires, vamos a responder preguntas sobre el país de orígen de los turistas, algunas medidas estadísticas sobre cantidad de días de estadía en la ciudad y cantidad de visitantes.\n"
   ]
  },
  {
   "cell_type": "markdown",
   "metadata": {},
   "source": [
    "---\n",
    "\n",
    "<a id=\"section_groupby\"></a> \n",
    "## GroupBy\n",
    "\n",
    "[volver a TOC](#section_toc)\n",
    "\n",
    "\n",
    "\n",
    "Podemos describir las operaciones sobre grupos con el término *split-apply-combine*\n",
    "\n",
    "En la primera etapa del proceso, los datos en un objeto `pandas` (una instancia de `Series` o de `DataFrame`) se dividen en grupos (*split*) en base a una o más keys que definimos. Esta división se lleva a cabo por filas (axis = 0) o por columnas (axis = 1).\n",
    "\n",
    "Como segunda etapa, aplicamos una función a cada uno de los grupos (*apply*) dando como resultado un nuevo valor por grupo.\n",
    "\n",
    "Como último paso, los resultados de la aplicación de la función en cada uno de los grupos se combina en un objeto resultado (*combine*).\n",
    "\n",
    "\n",
    "![Image](img/split_apply_combine.png)\n",
    "\n",
    "\n",
    "La claves por las que agrupamos pueden especificarse de varias formas distintas:\n",
    "\n",
    "* Una lista o numpy array del mismo tamaño que el eje seleccionado\n",
    "\n",
    "* Para objetos DataFrame, un string que indica el nombre de columna por la que vamos a agrupar.\n",
    "\n",
    "* Para objetos DataFrame, un string que indica el nombre de index por el que vamos a agrupar.\n",
    "\n",
    "* Un diccionario o Series que establezca un mapeo entre un valor y el nombre del grupo\n",
    "\n",
    "* Una función python que se evaluará en cada una de las etiquetas del eje\n",
    "\n",
    "* Una lista con cualquiera de las opciones de arriba.\n",
    "\n",
    "\n",
    "Observemos que el resultado de cada una de esas opciones es **producir un array de valores que usaremos para dividir** el objeto Series o DataFrame\n"
   ]
  },
  {
   "cell_type": "markdown",
   "metadata": {},
   "source": [
    "---\n",
    "\n",
    "Vamos a leer los datos de la encuesta de turismo del GCBA, ver de qué tamaño es el DataFrame, qué columnas tiene, de qué tipo de datos son, y los primeros registros leídos."
   ]
  },
  {
   "cell_type": "code",
   "execution_count": null,
   "metadata": {},
   "outputs": [],
   "source": [
    "import pandas as pd\n",
    "import numpy as np"
   ]
  },
  {
   "cell_type": "code",
   "execution_count": null,
   "metadata": {},
   "outputs": [],
   "source": [
    "# low_memorybool, default True\n",
    "# Internally process the file in chunks, resulting in lower memory use while parsing, \n",
    "# but possibly mixed type inference. To ensure no mixed types either set False, \n",
    "# or specify the type with the dtype parameter. \n",
    "# Note that the entire file is read into a single DataFrame regardless, \n",
    "# use the chunksize or iterator parameter to return the data in chunks. (Only valid with C parser).\n",
    "\n",
    "data = pd.read_csv(\"../Data/resultado-de-encuestas-2017-2018.csv\", sep = \",\", low_memory=False) \n",
    "print(data.shape)\n",
    "print(data.columns)\n",
    "print(data.dtypes)\n",
    "data.head(3)"
   ]
  },
  {
   "cell_type": "markdown",
   "metadata": {},
   "source": [
    "Veamos qué pocentaje de registros null hay en cada columna"
   ]
  },
  {
   "cell_type": "code",
   "execution_count": null,
   "metadata": {},
   "outputs": [],
   "source": [
    "data.isnull().sum() / data.shape[0]"
   ]
  },
  {
   "cell_type": "markdown",
   "metadata": {},
   "source": [
    "Vemos que hay varias columnas con un porcentaje muy alto de valores nulos."
   ]
  },
  {
   "cell_type": "markdown",
   "metadata": {},
   "source": [
    "---\n",
    "\n",
    "<a id=\"section_agregaciones_simples\"></a> \n",
    "## Agregaciones simples\n",
    "\n",
    "[volver a TOC](#section_toc)\n",
    "\n",
    "\n"
   ]
  },
  {
   "cell_type": "markdown",
   "metadata": {},
   "source": [
    "### Pregunta 1:\n",
    "\n",
    "La columna pernoctaciones es de tipo numérico (float64), calculemos cuántos días en total y en promedio dura el viaje de las personas que se acercaron a estos centros de atención.\n"
   ]
  },
  {
   "cell_type": "code",
   "execution_count": null,
   "metadata": {},
   "outputs": [],
   "source": [
    "pernoctaciones_serie = data.pernoctaciones\n",
    "print(\"duración promedio del viaje\", pernoctaciones_serie.mean().round(2))\n",
    "print(\"duración total del viaje\", pernoctaciones_serie.sum())"
   ]
  },
  {
   "cell_type": "markdown",
   "metadata": {},
   "source": [
    "### Pregunta 2:\n",
    "\n",
    "**2.a** ¿Cuántos y cuáles son los motivos de consulta?\n",
    "\n",
    "Vamos a analizar el campo `motivo_consulta` que no tiene valores nulos.\n",
    "\n",
    "Ayuda: `value_counts`\n",
    "https://pandas.pydata.org/pandas-docs/stable/reference/api/pandas.Series.value_counts.html\n",
    "\n",
    "**2.b** ¿Cuáles son los 5 motivos más consultados?\n",
    "\n",
    "Ayuda: Indexemos la serie ordenda que es resultado de value_counts \n",
    "\n",
    "(value_counts devuelve la serie ordenada).\n",
    "\n"
   ]
  },
  {
   "cell_type": "code",
   "execution_count": null,
   "metadata": {},
   "outputs": [],
   "source": [
    "motivos = data.motivo_consulta.value_counts()\n",
    "motivos.head(3)"
   ]
  },
  {
   "cell_type": "code",
   "execution_count": null,
   "metadata": {},
   "outputs": [],
   "source": [
    "motivos_top5 = motivos[0:5]\n",
    "motivos_top5"
   ]
  },
  {
   "cell_type": "markdown",
   "metadata": {},
   "source": [
    "### Pregunta 3:\n",
    "\n",
    "Usando el método `describe` evaluemos las columnas pasajeros y pernoctaciones\n",
    "\n",
    "Este método nos devuelve un DataFrame, usando ese resultado respondamos cuál es la media de cantidad de pasajeros.\n",
    "\n",
    "https://pandas.pydata.org/pandas-docs/stable/reference/api/pandas.DataFrame.describe.html"
   ]
  },
  {
   "cell_type": "code",
   "execution_count": null,
   "metadata": {},
   "outputs": [],
   "source": [
    "medidas = data[[\"pasajeros\", \"pernoctaciones\"]].describe()\n",
    "print(type(medidas))\n",
    "print(\"media cantidad de pasajeros: \", medidas.loc[\"mean\", \"pasajeros\"].round(2))\n",
    "medidas"
   ]
  },
  {
   "cell_type": "markdown",
   "metadata": {},
   "source": [
    "Vemos que el máximo de pernoctaciones es 690 y el máximo de pasajeros es 150. \n",
    "\n",
    "Veamos qué registros tienen estos valores. Y tratemos de entender si corresponden o no a un error."
   ]
  },
  {
   "cell_type": "code",
   "execution_count": null,
   "metadata": {},
   "outputs": [],
   "source": [
    "data_pasajeros_150_mask = data.pasajeros == 150\n",
    "data_pasajeros_150 = data.loc[data_pasajeros_150_mask, ]\n",
    "data_pasajeros_150"
   ]
  },
  {
   "cell_type": "markdown",
   "metadata": {},
   "source": [
    "Parece ser un contingente de estudiantes franceses en tránsito (\"No pernocta en Buenos Aires\")."
   ]
  },
  {
   "cell_type": "code",
   "execution_count": null,
   "metadata": {},
   "outputs": [],
   "source": [
    "data_pernoctaciones_690_mask = data.pernoctaciones == 690\n",
    "data_pernoctaciones_690 = data.loc[data_pernoctaciones_690_mask, ]\n",
    "data_pernoctaciones_690"
   ]
  },
  {
   "cell_type": "markdown",
   "metadata": {},
   "source": [
    "De este registro no podemos extraer info que justifique 690 días de estadía."
   ]
  },
  {
   "cell_type": "markdown",
   "metadata": {},
   "source": [
    "<a id=\"section_construccion_grupos\"></a> \n",
    "##  ¿Cómo construimos grupos?\n",
    "\n",
    "[volver a TOC](#section_toc)\n",
    "\n"
   ]
  },
  {
   "cell_type": "markdown",
   "metadata": {},
   "source": [
    "---\n",
    "\n",
    "<a id=\"section_dataframegroupby\"></a> \n",
    "### DataFrameGroupBy\n",
    "\n",
    "[volver a TOC](#section_toc)\n",
    "\n",
    "\n",
    "https://pandas.pydata.org/pandas-docs/stable/reference/api/pandas.DataFrame.groupby.html\n",
    "\n",
    "La definición abstracta de agrupación es proporcionar un mapeo entre valores y (etiquetas o) nombres de grupos.\n",
    "\n",
    "Un objeto DataFrameGroupBy no calcula nada, sino que crea una estructura intermedia con toda la información necesaria para luego aplicar alguna operación a cada grupo.\n",
    "\n",
    "El **resultado de esa operación** es devuelto en una Series o DataFrame **indexado por los valores únicos de la clave del groupby**.\n",
    "\n",
    "Las operaciones que podemos aplicar sobre un objeto DataFrameGroupBy están listadas aquí\n",
    "https://pandas.pydata.org/pandas-docs/stable/reference/groupby.html\n",
    "\n",
    "Usando como ejemplo el resultado de una operación groupby por nombre de columna, vamos a presentar algunas properties y métodos de este objeto.\n",
    "\n",
    "Agrupemos los datos por la columna `pais_residencia_si_extranjero`."
   ]
  },
  {
   "cell_type": "markdown",
   "metadata": {},
   "source": [
    "#### Tipo \n",
    "Veamos de qué tipo es el objeto devuelto\n",
    "\n"
   ]
  },
  {
   "cell_type": "code",
   "execution_count": null,
   "metadata": {},
   "outputs": [],
   "source": [
    "data_grouped = data.groupby('pais_residencia_si_extranjero')\n",
    "type(data_grouped)"
   ]
  },
  {
   "cell_type": "markdown",
   "metadata": {},
   "source": [
    "#### size\n",
    "\n",
    "https://pandas.pydata.org/pandas-docs/stable/reference/api/pandas.core.groupby.GroupBy.size.html\n",
    "\n",
    "Veamos la cantidad de registros en cada grupo y cuántos registros del DataFrame original están asignados a algun grupo."
   ]
  },
  {
   "cell_type": "code",
   "execution_count": null,
   "metadata": {},
   "outputs": [],
   "source": [
    "data_grouped.size()"
   ]
  },
  {
   "cell_type": "code",
   "execution_count": null,
   "metadata": {},
   "outputs": [],
   "source": [
    "data_grouped.size().sum()"
   ]
  },
  {
   "cell_type": "code",
   "execution_count": null,
   "metadata": {},
   "outputs": [],
   "source": [
    "data_grouped.size().sum() / data.shape[0]"
   ]
  },
  {
   "cell_type": "markdown",
   "metadata": {},
   "source": [
    "Sólo el 52% de los registros fue asignado a un grupo.\n",
    "\n",
    "Veamos que esa cantidad de registros asignados a un grupo coincide con la cantidad de registros no nulos en ese campo. (groupby no arma un grupo de key null)."
   ]
  },
  {
   "cell_type": "code",
   "execution_count": null,
   "metadata": {},
   "outputs": [],
   "source": [
    "data.loc[data.pais_residencia_si_extranjero.notnull(), ].shape[0]"
   ]
  },
  {
   "cell_type": "markdown",
   "metadata": {},
   "source": [
    "#### Indices\n",
    "\n",
    "https://pandas.pydata.org/pandas-docs/stable/reference/api/pandas.core.groupby.GroupBy.indices.html#pandas.core.groupby.GroupBy.indices\n",
    "\n",
    "Es un diccionario cuyas claves son los valores únicos de las claves del groupby, en este caso los valores de la columna pais_residencia_si_extranjero, y cuyos valores son un array con los índices del DataFrame cuyo valor en esa columna es igual al de la clave.\n"
   ]
  },
  {
   "cell_type": "code",
   "execution_count": null,
   "metadata": {},
   "outputs": [],
   "source": [
    "print(type(data_grouped.indices))\n",
    "data_grouped.indices"
   ]
  },
  {
   "cell_type": "markdown",
   "metadata": {},
   "source": [
    "En este ejemplo, los índices 48, 108, 147, ... de data corresponden a Alemania; los índices 33, 242, 267, ... corresponden a Australia, los índices 6, 8, 28, ... a Uruguay. Verifiquemos esto:"
   ]
  },
  {
   "cell_type": "code",
   "execution_count": null,
   "metadata": {},
   "outputs": [],
   "source": [
    "data.pais_residencia_si_extranjero.loc[[48, 108, 147]]"
   ]
  },
  {
   "cell_type": "code",
   "execution_count": null,
   "metadata": {},
   "outputs": [],
   "source": [
    "data.pais_residencia_si_extranjero.loc[[33, 242, 267]]"
   ]
  },
  {
   "cell_type": "code",
   "execution_count": null,
   "metadata": {},
   "outputs": [],
   "source": [
    "data.pais_residencia_si_extranjero.loc[[ 6, 8, 28]]"
   ]
  },
  {
   "cell_type": "markdown",
   "metadata": {},
   "source": [
    "#### groups\n",
    "\n",
    "Es similar a `indices` pero asociando las claves del groupby a objetos de tipo Index"
   ]
  },
  {
   "cell_type": "code",
   "execution_count": null,
   "metadata": {},
   "outputs": [],
   "source": [
    "data_grouped.groups"
   ]
  },
  {
   "cell_type": "markdown",
   "metadata": {},
   "source": [
    "---\n",
    "\n",
    "<a id=\"section_groupby_dict_series\"></a> \n",
    "### Groupby con diccionarios y series como key\n",
    "\n",
    "[volver a TOC](#section_toc)\n",
    "\n",
    "\n",
    "Hasta ahora vimos cómo definir una o varias columnas de un DataFrame como clave del groupby. Cuando hacemos esto estamos definiendo para cada registro una etiqueta (el valor del campo o campos key en ese registro) que usaremos para determinar a qué grupo pertenece.\n",
    "\n",
    "A continuación veremos ejemplos de Series y diccionarios como claves del groupby.\n",
    "\n",
    "Para poder agrupar usando como key una instancia de Series o diccionario necesitamos que los valores del índice de la serie o las keys del diccionario sean los mismos que los del índice del DataFrame sobre el que queremos agrupar.\n",
    "\n",
    "Definamos un diccionario que asocie los países con su contienente:  "
   ]
  },
  {
   "cell_type": "code",
   "execution_count": null,
   "metadata": {},
   "outputs": [],
   "source": [
    "pais_en_continente = {\n",
    "    'Chile': 'America', 'Francia': 'Europa', 'México': 'America', 'Colombia': 'America', \n",
    "    'Uruguay': 'America', 'Estados Unidos': 'America', 'España': 'Europa', 'Italia': 'Europa', \n",
    "    'India': 'Asia', 'Ecuador': 'America', 'Brasil': 'America',\n",
    "    'Australia': 'Oceania', 'Bolivia': 'America', 'Reino Unido': 'Europa', \n",
    "    'Alemania': 'Europa', 'Israel': 'Asia', 'China': 'Asia', \n",
    "    'Venezuela': 'America', 'Países Bajos': 'Europa', 'Canadá': 'America', 'Suiza': 'Europa', 'Turquía': 'Europa',\n",
    "    'Noruega': 'Europa', 'Corea del Sur': 'Asia', 'Polonia': 'Europa', 'Perú': 'America', 'Paraguay': 'America',\n",
    "    'Costa Rica': 'America', 'Japón': 'Asia', 'Marruecos': 'Africa', 'Bélgica': 'Europa', 'Malasia': 'Asia', \n",
    "    'Rusia': 'Europa', 'Sudáfrica': 'Africa', 'Nueva Zelanda': 'Oceania'        \n",
    "}"
   ]
  },
  {
   "cell_type": "markdown",
   "metadata": {},
   "source": [
    "Asignemos como índice del DataFrame los valores del campo pais_residencia_si_extranjero, que coinciden con las keys del diccionario que definimos arriba."
   ]
  },
  {
   "cell_type": "code",
   "execution_count": null,
   "metadata": {},
   "outputs": [],
   "source": [
    "data.index = data.pais_residencia_si_extranjero"
   ]
  },
  {
   "cell_type": "markdown",
   "metadata": {},
   "source": [
    "Contemos cuantos turistas provenientes de cada continenente solictaron informes en la oficina de turismo."
   ]
  },
  {
   "cell_type": "code",
   "execution_count": null,
   "metadata": {},
   "outputs": [],
   "source": [
    "data_grouped_continente = data.groupby(pais_en_continente)\n",
    "data_grouped_continente[\"pasajeros\"].sum()"
   ]
  },
  {
   "cell_type": "markdown",
   "metadata": {},
   "source": [
    "De forma similar podemos indexar Series con diccionarios:"
   ]
  },
  {
   "cell_type": "code",
   "execution_count": null,
   "metadata": {},
   "outputs": [],
   "source": [
    "# creamos la serie\n",
    "serie_pasajeros = data.pasajeros\n",
    "# asignamos como indice el valor del campo  pais_residencia_si_extranjero para ese registro\n",
    "serie_pasajeros.index = data.pais_residencia_si_extranjero\n",
    "# agrupamos y sumamos\n",
    "serie_pasajeros.groupby(pais_en_continente).sum()"
   ]
  },
  {
   "cell_type": "markdown",
   "metadata": {},
   "source": [
    "Ahora queremos indexar un DataFrame con un objeto Series.\n",
    "\n",
    "Transformemos el diccionario pais_en_continente en una instancia de Series, y usemoslo para indexar"
   ]
  },
  {
   "cell_type": "code",
   "execution_count": null,
   "metadata": {},
   "outputs": [],
   "source": [
    "pais_en_continente_serie = pd.Series(pais_en_continente)\n",
    "pais_en_continente_serie"
   ]
  },
  {
   "cell_type": "code",
   "execution_count": null,
   "metadata": {},
   "outputs": [],
   "source": [
    "data.index = data.pais_residencia_si_extranjero\n",
    "data_grouped_continente_2 = data.groupby(pais_en_continente_serie)\n",
    "data_grouped_continente_2[\"pasajeros\"].sum()"
   ]
  },
  {
   "cell_type": "markdown",
   "metadata": {},
   "source": [
    "<a id=\"section_groupby_func\"></a> \n",
    "\n",
    "## Groupby con funciones\n",
    "\n",
    "[volver a TOC](#section_toc)\n",
    "\n",
    "Cualquier función que pasemos como key de groupby será invocada una vez por cada valor del índice, y el resultado será el nombre del grupo.\n",
    "\n",
    "Veamos un ejemplo:"
   ]
  },
  {
   "cell_type": "markdown",
   "metadata": {},
   "source": [
    "Definimos una función que dado un string que representa un país, devuelve el nombre del contienente de ese país"
   ]
  },
  {
   "cell_type": "code",
   "execution_count": null,
   "metadata": {},
   "outputs": [],
   "source": [
    "def get_continente(pais):\n",
    "    pais_en_continente = {\n",
    "    'Chile': 'America', 'Francia': 'Europa', 'México': 'America', 'Colombia': 'America', \n",
    "    'Uruguay': 'America', 'Estados Unidos': 'America', 'España': 'Europa', 'Italia': 'Europa', \n",
    "    'India': 'Asia', 'Ecuador': 'America', 'Brasil': 'America',\n",
    "    'Australia': 'Oceania', 'Bolivia': 'America', 'Reino Unido': 'Europa', \n",
    "    'Alemania': 'Europa', 'Israel': 'Asia', 'China': 'Asia', \n",
    "    'Venezuela': 'America', 'Países Bajos': 'Europa', 'Canadá': 'America', 'Suiza': 'Europa', 'Turquía': 'Europa',\n",
    "    'Noruega': 'Europa', 'Corea del Sur': 'Asia', 'Polonia': 'Europa', 'Perú': 'America', 'Paraguay': 'America',\n",
    "    'Costa Rica': 'America', 'Japón': 'Asia', 'Marruecos': 'Africa', 'Bélgica': 'Europa', 'Malasia': 'Asia', \n",
    "    'Rusia': 'Europa', 'Sudáfrica': 'Africa', 'Nueva Zelanda': 'Oceania'}\n",
    "    if pais in pais_en_continente:\n",
    "        result = pais_en_continente[pais]\n",
    "    else:\n",
    "        result = \"desconocido\"\n",
    "    return result\n",
    "    "
   ]
  },
  {
   "cell_type": "markdown",
   "metadata": {},
   "source": [
    "Repetimos el ejercicio anterior agrupando con esta función.\n",
    "\n",
    "Recordemos que **la función que es la clave del groupby recibe como argumento el valor del índice de cada registro** cuando axis = 0 (que es el valor por default de axis) y recibe el valor de columna cuando axis = 1\n",
    "\n",
    "Nosotros en todos los ejercicios de esta práctica agrupamos por filas (axis=0) pero la misma lógica vale si queremos agrupar por columnas."
   ]
  },
  {
   "cell_type": "code",
   "execution_count": null,
   "metadata": {},
   "outputs": [],
   "source": [
    "data.index = data.pais_residencia_si_extranjero\n",
    "data_grouped_func = data.groupby(get_continente, axis=0)\n",
    "data_grouped_func[\"pasajeros\"].sum()"
   ]
  },
  {
   "cell_type": "markdown",
   "metadata": {},
   "source": [
    "---\n",
    "<a id=\"section_operaciones_grupos\"></a> \n",
    "## ¿Qué operaciones podemos hacer sobre grupos?\n",
    "\n",
    "[volver a TOC](#section_toc)\n"
   ]
  },
  {
   "cell_type": "code",
   "execution_count": null,
   "metadata": {},
   "outputs": [],
   "source": [
    "# reseteamos el index de data, que modificamos en los ejercicios anteriores\n",
    "data = data.reset_index(drop=True)\n",
    "data_grouped = data.groupby('pais_residencia_si_extranjero')"
   ]
  },
  {
   "cell_type": "markdown",
   "metadata": {},
   "source": [
    "<a id=\"section_estadistica_grupos\"></a> \n",
    "### Estadística descriptiva sobre grupos\n",
    "\n",
    "[volver a TOC](#section_toc)\n",
    "\n",
    "https://pandas.pydata.org/pandas-docs/stable/reference/groupby.html#computations-descriptive-stats\n",
    "\n",
    "Calculemos la cantidad de turistas de cada país que solicitaron información.\n",
    "\n",
    "Para esos vamos a seleccionar la columna \"pasajeros\" del objeto DataFrameGroupBy y sumar ese campo en los registros que componen cada grupo."
   ]
  },
  {
   "cell_type": "code",
   "execution_count": null,
   "metadata": {},
   "outputs": [],
   "source": [
    "sum_por_pais = data_grouped[\"pasajeros\"].sum()\n",
    "print(type(sum_por_pais))\n",
    "sum_por_pais"
   ]
  },
  {
   "cell_type": "markdown",
   "metadata": {},
   "source": [
    "Vemos que el resultado es un objeto de tipo Series y su indice son los valores únicos del campo que usamos como key del groupby.\n",
    "\n",
    "Ahora queremos ver un ranking de paises basado en la cantidad de turistas que visitan la Ciudad de Bueos Aires. Para eso ordenamos la serie resultado del punto anterior de mayor a menor, usando el método `sort_values`\n",
    "\n",
    "https://pandas.pydata.org/pandas-docs/stable/reference/api/pandas.Series.sort_values.html\n"
   ]
  },
  {
   "cell_type": "code",
   "execution_count": null,
   "metadata": {},
   "outputs": [],
   "source": [
    "sum_por_pais_sorted = sum_por_pais.sort_values(ascending=False)\n",
    "sum_por_pais_sorted"
   ]
  },
  {
   "cell_type": "markdown",
   "metadata": {},
   "source": [
    "Calculemos ahora la media y desvío estandar en pernoctaciones por país.\n",
    "\n",
    "Ya calculamos groupby por pais y lo asignamos a la variable data_grouped, seleccionamos el campo pernoctaciones y calculamos esas medidas\n",
    "\n",
    "https://pandas.pydata.org/pandas-docs/stable/reference/api/pandas.core.groupby.GroupBy.mean.html#pandas.core.groupby.GroupBy.mean\n",
    "\n",
    "https://pandas.pydata.org/pandas-docs/stable/reference/api/pandas.core.groupby.GroupBy.std.html#pandas.core.groupby.GroupBy.std\n",
    "\n",
    "También podemos usar `describe` sobre los grupos\n",
    "\n",
    "https://pandas.pydata.org/pandas-docs/stable/reference/api/pandas.core.groupby.DataFrameGroupBy.describe.html"
   ]
  },
  {
   "cell_type": "code",
   "execution_count": null,
   "metadata": {},
   "outputs": [],
   "source": [
    "data_grouped[\"pernoctaciones\"].mean()"
   ]
  },
  {
   "cell_type": "code",
   "execution_count": null,
   "metadata": {},
   "outputs": [],
   "source": [
    "data_grouped[\"pernoctaciones\"].std()"
   ]
  },
  {
   "cell_type": "code",
   "execution_count": null,
   "metadata": {},
   "outputs": [],
   "source": [
    "data_grouped[\"pernoctaciones\"].describe()"
   ]
  },
  {
   "cell_type": "markdown",
   "metadata": {},
   "source": [
    "<a id=\"section_indices_jerarquicos\"></a> \n",
    "### Indices jerárquicos\n",
    "\n",
    "[volver a TOC](#section_toc)\n",
    "\n",
    "\n",
    "Podemos agrupar por más de un campo, y el resultado será una Series o DataFrame con un índice jerárquico definido por los campos key del groupby.\n",
    "\n",
    "Veamos cómo se distribuye la cantidad de turistas por país de residencia por barrio."
   ]
  },
  {
   "cell_type": "code",
   "execution_count": null,
   "metadata": {},
   "outputs": [],
   "source": [
    "data_grouped_pais_barrio = data.groupby([\"pais_residencia_si_extranjero\", \"barrio\"])\n",
    "cant_pasajeros_pais_barrio = data_grouped_pais_barrio[\"pasajeros\"].sum()\n",
    "cant_pasajeros_pais_barrio"
   ]
  },
  {
   "cell_type": "markdown",
   "metadata": {},
   "source": [
    "Vemos que el índice del objeto Series resultado tiene dos niveles. Si queremos ver cómo quedó definido:"
   ]
  },
  {
   "cell_type": "code",
   "execution_count": null,
   "metadata": {},
   "outputs": [],
   "source": [
    "cant_pasajeros_pais_barrio.index"
   ]
  },
  {
   "cell_type": "markdown",
   "metadata": {},
   "source": [
    "Podemos usar el método `unstack` para crear un DataFrame a partir de este objeto Series\n",
    "\n",
    "https://pandas.pydata.org/pandas-docs/stable/reference/api/pandas.Series.unstack.html"
   ]
  },
  {
   "cell_type": "code",
   "execution_count": null,
   "metadata": {},
   "outputs": [],
   "source": [
    "cant_pasajeros_pais_barrio_df = cant_pasajeros_pais_barrio.unstack()\n",
    "print(type(cant_pasajeros_pais_barrio_df))\n",
    "cant_pasajeros_pais_barrio_df.head(3)"
   ]
  },
  {
   "cell_type": "markdown",
   "metadata": {},
   "source": [
    "\n",
    "<a id=\"section_aggregate_transform_filter\"></a> \n",
    "### Aggregate, transform, filter\n",
    "\n",
    "\n",
    "Una vez que tenemos construidos los grupos (como resultado de la etapa \"Split\"), en la etapa \"Apply\" podemos realizar sobre ellos operaciones de:\n",
    "\n",
    "* **agregación**: cálculo de estadísticas de resumen para cada grupo. Por ejemplo, sum o mean\n",
    "\n",
    "* **transformación**: cálculos específicos por grupos devolviendo nuevos objetos indexados del mismo modo. Por ejemplo, llenar los NA dentro de un grupo con un valor calculado sobre ese grupo como pueden ser la media, mediana, máximo, etc.\n",
    "\n",
    "* **filtro**: descartar algunos grupos de acuerdo a algún cálculo sobre el grupo que devuelva True o False. Por ejemplo, descartar los grupos con pocos miembros.\n",
    "\n",
    "\n",
    "\n",
    "\n"
   ]
  },
  {
   "cell_type": "markdown",
   "metadata": {},
   "source": [
    "Ejemplos de operaciones de agregación son todos los que vimos hasta ahora. Una vez que construimos un grupo con alguna de las alternativas que presentamos, calculamos una medida sobre cada uno de esos grupos."
   ]
  },
  {
   "cell_type": "markdown",
   "metadata": {},
   "source": [
    "<a id=\"section_transformacion\"></a> \n",
    "#### Transformación\n",
    "\n",
    "[volver a TOC](#section_toc)\n",
    "\n",
    "https://pandas.pydata.org/pandas-docs/stable/user_guide/groupby.html#transformation\n",
    "\n",
    "Vimos que en el campo pernoctaciones hay un porcentaje muy alto de nulos.\n",
    "\n",
    "Vamos completar los valores de este campo, asignando la media de pernoctaciones agrupando por pais_residencia_si_extranjero y barrio.\n",
    "\n",
    "Sabemos que groupby no arma grupos definidos por nulos, por lo tanto aquellos registros que tengan null en los campos que son clave de groupby no serán asignados a ningún grupo.\n",
    "\n",
    "Antes de empezar quitemos estos registros.\n"
   ]
  },
  {
   "cell_type": "code",
   "execution_count": null,
   "metadata": {},
   "outputs": [],
   "source": [
    "data_key_not_null_mask = np.logical_and(data.pais_residencia_si_extranjero.notnull(), data.barrio.notnull())\n",
    "data_key_not_null = data.loc[data_key_not_null_mask, :]\n",
    "data_key_not_null.shape"
   ]
  },
  {
   "cell_type": "code",
   "execution_count": null,
   "metadata": {},
   "outputs": [],
   "source": [
    "# si es necesario, eliminamos el indice que asignamos para los ejerccios de groupby por serie o diccionario:\n",
    "data_key_not_null = data_key_not_null.reset_index(drop = True)\n",
    "#https://pandas.pydata.org/pandas-docs/stable/reference/api/pandas.DataFrame.reset_index.html\n",
    "#data_key_not_null.head(3)"
   ]
  },
  {
   "cell_type": "code",
   "execution_count": null,
   "metadata": {},
   "outputs": [],
   "source": [
    "data_key_not_null_grouped_pais_barrio = data_key_not_null.groupby([\"pais_residencia_si_extranjero\", \"barrio\"])"
   ]
  },
  {
   "cell_type": "markdown",
   "metadata": {},
   "source": [
    "¿Qué porcentaje de valores nulos hay en la columna pernoctaciones de data_key_not_null?"
   ]
  },
  {
   "cell_type": "code",
   "execution_count": null,
   "metadata": {},
   "outputs": [],
   "source": [
    "data_key_not_null[\"pernoctaciones\"].isnull().sum() / data_key_not_null.shape[0]"
   ]
  },
  {
   "cell_type": "markdown",
   "metadata": {},
   "source": [
    "Usamos `transform` para completar los valores nulos con la media por grupo, y contamos cuántos valores nulos quedan"
   ]
  },
  {
   "cell_type": "code",
   "execution_count": null,
   "metadata": {},
   "outputs": [],
   "source": [
    "data_filled = data_key_not_null_grouped_pais_barrio[\"pernoctaciones\"].transform(lambda grp: grp.fillna(grp.mean()))\n",
    "data_filled"
   ]
  },
  {
   "cell_type": "code",
   "execution_count": null,
   "metadata": {},
   "outputs": [],
   "source": [
    "data_filled.isnull().sum()"
   ]
  },
  {
   "cell_type": "markdown",
   "metadata": {},
   "source": [
    "Vemos que quedan 10 registros que fueron asignados a un grupo, pero siguen siendo nulos. **¿Qué pasó?**\n",
    "\n",
    "Miremos cuáles son esos registros y qué valores tienen en los campos \"pais_residencia_si_extranjero\", \"barrio\""
   ]
  },
  {
   "cell_type": "code",
   "execution_count": null,
   "metadata": {},
   "outputs": [],
   "source": [
    "data_not_filled = data_filled.loc[data_filled.isnull()]"
   ]
  },
  {
   "cell_type": "code",
   "execution_count": null,
   "metadata": {},
   "outputs": [],
   "source": [
    "data_key_not_null.loc[data_not_filled.index, [ \"pais_residencia_si_extranjero\", \"barrio\"]]"
   ]
  },
  {
   "cell_type": "markdown",
   "metadata": {},
   "source": [
    "Miremos los valores en el campo \"pernoctaciones\" de los registros de los grupos \n",
    "* Malasia\tRECOLETA\t\n",
    "* Marruecos\tPALERMO\t\n",
    "* Estados Unidos\tSIN IDENTIFICAR\t\n",
    "* Brasil\tSIN IDENTIFICAR"
   ]
  },
  {
   "cell_type": "code",
   "execution_count": null,
   "metadata": {},
   "outputs": [],
   "source": [
    "malasia_recoleta_mask = np.logical_and(data_key_not_null.pais_residencia_si_extranjero  == 'Malasia', \n",
    "                                        data_key_not_null.barrio == \"RECOLETA\")\n",
    "\n",
    "data_key_not_null.loc[malasia_recoleta_mask, \"pernoctaciones\"]"
   ]
  },
  {
   "cell_type": "code",
   "execution_count": null,
   "metadata": {},
   "outputs": [],
   "source": [
    "marruecos_palermo_mask = np.logical_and(data_key_not_null.pais_residencia_si_extranjero  == 'Marruecos', \n",
    "                                        data_key_not_null.barrio == \"PALERMO\")\n",
    "\n",
    "data_key_not_null.loc[marruecos_palermo_mask, \"pernoctaciones\"]"
   ]
  },
  {
   "cell_type": "code",
   "execution_count": null,
   "metadata": {},
   "outputs": [],
   "source": [
    "eeuu_sinid_mask = np.logical_and(data_key_not_null.pais_residencia_si_extranjero  == 'Estados Unidos', \n",
    "                                        data_key_not_null.barrio == \"SIN IDENTIFICAR\")\n",
    "\n",
    "data_key_not_null.loc[eeuu_sinid_mask, \"pernoctaciones\"]"
   ]
  },
  {
   "cell_type": "code",
   "execution_count": null,
   "metadata": {},
   "outputs": [],
   "source": [
    "brasil_sinid_mask = np.logical_and(data_key_not_null.pais_residencia_si_extranjero  == 'Brasil', \n",
    "                                        data_key_not_null.barrio == \"SIN IDENTIFICAR\")\n",
    "\n",
    "data_key_not_null.loc[brasil_sinid_mask, \"pernoctaciones\"]"
   ]
  },
  {
   "cell_type": "markdown",
   "metadata": {},
   "source": [
    "Vemos que todos los registros de esos grupos tienen valor nulo en el campor pernoctaciones, por lo tanto la media por grupo también es nula y tenemos otra vez nulo como relleno por grupo."
   ]
  },
  {
   "cell_type": "markdown",
   "metadata": {},
   "source": [
    "<a id=\"section_filtro\"></a> \n",
    "#### Filtro\n",
    "\n",
    "[volver a TOC](#section_toc)\n",
    "\n",
    "\n",
    "https://pandas.pydata.org/pandas-docs/stable/user_guide/groupby.html#filtration\n",
    "\n",
    "El método `filter` devuelve un subconjunto del objeto original.\n",
    "\n",
    "Supongamos que queremos devolver los registros que correspondan a países con más de 1000 visitas.\n"
   ]
  },
  {
   "cell_type": "code",
   "execution_count": null,
   "metadata": {},
   "outputs": [],
   "source": [
    "data_group_pais = data.groupby(data.pais_residencia_si_extranjero)\n",
    "data_group_pais.size()"
   ]
  },
  {
   "cell_type": "code",
   "execution_count": null,
   "metadata": {},
   "outputs": [],
   "source": [
    "data_paises_frecuentes = data_group_pais.filter(lambda grp: grp[\"pasajeros\"].sum() > 1000)"
   ]
  },
  {
   "cell_type": "markdown",
   "metadata": {},
   "source": [
    "Tamaño antes del filtro (estamos contando también registros que tienen null en pais_residencia_si_extranjero): "
   ]
  },
  {
   "cell_type": "code",
   "execution_count": null,
   "metadata": {},
   "outputs": [],
   "source": [
    "data.shape"
   ]
  },
  {
   "cell_type": "markdown",
   "metadata": {},
   "source": [
    "Tamaño después del filtro (sólo registros que no son null en el campo pais_residencia_si_extranjero):"
   ]
  },
  {
   "cell_type": "code",
   "execution_count": null,
   "metadata": {},
   "outputs": [],
   "source": [
    "data_paises_frecuentes.shape"
   ]
  },
  {
   "cell_type": "markdown",
   "metadata": {},
   "source": [
    "Otra forma de calcular tamaños antes del filtro:\n",
    "\n",
    "(sólo registros que no son null en el campo pais_residencia_si_extranjero)"
   ]
  },
  {
   "cell_type": "code",
   "execution_count": null,
   "metadata": {},
   "outputs": [],
   "source": [
    "data_group_pais.size().sum()"
   ]
  },
  {
   "cell_type": "markdown",
   "metadata": {},
   "source": [
    "<a id=\"section_apply\"></a> \n",
    "#### Apply\n",
    "\n",
    "[volver a TOC](#section_toc)\n",
    "\n",
    "\n",
    "https://pandas.pydata.org/pandas-docs/stable/user_guide/groupby.html#flexible-apply\n",
    "\n",
    "Podemos evaluar funciones sobre grupos usando `apply`.\n",
    "\n",
    "Veamos un ejemplo en el que aplicamos el método decribe sobre cada uno de los grupos por país.\n",
    "\n",
    "https://pandas.pydata.org/pandas-docs/stable/reference/api/pandas.core.groupby.DataFrameGroupBy.describe.html"
   ]
  },
  {
   "cell_type": "code",
   "execution_count": null,
   "metadata": {},
   "outputs": [],
   "source": [
    "data_group_pais = data.groupby(data.pais_residencia_si_extranjero)\n",
    "data_group_pais.apply(lambda grp: grp.describe())"
   ]
  },
  {
   "cell_type": "markdown",
   "metadata": {},
   "source": [
    "---\n",
    "\n",
    "#### Referencias\n",
    "\n",
    "Python for Data Analysis. Wes McKinney. Cap 10\n",
    "\n",
    "https://pandas.pydata.org/pandas-docs/stable/user_guide/groupby.html\n",
    "\n",
    "https://pandas.pydata.org/pandas-docs/stable/user_guide/cookbook.html#cookbook-grouping\n"
   ]
  }
 ],
 "metadata": {
  "kernelspec": {
   "display_name": "Python 3",
   "language": "python",
   "name": "python3"
  },
  "language_info": {
   "codemirror_mode": {
    "name": "ipython",
    "version": 3
   },
   "file_extension": ".py",
   "mimetype": "text/x-python",
   "name": "python",
   "nbconvert_exporter": "python",
   "pygments_lexer": "ipython3",
   "version": "3.7.6"
  }
 },
 "nbformat": 4,
 "nbformat_minor": 4
}

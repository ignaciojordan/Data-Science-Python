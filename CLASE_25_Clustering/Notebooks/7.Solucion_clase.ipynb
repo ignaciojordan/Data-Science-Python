{
 "cells": [
  {
   "cell_type": "code",
   "execution_count": null,
   "metadata": {},
   "outputs": [],
   "source": [
    "# initial setup\n",
    "try:\n",
    "    # settings colab:\n",
    "    import google.colab\n",
    "    \n",
    "except ModuleNotFoundError:    \n",
    "    # settings local:\n",
    "    %run \"../../../common/0_notebooks_base_setup.py\""
   ]
  },
  {
   "cell_type": "markdown",
   "metadata": {},
   "source": [
    "<img src=\"../../../common/logo_DH.svg\" align='left' width=50%/>"
   ]
  },
  {
   "cell_type": "markdown",
   "metadata": {},
   "source": [
    "### Desafío Clustering de Jugadores de Fifa\n",
    "\n",
    "En esta práctica trabajaremos con un dataset de jugadores de Fifa18. El Fifa es un juego de consola en donde los jugadores de la principales ligas del mundo están descriptos por un conjunto de características como la agilidad, precisión en los tiros libres, etc, además de otros datos como la edad, nacionalidad, salario, y otros sobre su posición en el campo de juego. El dataset está disponible [acá](https://www.kaggle.com/thec03u5/fifa-18-demo-player-dataset). Lamentablemente, contamos con la versión del 2018 en donde pusieron a Cristiano Ronaldo en la tapa, pero cabe mencionar \n",
    "\n",
    "Algunas features del dataset son las siguientes:\n",
    "\n",
    "* Name\n",
    "* Age \n",
    "* Nationality\n",
    "* Club\n",
    "* Value: Precio de mercado del jugador\n",
    "* Wage: Salario del jugador\n",
    "\n",
    "(...)\n",
    "\n",
    "* Acceleration\n",
    "* Agility     \n",
    "* Balance     \n",
    "* Ball control\n",
    "* Free kick accuracy\n",
    "\n",
    "(...)\n",
    "\n",
    "* CAM\n",
    "* CB\n",
    "* CDM\n",
    "* CF\n",
    "* CM                 \n",
    "\n",
    "Estas últimas codifican numéricamente cuán bien se desenvuelven en las distintas posiciones del campo\n",
    "\n",
    "<img src='img/field_positions.jpg' width=80%>\n",
    "\n",
    "\n",
    "\n",
    "<b>El objetivo</b> de esta práctica es ver si hay alguna estructura de clusters en los datos y luego inferir qué criterio es el que mejor los agrupa.\n",
    "\n",
    "Empezamos levantando el dataset."
   ]
  },
  {
   "cell_type": "code",
   "execution_count": null,
   "metadata": {},
   "outputs": [],
   "source": [
    "import pandas as pd\n",
    "import numpy as np\n",
    "import seaborn as sns\n",
    "from sklearn.preprocessing import StandardScaler\n",
    "from sklearn.cluster import KMeans\n",
    "from sklearn.decomposition import PCA\n",
    "import matplotlib.pyplot as plt"
   ]
  },
  {
   "cell_type": "code",
   "execution_count": null,
   "metadata": {},
   "outputs": [],
   "source": [
    "data=pd.read_csv('../Data/Fifa_players.csv')"
   ]
  },
  {
   "cell_type": "markdown",
   "metadata": {},
   "source": [
    "###  Limpieza\n",
    "\n",
    "* ¿Qué tipo de datos tiene el dataset?\n",
    "\n",
    "* Conviertan a numérica la columna 'Valor' eliminando el caracter \"€\" y transformando las M en millones y K en miles.\n",
    "\n",
    "* Eliminen los jugadores con valor = 0. \n",
    "\n",
    "Vamos a implementar un algoritmo de clustering sobre la porción de las features que describen las habilidades de los jugadores. \n",
    "\n",
    "* Creen un nuevo dataframe seleccionando las columnas\n",
    "\n",
    "['Acceleration', 'Aggression', 'Agility', 'Balance',\n",
    "       'Ball control', 'Composure', 'Crossing', 'Curve', 'Dribbling',\n",
    "       'Finishing', 'Free kick accuracy', 'GK diving', 'GK handling',\n",
    "       'GK kicking', 'GK positioning', 'GK reflexes', 'Heading accuracy',\n",
    "       'Interceptions', 'Jumping', 'Long passing', 'Long shots', 'Marking',\n",
    "       'Penalties', 'Positioning', 'Reactions', 'Short passing', 'Shot power',\n",
    "       'Sliding tackle', 'Sprint speed', 'Stamina', 'Standing tackle',\n",
    "       'Strength', 'Vision', 'Volleys']\n",
    "       \n",
    "* Conviertan las columnas seleccionadas a tipo numérico, eliminando las filas que sean conflictivas, por ejemplo entradas como '50+8'.       \n",
    "       \n",
    "* <b>Importante:</b>No pisen el dataframe original y conserven la relación de índices entre ambos pues vamos a querer recuperar información del dataframe completo para evaluar la composicion de los clusters. "
   ]
  },
  {
   "cell_type": "code",
   "execution_count": null,
   "metadata": {},
   "outputs": [],
   "source": [
    "with pd.option_context('display.max_rows', None, 'display.max_columns', None):  # more options can be specified also\n",
    "     display(data.head(3))\n",
    "     display(data.dtypes)"
   ]
  },
  {
   "cell_type": "code",
   "execution_count": null,
   "metadata": {},
   "outputs": [],
   "source": [
    "# Tiro algunas columnas \n",
    "data=data.drop(['Unnamed: 0','Photo','Flag','Club Logo'],axis=1)"
   ]
  },
  {
   "cell_type": "code",
   "execution_count": null,
   "metadata": {},
   "outputs": [],
   "source": [
    "# Prefijo en el campo Value y Wage\n",
    "print(data['Value'].apply(lambda x: x[0]).value_counts())\n",
    "print(data['Wage'].apply(lambda x: x[0]).value_counts())"
   ]
  },
  {
   "cell_type": "code",
   "execution_count": null,
   "metadata": {},
   "outputs": [],
   "source": [
    "# Terminaciones del string en el campo valores\n",
    "data['Value'].apply(lambda x: x[-1]).value_counts()"
   ]
  },
  {
   "cell_type": "code",
   "execution_count": null,
   "metadata": {},
   "outputs": [],
   "source": [
    "data['Wage'].apply(lambda x: x[-1]).value_counts()"
   ]
  },
  {
   "cell_type": "code",
   "execution_count": null,
   "metadata": {},
   "outputs": [],
   "source": [
    "# Limpio los campos 'Value' y 'Wage'\n",
    "data['Value']=data['Value'].str.replace('€','');\n",
    "M_mask=data['Value'].apply(lambda x: x[-1]=='M');\n",
    "K_mask=data['Value'].apply(lambda x: x[-1]=='K');\n",
    "#cero_mask=data['Value'].apply(lambda x: x[-1]=='0');\n",
    "\n",
    "data.loc[M_mask,'Value']=data.loc[M_mask,'Value'].apply(lambda x: np.float(x[:-1])*1e6)\n",
    "data.loc[K_mask,'Value']=data.loc[K_mask,'Value'].apply(lambda x: np.float(x[:-1])*1e3)\n",
    "data['Value']=data['Value'].astype(float)"
   ]
  },
  {
   "cell_type": "code",
   "execution_count": null,
   "metadata": {},
   "outputs": [],
   "source": [
    "data['Wage']=data['Wage'].str.replace('€','');\n",
    "K_mask=data['Wage'].apply(lambda x: x[-1]=='K');\n",
    "#cero_mask=data['Wage'].apply(lambda x: x[-1]=='0');\n",
    "\n",
    "data.loc[K_mask,'Wage']=data.loc[K_mask,'Wage'].apply(lambda x: np.float(x[:-1])*1e3)\n",
    "data['Wage']=data['Wage'].astype(float)"
   ]
  },
  {
   "cell_type": "code",
   "execution_count": null,
   "metadata": {},
   "outputs": [],
   "source": [
    "# Eliminamos los jugadores con valor = 0\n",
    "\n",
    "data=data.drop(data[data['Value']==0].index,axis=0);\n"
   ]
  },
  {
   "cell_type": "code",
   "execution_count": null,
   "metadata": {},
   "outputs": [],
   "source": [
    "# Preparamos el dataset para clustering\n",
    "\n",
    "data_clustering=data[['Acceleration', 'Aggression', 'Agility', 'Balance',\n",
    "       'Ball control', 'Composure', 'Crossing', 'Curve', 'Dribbling',\n",
    "       'Finishing', 'Free kick accuracy', 'GK diving', 'GK handling',\n",
    "       'GK kicking', 'GK positioning', 'GK reflexes', 'Heading accuracy',\n",
    "       'Interceptions', 'Jumping', 'Long passing', 'Long shots', 'Marking',\n",
    "       'Penalties', 'Positioning', 'Reactions', 'Short passing', 'Shot power',\n",
    "       'Sliding tackle', 'Sprint speed', 'Stamina', 'Standing tackle',\n",
    "       'Strength', 'Vision', 'Volleys']]"
   ]
  },
  {
   "cell_type": "code",
   "execution_count": null,
   "metadata": {},
   "outputs": [],
   "source": [
    "# Convertimos las columnas a numerico y eliminamos las filas conflictivas\n",
    "\n",
    "object_columns=[col for col in data_clustering.columns if data[col].dtype=='object']\n",
    "\n",
    "mask=data_clustering[object_columns].applymap(lambda x:  not str(x).isnumeric())\n",
    "data_clustering=data_clustering.drop(data_clustering[mask.sum(axis=1)>0].index,axis=0)\n"
   ]
  },
  {
   "cell_type": "markdown",
   "metadata": {},
   "source": [
    "### Clustering\n",
    "\n",
    "\n",
    "* Implementen un algoritmo de KMeans variando el número de clusters en un rango que les suene razonable. \n",
    "\n",
    "<b>¿Qué hay que hacer antes con los datos?</b>\n",
    "\n",
    "\n",
    "* Grafiquen la inercia (suma de distancias cuadráticas a los centroides) en función de k. Esta medida queda almacenada en la propiedad 'inertia_' del objeto KMeans una vez entrenado.\n",
    "\n",
    "* Siguiendo la regla del codo, hay un valor de k preferencial?\n",
    "\n"
   ]
  },
  {
   "cell_type": "code",
   "execution_count": null,
   "metadata": {},
   "outputs": [],
   "source": [
    "scaler=StandardScaler()\n",
    "X=scaler.fit_transform(data_clustering)\n",
    "\n",
    "inertia=[]\n",
    "sil=[]\n",
    "ch_scores=[]\n",
    "k_values=range(2,20,2)\n",
    "\n",
    "for k in k_values:\n",
    "    print(k)\n",
    "    km=KMeans(n_clusters=k)\n",
    "    km.fit(X)\n",
    "    inertia.append(km.inertia_)    "
   ]
  },
  {
   "cell_type": "code",
   "execution_count": null,
   "metadata": {},
   "outputs": [],
   "source": [
    "plt.plot(k_values,inertia);\n",
    "plt.vlines(4,np.min(inertia),np.max(inertia),linestyle='dashed');\n",
    "plt.xlabel('Numero de clusters (k)',fontsize=15);plt.ylabel('Inertia',fontsize='15')"
   ]
  },
  {
   "cell_type": "markdown",
   "metadata": {},
   "source": [
    "### Composición de los clusters\n",
    "\n",
    "Veamos cómo están compuestos los clusters, por ejemplo mirando las posiciones preferibles para cada jugador. Esta información está en el campo 'Preferred position' del dataset original.\n",
    "\n",
    "* Hagan un gráfico de barras para cada cluster mostrando la proporción de jugadores de cada posición que lo componen."
   ]
  },
  {
   "cell_type": "code",
   "execution_count": null,
   "metadata": {},
   "outputs": [],
   "source": [
    "k=4;\n",
    "km=KMeans(n_clusters=k,random_state=0)\n",
    "km.fit(X)\n",
    "\n",
    "data_filtered=data.loc[data_clustering.index];\n",
    "f,ax=plt.subplots(2,2,figsize=(15,10),gridspec_kw={'wspace':0.5})\n",
    "ax=ax.ravel();\n",
    "for lbl in range(k):\n",
    "    S=data_filtered.loc[km.labels_==lbl,'Preferred Positions'].value_counts(normalize=True);\n",
    "    chart=sns.barplot(y=S.index[:10],x=S.values[:10],ax=ax[lbl],orient='h')\n",
    "    chart.set_title('Cluster '+str(lbl))\n"
   ]
  },
  {
   "cell_type": "markdown",
   "metadata": {},
   "source": [
    "### Más clusters\n",
    "\n",
    "Vimos que los clusters contienen información sobre la posición en el campo. Si forzamos k = 15, \n",
    "\n",
    "* ¿se ven las posiciones pintadas de distinto color en la imagen de la introducción?\n",
    "\n",
    "* Si encuentran clusters con una composición parecida de posiciones, ¿qué variable puede ser relevante para separarlos? Tal vez el valor... Grafiquen simultaneamente la distribución de valores de los jugadores para los clusters de composición similar."
   ]
  },
  {
   "cell_type": "code",
   "execution_count": null,
   "metadata": {},
   "outputs": [],
   "source": [
    "k=15;\n",
    "km=KMeans(n_clusters=k,random_state=0)\n",
    "km.fit(X)"
   ]
  },
  {
   "cell_type": "code",
   "execution_count": null,
   "metadata": {},
   "outputs": [],
   "source": [
    "data_filtered=data.loc[data_clustering.index]\n",
    "f,ax=plt.subplots(3,5,figsize=(15,10),gridspec_kw={'wspace':0.5})\n",
    "ax=ax.ravel();\n",
    "for lbl in range(k):\n",
    "    S=data_filtered.loc[km.labels_==lbl,'Preferred Positions'].value_counts(normalize=True);\n",
    "    chart=sns.barplot(y=S.index[:10],x=S.values[:10],ax=ax[lbl],orient='h')\n",
    "    chart.set_title('Cluster '+str(lbl))    \n",
    "    #chart.set_xticklabels(chart.get_xticklabels(), rotation=90);"
   ]
  },
  {
   "cell_type": "code",
   "execution_count": null,
   "metadata": {},
   "outputs": [],
   "source": [
    "grupos=[[0,12],[1,2],[3,9,14],[4,5,6,8],[7,11],[10,13]];\n",
    "\n",
    "f,ax=plt.subplots(3,2,figsize=(15,10),gridspec_kw={'wspace':0.5});\n",
    "ax=ax.ravel();\n",
    "\n",
    "for i,g in enumerate(grupos):\n",
    "    for c in g:        \n",
    "        values=data_filtered.loc[km.labels_==c,'Value'];                        \n",
    "        sns.kdeplot(np.log(values),label='Cluster '+str(c),ax=ax[i]);        \n",
    "    ax[i].legend();\n",
    "    "
   ]
  },
  {
   "cell_type": "markdown",
   "metadata": {},
   "source": [
    "### Visualización en un espacio de dimensionalidad reducida\n",
    "\n",
    "* Reduzcamos la dimensionalidad del dataset usando PCA y conservando dos componentes principales.\n",
    "\n",
    "* Grafiquemos con un scatterplot los 4 clusters obtenidos originalmente en este espacio reducido."
   ]
  },
  {
   "cell_type": "code",
   "execution_count": null,
   "metadata": {},
   "outputs": [],
   "source": [
    "k=4;\n",
    "km=KMeans(n_clusters=k,random_state=0)\n",
    "km.fit(X)\n",
    "\n",
    "pca=PCA(n_components=2)\n",
    "X_transformed=pca.fit_transform(X)\n",
    "\n",
    "sns.scatterplot(X_transformed[:,0],X_transformed[:,1],hue=km.labels_,palette='dark');\n"
   ]
  },
  {
   "cell_type": "code",
   "execution_count": null,
   "metadata": {},
   "outputs": [],
   "source": []
  }
 ],
 "metadata": {
  "kernelspec": {
   "display_name": "Python 3",
   "language": "python",
   "name": "python3"
  },
  "language_info": {
   "codemirror_mode": {
    "name": "ipython",
    "version": 3
   },
   "file_extension": ".py",
   "mimetype": "text/x-python",
   "name": "python",
   "nbconvert_exporter": "python",
   "pygments_lexer": "ipython3",
   "version": "3.6.10"
  }
 },
 "nbformat": 4,
 "nbformat_minor": 4
}

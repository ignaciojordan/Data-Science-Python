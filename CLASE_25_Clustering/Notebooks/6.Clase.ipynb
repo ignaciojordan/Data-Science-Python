{
 "cells": [
  {
   "cell_type": "code",
   "execution_count": null,
   "metadata": {},
   "outputs": [],
   "source": [
    "# initial setup\n",
    "try:\n",
    "    # settings colab:\n",
    "    import google.colab\n",
    "    \n",
    "except ModuleNotFoundError:    \n",
    "    # settings local:\n",
    "    %run \"../../../common/0_notebooks_base_setup.py\""
   ]
  },
  {
   "cell_type": "markdown",
   "metadata": {},
   "source": [
    "<img src=\"../../../common/logo_DH.svg\" align='left' width=50%/>"
   ]
  },
  {
   "cell_type": "markdown",
   "metadata": {},
   "source": [
    "### Desafío Clustering de Jugadores de Fifa\n",
    "\n",
    "En esta práctica trabajaremos con un dataset de jugadores de Fifa18. El Fifa es un juego de consola en donde los jugadores de la principales ligas del mundo están descriptos por un conjunto de características como la agilidad, precisión en los tiros libres, etc, además de otros datos como la edad, nacionalidad, salario, y otros sobre su posición en el campo de juego. El dataset está disponible [acá](https://www.kaggle.com/thec03u5/fifa-18-demo-player-dataset). Lamentablemente, contamos con la versión del 2018 en donde pusieron a Cristiano Ronaldo en la tapa, pero cabe mencionar \n",
    "\n",
    "Algunas features del dataset son las siguientes:\n",
    "\n",
    "* Name\n",
    "* Age \n",
    "* Nationality\n",
    "* Club\n",
    "* Value: Precio de mercado del jugador\n",
    "* Wage: Salario del jugador\n",
    "\n",
    "(...)\n",
    "\n",
    "* Acceleration\n",
    "* Agility     \n",
    "* Balance     \n",
    "* Ball control\n",
    "* Free kick accuracy\n",
    "\n",
    "(...)\n",
    "\n",
    "* CAM\n",
    "* CB\n",
    "* CDM\n",
    "* CF\n",
    "* CM                 \n",
    "\n",
    "Estas últimas codifican numéricamente cuán bien se desenvuelven en las distintas posiciones del campo\n",
    "\n",
    "<img src='img/field_positions.jpg' width=80%>\n",
    "\n",
    "\n",
    "\n",
    "<b>El objetivo</b> de esta práctica es ver si hay alguna estructura de clusters en los datos y luego inferir qué criterio es el que mejor los agrupa.\n",
    "\n",
    "Empezamos levantando el dataset."
   ]
  },
  {
   "cell_type": "code",
   "execution_count": null,
   "metadata": {},
   "outputs": [],
   "source": [
    "import pandas as pd\n",
    "import numpy as np\n",
    "import seaborn as sns\n",
    "from sklearn.preprocessing import StandardScaler\n",
    "from sklearn.cluster import KMeans\n",
    "from sklearn.decomposition import PCA\n",
    "import matplotlib.pyplot as plt"
   ]
  },
  {
   "cell_type": "code",
   "execution_count": null,
   "metadata": {},
   "outputs": [],
   "source": [
    "data=pd.read_csv('../Data/Fifa_players.csv')"
   ]
  },
  {
   "cell_type": "markdown",
   "metadata": {},
   "source": [
    "### 1. Limpieza\n",
    "\n",
    "* ¿Qué tipo de datos tiene el dataset?\n",
    "\n",
    "* Conviertan a numérica la columna 'Valor' eliminando el caracter \"€\" y transformando las M en millones y K en miles.\n",
    "\n",
    "* Eliminen los jugadores con valor = 0. \n",
    "\n",
    "Vamos a implementar un algoritmo de clustering sobre la porción de las features que describen las habilidades de los jugadores. \n",
    "\n",
    "* Creen un nuevo dataframe seleccionando las columnas\n",
    "\n",
    "['Acceleration', 'Aggression', 'Agility', 'Balance',\n",
    "       'Ball control', 'Composure', 'Crossing', 'Curve', 'Dribbling',\n",
    "       'Finishing', 'Free kick accuracy', 'GK diving', 'GK handling',\n",
    "       'GK kicking', 'GK positioning', 'GK reflexes', 'Heading accuracy',\n",
    "       'Interceptions', 'Jumping', 'Long passing', 'Long shots', 'Marking',\n",
    "       'Penalties', 'Positioning', 'Reactions', 'Short passing', 'Shot power',\n",
    "       'Sliding tackle', 'Sprint speed', 'Stamina', 'Standing tackle',\n",
    "       'Strength', 'Vision', 'Volleys']\n",
    "       \n",
    "* Conviertan las columnas seleccionadas a tipo numérico, eliminando las filas que sean conflictivas, por ejemplo entradas como '50+8'.       \n",
    "       \n",
    "* <b>Importante:</b>No pisen el dataframe original y conserven la relación de índices entre ambos pues vamos a querer recuperar información del dataframe completo para evaluar la composicion de los clusters. "
   ]
  },
  {
   "cell_type": "code",
   "execution_count": null,
   "metadata": {},
   "outputs": [],
   "source": [
    "with pd.option_context('display.max_rows', None, 'display.max_columns', None):  # more options can be specified also\n",
    "     display(data.head(3))\n",
    "     display(data.dtypes)"
   ]
  },
  {
   "cell_type": "code",
   "execution_count": null,
   "metadata": {},
   "outputs": [],
   "source": []
  },
  {
   "cell_type": "markdown",
   "metadata": {},
   "source": [
    "### 2. Clustering\n",
    "\n",
    "\n",
    "* Implementen un algoritmo de KMeans variando el número de clusters en un rango que les suene razonable. \n",
    "\n",
    "<b>¿Qué hay que hacer antes con los datos?</b>\n",
    "\n",
    "\n",
    "* Grafiquen la inercia (suma de distancias cuadráticas a los centroides) en función de k. Esta medida queda almacenada en la propiedad 'inertia_' del objeto KMeans una vez entrenado.\n",
    "\n",
    "* Siguiendo la regla del codo, hay un valor de k preferencial?\n",
    "\n"
   ]
  },
  {
   "cell_type": "code",
   "execution_count": null,
   "metadata": {},
   "outputs": [],
   "source": []
  },
  {
   "cell_type": "markdown",
   "metadata": {},
   "source": [
    "### 3. Composición de los clusters\n",
    "\n",
    "Veamos cómo están compuestos los clusters, por ejemplo mirando las posiciones preferibles para cada jugador. Esta información está en el campo 'Preferred position' del dataset original.\n",
    "\n",
    "* Hagan un gráfico de barras para cada cluster mostrando la proporción de jugadores de cada posición que lo componen."
   ]
  },
  {
   "cell_type": "code",
   "execution_count": null,
   "metadata": {},
   "outputs": [],
   "source": []
  },
  {
   "cell_type": "markdown",
   "metadata": {},
   "source": [
    "### 4. Más clusters\n",
    "\n",
    "Vimos que los clusters contienen información sobre la posición en el campo. Si forzamos k = 15, \n",
    "\n",
    "* ¿se ven las posiciones pintadas de distinto color en la imagen de la introducción?\n",
    "\n",
    "* Si encuentran clusters con una composición parecida de posiciones, ¿qué variable puede ser relevante para separarlos? Tal vez el valor... Grafiquen simultaneamente la distribución de valores de los jugadores para los clusters de composición similar."
   ]
  },
  {
   "cell_type": "code",
   "execution_count": null,
   "metadata": {},
   "outputs": [],
   "source": []
  },
  {
   "cell_type": "markdown",
   "metadata": {},
   "source": [
    "### 5. Visualización en un espacio de dimensionalidad reducida\n",
    "\n",
    "* Reduzcamos la dimensionalidad del dataset usando PCA y conservando dos componentes principales.\n",
    "\n",
    "* Grafiquemos con un scatterplot los 4 clusters obtenidos originalmente en este espacio reducido."
   ]
  },
  {
   "cell_type": "code",
   "execution_count": null,
   "metadata": {},
   "outputs": [],
   "source": []
  }
 ],
 "metadata": {
  "kernelspec": {
   "display_name": "Python 3",
   "language": "python",
   "name": "python3"
  },
  "language_info": {
   "codemirror_mode": {
    "name": "ipython",
    "version": 3
   },
   "file_extension": ".py",
   "mimetype": "text/x-python",
   "name": "python",
   "nbconvert_exporter": "python",
   "pygments_lexer": "ipython3",
   "version": "3.6.10"
  }
 },
 "nbformat": 4,
 "nbformat_minor": 4
}

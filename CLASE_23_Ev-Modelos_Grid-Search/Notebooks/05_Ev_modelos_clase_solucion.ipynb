{
 "cells": [
  {
   "cell_type": "code",
   "execution_count": null,
   "metadata": {},
   "outputs": [],
   "source": [
    "# initial setup\n",
    "try:\n",
    "    # settings colab:\n",
    "    import google.colab\n",
    "        \n",
    "except ModuleNotFoundError:    \n",
    "    # settings local:\n",
    "    %run \"../../../common/0_notebooks_base_setup.py\""
   ]
  },
  {
   "cell_type": "markdown",
   "metadata": {},
   "source": [
    "---\n",
    "\n",
    "<img src='../../../common/logo_DH.png' align='left' width=35%/>"
   ]
  },
  {
   "cell_type": "markdown",
   "metadata": {
    "colab_type": "text",
    "id": "HTcLijtspLkr"
   },
   "source": [
    "# LAB: Evaluación de Modelos"
   ]
  },
  {
   "cell_type": "markdown",
   "metadata": {
    "colab_type": "text",
    "id": "BaeBP_XIpLkv"
   },
   "source": [
    "## 1. Introducción\n",
    "\n",
    "El objetivo de este LAB es realizar la evaluación de un modelos de clasificación partiendo \"desde cero\". Para ello, usaremos datos de transacciones inmobiliaras en Sacramento.\n",
    "\n"
   ]
  },
  {
   "cell_type": "markdown",
   "metadata": {
    "colab_type": "text",
    "id": "mGWLz6zLpLkx"
   },
   "source": [
    "Importemos los paquetes requeridos:"
   ]
  },
  {
   "cell_type": "code",
   "execution_count": null,
   "metadata": {
    "colab": {},
    "colab_type": "code",
    "id": "NGyiBpNzpLky"
   },
   "outputs": [],
   "source": [
    "import numpy as np\n",
    "import pandas as pd\n",
    "import matplotlib.pyplot as plt\n",
    "from sklearn.linear_model import LogisticRegression\n",
    "from sklearn.metrics import roc_curve, auc\n",
    "from sklearn.model_selection import train_test_split\n",
    "from sklearn.metrics import confusion_matrix, accuracy_score, precision_score, recall_score\n",
    "\n",
    "plt.style.use('seaborn-white')\n",
    "%matplotlib inline"
   ]
  },
  {
   "cell_type": "markdown",
   "metadata": {
    "colab_type": "text",
    "id": "ybp32HWDpLk4"
   },
   "source": [
    "Carguemos el dataset de Sacramento:"
   ]
  },
  {
   "cell_type": "code",
   "execution_count": null,
   "metadata": {
    "colab": {},
    "colab_type": "code",
    "id": "r0hd2EQzpLk5"
   },
   "outputs": [],
   "source": [
    "sac = pd.read_csv('../Data/Sacramentorealestatetransactions.csv')"
   ]
  },
  {
   "cell_type": "markdown",
   "metadata": {},
   "source": [
    "Primero hagan un checkeo de la \"sanidad\" de los datos (por ejemplo, pueden evaluar si hay variables con datos nulos)"
   ]
  },
  {
   "cell_type": "code",
   "execution_count": null,
   "metadata": {},
   "outputs": [],
   "source": [
    "sac.head()"
   ]
  },
  {
   "cell_type": "code",
   "execution_count": null,
   "metadata": {},
   "outputs": [],
   "source": [
    "sac.describe()"
   ]
  },
  {
   "cell_type": "code",
   "execution_count": null,
   "metadata": {},
   "outputs": [],
   "source": [
    "sac.dtypes"
   ]
  },
  {
   "cell_type": "code",
   "execution_count": null,
   "metadata": {},
   "outputs": [],
   "source": [
    "sac.isnull().sum()"
   ]
  },
  {
   "cell_type": "code",
   "execution_count": null,
   "metadata": {},
   "outputs": [],
   "source": [
    "sac.info()"
   ]
  },
  {
   "cell_type": "markdown",
   "metadata": {
    "colab_type": "text",
    "id": "dbBcCyxspLk9"
   },
   "source": [
    "Crear una variable binaria en la cual:\n",
    "\n",
    "+ $Y = 1$ indica que la casa fue vendida por encima de 200.000 dólares\n",
    "+ $Y = 0$ indica que la casa fue vendida por igual o menos de 200.000 dólares\n",
    "\n",
    "Quedarse con las siguientes variables: `number of beds`, `baths`, `sq_ft` y el indicador de precio que generamos en el paso anterior"
   ]
  },
  {
   "cell_type": "code",
   "execution_count": null,
   "metadata": {
    "colab": {},
    "colab_type": "code",
    "id": "6vlXh0JDpLlA"
   },
   "outputs": [],
   "source": [
    "cols = ['beds','baths','sq__ft']\n",
    "X = sac[cols]"
   ]
  },
  {
   "cell_type": "code",
   "execution_count": null,
   "metadata": {},
   "outputs": [],
   "source": [
    "y = sac['price'] > 200000"
   ]
  },
  {
   "cell_type": "code",
   "execution_count": null,
   "metadata": {},
   "outputs": [],
   "source": [
    "y.value_counts()"
   ]
  },
  {
   "cell_type": "markdown",
   "metadata": {
    "colab_type": "text",
    "id": "o4K6VJWopLlH"
   },
   "source": [
    "Dividan el dataset entre training y test sets. Los predictores son `beds`, `baths` y `sq ft`. El target es la variable de precio.\n",
    "El tamaño del test set debe ser 33% y (opcionalmente) pueden intentar estratificar por el target."
   ]
  },
  {
   "cell_type": "code",
   "execution_count": null,
   "metadata": {
    "colab": {},
    "colab_type": "code",
    "id": "VvDWwCL2pLlJ"
   },
   "outputs": [],
   "source": [
    "X_train, X_test, y_train, y_test = train_test_split(X, y, stratify=y, random_state=12)"
   ]
  },
  {
   "cell_type": "code",
   "execution_count": null,
   "metadata": {
    "colab": {},
    "colab_type": "code",
    "id": "_dUmu6YIpNnY"
   },
   "outputs": [],
   "source": [
    "# Utilizamos sklearn para estandarizar la matriz de Features\n",
    "from sklearn.preprocessing import StandardScaler\n",
    "scaler = StandardScaler()\n",
    "X_train = scaler.fit_transform(X_train)"
   ]
  },
  {
   "cell_type": "markdown",
   "metadata": {
    "colab_type": "text",
    "id": "EnTUFHX9pLlN"
   },
   "source": [
    "Fitear un modelo de regresión logística:"
   ]
  },
  {
   "cell_type": "code",
   "execution_count": null,
   "metadata": {
    "colab": {},
    "colab_type": "code",
    "id": "h_28GK39pLlP"
   },
   "outputs": [],
   "source": [
    "logreg = LogisticRegression(C=1e10)"
   ]
  },
  {
   "cell_type": "code",
   "execution_count": null,
   "metadata": {
    "colab": {},
    "colab_type": "code",
    "id": "m-GKnqdRpLlU",
    "outputId": "72e1e783-9ed1-4bdc-9035-e6ab666a735d"
   },
   "outputs": [],
   "source": [
    "logreg.fit(X_train, y_train)"
   ]
  },
  {
   "cell_type": "code",
   "execution_count": null,
   "metadata": {
    "colab": {},
    "colab_type": "code",
    "id": "QaiK9eOBpUM7"
   },
   "outputs": [],
   "source": [
    "X_test = scaler.transform(X_test)"
   ]
  },
  {
   "cell_type": "code",
   "execution_count": null,
   "metadata": {
    "colab": {},
    "colab_type": "code",
    "id": "EcsqYXGbpLld"
   },
   "outputs": [],
   "source": [
    "y_pred = logreg.predict(X_test)"
   ]
  },
  {
   "cell_type": "markdown",
   "metadata": {
    "colab_type": "text",
    "id": "cCFl8pMcpLlh"
   },
   "source": [
    "Imprimir la matriz de confusión:"
   ]
  },
  {
   "cell_type": "code",
   "execution_count": null,
   "metadata": {},
   "outputs": [],
   "source": [
    "y_test.value_counts()"
   ]
  },
  {
   "cell_type": "code",
   "execution_count": null,
   "metadata": {
    "colab": {},
    "colab_type": "code",
    "id": "GEdIHSpgpLli",
    "outputId": "89d3837a-8a6f-41b3-cc7a-47b914887c8e"
   },
   "outputs": [],
   "source": [
    "conmat = np.array(confusion_matrix(y_test, y_pred))\n",
    "\n",
    "confusion = pd.DataFrame(conmat, index=['under_200k', 'over_200k'],\n",
    "                         columns=['predicted_under_200k','predicted_over_200k'])\n",
    "\n",
    "print(confusion)"
   ]
  },
  {
   "cell_type": "markdown",
   "metadata": {
    "colab_type": "text",
    "id": "pRqRYfPDpLln"
   },
   "source": [
    "Calcular la proporción de casos correctamente clasificados, la precisión y el recall."
   ]
  },
  {
   "cell_type": "code",
   "execution_count": null,
   "metadata": {
    "colab": {},
    "colab_type": "code",
    "id": "TZJKh71opLlp",
    "outputId": "102b098a-3a4c-4b89-8f26-9db5ad0f764c"
   },
   "outputs": [],
   "source": [
    "print('Accuracy=', accuracy_score(y_test, y_pred))\n",
    "print('Recall=', recall_score(y_test, y_pred))\n",
    "print('Precision=', precision_score(y_test, y_pred))"
   ]
  },
  {
   "cell_type": "markdown",
   "metadata": {
    "colab_type": "text",
    "id": "GKOCFnjxpLlu"
   },
   "source": [
    "¿Qué dicen estas tres medidas acerca del modelo?"
   ]
  },
  {
   "cell_type": "markdown",
   "metadata": {
    "colab_type": "text",
    "id": "mBWkfdNOpLlu"
   },
   "source": [
    "Supongamos que un vendedor inmboliario quiere priorizar minimizar los falsos positivos (predecir que una casa se va a vender por encima de \\$200.000 cuando en realidad se vende por menos) porque este tipo de errores le hacen \"perder plata\".\n",
    "\n",
    "Cambiar el umbral de decisión para **bajar la tasa de falsos positivos** e imprimir nuevamente la matriz de confusión."
   ]
  },
  {
   "cell_type": "code",
   "execution_count": null,
   "metadata": {
    "colab": {},
    "colab_type": "code",
    "id": "-Y2l6t08pLlw"
   },
   "outputs": [],
   "source": [
    "probs = logreg.predict_proba(X_test)\n",
    "probs_1 = probs[:,1]"
   ]
  },
  {
   "cell_type": "code",
   "execution_count": null,
   "metadata": {
    "colab": {},
    "colab_type": "code",
    "id": "b-Nby972pLl0"
   },
   "outputs": [],
   "source": [
    "y_pred_2 = probs_1 > 0.7"
   ]
  },
  {
   "cell_type": "code",
   "execution_count": null,
   "metadata": {
    "colab": {},
    "colab_type": "code",
    "id": "Wr9546gcpLl6",
    "outputId": "f14c80be-071b-46dc-bdb8-8775ab3e9c72"
   },
   "outputs": [],
   "source": [
    "confusion_matrix(y_test, y_pred_2)"
   ]
  },
  {
   "cell_type": "code",
   "execution_count": null,
   "metadata": {
    "colab": {},
    "colab_type": "code",
    "id": "7vYQewLvpLmK",
    "outputId": "ea78fe16-795f-4fde-bd90-d4fd4e4c3412"
   },
   "outputs": [],
   "source": [
    "print('Accuracy=', accuracy_score(y_test, y_pred_2))\n",
    "print('Recall=', recall_score(y_test, y_pred_2))\n",
    "print('Precision=', precision_score(y_test, y_pred_2))"
   ]
  },
  {
   "cell_type": "markdown",
   "metadata": {
    "colab_type": "text",
    "id": "wfcTB1TIpLmX"
   },
   "source": [
    "* ¿Cuál sería el lado \"negativo\" de bajar la tasa de falsos positivos?"
   ]
  },
  {
   "cell_type": "markdown",
   "metadata": {
    "colab_type": "text",
    "id": "bBmdlLMmpLmZ"
   },
   "source": [
    "Graficar la curva ROC usando las funciones provistas más arriba."
   ]
  },
  {
   "cell_type": "code",
   "execution_count": null,
   "metadata": {
    "colab": {},
    "colab_type": "code",
    "id": "PDrTZ1dGpLma",
    "outputId": "f88757a2-2fcb-48a0-cf1c-ccf12bf8fb86"
   },
   "outputs": [],
   "source": [
    "fpr,tpr,_ = roc_curve(y_test, probs[:,1])\n",
    "df = pd.DataFrame(dict(fpr=fpr, tpr=tpr))\n",
    "plt.axis([0, 1.01, 0, 1.01])\n",
    "plt.xlabel('1 - Specificty')\n",
    "plt.ylabel('TPR / Sensitivity')\n",
    "plt.title('ROC Curve')\n",
    "plt.plot(df['fpr'],df['tpr'])\n",
    "plt.plot(np.arange(0,1, step =0.01), np.arange(0,1, step =0.01))\n",
    "plt.show() "
   ]
  },
  {
   "cell_type": "code",
   "execution_count": null,
   "metadata": {
    "colab": {},
    "colab_type": "code",
    "id": "0i3GQc0NpLme",
    "outputId": "e79c627a-2103-4a53-e7db-dd55bbf4bb06"
   },
   "outputs": [],
   "source": [
    "auc(fpr,tpr)"
   ]
  },
  {
   "cell_type": "markdown",
   "metadata": {
    "colab_type": "text",
    "id": "EGIzXO-0pLms"
   },
   "source": [
    "**Bonus:** ¿Cuándo pueden ser las métricas precision y recall más útiles que la curva ROC?"
   ]
  },
  {
   "cell_type": "markdown",
   "metadata": {
    "colab_type": "text",
    "id": "TFN7MquvpLmt"
   },
   "source": [
    "Tienden a ser más útiles cuando la proporción de casos positivos es menor, dado que ambas métricas son sensibles a esto."
   ]
  },
  {
   "cell_type": "markdown",
   "metadata": {
    "colab_type": "text",
    "id": "KMg0j8ElpLmu"
   },
   "source": [
    "## BONUS: Evaluar otros modelos\n",
    "\n",
    "Evaluar otros clasificadores además de una regresión logística para este dataset."
   ]
  },
  {
   "cell_type": "code",
   "execution_count": null,
   "metadata": {},
   "outputs": [],
   "source": [
    "from sklearn.naive_bayes import GaussianNB\n",
    "\n",
    "nbc = GaussianNB()"
   ]
  },
  {
   "cell_type": "code",
   "execution_count": null,
   "metadata": {},
   "outputs": [],
   "source": [
    "nbc.fit(X_train, y_train)\n",
    "y_preds_nb = nbc.predict(X_test)\n",
    "y_probs_nb = nbc.predict_proba(X_test)"
   ]
  },
  {
   "cell_type": "code",
   "execution_count": null,
   "metadata": {},
   "outputs": [],
   "source": [
    "fpr_nb,tpr_nb,thr_nb = roc_curve(y_test, y_probs_nb[:,1])\n",
    "fpr_log,tpr_log,thr_log = roc_curve(y_test, probs[:,1])\n",
    "\n",
    "plt.axis([0, 1.01, 0, 1.01])\n",
    "plt.xlabel('1 - Specificty')\n",
    "plt.ylabel('TPR / Sensitivity')\n",
    "plt.title('ROC Curve')\n",
    "plt.plot(fpr_nb,tpr_nb)\n",
    "plt.plot(fpr_log,tpr_log)\n",
    "plt.plot(np.arange(0,1, step =0.01), np.arange(0,1, step =0.01))\n",
    "plt.legend(['NB','Logit'])\n",
    "plt.show()"
   ]
  },
  {
   "cell_type": "code",
   "execution_count": null,
   "metadata": {},
   "outputs": [],
   "source": [
    "print('AUC-NB=', auc(fpr_nb, tpr_nb))\n",
    "print('AUC-Logit=', auc(fpr_log, tpr_log))"
   ]
  },
  {
   "cell_type": "code",
   "execution_count": null,
   "metadata": {},
   "outputs": [],
   "source": []
  }
 ],
 "metadata": {
  "colab": {
   "collapsed_sections": [],
   "name": "4.Solution_LAB_ROC_&_Metrics.ipynb",
   "provenance": [],
   "version": "0.3.2"
  },
  "kernelspec": {
   "display_name": "Python 3",
   "language": "python",
   "name": "python3"
  },
  "language_info": {
   "codemirror_mode": {
    "name": "ipython",
    "version": 3
   },
   "file_extension": ".py",
   "mimetype": "text/x-python",
   "name": "python",
   "nbconvert_exporter": "python",
   "pygments_lexer": "ipython3",
   "version": "3.6.10"
  }
 },
 "nbformat": 4,
 "nbformat_minor": 4
}

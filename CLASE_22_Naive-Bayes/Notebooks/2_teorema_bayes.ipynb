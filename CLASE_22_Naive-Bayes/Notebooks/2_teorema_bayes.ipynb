{
 "cells": [
  {
   "cell_type": "code",
   "execution_count": null,
   "metadata": {},
   "outputs": [],
   "source": [
    "# initial setup\n",
    "try:\n",
    "    # settings colab:\n",
    "    import google.colab\n",
    "        \n",
    "except ModuleNotFoundError:    \n",
    "    # settings local:\n",
    "    %run \"../../../common/0_notebooks_base_setup.py\""
   ]
  },
  {
   "cell_type": "markdown",
   "metadata": {},
   "source": [
    "---\n",
    "\n",
    "<img src='../../../common/logo_DH.png' align='left' width=35%/>"
   ]
  },
  {
   "cell_type": "markdown",
   "metadata": {},
   "source": [
    "# Teorema de Bayes\n",
    "\n",
    "---"
   ]
  },
  {
   "cell_type": "markdown",
   "metadata": {},
   "source": [
    "<a id=\"section_toc\"></a> \n",
    "\n",
    "## Tabla de Contenidos\n",
    "\n",
    "[Teorema de Bayes](#section_teorema_bayes)\n",
    "\n",
    "[Independencia](#section_independencia)\n",
    "\n"
   ]
  },
  {
   "cell_type": "markdown",
   "metadata": {},
   "source": [
    "<a id=\"section_teorema_bayes\"></a> \n",
    "## Teorema de Bayes\n",
    "\n",
    "[volver a TOC](#section_toc)\n",
    "\n",
    "\n",
    "El Teorema de Bayes fue publicado por primera vez en 1763, dos años después de la muerte de su creador: el matemático y teólogo inglés Thomas Bayes\n",
    "\n",
    "\n",
    "<div class=\"alert alert-block alert-success\">\n",
    "    \n",
    "Sea $\\{B1, ..., Bn\\}$ es una partición finita de $\\Omega$ tal que $P(B_{i} \\neq 0), i = 1, ..., n$.\n",
    "\n",
    "Sea $A$ un evento tal que $P(A) \\neq 0$\n",
    "\n",
    "Entonces para cada $j = 1, 2, ..., n$\n",
    "\n",
    "$$P(B_{j}|A) = \\frac{P(A|B_{j})P(B_{j})}{\\sum_{i=1}^nP(A|B_{i})P(B_{i})}$$\n",
    "\n",
    "</div>\n",
    "\n",
    "\n",
    "**Demostración**\n",
    "\n",
    "Por definición de probabilidad condicional, y usando el teorema de probabilidad total, tenemos para cada $j = 1, 2, ..., n$\n",
    "\n",
    "$$P(B_{j}|A) = \\frac{P(A \\cap B_{j})}{P(A)} = \\frac{P(A|B_{j})P(B_{j})}{\\sum_{i=1}^nP(A|B_{i})P(B_{i})}$$\n"
   ]
  },
  {
   "cell_type": "markdown",
   "metadata": {},
   "source": [
    "## Ejercicio\n",
    "\n",
    "En una fábrica hay dos máquinas. \n",
    "\n",
    "La máquina 1 realiza el 60% de la producción total y la máquina 2 el 40%. \n",
    "\n",
    "De su producción total, la máquina 1 produce 3% de material defectuoso, la 2 el 5%. \n",
    "\n",
    "Se ha encontrado un material defectuoso.\n",
    "\n",
    "1) ¿Cuál es la probabilidad de que este material defectuoso provenga de la máquina 2?\n",
    "\n",
    "\n",
    "2) Comprobar que P(M1|D) = 9/19"
   ]
  },
  {
   "cell_type": "code",
   "execution_count": null,
   "metadata": {},
   "outputs": [],
   "source": []
  },
  {
   "cell_type": "code",
   "execution_count": null,
   "metadata": {},
   "outputs": [],
   "source": []
  },
  {
   "cell_type": "markdown",
   "metadata": {},
   "source": [
    "### Solución\n",
    "\n",
    "1) Es conveniente definir los siguientes eventos:\n",
    "\n",
    "D = El material escogido es defectuoso,\n",
    "\n",
    "M1 = La máquina 1 produjo el material escogido,\n",
    "\n",
    "M2 = La máquina 2 produjo el material escogido\n",
    "\n",
    "La pregunta planteada se traduce en encontrar P(M2|D) y observamos que la información que tenemos es P(D|M2). Por el teorema de Bayes,\n",
    "\n",
    "$$P(M_2|D) = \\frac{P(D|M_2)P(M_2)}{P(D|M_1)P(M_1) + P(D|M_2)P(M_2)}$$\n",
    "\n",
    "$$P(M_2|D) = \\frac{0.05 * 0.4}{0.03 * 0.6 + 0.05 * 0.4}$$\n",
    "\n",
    "$$P(M_2|D) = 0.526$$"
   ]
  },
  {
   "cell_type": "markdown",
   "metadata": {},
   "source": [
    "## Ejemplo\n",
    "\n",
    "En un laboratorio se descubrió una prueba para detectar cierta enfermedad, y sobre la eficacia de dicha prueba se conoce lo siguiente: \n",
    "\n",
    "si se denota por E el evento de que un paciente tenga la enfermedad y por N el evento de que la prueba resulte negativa, entonces se sabe que\n",
    "\n",
    "$P(N^C | E) = 0.95$\n",
    "\n",
    "$P(N | E^C) = 0.96$\n",
    "\n",
    "$P(E) = 0.01$\n",
    "\n",
    "($E^C$ es el evento de que un paciente no tenga la enfermedad, $N^C$ es el evento de que la prueba resulte positiva)\n",
    "\n",
    "Observemos que en esta información es útil cuando conocemos si el paciente está enfermo o no. \n",
    "\n",
    "Calculemos las probabilidades $P(E|N^C)$ y $P(E|N)$ para saber la efectividad de la prueba cuando una persona recibe su resultado.\n",
    "\n",
    "Usando el teorema de bayes tenemos que\n",
    "\n",
    "$$P(E|N) = \\frac{P(N|E)P(E)}{P(N|E)P(E) + P(N|E^C)P(E^C)}$$\n",
    "\n",
    "$$P(E|N) = \\frac{0.05 * 0.01}{0.05 * 0.01 + 0.96 * 0.99}$$\n",
    "\n",
    "$$P(E|N) = 0.000526$$\n",
    "\n",
    "Una baja probabilidad de falso negativo es bueno\n",
    "\n",
    "$$P(E|N^C) = \\frac{P(N^C|E)P(E)}{P(N^C|E)P(E) + P(N^C|E^C)P(E^C)}$$\n",
    "\n",
    "$$P(E|N^C) = \\frac{0.95 * 0.01}{0.95 * 0.01 + 0.04 * 0.99}$$\n",
    "\n",
    "$$P(E|N^C) = 0.193$$\n",
    "\n",
    "Una baja probabilidad de verdadero positivo es malo."
   ]
  },
  {
   "cell_type": "markdown",
   "metadata": {},
   "source": [
    "<a id=\"section_independencia\"></a> \n",
    "## Independencia\n",
    "\n",
    "[volver a TOC](#section_toc)\n",
    "\n",
    "\n",
    "La independencia entre eventos es equivalente a que la ocurrencia de un evento no afecta la probabilidad de ocurrencia de otro evento.\n",
    "\n",
    "Es un concepto importante que en algunos casos simplificará considerablemente el cálculo de probabilidades conjuntas.\n",
    "\n",
    "### Definición\n",
    "\n",
    "Se dice que los eventos A y B son independientes si se cumple la igualdad\n",
    "\n",
    "$$P(A \\cap B) = P(A)P(B)$$\n",
    "\n",
    "Esto significa que la ocurrencia del evento B no afecta la probabilidad del evento A. \n",
    "\n",
    "Análogamente, cuando P(A) > 0, la condición se puede escribir como\n",
    "\n",
    "$$P(B|A) = P(B)$$\n",
    "\n",
    "es decir, la ocurrencia del evento A no cambia a la probabilidad de B"
   ]
  },
  {
   "cell_type": "markdown",
   "metadata": {},
   "source": [
    "### Ejemplo\n",
    "\n",
    "Consideremos un experimento aleatorio con espacio muestral equiprobable $ \\Omega = \\{1, 2, 3, 4\\} $\n",
    "\n",
    "Los eventos $A = \\{1, 2\\}$ y $B = \\{1, 3\\}$ son independientes pues un tanto $P(A \\cap B)$ como $P(A)P(B)$ coinciden en el valor 1/4.\n",
    "\n",
    "Los eventos $A = \\{1, 2, 3\\}$ y $B = \\{1, 3\\}$ no son independientes pues $P(A \\cap B)$ = 1/2, mientras que $P(A)P(B) = (3/4)(1/2) = 3/8$ \n"
   ]
  },
  {
   "cell_type": "markdown",
   "metadata": {},
   "source": [
    "### Definición (extensión)\n",
    "\n",
    "La definición de independencia de dos eventos puede extenderse al caso de tres eventos y, más generalmente, para cualquier colección finita de eventos:\n",
    "\n",
    "Decimos que $n$ eventos $A_1, A_2, ..., A_n$ son mutuamente independientes si satisfacen todas y cada una de la siguientes condiciones:\n",
    "\n",
    "$ P(A_i \\cap A_j) = P(A_i)P(A_j), i\\; j\\; distintos$\n",
    "\n",
    "$ P(A_i \\cap A_j \\cap A_k) = P(A_i)P(A_j)P(A_k), i\\; j\\; k\\; distintos$\n",
    "\n",
    "...\n",
    "\n",
    "$ P(A_1 \\cap ... \\cap A_n) = P(A_1)...P(A_n)$\n"
   ]
  }
 ],
 "metadata": {
  "kernelspec": {
   "display_name": "Python 3",
   "language": "python",
   "name": "python3"
  },
  "language_info": {
   "codemirror_mode": {
    "name": "ipython",
    "version": 3
   },
   "file_extension": ".py",
   "mimetype": "text/x-python",
   "name": "python",
   "nbconvert_exporter": "python",
   "pygments_lexer": "ipython3",
   "version": "3.6.10"
  }
 },
 "nbformat": 4,
 "nbformat_minor": 4
}

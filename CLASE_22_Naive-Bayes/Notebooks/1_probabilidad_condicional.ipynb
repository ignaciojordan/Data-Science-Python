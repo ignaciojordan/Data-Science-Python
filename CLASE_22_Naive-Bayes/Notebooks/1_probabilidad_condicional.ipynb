{
 "cells": [
  {
   "cell_type": "code",
   "execution_count": null,
   "metadata": {},
   "outputs": [],
   "source": [
    "# initial setup\n",
    "try:\n",
    "    # settings colab:\n",
    "    import google.colab\n",
    "        \n",
    "except ModuleNotFoundError:    \n",
    "    # settings local:\n",
    "    %run \"../../../common/0_notebooks_base_setup.py\""
   ]
  },
  {
   "cell_type": "markdown",
   "metadata": {},
   "source": [
    "---\n",
    "\n",
    "<img src='../../../common/logo_DH.png' align='left' width=35%/>"
   ]
  },
  {
   "cell_type": "markdown",
   "metadata": {},
   "source": [
    "# Probabilidad Condicional\n",
    "\n",
    "---"
   ]
  },
  {
   "cell_type": "markdown",
   "metadata": {},
   "source": [
    "<a id=\"section_toc\"></a> \n",
    "\n",
    "## Tabla de Contenidos\n",
    "\n",
    "[Intro](#section_intro)\n",
    "\n",
    "[Probabilidad Condicional](#section_probabilidad_condicional)\n",
    "\n",
    "[Partición](#section_particion)\n",
    "\n",
    "[Teorema de Probabilidad Total](#section_teorema_probabilidad_total)\n"
   ]
  },
  {
   "cell_type": "markdown",
   "metadata": {},
   "source": [
    "<a id=\"section_intro\"></a> \n",
    "## Intro\n",
    "\n",
    "[volver a TOC](#section_toc)\n",
    "\n",
    "\n",
    "Cuando ustedes van a comprar algo en Internet: \n",
    "    \n",
    "* ¿Miran la calificación del vendedor?\n",
    "\n",
    "* ¿Su evaluación de la calidad del vendedor es la misma si éste tiene muchos años en el sitio y/o alto porcentaje de valoraciones positivas que si no lo tiene?\n",
    "\n",
    "Calcular probabilidades condicionales equivale al proceso que realizamos al elegir el vendedor en base a la reputación. \n",
    "\n",
    "En base a la información en la que se condiciona, actualizamos nuestra creencia (probabilidad) de que el vendedor sea malo o bueno.\n",
    "\n",
    "Supongamos una pequeña población de vendedores en sitios de internet con los siguientes atributos.\n",
    "* Para cada vendedor se registra si tiene 10 o más años vendiendo en el sitio \n",
    "* y se sabe su tipo (si es bueno u oportunista)\n",
    "\n",
    "\n",
    "||bueno|malo|\n",
    "|---|:---:|:---|\n",
    "|10 años o más|16|8|\n",
    "|menos de 10 años|10|16|\n",
    "\n",
    "**¿Cuál es la probabilidad de que no sea oportunista dado que lleva 10 o más años vendiendo en el sitio?**\n",
    "\n",
    "**Condicionar** es fijar la fila que voy a mirar. \n",
    "\n",
    "Dado que sé que el vendedor tiene 10 o más años, sólo consideramos la proporción de vendedores buenos dentro de la primera fila de la tabla.\n",
    "\n",
    "||bueno|malo||\n",
    "|---|:---:|:---|:---|\n",
    "|10 años o más|16|8|<font color='red'>24</font>|\n",
    "|menos de 10 años|10|16|<font color='red'>26</font>|\n",
    "||<font color='red'>26</font>|<font color='red'>24</font>|<font color='red'>50</font>|\n",
    "\n",
    "Definimos dos eventos \n",
    "* A: ser buen vendedor\n",
    "* B: tener 10 años o más vendiendo en el sitio\n",
    "\n",
    "\n",
    "La probabilidad de un evento A dado que ocurrió el evento B es la cantidad de eventos favorables a A y B simultaneamente sobre los casos posibles que son aquellos en que ocurre B: 16/24 = 0.67\n",
    "\n",
    "\n"
   ]
  },
  {
   "cell_type": "markdown",
   "metadata": {},
   "source": [
    "<a id=\"section_probabilidad_condicional\"></a> \n",
    "## Probabilidad Condicional\n",
    "\n",
    "[volver a TOC](#section_toc)\n",
    "\n",
    "\n",
    "\n",
    "### Definición\n",
    "<div class=\"alert alert-block alert-success\">\n",
    "\n",
    "Sean A y B dos eventos y supongamos que B tiene probabilidad estrictamente positiva ($P(B) > 0$). \n",
    "\n",
    "La probabilidad condicional del evento A, dado el evento B, se denota con el símbolo $P(A|B)$ y se define como el cociente \n",
    "\n",
    "$$P(A|B) = \\frac{P(A \\cap B)}{P(B)}$$\n",
    "\n",
    "$P(A|B)$ se lee: \"La probabilidad de A dado B\"\n",
    "\n",
    "</div>"
   ]
  },
  {
   "cell_type": "markdown",
   "metadata": {},
   "source": [
    "Podemos imaginar que el espacio muestral del experimento aleatorio se ha reducido al evento B de tal forma que todo lo que se encuentre fuera de este evento tiene probabilidad condicional cero.\n",
    "\n",
    "<img src='img/prob_condicional.png' align='left' width=35%/>"
   ]
  },
  {
   "cell_type": "markdown",
   "metadata": {},
   "source": [
    "<div id=\"caja1\" style=\"float:left;width: 100%;\">\n",
    "  <div style=\"float:left;width: 15%;\"><img src=\"../../../common/icons/para_seguir_pensando.png\" style=\"align:left\"/> </div>\n",
    "  <div style=\"float:left;width: 85%;\"><label>\n",
    "      \n",
    "Siguiendo el ejemplo del vendedor, ¿qué pasa si P(B)=0? \n",
    "\n",
    "No puedo hacer el cociente. \n",
    "\n",
    "¿Intuición?  No podemos actualizar creencias sobre el tipo del vendedor basado en un evento que tiene probabilidad nula de ser visto.\n",
    "\n",
    "</label></div>\n",
    "</div>\n",
    " \n",
    "\n"
   ]
  },
  {
   "cell_type": "markdown",
   "metadata": {},
   "source": [
    "Apliquemos la definición de probabilidad condicional al ejemplo de vendedores online.\n",
    "\n",
    "$P(A \\cap B) = 16/50$ (Observación: $\\cap$ es **y**, P(A y B))\n",
    "\n",
    "$P(B) = 24/50$\n",
    "\n",
    "$P(B|A) = (16/50)/(24/50)=(16/50)*(50/24)=16/24$\n",
    "\n",
    "(Es el mismo resultado que calculamos \"intuitivamente\" más arriba)\n"
   ]
  },
  {
   "cell_type": "markdown",
   "metadata": {},
   "source": [
    "### Ejemplo\n",
    "\n",
    "Consideremos el experimento de lanzar un dado equilibrado y definamos los eventos\n",
    "\n",
    "A = {2} = \"Se obtiene el número 2\"\n",
    "\n",
    "B = {2, 4, 6} = \"Se obtiene un número par\"\n",
    "\n",
    "Es claro que P(A) = 1/6, sin embargo sabiendo que ha ocurrido B, es decir, sabiendo que el resultado es un número par, la probabilidad del evento A es ahora P(A|B)\n",
    "\n",
    "$$P(A|B) = \\frac{P(A \\cap B)}{P(B)} = \\frac{P(\\{2\\})}{P(\\{2,4,6\\})} = \\frac{1/6}{3/6} = \\frac{1}{3} $$\n",
    "\n",
    "Es decir, la información adicional de la ocurrencia del evento B, ha hecho que la probabilidad de A se incremente de 1/6 a 1/3\n"
   ]
  },
  {
   "cell_type": "markdown",
   "metadata": {},
   "source": [
    "### Ejercicio\n",
    "\n",
    "Un grupo de personas está compuesto de 60% hombres y 40% de mujeres. \n",
    "\n",
    "De los hombres, el 30% fuma y de las mujeres, el 20% fuma. \n",
    "\n",
    "Si una persona de este grupo se escoge al azar, encuentre la probabilidad de que \n",
    "\n",
    "* sea hombre y fume\n",
    "* sea hombre y no fume\n",
    "* sea mujer y fuma\n",
    "* sea mujer y no fume\n",
    "\n",
    "¿ Y la probabilidad de que sea hombre dado que fuma?\n"
   ]
  },
  {
   "cell_type": "code",
   "execution_count": null,
   "metadata": {},
   "outputs": [],
   "source": []
  },
  {
   "cell_type": "code",
   "execution_count": null,
   "metadata": {},
   "outputs": [],
   "source": []
  },
  {
   "cell_type": "markdown",
   "metadata": {},
   "source": [
    "<a id=\"section_particion\"></a> \n",
    "## Partición\n",
    "\n",
    "[volver a TOC](#section_toc)\n",
    "\n",
    "\n",
    "<img src='img/particion.png' align='right'/>\n",
    "\n",
    "Sea $\\Omega$ el espacio muestral de un experimento aleatorio. \n",
    "\n",
    "Decimos que la colección de eventos $\\{B1, ..., Bn\\}$ es una partición finita de $\\Omega$ si se cumplen las siguientes condiciones:\n",
    "\n",
    "a) $B_i \\neq \\varnothing, i = 1, ..., n$ \n",
    "\n",
    "(Ningún evento es vacío = Para todos los valores de i 1 ... n, $B_i$ no es vacío.)\n",
    "\n",
    "b) $B_i \\cap B_j = \\varnothing \\;para\\; i \\neq j$ \n",
    "\n",
    "(La intersección entre dos eventos distintos es vacía = Si i es distinto de j entonces la intersección entre $B_i$ y $B_j$ es vacía)\n",
    "\n",
    "c) $\\bigcup\\limits_{i=1}^{n} B_{i} = \\Omega $ \n",
    "\n",
    "(La unión de todos los $B_i$ da como resultado el espacio muestral  $\\Omega$)"
   ]
  },
  {
   "cell_type": "markdown",
   "metadata": {},
   "source": [
    "<a id=\"section_teorema_probabilidad_total\"></a> \n",
    "## Teorema de Probabilidad Total\n",
    "\n",
    "[volver a TOC](#section_toc)\n",
    "\n",
    "\n",
    "Sea $B1, ..., Bn$ una partición finita de $\\Omega$ tal que $P(B_{i} \\neq 0), i = 1, ..., n$.\n",
    "\n",
    "Para cualquier evento A, \n",
    "\n",
    "$$ P(A) = \\sum _{i=1}^{n}{P(A | B_{i}) P(B_{i})}$$\n",
    "\n",
    "\n",
    "Cuando la partición del espacio muestral consta unicamente de los elementos $B$ y $B^{C}$ (B y complemeto de B), la fórmula del Teorema de Probabilidad Total se reduce a la expresión \n",
    "\n",
    "$$ P(A) = P(A | B) P(B) + P(A | B^{C}) P(B^{C})$$"
   ]
  },
  {
   "cell_type": "markdown",
   "metadata": {},
   "source": [
    "### Ejemplo\n",
    "\n",
    "Supongamos que tenemos dos cajas: una con 3 bolas blancas y 7 bolas de color gris, la otra con 6 blancas y 6 grises.\n",
    "\n",
    "Si se elije una caja al azar y después se saca una bola al azar, ¿cuál es la probabilidad de que se blanca?\n",
    "\n",
    "$\\Omega = \\{ (caja1, blanca), (caja1, gris), (caja2, blanca), (caja2, gris) \\}$\n",
    "\n",
    "El par (*caja i*, *color*) indica el evento en el que se eligió la bola *color* de la *caja i*\n",
    "\n",
    "**Nos piden calcular P(blanca)**\n",
    "\n",
    "Observemos que es fácil calcular la probabilidad de este evento cuando se conoce la caja que fue escogida.\n",
    "\n",
    "Vamos a condicionar sobre el resultado de escoger alguna de las dos cajas, y aplicar el teorema de probabilidad total:\n",
    "\n",
    "$ P(blanca) = P(blanca | caja1) P(caja1) + P(blanca | caja2) P(caja2)$\n",
    "\n",
    "$ P(blanca) = (3/10) (1/2) + (6/12) (1/2)$\n",
    "\n",
    "$ P(blanca) = 2/5$"
   ]
  },
  {
   "cell_type": "markdown",
   "metadata": {},
   "source": [
    "### Ejercicio\n",
    "\n",
    "Suponga que en una población humana de igual número de hombres y mujeres, el 4 % de hombres son daltónicos y el 1 % de las mujeres son daltónicas. \n",
    "\n",
    "Una persona es elegida al azar, ¿cuál es la probabilidad de que sea daltónica?\n"
   ]
  },
  {
   "cell_type": "code",
   "execution_count": null,
   "metadata": {},
   "outputs": [],
   "source": []
  },
  {
   "cell_type": "code",
   "execution_count": null,
   "metadata": {},
   "outputs": [],
   "source": []
  },
  {
   "cell_type": "code",
   "execution_count": null,
   "metadata": {},
   "outputs": [],
   "source": []
  },
  {
   "cell_type": "code",
   "execution_count": null,
   "metadata": {},
   "outputs": [],
   "source": []
  },
  {
   "cell_type": "code",
   "execution_count": null,
   "metadata": {},
   "outputs": [],
   "source": []
  },
  {
   "cell_type": "code",
   "execution_count": null,
   "metadata": {},
   "outputs": [],
   "source": []
  },
  {
   "cell_type": "markdown",
   "metadata": {},
   "source": [
    "#### Solución\n",
    "\n",
    "Definamos primero los eventos de interés. Sea:\n",
    "\n",
    "* M el evento \"La persona escogida es mujer\",\n",
    "\n",
    "* H el evento \"La persona escogida es hombre\",\n",
    "\n",
    "* D el evento \"La persona escogida es daltónica\". \n",
    "\n",
    "Calculamos P(D).  Por el teorema de probabilidad total,\n",
    "\n",
    "$ P(D) = P(D | H) P(H) + P(D | M) P(M)$\n",
    "\n",
    "$ P(D) = (4/100) (1/2) + (1/100) (1/2)$\n",
    "\n",
    "$ P(D) = 1/40$\n"
   ]
  },
  {
   "cell_type": "code",
   "execution_count": null,
   "metadata": {},
   "outputs": [],
   "source": []
  }
 ],
 "metadata": {
  "kernelspec": {
   "display_name": "Python 3",
   "language": "python",
   "name": "python3"
  },
  "language_info": {
   "codemirror_mode": {
    "name": "ipython",
    "version": 3
   },
   "file_extension": ".py",
   "mimetype": "text/x-python",
   "name": "python",
   "nbconvert_exporter": "python",
   "pygments_lexer": "ipython3",
   "version": "3.6.10"
  }
 },
 "nbformat": 4,
 "nbformat_minor": 4
}

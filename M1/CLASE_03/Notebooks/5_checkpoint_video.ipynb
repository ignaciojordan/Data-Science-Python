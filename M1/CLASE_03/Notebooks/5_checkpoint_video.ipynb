{
 "cells": [
  {
   "cell_type": "code",
   "execution_count": null,
   "metadata": {},
   "outputs": [],
   "source": [
    "# initial setup\n",
    "try:\n",
    "    # settings colab:\n",
    "    import google.colab\n",
    "    ! mkdir -p ../Data\n",
    "    ! wget -O ../Data/sales_data_sample_excercise.csv \"https://raw.githubusercontent.com/Digital-House-DATA/ds_blend_students_2020/master/M1/CLASE_03/Data/sales_data_sample_excercise.csv?token=AA4GFHIVZW44W62U344QKYS6UTVYO\"    \n",
    "except ModuleNotFoundError:    \n",
    "    # settings local:\n",
    "    %run \"../../../common/0_notebooks_base_setup.py\"    "
   ]
  },
  {
   "cell_type": "markdown",
   "metadata": {},
   "source": [
    "---\n",
    "\n",
    "<img src='../../../common/logo_DH.png' align='left' width=35%/>\n"
   ]
  },
  {
   "cell_type": "markdown",
   "metadata": {},
   "source": [
    "Los temas que vimos en esta parte son Numpy, Estadística, y Probabilidadades.\n",
    "\n",
    "La idea de esta práctica es ejercitar los puntos que vamos a necesitar en la clase presencial.\n",
    "\n",
    "Usaremos un resumen del dataset de Kaggle que tiene datos de ventas:\n",
    "\n",
    "https://www.kaggle.com/kyanyoga/sample-sales-data\n"
   ]
  },
  {
   "cell_type": "markdown",
   "metadata": {},
   "source": [
    "## Ejercicio 1\n",
    "Leer los datos del archivo /M1/CLASE_03/Data/sales_data_sample_excercise.csv\n",
    "\n",
    "Este archivo tiene algunos datos numéricos y otros de tipo cadena de caracteres. \n",
    "\n",
    "Las columnas son:\n",
    "\n",
    "* ORDERNUMBER: int, id de la orden\n",
    "\n",
    "* SALES: float, monto abonado\n",
    "\n",
    "* MONTH_ID: int, mes\n",
    "\n",
    "* YEAR_ID: int, año\n",
    "\n",
    "* PRODUCTLINE: str, producto\n",
    "\n",
    "* COUNTRY: str, país de venta\n",
    "\n",
    "¿Recuerdan que todos los elementos de una instancia de ndarray deben ser del mismo tipo? Entonces vamos a leer el archivo y crear una instancia de ndarray de tipo cadena de caracteres.\n",
    "\n",
    "¿Qué pasaría si intentáramos crear una instancia de tipo int? ¿Y de tipo float?\n"
   ]
  },
  {
   "cell_type": "code",
   "execution_count": null,
   "metadata": {},
   "outputs": [],
   "source": [
    "import numpy as np\n",
    "\n",
    "# local:\n",
    "data_location = '../Data/sales_data_sample_excercise.csv'\n"
   ]
  },
  {
   "cell_type": "code",
   "execution_count": null,
   "metadata": {},
   "outputs": [],
   "source": [
    "data_type_default = np.genfromtxt(data_location, skip_header=1, delimiter='\\t')\n",
    "data_type_default"
   ]
  },
  {
   "cell_type": "code",
   "execution_count": null,
   "metadata": {},
   "outputs": [],
   "source": [
    "data_type_str = np.genfromtxt(data_location, skip_header=1, delimiter='\\t', dtype= str)\n",
    "data_type_str"
   ]
  },
  {
   "cell_type": "code",
   "execution_count": null,
   "metadata": {},
   "outputs": [],
   "source": [
    "data_type_int = np.genfromtxt(data_location, skip_header=1, delimiter='\\t', dtype= int)\n",
    "data_type_int"
   ]
  },
  {
   "cell_type": "code",
   "execution_count": null,
   "metadata": {},
   "outputs": [],
   "source": [
    "data_type_float = np.genfromtxt(data_location, skip_header=1, delimiter='\\t', dtype= float)\n",
    "data_type_float"
   ]
  },
  {
   "cell_type": "markdown",
   "metadata": {},
   "source": [
    "# Ejercicio 2 - Tipos\n",
    "\n",
    "Crear un array numérico que tenga como valores las columna SALES y otro array de str que tenga como valores la columna COUNTRY\n",
    "\n",
    "Ayuda: https://docs.scipy.org/doc/numpy/reference/generated/numpy.ndarray.astype.html"
   ]
  },
  {
   "cell_type": "code",
   "execution_count": null,
   "metadata": {},
   "outputs": [],
   "source": [
    "data = np.genfromtxt(data_location, skip_header=1, delimiter='\\t', dtype= str)\n",
    "\n",
    "sales_vector_str = data[:, 1]\n",
    "sales_vector =  sales_vector_str.astype(np.float)\n",
    "print(sales_vector)\n",
    "\n",
    "country_vector = data[:, 5]\n",
    "print(country_vector)\n"
   ]
  },
  {
   "cell_type": "code",
   "execution_count": null,
   "metadata": {},
   "outputs": [],
   "source": [
    "sales_vector_str"
   ]
  },
  {
   "cell_type": "markdown",
   "metadata": {},
   "source": [
    "## Ejercicio 3 - Funciones de agregación\n",
    "\n",
    "Sobre los datos de precios de ventas (columna SALES) calcular:\n",
    "\n",
    "* mínimo\n",
    "\n",
    "* máximo\n",
    "\n",
    "* promedio\n",
    "\n",
    "* cantidad\n",
    "\n",
    "* suma\n",
    "\n",
    "Ayuda: https://docs.scipy.org/doc/numpy-1.17.0/reference/routines.statistics.html"
   ]
  },
  {
   "cell_type": "code",
   "execution_count": null,
   "metadata": {},
   "outputs": [],
   "source": [
    "np.min(sales_vector)"
   ]
  },
  {
   "cell_type": "code",
   "execution_count": null,
   "metadata": {},
   "outputs": [],
   "source": [
    "np.max(sales_vector)"
   ]
  },
  {
   "cell_type": "code",
   "execution_count": null,
   "metadata": {},
   "outputs": [],
   "source": [
    "np.average(sales_vector)"
   ]
  },
  {
   "cell_type": "code",
   "execution_count": null,
   "metadata": {},
   "outputs": [],
   "source": [
    "sales_vector.size"
   ]
  },
  {
   "cell_type": "code",
   "execution_count": null,
   "metadata": {},
   "outputs": [],
   "source": [
    "np.sum(sales_vector)"
   ]
  },
  {
   "cell_type": "markdown",
   "metadata": {},
   "source": [
    "## Ejercicio 4 - Indexing\n",
    "\n",
    "a) ¿Cuántas ventas se hicieron en USA?\n",
    "\n",
    "Ayuda: boolean indexing\n",
    "\n",
    "b) ¿Cuáles son los precios de las 5 ventas que están en las filas 6 a 10 del dataset?\n",
    "\n",
    "Resolvamos usando array slicing y fancy indexing\n",
    "\n",
    "Ayuda: recuerden `range` https://docs.python.org/3/library/functions.html#func-range"
   ]
  },
  {
   "cell_type": "code",
   "execution_count": null,
   "metadata": {},
   "outputs": [],
   "source": [
    "print(country_vector)\n",
    "mask = country_vector == 'USA'\n",
    "print(mask)\n",
    "country_vector_USA = country_vector[mask]\n",
    "country_vector_USA.size\n"
   ]
  },
  {
   "cell_type": "code",
   "execution_count": null,
   "metadata": {},
   "outputs": [],
   "source": [
    "# array slicing:\n",
    "sales_vector_slicing = sales_vector[6:11]\n",
    "# observemos que el límite superior no está incluído\n",
    "print(sales_vector_slicing)"
   ]
  },
  {
   "cell_type": "code",
   "execution_count": null,
   "metadata": {},
   "outputs": [],
   "source": [
    "# fancy indexing\n",
    "\n",
    "indexes = range(6, 11, 1)\n",
    "indexes_int = [6, 7, 8, 9, 10]\n",
    "sales_vector_fancy = sales_vector[indexes_int]\n",
    "print(sales_vector_fancy)\n"
   ]
  },
  {
   "cell_type": "code",
   "execution_count": null,
   "metadata": {},
   "outputs": [],
   "source": [
    "# veo que obtengo el mismo resultado con una u otra forma de indexación:\n",
    "\n",
    "# una forma es comparar elemento a elemento los dos arrays:\n",
    "print(sales_vector_slicing == sales_vector_fancy)\n",
    "\n",
    "# otra forma es ver si la cantidad de elementos que son iguales en los dos arrays (sum(sales_vector_slicing == sales_vector_fancy)) \n",
    "# es igual a la cantidad total de elementos por array\n",
    "cant_elem = len(sales_vector_slicing)\n",
    "print(sum(sales_vector_slicing == sales_vector_fancy) == cant_elem)\n",
    "\n",
    "# y otra forma es ver si ningún elemento distinto, o sea negar any:\n",
    "print(not any(sales_vector_slicing != sales_vector_fancy))"
   ]
  },
  {
   "cell_type": "markdown",
   "metadata": {},
   "source": [
    "## Ejercicio 5 - Estadística\n",
    "\n",
    "Sobre los datos de precios de ventas (columna SALES) calcular:\n",
    "\n",
    "* media\n",
    "\n",
    "* mediana \n",
    "\n",
    "* desvio\n",
    "\n",
    "* rango\n",
    "\n",
    "\n"
   ]
  },
  {
   "cell_type": "code",
   "execution_count": null,
   "metadata": {},
   "outputs": [],
   "source": [
    "np.mean(sales_vector)"
   ]
  },
  {
   "cell_type": "code",
   "execution_count": null,
   "metadata": {},
   "outputs": [],
   "source": [
    "np.median(sales_vector)"
   ]
  },
  {
   "cell_type": "code",
   "execution_count": null,
   "metadata": {},
   "outputs": [],
   "source": [
    "np.std(sales_vector)"
   ]
  },
  {
   "cell_type": "code",
   "execution_count": null,
   "metadata": {},
   "outputs": [],
   "source": [
    "np.max(sales_vector) - np.min(sales_vector)"
   ]
  },
  {
   "cell_type": "markdown",
   "metadata": {},
   "source": [
    "La función `distribution_plotter` grafica los datos que recibe como parámetro en una instancia de numpy array"
   ]
  },
  {
   "cell_type": "code",
   "execution_count": null,
   "metadata": {},
   "outputs": [],
   "source": [
    "import seaborn as sns\n",
    "def distribution_plotter(data, label):    \n",
    "    sns.set(rc={\"figure.figsize\": (10, 7)})\n",
    "    sns.set_style(\"white\")\n",
    "    dist = sns.distplot(data, hist_kws={'alpha':0.2}, kde_kws={'linewidth':5})\n",
    "    dist.set_title('Distribucion de ' + label + '\\n', fontsize=16)"
   ]
  },
  {
   "cell_type": "markdown",
   "metadata": {},
   "source": [
    "# Ejercicio 6 - Probabilidad\n",
    "\n",
    "Queremos simular las fechas de cumpleaños de los alumnos de data science (en años no bisiestos). ¿Qué distibución usaríamos? ¿Con qué parámetros?\n",
    "\n",
    "Generar 30 datos que simulen los cumpleaños de cada una de las personas en el curso y graficarlos con la función distribution_plotter\n",
    "\n",
    "\n",
    "#Observar:\n",
    "\n",
    "#qué pasa a medida que aumentamos la cantidad de datos generados\n",
    "\n",
    "#qué pasa si seteamos una semilla\n",
    "\n"
   ]
  },
  {
   "cell_type": "code",
   "execution_count": null,
   "metadata": {},
   "outputs": [],
   "source": [
    "random_generator = np.random.default_rng(1234)\n",
    "birthday = random_generator.integers(low=1, high=366, size=30)\n",
    "distribution_plotter(birthday, \"Cumple\")"
   ]
  },
  {
   "cell_type": "markdown",
   "metadata": {},
   "source": [
    "# Ejercicio 7 - Probabilidad\n",
    "\n",
    "Asumiento que la altura de los alumnos de este curso es 1.65m y el desvío 0.12m, ¿qué distribución consideran que representaría adecuadamente la altura de todos los alumnos de DH?\n",
    "\n",
    "Generar y graficar 100 datos con esa distribución.\n"
   ]
  },
  {
   "cell_type": "code",
   "execution_count": null,
   "metadata": {},
   "outputs": [],
   "source": [
    "random_generator = np.random.default_rng()\n",
    "birthday = random_generator.normal(loc=165, scale=12, size=10000)\n",
    "distribution_plotter(birthday, \"Altura\")"
   ]
  }
 ],
 "metadata": {
  "kernelspec": {
   "display_name": "Python 3",
   "language": "python",
   "name": "python3"
  },
  "language_info": {
   "codemirror_mode": {
    "name": "ipython",
    "version": 3
   },
   "file_extension": ".py",
   "mimetype": "text/x-python",
   "name": "python",
   "nbconvert_exporter": "python",
   "pygments_lexer": "ipython3",
   "version": "3.6.7"
  }
 },
 "nbformat": 4,
 "nbformat_minor": 4
}

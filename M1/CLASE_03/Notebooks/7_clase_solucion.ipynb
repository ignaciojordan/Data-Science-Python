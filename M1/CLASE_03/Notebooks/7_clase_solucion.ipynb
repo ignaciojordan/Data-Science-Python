{
 "cells": [
  {
   "cell_type": "code",
   "execution_count": null,
   "metadata": {},
   "outputs": [],
   "source": [
    "# initial setup\n",
    "try:\n",
    "    # settings colab:\n",
    "    import google.colab\n",
    "    ! mkdir -p ../Data\n",
    "    ! wget -O ../Data/sales_data_sample_excercise.csv \"https://raw.githubusercontent.com/Digital-House-DATA/ds_blend_students_2020/master/M1/CLASE_03/Data/sales_data_sample_excercise.csv?token=AA4GFHIVZW44W62U344QKYS6UTVYO\"    \n",
    "except ModuleNotFoundError:    \n",
    "    # settings local:\n",
    "    %run \"../../../common/0_notebooks_base_setup.py\"   "
   ]
  },
  {
   "cell_type": "markdown",
   "metadata": {},
   "source": [
    "---\n",
    "\n",
    "<img src='../../../common/logo_DH.png' align='left' width=35%/>\n"
   ]
  },
  {
   "cell_type": "markdown",
   "metadata": {},
   "source": [
    "En la práctica de la clase de hoy usaremos un dataset de Kaggle que tiene datos de ventas:\n",
    "\n",
    "https://www.kaggle.com/kyanyoga/sample-sales-data\n",
    "\n",
    "Ustedes tienen un subconjunto de los datos disponibles, que usaremos para resolver ejercicios de Numpy, Estadística y Probabilidad."
   ]
  },
  {
   "cell_type": "markdown",
   "metadata": {},
   "source": [
    "## Ejercicio 1\n",
    "Leer los datos del archivo /M1/CLASE_03/Data/sales_data_sample_excercise.csv\n",
    "\n",
    "Este archivo tiene algunos datos numéricos y otros de tipo cadena de caracteres. \n",
    "\n",
    "Las columnas son:\n",
    "\n",
    "* ORDERNUMBER: int, id de la orden\n",
    "\n",
    "* SALES: float, monto abonado\n",
    "\n",
    "* MONTH_ID: int, mes\n",
    "\n",
    "* YEAR_ID: int, año\n",
    "\n",
    "* PRODUCTLINE: str, producto\n",
    "\n",
    "* COUNTRY: str, país de venta\n",
    "\n",
    "¿Recuerdan que todos los elementos de una instancia de ndarray deben ser del mismo tipo? Entonces vamos a leer el archivo y crear una instancia de ndarray de tipo cadena de caracteres.\n",
    "\n",
    "¿Qué pasaría si intentáramos crear una instancia de tipo int? ¿Y de tipo float?\n"
   ]
  },
  {
   "cell_type": "code",
   "execution_count": null,
   "metadata": {},
   "outputs": [],
   "source": [
    "## [BORRAR_PRESENCIAL]\n",
    "\n",
    "import numpy as np\n",
    "\n",
    "# local:\n",
    "data_location = '../Data/sales_data_sample_excercise.csv'\n",
    "\n",
    "data = np.genfromtxt(data_location, skip_header=1, delimiter='\\t', dtype= str)\n",
    "data"
   ]
  },
  {
   "cell_type": "markdown",
   "metadata": {},
   "source": [
    "## Ejercicio 2 - Numpy\n",
    "\n",
    "Crear un array numérico que tenga como valores las columna SALES y otro array de str que tenga como valores la columna COUNTRY\n",
    "\n",
    "Ayuda: https://docs.scipy.org/doc/numpy/reference/generated/numpy.ndarray.astype.html"
   ]
  },
  {
   "cell_type": "code",
   "execution_count": null,
   "metadata": {},
   "outputs": [],
   "source": [
    "## [BORRAR_PRESENCIAL]\n",
    "\n",
    "sales_vector_str = data[:, 1]\n",
    "sales_vector =  sales_vector_str.astype(np.float)\n",
    "print(sales_vector)\n",
    "\n",
    "country_vector = data[:, 5]\n",
    "print(country_vector)\n"
   ]
  },
  {
   "cell_type": "markdown",
   "metadata": {},
   "source": [
    "## Ejercicio 3 - Numpy\n",
    "\n",
    "¿Cuál fue el monto mínimo de una venta? ¿Cuál fue el monto máximo?"
   ]
  },
  {
   "cell_type": "code",
   "execution_count": null,
   "metadata": {},
   "outputs": [],
   "source": [
    "## [BORRAR_PRESENCIAL]\n",
    "\n",
    "monto_min = sales_vector.min()\n",
    "monto_max = sales_vector.max()\n",
    "print(monto_min)\n",
    "print(monto_max)"
   ]
  },
  {
   "cell_type": "markdown",
   "metadata": {},
   "source": [
    "## Ejercicio 4 - Numpy\n",
    "\n",
    "¿Cuántas ventas se hicieron en Spain?\n",
    "\n",
    "Ayuda: boolean indexing\n"
   ]
  },
  {
   "cell_type": "code",
   "execution_count": null,
   "metadata": {},
   "outputs": [],
   "source": [
    "## [BORRAR_PRESENCIAL]\n",
    "\n",
    "ventas_spain_mask = country_vector == 'Spain'\n",
    "print(ventas_spain_mask)\n",
    "ventas_spain = country_vector[ventas_spain_mask]\n",
    "cant_ventas_spain = ventas_spain.size\n",
    "cant_ventas_spain"
   ]
  },
  {
   "cell_type": "markdown",
   "metadata": {},
   "source": [
    "## Ejercicio 5 - Numpy\n",
    "\n",
    "¿Qué porcentaje de las ventas se hicieron en Spain?\n"
   ]
  },
  {
   "cell_type": "code",
   "execution_count": null,
   "metadata": {},
   "outputs": [],
   "source": [
    "## [BORRAR_PRESENCIAL]\n",
    "\n",
    "cant_ventas_total = country_vector.size\n",
    "porc_spain = 100* cant_ventas_spain / cant_ventas_total\n",
    "porc_spain"
   ]
  },
  {
   "cell_type": "markdown",
   "metadata": {},
   "source": [
    "## Ejercicio 6 - Numpy\n",
    "\n",
    "¿Cuál es el país de la venta de precio máximo? ¿Cuál es el id de esa venta?\n",
    "\n",
    "Ayuda: boolean indexing"
   ]
  },
  {
   "cell_type": "code",
   "execution_count": null,
   "metadata": {},
   "outputs": [],
   "source": [
    "## [BORRAR_PRESENCIAL]\n",
    "\n",
    "precio_max = sales_vector.max()\n",
    "#print(precio_max)\n",
    "precio_max_mask = sales_vector == precio_max\n",
    "#print(precio_max_mask)\n",
    "pais_max_precio = country_vector[precio_max_mask][0]\n",
    "print(pais_max_precio)\n",
    "\n",
    "id_vector_str = data[:, 0]\n",
    "id_vector =  id_vector_str.astype(np.int)\n",
    "id_max_precio = id_vector[precio_max_mask][0]\n",
    "print(id_max_precio)"
   ]
  },
  {
   "cell_type": "markdown",
   "metadata": {},
   "source": [
    "## Ejercicio 7 - Numpy\n",
    "\n",
    "¿Cuál es el precio promedio de ventas en France? ¿Cuál es el desvío?"
   ]
  },
  {
   "cell_type": "code",
   "execution_count": null,
   "metadata": {},
   "outputs": [],
   "source": [
    "## [BORRAR_PRESENCIAL]\n",
    "\n",
    "ventas_france_mask = country_vector == 'France'\n",
    "precios_france = sales_vector[ventas_france_mask]\n",
    "\n",
    "promedio_france = precios_france.mean()\n",
    "print(promedio_france)\n",
    "desvio_france = precios_france.std()\n",
    "print(desvio_france)"
   ]
  },
  {
   "cell_type": "markdown",
   "metadata": {},
   "source": [
    "## Ejercicio 8 - Numpy\n",
    "\n",
    "¿Cuál fue el año con máximo desvío en las ventas en France?\n",
    "\n",
    "Ayuda: https://docs.scipy.org/doc/numpy/reference/generated/numpy.unique.html"
   ]
  },
  {
   "cell_type": "code",
   "execution_count": null,
   "metadata": {},
   "outputs": [],
   "source": [
    "## [BORRAR_PRESENCIAL]\n",
    "\n",
    "data_france_mask = country_vector == 'France'\n",
    "data_france_sales = data[data_france_mask, 1]\n",
    "data_france_years = data[data_france_mask, 3]\n",
    "\n",
    "data_france_years_num = data_france_years.astype(np.int)\n",
    "\n",
    "years_unique = np.unique(data_france_years_num)\n",
    "print(years_unique)\n",
    "\n",
    "desvios = []\n",
    "for year in years_unique:\n",
    "    years_vector_mask = data_france_years_num == year\n",
    "    precios_year_mask = data_france_sales[years_vector_mask].astype(np.float)    \n",
    "    desvio_year = precios_year_mask.std()\n",
    "    desvios.append(desvio_year)\n",
    "\n",
    "print(desvios)\n",
    "\n",
    "desvio_max = np.array(desvios).max()\n",
    "desvios_max_mask = desvios == desvio_max\n",
    "year_desvio_max = years_unique[desvios_max_mask][0]\n",
    "print(year_desvio_max)\n",
    "    "
   ]
  },
  {
   "cell_type": "markdown",
   "metadata": {},
   "source": [
    "## Ejercicio 9 - Estadística\n",
    "\n",
    "La función `distribution_plotter` grafica los datos que recibe como parámetro en una instancia de numpy array\n",
    "\n",
    "Graficar los precios de ventas en tres países. ¿Qué pueden decir respecto a sus distribciones?\n",
    "\n",
    "Comparar las distribuciones con la de los precios de ventas sin disitnguir por paises"
   ]
  },
  {
   "cell_type": "code",
   "execution_count": null,
   "metadata": {},
   "outputs": [],
   "source": [
    "import seaborn as sns\n",
    "def distribution_plotter(data, label):    \n",
    "    sns.set(rc={\"figure.figsize\": (10, 7)})\n",
    "    sns.set_style(\"white\")\n",
    "    dist = sns.distplot(data, hist_kws={'alpha':0.2}, kde_kws={'linewidth':5})\n",
    "    dist.set_title('Distribucion de ' + label + '\\n', fontsize=16)"
   ]
  },
  {
   "cell_type": "code",
   "execution_count": null,
   "metadata": {},
   "outputs": [],
   "source": [
    "## [BORRAR_PRESENCIAL]\n",
    "\n",
    "distribution_plotter(sales_vector, 'Todos los países')"
   ]
  },
  {
   "cell_type": "code",
   "execution_count": null,
   "metadata": {},
   "outputs": [],
   "source": [
    "## [BORRAR_PRESENCIAL]\n",
    "\n",
    "paises_unicos = np.unique(country_vector)\n",
    "print(paises_unicos)"
   ]
  },
  {
   "cell_type": "code",
   "execution_count": null,
   "metadata": {},
   "outputs": [],
   "source": [
    "## [BORRAR_PRESENCIAL]\n",
    "\n",
    "ventas_Australia_mask = country_vector == 'Australia'\n",
    "precios_Australia = sales_vector[ventas_Australia_mask]\n",
    "distribution_plotter(precios_Australia, 'Australia')"
   ]
  },
  {
   "cell_type": "code",
   "execution_count": null,
   "metadata": {},
   "outputs": [],
   "source": [
    "## [BORRAR_PRESENCIAL]\n",
    "\n",
    "ventas_USA_mask = country_vector == 'USA'\n",
    "precios_USA = sales_vector[ventas_USA_mask]\n",
    "distribution_plotter(precios_USA, 'USA')\n"
   ]
  },
  {
   "cell_type": "code",
   "execution_count": null,
   "metadata": {},
   "outputs": [],
   "source": [
    "## [BORRAR_PRESENCIAL]\n",
    "\n",
    "ventas_Sweden_mask = country_vector == 'Sweden'\n",
    "precios_Sweden = sales_vector[ventas_Sweden_mask]\n",
    "distribution_plotter(precios_Sweden, 'Sweden')"
   ]
  },
  {
   "cell_type": "markdown",
   "metadata": {},
   "source": [
    "## Ejercicio 9 - Estadística\n",
    "Para los tres países del punto anterior, calcular con dos decimales\n",
    "* Media\n",
    "* Mediana\n",
    "* Rango\n",
    "* Desvío estandard\n",
    "\n",
    "Repetir para todos los datos de ventas sin distinguir por país.\n",
    "\n",
    "¿Qué conclusiones pueden sacar de estas medidas?"
   ]
  },
  {
   "cell_type": "code",
   "execution_count": null,
   "metadata": {},
   "outputs": [],
   "source": [
    "## [BORRAR_PRESENCIAL]\n",
    "\n",
    "print(\"Media de precios Sweden:\", np.around(np.mean(precios_Sweden), 2))\n",
    "print(\"Mediana de precios Sweden:\", np.around(np.median(precios_Sweden), 2))\n",
    "print(\"Rango de precios Sweden:\", np.around(np.max(precios_Sweden) - np.min(precios_Sweden), 2))\n",
    "print(\"Desvío de precios Sweden:\", np.around(np.std(precios_Sweden), 2))\n",
    "print(\"------\")\n",
    "\n",
    "print(\"Media de precios USA:\", np.around(np.mean(precios_USA), 2))\n",
    "print(\"Mediana de precios USA:\", np.around(np.median(precios_USA), 2))\n",
    "print(\"Rango de precios USA:\", np.around(np.max(precios_USA) - np.min(precios_USA), 2))\n",
    "print(\"Desvío de precios USA:\", np.around(np.std(precios_USA), 2))\n",
    "print(\"------\")\n",
    "\n",
    "print(\"Media de precios Australia:\", np.around(np.mean(precios_Australia), 2))\n",
    "print(\"Mediana de precios Australia:\", np.around(np.median(precios_Australia), 2))\n",
    "print(\"Rango de precios Australia:\", np.around(np.max(precios_Australia) - np.min(precios_Australia), 2))\n",
    "print(\"Desvío de precios Australia:\", np.around(np.std(precios_Australia), 2))\n",
    "print(\"------\")\n",
    "\n",
    "print(\"Media de precios (Todos los países):\", np.around(np.mean(sales_vector), 2))\n",
    "print(\"Mediana de precios (Todos los países):\", np.around(np.median(sales_vector), 2))\n",
    "print(\"Rango de precios (Todos los países):\", np.around(np.max(sales_vector) - np.min(sales_vector), 2))\n",
    "print(\"Desvío de precios (Todos los países):\", np.around(np.std(sales_vector), 2))\n",
    "print(\"------\")\n",
    "\n"
   ]
  },
  {
   "cell_type": "markdown",
   "metadata": {},
   "source": [
    "## Ejercicio 10 - Probabilidad\n",
    "\n",
    "Ahora queremos simular datos que representen las precios de ventas de USA en el mismo período, usando una distribución normal.\n",
    "\n",
    "¿Qué parámetros tiene esa distribución?\n",
    "\n",
    "Generar 100 datos simulados."
   ]
  },
  {
   "cell_type": "code",
   "execution_count": null,
   "metadata": {},
   "outputs": [],
   "source": [
    "## [BORRAR_PRESENCIAL]\n",
    "\n",
    "# Media de precios USA: 3613.53\n",
    "# Mediana de precios USA: 3236.06\n",
    "# Rango de precios USA: 13541.66\n",
    "# Desvío de precios USA: 1880.0\n",
    "\n",
    "random_generator = np.random.default_rng()\n",
    "random_normal_data = random_generator.normal(loc = 3613.53, scale = 1880, size = 100)"
   ]
  },
  {
   "cell_type": "markdown",
   "metadata": {},
   "source": [
    "## Ejercicio 11 - Probabilidad\n",
    "\n",
    "Agregando a los datos originales los datos simulados en el punto anterior, calcular: \n",
    "* Media\n",
    "* Mediana\n",
    "* Rango\n",
    "* Desvío estandard\n",
    "\n",
    "Y comparar con el conjunto sin datos simulados\n",
    "\n",
    "Ayuda: https://docs.scipy.org/doc/numpy/reference/generated/numpy.concatenate.html"
   ]
  },
  {
   "cell_type": "code",
   "execution_count": null,
   "metadata": {},
   "outputs": [],
   "source": [
    "## [BORRAR_PRESENCIAL]\n",
    "\n",
    "all_USA_data_normal = np.concatenate((precios_USA, random_normal_data))\n",
    "print(\"Media de precios USA:\", np.around(np.mean(all_USA_data_normal), 2))\n",
    "print(\"Mediana de precios USA:\", np.around(np.median(all_USA_data_normal), 2))\n",
    "print(\"Rango de precios USA:\", np.around(np.max(all_USA_data_normal) - np.min(all_USA_data_normal), 2))\n",
    "print(\"Desvío de precios USA:\", np.around(np.std(all_USA_data_normal), 2))\n"
   ]
  },
  {
   "cell_type": "markdown",
   "metadata": {},
   "source": [
    "## Ejercicio 12 - Probabilidad\n",
    "\n",
    "Ahora queremos simular datos que representen las precios de ventas de USA en el mismo período, usando una distribución uniforme.\n",
    "\n",
    "¿Qué parámetros tiene esa distribución?\n",
    "\n",
    "Generar 100 datos simulados."
   ]
  },
  {
   "cell_type": "code",
   "execution_count": null,
   "metadata": {},
   "outputs": [],
   "source": [
    "## [BORRAR_PRESENCIAL]\n",
    "\n",
    "random_uniform_data = random_generator.uniform(low=np.min(precios_USA), high=np.max(precios_USA), size=100)\n",
    "#distribution_plotter(random_uniform_data, \"\")\n"
   ]
  },
  {
   "cell_type": "markdown",
   "metadata": {},
   "source": [
    "## Ejercicio 13 - Probabilidad\n",
    "\n",
    "Agregando a los datos originales los datos simulados en el punto anterior, calcular: \n",
    "* Media\n",
    "* Mediana\n",
    "* Rango\n",
    "* Desvío estandard\n",
    "\n",
    "Y comparar con el conjunto sin datos simulados."
   ]
  },
  {
   "cell_type": "code",
   "execution_count": null,
   "metadata": {},
   "outputs": [],
   "source": [
    "## [BORRAR_PRESENCIAL]\n",
    "\n",
    "all_USA_data_uniform = np.concatenate((precios_USA, random_uniform_data))\n",
    "print(\"Media de precios USA:\", np.around(np.mean(all_USA_data_uniform), 2))\n",
    "print(\"Mediana de precios USA:\", np.around(np.median(all_USA_data_uniform), 2))\n",
    "print(\"Rango de precios USA:\", np.around(np.max(all_USA_data_uniform) - np.min(all_USA_data_uniform), 2))\n",
    "print(\"Desvío de precios USA:\", np.around(np.std(all_USA_data_uniform), 2))\n"
   ]
  },
  {
   "cell_type": "markdown",
   "metadata": {},
   "source": [
    "## Ejercicio 14 - Probabilidad\n",
    "\n",
    "¿Cuál de las dos imputaciones de datos preservó mejor la distribución original?"
   ]
  },
  {
   "cell_type": "code",
   "execution_count": null,
   "metadata": {},
   "outputs": [],
   "source": [
    "## [BORRAR_PRESENCIAL]\n",
    "\n",
    "# Valores originales:\n",
    "# Media de precios USA: 3613.53\n",
    "# Mediana de precios USA: 3236.06\n",
    "# Rango de precios USA: 13541.66\n",
    "# Desvío de precios USA: 1880.0\n",
    "\n",
    "# Valores con imputación normal:\n",
    "# Media de precios USA: 3604.67\n",
    "# Mediana de precios USA: 3245.49\n",
    "# Rango de precios USA: 16191.32\n",
    "# Desvío de precios USA: 1869.9\n",
    "\n",
    "# Valores con imputación uniforme:\n",
    "# Media de precios USA: 3973.55\n",
    "# Mediana de precios USA: 3354.58\n",
    "# Rango de precios USA: 13541.66\n",
    "# Desvío de precios USA: 2404.95\n",
    "\n"
   ]
  },
  {
   "cell_type": "code",
   "execution_count": null,
   "metadata": {},
   "outputs": [],
   "source": [
    "# [BORRAR_PRESENCIAL]\n",
    "\n",
    "# comentar y descomentar estas lineas para ver las diferencias: \n",
    "distribution_plotter(precios_USA, \"Original\")\n",
    "#distribution_plotter(all_USA_data_uniform, \"Uniform\")\n",
    "distribution_plotter(all_USA_data_normal, \"Normal\")"
   ]
  }
 ],
 "metadata": {
  "kernelspec": {
   "display_name": "Python 3",
   "language": "python",
   "name": "python3"
  },
  "language_info": {
   "codemirror_mode": {
    "name": "ipython",
    "version": 3
   },
   "file_extension": ".py",
   "mimetype": "text/x-python",
   "name": "python",
   "nbconvert_exporter": "python",
   "pygments_lexer": "ipython3",
   "version": "3.7.6"
  }
 },
 "nbformat": 4,
 "nbformat_minor": 4
}

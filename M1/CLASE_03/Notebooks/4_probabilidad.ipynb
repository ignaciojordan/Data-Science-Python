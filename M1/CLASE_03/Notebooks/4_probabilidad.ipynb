{
 "cells": [
  {
   "cell_type": "code",
   "execution_count": null,
   "metadata": {},
   "outputs": [],
   "source": [
    "# initial setup\n",
    "try:\n",
    "    # settings colab:\n",
    "    import google.colab\n",
    "except ModuleNotFoundError:    \n",
    "    # settings local:\n",
    "    %run \"../../../common/0_notebooks_base_setup.py\"    "
   ]
  },
  {
   "cell_type": "markdown",
   "metadata": {},
   "source": [
    "---\n",
    "\n",
    "<img src='../../../common/logo_DH.png' align='left' width=35%/>\n"
   ]
  },
  {
   "cell_type": "markdown",
   "metadata": {},
   "source": [
    "# Numpy, Estadística, Probabilidades"
   ]
  },
  {
   "cell_type": "markdown",
   "metadata": {},
   "source": [
    "<a id=\"section_toc\"></a> \n",
    "## Tabla de Contenidos\n",
    "\n",
    "[Intro](#section_intro)\n",
    "\n",
    "[Distribuciones de Probabilidad](#section_distribuciones)\n",
    "\n",
    "[Relaciones entre Distribuciones](#section_relaciones_distribuciones)\n",
    "\n",
    "[Conclusiones](#section_conclusiones)\n",
    "\n",
    "[Referencias](#section_referencias)\n",
    "\n",
    "---"
   ]
  },
  {
   "cell_type": "markdown",
   "metadata": {},
   "source": [
    "## Probabilidad\n",
    "\n",
    "<a id=\"section_intro\"></a> \n",
    "### Intro\n",
    "[volver a TOC](#section_toc)\n",
    "\n",
    "La probabilidad es una medida de la certidumbre o posibilidad asociada a un evento o suceso y se expresa como un número entre 0 y 1.\n",
    "\n",
    "Es importante conocer las distribuciones de probabilidades y sus aplicaciones para trabajar eficazmente en problemas de ciencia de datos:\n",
    "\n",
    "\n",
    "* Las distribuciones de probabilidad nos permiten reconocer patrones en variables aleatorias.\n",
    "\n",
    "* La mayoría de las técnicas de data science o machine learning se basan en ciertos supuestos sobre las distribuciones de probabilidad de nuestros datos.\n",
    "Por lo tanto, saber qué distribución tienen los datos con los que estamos trabajando, puede ayudarnos a identificar qué técnicas o modelos nos conviene usar.\n",
    "\n",
    "* Usamos *inferencia* para predecir o analizar tendencias a partir de datos. La *inferencia estadística* se basa en la distribución de probabilidad de estos datos. \n",
    "\n",
    "* Una tarea muy frecuente en ciencia de datos es la *imputación de valores faltantes*, en general conocer la distribución de los datos con los que estamos trabajando nos permiten imputar de manera menos arbitraria.\n",
    "\n",
    "\n",
    "A continuación vamos a revisar / presentar varias distribuciones de probabilidad de variables aleatorias discretas y continuas.\n",
    "\n",
    "El objetivo es que se familiaricen con ellas y hacia el final las usemos en algunos ejercicios.\n",
    "\n",
    "\n",
    "![Image](img/prob_distributions.png)\n",
    "\n"
   ]
  },
  {
   "cell_type": "markdown",
   "metadata": {},
   "source": [
    "Una **variable aleatoria** es una función que asigna un valor, usualmente numérico, al resultado de un experimento aleatorio, es decir los resultados que se presentan al azar en cualquier evento o experimento.\n",
    "\n",
    "La **distribución de probabilidad de una variable aleatoria X**, también llamada **función de distribución** de X es la función $F_X(x)$, que asigna a cada evento definido sobre la variable aleatoria $X$ una probabilidad dada por la siguiente expresión:\n",
    "\n",
    "\\begin{equation}\n",
    "  F_X(x) = P(X \\le x)\n",
    "\\end{equation}\n",
    "\n",
    "Entonces la distribución de probabilidad está completamente especificada por la función de distribución, cuyo valor en cada $x$ real es la probabilidad de que la variable aleatoria sea menor o igual que $x$.\n",
    "\n",
    "La **función de densidad de probabilidad de una variable aleatoria continua**, función de densidad, o, simplemente, densidad describe la probabilidad relativa, representada comúnmente como $f(x)$, nos permite conocer cómo se distribuyen las probabilidades de un suceso o evento en relación al resultado.\n",
    "La función de distribución de probabilidad $F(x)$ es la integral de la función de densidad $f(x)$\n",
    "\n",
    "\\begin{equation}\n",
    "  F_X(x) =  \\int^x_{-\\infty}f(t)dt\n",
    "\\end{equation}\n",
    "\n",
    "La probabilidad de que la variable aleatoria caiga en una región específica del espacio de posibilidades estará dada por la integral de la densidad de esta variable entre uno y otro límite de dicha región.\n",
    "La función de densidad de probabilidad es positiva en todo su dominio y su integral sobre todo el espacio es de valor 1.\n"
   ]
  },
  {
   "cell_type": "markdown",
   "metadata": {},
   "source": [
    "### Variables Aleatorias Discretas\n",
    "\n",
    "Cuando los valores que toma una variable aleatoria son **finitos o infinitos numerables**, se dice que es **discreta**\n",
    "\n",
    "Ejemplo:\n",
    "\n",
    "X es el resultado obtenido al lanzar un dado {1, 2, 3, 4, 5, 6}\n"
   ]
  },
  {
   "cell_type": "markdown",
   "metadata": {},
   "source": [
    "### Variables Aleatorias Continuas\n",
    "\n",
    "Cuando los valores que toma una variable aleatoria pueden ser **cualquier valor en un intervalo continuo dado**, se dice que es **continua**\n",
    "\n",
    "Ejemplo:\n",
    "\n",
    "X es la altura (sin redondear) de un alumno del curso de Data Science\n",
    "\n"
   ]
  },
  {
   "cell_type": "markdown",
   "metadata": {},
   "source": [
    "___\n",
    "<a id=\"section_distribuciones\"></a> \n",
    "### Distribuciones de Probabilidad\n",
    "[volver a TOC](#section_toc)\n",
    "\n",
    "Estudiaremos ahora algunas distribuciones de probabilidad particulares. \n",
    "\n",
    "Empezaremos con las distribuciones de tipo discreto y continuaremos con las de tipo continuo. \n",
    "\n",
    "Observaremos además que las distribuciones pueden depender de uno o más parámetros, es decir, para cada valor de estos parámetros se tiene una distribución de probabilidad diferente. A veces se usa el término “familias de distribuciones paramétricas” para referirse a estas distribuciones.\n",
    "\n",
    "\n",
    "[Distribución Uniforme](./4.1_uniforme.ipynb)\n",
    "\n",
    "[Distribución Bernoulli](./4.2_bernoulli.ipynb)\n",
    "\n",
    "[Distribución Binomial](./4.3_binomial.ipynb)\n",
    "\n",
    "[Distribución Poisson](./4.4_poisson.ipynb)\n",
    "\n",
    "[Distribución Normal](./4.5_normal.ipynb)\n",
    "\n",
    "[Distribución Exponencial](./4.6_exponencial.ipynb)"
   ]
  },
  {
   "cell_type": "markdown",
   "metadata": {},
   "source": [
    "___\n",
    "\n",
    "<a id=\"section_relaciones_distribuciones\"></a> \n",
    "### Relaciones entre Distribuciones\n",
    "[volver a TOC](#section_toc)\n",
    "\n",
    "#### Relación entre Bernoulli y Binomial\n",
    "\n",
    "La distribución de Bernoulli es un caso particular de la distribucón Binomial con una única repetición.\n",
    "\n",
    "Si cada evento Bernoulli es **independiente**, entonces el número de éxitos en una serie de observaciones de una variable aleatoria con distribución Bernoulli tiene distribución Binomial. La distribución Bernoulli puede definirse entonces como una Binomial con n = 1.\n",
    "\n",
    "#### Relación entre Poisson y Binomial\n",
    "\n",
    "La distribución de Poisson es una distribución Binomial con las siguientes condiciones:\n",
    "\n",
    "* El número de repeticiones es infinitamente grande $n \\rightarrow \\infty$\n",
    "\n",
    "* La probabilidad de éxito de cada repetición es la misma e infinitamente pequeña $p \\rightarrow 0$\n",
    "\n",
    "* $np = \\lambda$, es finito.\n"
   ]
  },
  {
   "cell_type": "code",
   "execution_count": null,
   "metadata": {},
   "outputs": [],
   "source": [
    "import numpy as np\n",
    "random_generator = np.random.default_rng()"
   ]
  },
  {
   "cell_type": "code",
   "execution_count": null,
   "metadata": {},
   "outputs": [],
   "source": [
    "import seaborn as sns\n",
    "def distribution_plotter(data, label, bins=None):    \n",
    "    sns.set(rc={\"figure.figsize\": (10, 7)})\n",
    "    sns.set_style(\"white\")    \n",
    "    dist = sns.distplot(data, bins= bins, hist_kws={'alpha':0.2}, kde_kws={'linewidth':5})\n",
    "    dist.set_title('Distribucion de ' + label + '\\n', fontsize=16)"
   ]
  },
  {
   "cell_type": "code",
   "execution_count": null,
   "metadata": {},
   "outputs": [],
   "source": [
    "n = 1000000\n",
    "p = .01\n",
    "lambda_value = n * p\n",
    "\n",
    "random_poisson_data = random_generator.poisson(lam = lambda_value, size=n)\n",
    "random_binomial_data = random_generator.binomial(n, p, size=n)\n",
    "\n",
    "distribution_plotter(random_poisson_data, \"poisson\")\n",
    "distribution_plotter(random_binomial_data, \"poisson y binomial\")"
   ]
  },
  {
   "cell_type": "markdown",
   "metadata": {},
   "source": [
    "<div id=\"caja_binomial_poisson\" style=\"float:left;width: 100%;\">\n",
    "  <div style=\"float:left;width: 15%;\"><img src=\"../../../common/icons/ponete_a_prueba.png\" style=\"align:left\"/> </div>\n",
    "  <div style=\"float:left;width: 85%;\"><label>Prueben ahora generando datos para p = 0.1, 0.5 y 0.7 y comparen los gráficos. ¿Qué pueden concluir?</label></div>\n",
    "</div>\n"
   ]
  },
  {
   "cell_type": "markdown",
   "metadata": {},
   "source": [
    "#### Relación entre Normal y Binomial\n",
    "\n",
    "La distribución normal es el límite de una distribución Binomial con las siguientes condiciones:\n",
    "\n",
    "* El número de repeticiones en infinitamente grande $n \\rightarrow \\infty$\n",
    "\n",
    "* p (probabilidad de éxito) y q (probabilidad de fracaso) no son infinitamente pequeñas simultaneamente\n",
    "\n",
    "La distribución normal a la que tiende tiene parámetros $\\mu = n . p$ y $\\sigma^2 = n . p . (1-p)$"
   ]
  },
  {
   "cell_type": "code",
   "execution_count": null,
   "metadata": {},
   "outputs": [],
   "source": [
    "n = 1000000\n",
    "p = .01\n",
    "\n",
    "media=n*p\n",
    "varianza = n*p*(1-p)\n",
    "\n",
    "random_binomial_data = random_generator.binomial(n, p, size=n)\n",
    "random_normal_data = random_generator.normal(loc=media, scale=np.sqrt(varianza), size=n)\n",
    "\n",
    "distribution_plotter(random_binomial_data, \"binomial\")\n",
    "distribution_plotter(random_normal_data, \"binomial y normal\")\n",
    "\n"
   ]
  },
  {
   "cell_type": "markdown",
   "metadata": {},
   "source": [
    "<div id=\"caja_binomial_poisson\" style=\"float:left;width: 100%;\">\n",
    "  <div style=\"float:left;width: 15%;\"><img src=\"../../../common/icons/ponete_a_prueba.png\" style=\"align:left\"/> </div>\n",
    "  <div style=\"float:left;width: 85%;\"><label>Prueben ahora generando datos para n = 1000, 10000, 100000 y comparen los gráficos. ¿Qué pueden concluir? <br/>\n",
    "Observen también que pasa cuando varían los valores de p.</label></div>\n",
    "</div>"
   ]
  },
  {
   "cell_type": "markdown",
   "metadata": {},
   "source": [
    "#### Relación entre Normal y Poisson\n",
    "\n",
    "La distribución normal es el límite de una distribución Poisson con el parámetro $\\lambda \\rightarrow \\infty$\n"
   ]
  },
  {
   "cell_type": "code",
   "execution_count": null,
   "metadata": {},
   "outputs": [],
   "source": [
    "n = 10000\n",
    "\n",
    "lambda_value = 10000\n",
    "madia = lambda_value\n",
    "varianza = lambda_value\n",
    "\n",
    "random_poisson_data = random_generator.poisson(lam = lambda_value, size=n)\n",
    "random_normal_data = random_generator.normal(loc=media, scale=np.sqrt(varianza), size=n)\n",
    "\n",
    "distribution_plotter(random_poisson_data, \"poisson\")\n",
    "distribution_plotter(random_normal_data, \"poisson y normal\")"
   ]
  },
  {
   "cell_type": "markdown",
   "metadata": {},
   "source": [
    "<div id=\"caja_binomial_poisson\" style=\"float:left;width: 100%;\">\n",
    "  <div style=\"float:left;width: 15%;\"><img src=\"../../../common/icons/ponete_a_prueba.png\" style=\"align:left\"/> </div>\n",
    "  <div style=\"float:left;width: 85%;\"><label>Prueben ahora generando datos para lambda = 1000, 5000 y comparen los gráficos.</label></div>\n",
    "</div>"
   ]
  },
  {
   "cell_type": "markdown",
   "metadata": {},
   "source": [
    "#### Relación entre Exponencial y Poisson\n",
    "\n",
    "Si el tiempo entre eventos sigue una distribución exponencial de parámetro $\\lambda$, entonces el número total de eventos en un período de tiempo t sigue una distribución Poisson con parámetro $\\lambda{t}$\n"
   ]
  },
  {
   "cell_type": "code",
   "execution_count": null,
   "metadata": {},
   "outputs": [],
   "source": [
    "n = 100000\n",
    "lambda_value = 2\n",
    "t = 10\n",
    "\n",
    "beta_value = 1.0/lambda_value\n",
    "\n",
    "random_exponential_data = random_generator.exponential(scale=beta_value, size=n)\n",
    "random_poisson_data = random_generator.poisson(lam = lambda_value*t, size=n)\n",
    "\n",
    "distribution_plotter(random_exponential_data, \"exponencial\")\n",
    "distribution_plotter(random_poisson_data, \"tiempo exponencial, número total de eventos poisson\")"
   ]
  },
  {
   "cell_type": "markdown",
   "metadata": {},
   "source": [
    "---\n"
   ]
  },
  {
   "cell_type": "markdown",
   "metadata": {},
   "source": [
    "<a id=\"section_conclusiones\"></a> \n",
    "### Conclusiones\n",
    "[volver a TOC](#section_toc)\n",
    "\n",
    "Hay muchas distribuciones de probabilidad, cada una de ellas fue diseñada para analizar datos de diversos orígenes y que tienen ciertas características. En la práctica, estas distribuciones se utilizan para analizar datos reales de un tipo similar. \n",
    "\n",
    "Las distribuciones de probabilidad son modelos estadísticos probabilísticos cuyas propiedades se utilizan para analizar datos empíricos: Los datos se recopilan y comparan con cualquier distribución teórica conocida. Si son similares, las propiedades del modelo teórico se transfieren a datos empíricos con las conclusiones correspondientes. \n",
    "\n",
    "Este es el enfoque subyacente a los métodos clásicos asociados con la prueba de hipótesis estadísticas (cálculo de intervalos de confianza, comparación de valores promedio, verificación de la importancia de los parámetros, etc.).\n",
    "\n",
    "Si los datos disponibles no corresponden a ninguna distribución conocida (que muchas veces ocurre en la práctica), no se recomienda utilizar estos modelos estadísticos.\n",
    "\n",
    "Para resolver este problema, existen otros enfoques asociados con el uso de estadística no paramétrica.\n",
    " \n"
   ]
  },
  {
   "cell_type": "markdown",
   "metadata": {},
   "source": [
    "<a id=\"section_referencias\"></a> \n",
    "### Referencias\n",
    "[volver a TOC](#section_toc)\n",
    "\n",
    "\n",
    "https://www.kdnuggets.com/2019/07/5-probability-distributions-every-data-scientist-should-know.html\n",
    "\n",
    "https://towardsdatascience.com/probability-distributions-in-data-science-cce6e64873a7\n",
    "\n",
    "https://www.statisticshowto.datasciencecentral.com/bernoulli-distribution/\n",
    "\n",
    "https://towardsdatascience.com/what-is-exponential-distribution-7bdd08590e2a"
   ]
  }
 ],
 "metadata": {
  "kernelspec": {
   "display_name": "Python 3",
   "language": "python",
   "name": "python3"
  },
  "language_info": {
   "codemirror_mode": {
    "name": "ipython",
    "version": 3
   },
   "file_extension": ".py",
   "mimetype": "text/x-python",
   "name": "python",
   "nbconvert_exporter": "python",
   "pygments_lexer": "ipython3",
   "version": "3.6.7"
  }
 },
 "nbformat": 4,
 "nbformat_minor": 4
}

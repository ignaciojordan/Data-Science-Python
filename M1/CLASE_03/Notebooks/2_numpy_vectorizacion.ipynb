{
 "cells": [
  {
   "cell_type": "code",
   "execution_count": null,
   "metadata": {},
   "outputs": [],
   "source": [
    "# initial setup\n",
    "try:\n",
    "    # settings colab:\n",
    "    # deben modificar los tokens de estas urls:\n",
    "    import google.colab\n",
    "    ! wget -O test_2_numpy_vectorizacion.py \"https://raw.githubusercontent.com/Digital-House-DATA/ds_blend_students_2020/master/M1/CLASE_03/Notebooks/test/test_2_numpy_vectorizacion.py?token=AA4GFHKFF5FLWT36O76UNPC6UTSRS\"    \n",
    "    import test_2_numpy_vectorizacion\n",
    "except ModuleNotFoundError:    \n",
    "    # settings local:\n",
    "    %run \"../../../common/0_notebooks_base_setup.py\"\n",
    "    from dhtest import test_2_numpy_vectorizacion"
   ]
  },
  {
   "cell_type": "markdown",
   "metadata": {},
   "source": [
    "---\n",
    "\n",
    "<img src='../../../common/logo_DH.png' align='left' width=35%/>\n"
   ]
  },
  {
   "cell_type": "markdown",
   "metadata": {},
   "source": [
    "# Numpy, Estadística, Probabilidades"
   ]
  },
  {
   "cell_type": "markdown",
   "metadata": {},
   "source": [
    "<a id=\"section_toc\"></a> \n",
    "## Tabla de Contenidos\n",
    "\n",
    "[Intro](#section_intro)\n",
    "\n",
    "[Universal Functions](#section_ufunc)\n",
    "\n",
    "[Métodos matemáticos y estadísticos](#section_statistical)\n",
    "\n",
    "[Broadcasting](#section_broadcasting)\n",
    "\n",
    "---"
   ]
  },
  {
   "cell_type": "markdown",
   "metadata": {
    "toc-hr-collapsed": false
   },
   "source": [
    "## Vectorización\n",
    "\n",
    "<a id=\"section_intro\"></a> \n",
    "### Intro\n",
    "[volver a TOC](#section_toc)\n",
    "\n",
    "En esta notebook vamos a usar funciones que se ejecutan en forma vectorial, es decir que realizan operaciones sobre cada uno de los elementos de un array sin usar loops, y por eso son mucho más eficientes.\n",
    "\n",
    "Las operaciones vectorizadas trabajan sobre los datos como un bloque.  Por eso es necesario que los tipos sean homogéneos entre todos los e\n",
    "lementos. En operaciones vectorizadas no recorremos los elementos en orden. \n",
    "\n",
    "![Image](img/computacion_vectorial.jpg)"
   ]
  },
  {
   "cell_type": "markdown",
   "metadata": {},
   "source": [
    "<a id=\"section_ufunc\"></a> \n",
    "### Universal Functions \n",
    "[volver a TOC](#section_toc)\n",
    "\n",
    "Son funciones que realizan operaciones sobre cada elemento de un array multidimensional.\n",
    "\n",
    "Estas operaciones se paralelizan y el procesador las completa en un tiempo mucho menor que si aplicásemos un loop y operásemos sobre cada uno de los elementos.\n",
    "\n",
    "A continuación tienen una lista de funciones ufunc unarias y binarias.\n",
    "\n",
    "![Image](img/numpy_unary_ufunc.jpg)\n",
    "\n",
    "![Image](img/numpy_binary_ufunc.jpg)"
   ]
  },
  {
   "cell_type": "markdown",
   "metadata": {},
   "source": [
    "En el siguiente ejemplo vamos a comparar el tiempo de ejecución de calcular 1/x con un loop y con una ufunc.\n",
    "\n",
    "`%timeit` nos devuelve el tiempo empleado en la ejecución de la función que recibe como argumento.\n",
    "\n",
    "Construimos el array sobre el cual vamos a evaluar los distintos tiempos de ejecución"
   ]
  },
  {
   "cell_type": "code",
   "execution_count": null,
   "metadata": {},
   "outputs": [],
   "source": [
    "import numpy as np\n",
    "\n",
    "# Definimos el tamaño del array que vamos a construir\n",
    "big_array_size = 1000000\n",
    "\n",
    "# Definimos la semilla del generador random\n",
    "seed_cualquier_numero = 2843\n",
    "\n",
    "# Creamos el generador \n",
    "random_generator_seed = np.random.default_rng(seed_cualquier_numero)\n",
    "\n",
    "# Creamos el array con elementos de distribución uniforme\n",
    "low = 1\n",
    "high = 100\n",
    "big_array = random_generator_seed.uniform(low, high, size=big_array_size)\n"
   ]
  },
  {
   "cell_type": "code",
   "execution_count": null,
   "metadata": {},
   "outputs": [],
   "source": [
    "# Enfoque tradicional usando un loop for para calcular 1/x de cada elemento del array\n",
    "def compute_reciprocals(values):\n",
    "    output = np.empty(len(values))\n",
    "    for i in range(len(values)):\n",
    "        output[i] = 1.0 / values[i]\n",
    "    return output\n",
    "\n",
    "# con -o podemos guardar el resultado de timeit en una variable, time_loop en este caso:\n",
    "%timeit -o compute_reciprocals(big_array)"
   ]
  },
  {
   "cell_type": "code",
   "execution_count": null,
   "metadata": {},
   "outputs": [],
   "source": [
    "# esto asigna el valor del tiempo medido a una variable:\n",
    "time_loop = _"
   ]
  },
  {
   "cell_type": "code",
   "execution_count": null,
   "metadata": {},
   "outputs": [],
   "source": [
    "time_loop_average = time_loop.average\n",
    "time_loop_average"
   ]
  },
  {
   "cell_type": "code",
   "execution_count": null,
   "metadata": {},
   "outputs": [],
   "source": [
    "# Enfoque broadcast (explicado mas adelante en esta notebook)\n",
    "%timeit -o (1.0 / big_array)"
   ]
  },
  {
   "cell_type": "code",
   "execution_count": null,
   "metadata": {},
   "outputs": [],
   "source": [
    "time_ufunc = _"
   ]
  },
  {
   "cell_type": "code",
   "execution_count": null,
   "metadata": {},
   "outputs": [],
   "source": [
    "time_ufunc_average = time_ufunc.average\n",
    "time_ufunc_average"
   ]
  },
  {
   "cell_type": "code",
   "execution_count": null,
   "metadata": {},
   "outputs": [],
   "source": [
    "# Usando numpy.divide (ufunc) la performance es muy similar\n",
    "%timeit -o np.divide(1.0, big_array)"
   ]
  },
  {
   "cell_type": "code",
   "execution_count": null,
   "metadata": {},
   "outputs": [],
   "source": [
    "time_np_divide = _"
   ]
  },
  {
   "cell_type": "code",
   "execution_count": null,
   "metadata": {},
   "outputs": [],
   "source": [
    "time_np_divide_average = time_np_divide.average\n",
    "time_np_divide_average"
   ]
  },
  {
   "cell_type": "code",
   "execution_count": null,
   "metadata": {},
   "outputs": [],
   "source": [
    "print(\"tiempo promedio loop: \", time_loop_average)\n",
    "print(\"tiempo promedio ufunc: \", time_ufunc_average)\n",
    "print(\"tiempo promedio np.divide: \", time_np_divide_average)\n",
    "print(\"el loop emplea \", time_loop_average / time_ufunc_average, \" veces más tiempo que ufunc\")\n",
    "print(\"el loop emplea \",time_loop_average / time_np_divide_average, \" veces más tiempo que np.divide\")"
   ]
  },
  {
   "cell_type": "markdown",
   "metadata": {},
   "source": [
    "<a id=\"section_statistical\"></a> \n",
    "### Métodos matemáticos y estadísticos\n",
    "[volver a TOC](#section_toc)\n",
    "\n",
    "La clase array implementa también métodos que calculan de forma eficiente estadísticas sobre un array.\n",
    "\n",
    "Podemos hacer agregaciones como suma, promedio, desvío standard.\n",
    "\n",
    "A continuación hay una lista de algunos de los métodos disponibles en Numpy:\n",
    "\n",
    "![Image](img/numpy_array_statistical_methods.jpg)\n"
   ]
  },
  {
   "cell_type": "markdown",
   "metadata": {},
   "source": [
    "Veamos algunos ejemplos de uso de estos métodos.\n",
    "\n",
    "Construimos un array que usaremos para comparar tiempos de ejecución de distintos métodos:"
   ]
  },
  {
   "cell_type": "code",
   "execution_count": null,
   "metadata": {},
   "outputs": [],
   "source": [
    "# Definimos el tamaño del array que vamos a construir\n",
    "big_array_size = 1000000\n",
    "\n",
    "# Definimos la semilla del generador random\n",
    "seed_cualquier_numero = 4703\n",
    "\n",
    "# Creamos el generador \n",
    "random_generator_seed = np.random.default_rng(seed_cualquier_numero)\n",
    "\n",
    "# Creamos el array\n",
    "low = 1\n",
    "high = 100\n",
    "big_array = random_generator_seed.uniform(low, high, size=big_array_size)\n"
   ]
  },
  {
   "cell_type": "markdown",
   "metadata": {},
   "source": [
    "Calculamos la suma de los elementos del array usando sum \n",
    "https://docs.python.org/3/library/functions.html#sum\n",
    "\n",
    "Y medimos el tiempo empleado en esto"
   ]
  },
  {
   "cell_type": "code",
   "execution_count": null,
   "metadata": {},
   "outputs": [],
   "source": [
    "%timeit -o sum(big_array)"
   ]
  },
  {
   "cell_type": "code",
   "execution_count": null,
   "metadata": {},
   "outputs": [],
   "source": [
    "python_sum_time = _"
   ]
  },
  {
   "cell_type": "code",
   "execution_count": null,
   "metadata": {},
   "outputs": [],
   "source": [
    "python_sum_time_average = python_sum_time.average\n",
    "python_sum_time_average"
   ]
  },
  {
   "cell_type": "markdown",
   "metadata": {},
   "source": [
    "Calculamos ahora la suma de los elementos del array usando sum de Numpy\n",
    "https://docs.scipy.org/doc/numpy/reference/generated/numpy.sum.html\n",
    "\n",
    "Y medimos el tiempo empleado en esto"
   ]
  },
  {
   "cell_type": "code",
   "execution_count": null,
   "metadata": {},
   "outputs": [],
   "source": [
    "%timeit -o np.sum(big_array)"
   ]
  },
  {
   "cell_type": "code",
   "execution_count": null,
   "metadata": {},
   "outputs": [],
   "source": [
    "numpy_sum_time = _"
   ]
  },
  {
   "cell_type": "code",
   "execution_count": null,
   "metadata": {},
   "outputs": [],
   "source": [
    "numpy_sum_time_average = numpy_sum_time.average\n",
    "numpy_sum_time_average"
   ]
  },
  {
   "cell_type": "code",
   "execution_count": null,
   "metadata": {},
   "outputs": [],
   "source": [
    "print(\"Para este array la implementación sum de python emplea\", python_sum_time_average / numpy_sum_time_average, \n",
    "      \"veces más tiempo que la implementación sum de Numpy\")"
   ]
  },
  {
   "cell_type": "markdown",
   "metadata": {},
   "source": [
    "Ahora vamos a mostrar algunos ejemplos de estas funciones sobre una matriz (array de dos dimensiones)."
   ]
  },
  {
   "cell_type": "code",
   "execution_count": null,
   "metadata": {},
   "outputs": [],
   "source": [
    "\n",
    "# Definimos el tamaño de la matriz que vamos a construir\n",
    "big_array_size = (300, 400)\n",
    "\n",
    "# Definimos la semilla del generador random\n",
    "seed_cualquier_numero = 4703\n",
    "\n",
    "# Creamos el generador \n",
    "random_generator_seed = np.random.default_rng(seed_cualquier_numero)\n",
    "\n",
    "# Creamos el array\n",
    "low = 1\n",
    "high = 100\n",
    "big_array = random_generator_seed.uniform(low, high, size=big_array_size)\n"
   ]
  },
  {
   "cell_type": "markdown",
   "metadata": {},
   "source": [
    "* Suma de todos los elementos de la matriz:"
   ]
  },
  {
   "cell_type": "code",
   "execution_count": null,
   "metadata": {},
   "outputs": [],
   "source": [
    "print(\"Suma de toda la matriz: \", big_array.sum())"
   ]
  },
  {
   "cell_type": "markdown",
   "metadata": {},
   "source": [
    "Es lo mismo que escribir:"
   ]
  },
  {
   "cell_type": "code",
   "execution_count": null,
   "metadata": {},
   "outputs": [],
   "source": [
    "np.sum(big_array)"
   ]
  },
  {
   "cell_type": "markdown",
   "metadata": {},
   "source": [
    "* Mínimo de cada columna, debe devolver un array de longitud igual a la cantidad de columnas de la matriz:\n",
    "\n",
    "`axis` representa el eje que se va a **reducir**\n",
    "\n",
    "En una matriz de dos dimensiones axis 0 representa el eje de las filas, y axis 1 el eje de las columnas\n",
    "\n",
    "Para calcular los mínimos de cada columna debemos reducir las filas, por lo tanto el valor de axis es 0"
   ]
  },
  {
   "cell_type": "code",
   "execution_count": null,
   "metadata": {},
   "outputs": [],
   "source": [
    "minimos_por_columnas = big_array.min(axis=0)\n",
    "\n",
    "cant_columnas = big_array.shape[1]\n",
    "\n",
    "print(\"cantidad de columnas de big_array:\", cant_columnas)\n",
    "\n",
    "print(\"cantidad de elementos en los mínimos por columnas:\",  len(minimos_por_columnas))\n",
    "\n",
    "#print(\"Mínimos de cada columna: \", minimos_por_columnas)"
   ]
  },
  {
   "cell_type": "markdown",
   "metadata": {},
   "source": [
    "* Máximo de cada fila, debe devolver un array de longitud igual a la cantidad de filas de la matriz:\n",
    "\n",
    "`axis` representa el eje que se va a reducir, en este caso debemos reducir las columnas, por lo tanto el valor de axis es 1\n"
   ]
  },
  {
   "cell_type": "code",
   "execution_count": null,
   "metadata": {},
   "outputs": [],
   "source": [
    "maximos_por_filas = big_array.max(axis=1)\n",
    "\n",
    "cant_filas = big_array.shape[0]\n",
    "\n",
    "print(\"cantidad de filas de big_array:\", cant_filas)\n",
    "\n",
    "print(\"cantidad de elementos en los máximos por filas:\",  len(maximos_por_filas))\n",
    "\n",
    "#print(\"Máximos de cada fila: \", maximos_por_filas)\n"
   ]
  },
  {
   "cell_type": "markdown",
   "metadata": {},
   "source": [
    "* Suma de los elementos de cada fila\n",
    "\n",
    "en este caso tenemos que reducir columnas, por lo tanto el valor de axis es 1\n",
    "\n",
    "> Recuerden que `big_array.sum(axis=1)` es lo mismo que `np.sum(big_array, axis=1)`"
   ]
  },
  {
   "cell_type": "code",
   "execution_count": null,
   "metadata": {},
   "outputs": [],
   "source": [
    "#print(\"Suma de cada fila: \", big_array.sum(axis=1))\n",
    "print(\"Suma de cada fila: \", np.sum(big_array, axis=1))"
   ]
  },
  {
   "cell_type": "markdown",
   "metadata": {},
   "source": [
    "<div id=\"caja5\" style=\"float:left;width: 100%;\">\n",
    "  <div style=\"float:left;width: 15%;\"><img src=\"../../../common/icons/ponete_a_prueba.png\" style=\"align:left\"/> </div>\n",
    "  <div style=\"float:left;width: 85%;\"><label>\n",
    "<b>Ejercicios</b>\n",
    "    \n",
    "1) Generemos un array de 1 dimension con 1000 elementos con distribución normal de media 5 y desvío 2, inicialicemos la semilla en el valor 4703.\n",
    "    \n",
    "2) Usando algunas de las funciones de Numpy listadas en Métodos matemáticos y estadísticos, calculemos la media y el desvío de los elementos del array que construimos en el punto 1.\n",
    "    \n",
    "3) Generemos otro array de dimensiones 100 filas, 20 columnas con distribución normal de media 5 y desvío 2.\n",
    "    \n",
    "4) Usando las mismas funciones que en 2) calculemos la media y el desvío de cada fila del resultado de 3.\n",
    "    \n",
    "5) Usando las mismas funciones que en 2) calculemos la media y el desvío de cada columna del resultado de 3.\n",
    "    \n",
    "*¿Los resultados que obtuvieron son los que esperaban?*\n",
    "    \n",
    "**Ayudas**:\n",
    "    \n",
    "1) Generamos datos normales en 1_numpy.ipynb\n",
    "    \n",
    "4 y 5) Recuerden la existencia del parámetro `axis`\n",
    "\n",
    "**Opcional**:\n",
    "    \n",
    "¿Pueden resolver los puntos 4) y 5) con la misma función?</label></div>\n",
    "</div>\n",
    "\n"
   ]
  },
  {
   "cell_type": "code",
   "execution_count": null,
   "metadata": {},
   "outputs": [],
   "source": [
    "def ejercicio1_3(media=0, desvio=1, tupla_dim=(10)):\n",
    "    # cambiar aqui:\n",
    "    result = np.zeros(tupla_dim)\n",
    "    return result\n",
    "\n",
    "def ejercicio2_media(array):\n",
    "    # cambiar aqui:\n",
    "    result = -1\n",
    "    return result\n",
    "\n",
    "def ejercicio2_desvio(array):\n",
    "    # cambiar aqui:\n",
    "    result = -1\n",
    "    return result\n",
    "\n",
    "def ejercicio4_media_filas(data):\n",
    "    # cambiar aqui:\n",
    "    result = np.ones(10)\n",
    "    return result\n",
    "\n",
    "def ejercicio4_desvio_filas(data):\n",
    "    # cambiar aqui:\n",
    "    result = np.ones(10)\n",
    "    return result\n",
    "\n",
    "def ejercicio5_media_columnas(data):\n",
    "    # cambiar aqui:\n",
    "    result = np.ones(10)\n",
    "    return result\n",
    "\n",
    "def ejercicio5_desvio_columnas(data):\n",
    "    # cambiar aqui:\n",
    "    result = np.ones(10)\n",
    "    return result\n",
    "\n",
    "import numpy as np\n",
    "\n",
    "########################################\n",
    "# completar con los parametros adecuados\n",
    "########################################\n",
    "datos = ejercicio1_3()\n",
    "print(\"ej 1:\", test_2_numpy_vectorizacion.test_ejercicio1(datos))\n",
    "\n",
    "result2_media = ejercicio2_media(datos)\n",
    "print(\"ej 2 media:\", test_2_numpy_vectorizacion.test_ejercicio2_media(datos, result2_media))\n",
    "\n",
    "result2_desvio = ejercicio2_desvio(datos)\n",
    "print(\"ej 2 desvio:\", test_2_numpy_vectorizacion.test_ejercicio2_desvio(datos, result2_desvio))\n",
    "\n",
    "########################################\n",
    "# completar con los parametros adecuados\n",
    "########################################\n",
    "datos_matrix = ejercicio1_3(tupla_dim=(10,10))\n",
    "print(\"ej 3:\", test_2_numpy_vectorizacion.test_ejercicio3(datos_matrix))\n",
    "\n",
    "result4_media_filas = ejercicio4_media_filas(datos_matrix)\n",
    "print(\"ej 4 media filas:\", test_2_numpy_vectorizacion.test_ejercicio4_media_filas(datos_matrix, result4_media_filas))\n",
    "\n",
    "result4_desvio_filas = ejercicio4_desvio_filas(datos_matrix)\n",
    "print(\"ej 4 desvio filas:\", test_2_numpy_vectorizacion.test_ejercicio4_desvio_filas(datos_matrix, result4_desvio_filas))\n",
    "\n",
    "result5_media_columnas = ejercicio5_media_columnas(datos_matrix)\n",
    "print(\"ej 5 media columnas:\", test_2_numpy_vectorizacion.test_ejercicio5_media_columnas(datos_matrix, result5_media_columnas))\n",
    "\n",
    "result5_desvio_columnas = ejercicio5_desvio_columnas(datos_matrix)\n",
    "print(\"ej 5 desvio columnas:\", test_2_numpy_vectorizacion.test_ejercicio5_desvio_columnas(datos_matrix, result5_desvio_columnas))\n"
   ]
  },
  {
   "cell_type": "markdown",
   "metadata": {},
   "source": [
    "<a id=\"section_broadcasting\"></a> \n",
    "### Broadcasting\n",
    "[volver a TOC](#section_toc)\n",
    "\n",
    "En conjunto con las ufuncs, el broadcasting es una forma de aplicar operaciones sobre los datos sin tener que escribir loops \"for\" en Python nativo que resultan más lentos.\n",
    "\n",
    "Recordemos que cuando operamos sobre arrays de las mismas dimensiones, se pueden hacer operaciones eficientes elemento a elemento.\n",
    "\n",
    "Numpy tiene un conjunto de reglas para aplicar operaciones elemento a elemento en arrays de diferente tamaño. \n",
    "Se proyectan los valores de los arrays igualando las dimensiones de los argumentos, para poder operar sobre los mismos de forma vecotrizada.\n",
    "\n",
    "![Image](img/broadcasting.jpg)\n",
    "\n",
    "El broadcasting en NumPy sigue un conjunto estricto de reglas para determinar la interacción entre las dos arrays:\n",
    "\n",
    "* Regla 1: si los dos arrays difieren en su número de dimensiones (forma), se rellena con 1s a su izquierda aquel que tiene menos dimensiones. \n",
    "\n",
    "* Regla 2: si el tamaño de los dos arrays no coincide en alguna dimensión, el array con tamaño igual a 1 en esa dimensión se estira para que coincida con el tamaño del otro.\n",
    "\n",
    "* Regla 3: si en alguna dimensión los tamaños son diferentes y ninguno es igual a 1, se genera un error."
   ]
  },
  {
   "cell_type": "code",
   "execution_count": null,
   "metadata": {},
   "outputs": [],
   "source": [
    "a = np.array([0, 1, 2])\n",
    "b = np.array([5, 5, 5])\n",
    "a + b"
   ]
  },
  {
   "cell_type": "markdown",
   "metadata": {},
   "source": [
    "En el ejemplo de arriba, \"a + b\" es una operación eficiente porque \"a\" y \"b\" tienen la mismas dimensiones. \n",
    "\n",
    "Las reglas de \"broadcasting\" de Numpy, permiten que la operación siga siendo eficiente llevando los elementos involucrados a la misma dimensión y tamaño.\n"
   ]
  },
  {
   "cell_type": "markdown",
   "metadata": {},
   "source": [
    "Veamos en código los ejemplos de la imagen:"
   ]
  },
  {
   "cell_type": "code",
   "execution_count": null,
   "metadata": {},
   "outputs": [],
   "source": [
    "# linea 1 de la imagen:\n",
    "\n",
    "a = np.array([0, 1, 2])\n",
    "b = 5\n",
    "a + b"
   ]
  },
  {
   "cell_type": "code",
   "execution_count": null,
   "metadata": {},
   "outputs": [],
   "source": [
    "# linea 2 de la imagen:\n",
    "a = np.ones((3, 3))\n",
    "b = np.array([0, 1, 2])\n",
    "a + b"
   ]
  },
  {
   "cell_type": "code",
   "execution_count": null,
   "metadata": {},
   "outputs": [],
   "source": [
    "# linea 3 de la imagen:"
   ]
  },
  {
   "cell_type": "code",
   "execution_count": null,
   "metadata": {},
   "outputs": [],
   "source": [
    "a = np.array([[0], [1], [2]])\n",
    "print(a.shape)\n",
    "a"
   ]
  },
  {
   "cell_type": "code",
   "execution_count": null,
   "metadata": {},
   "outputs": [],
   "source": [
    "b = np.array([0, 1, 2])\n",
    "print(b.shape)\n",
    "b"
   ]
  },
  {
   "cell_type": "code",
   "execution_count": null,
   "metadata": {},
   "outputs": [],
   "source": [
    "a + b"
   ]
  }
 ],
 "metadata": {
  "kernelspec": {
   "display_name": "Python 3",
   "language": "python",
   "name": "python3"
  },
  "language_info": {
   "codemirror_mode": {
    "name": "ipython",
    "version": 3
   },
   "file_extension": ".py",
   "mimetype": "text/x-python",
   "name": "python",
   "nbconvert_exporter": "python",
   "pygments_lexer": "ipython3",
   "version": "3.6.7"
  }
 },
 "nbformat": 4,
 "nbformat_minor": 4
}
